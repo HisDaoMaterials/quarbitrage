{
 "cells": [
  {
   "cell_type": "code",
   "execution_count": 1,
   "id": "2a55b62b",
   "metadata": {},
   "outputs": [],
   "source": [
    "import polars as pl\n",
    "import pandas as pd\n",
    "import polars.datatypes as T\n",
    "import numpy as np\n",
    "\n",
    "from datetime import datetime, time\n",
    "import sys\n",
    "sys.path.insert(0, 'C:\\\\Users\\\\rockh\\\\Repositories\\\\Tsuro\\\\')\n",
    "\n",
    "from tsuro.datasets import load_cba_trades\n",
    "from tsuro.preprocessing import cast_strings_to_datetime"
   ]
  },
  {
   "cell_type": "markdown",
   "id": "4f0bd8b6",
   "metadata": {},
   "source": [
    "PSEUDO CODE\n",
    "Function receives two arguments:\n",
    "1) sample_bars [[y_1, tau_start_1, tau_end_1],[y_2, tau_start_2, tau_end_2] ..., [y_I, tau_start_I, tau_end_I]].\n",
    "2) time_index [tau_0,tau_1,...,tau_t].\n",
    "\n",
    "Easier to work with index label itself. We have no need for timestamps. At the end of the day we just want to create bootstrap samples for the sample_bars. Therefore, time_index is optional argument. Pass sample_bars through alone with tau_start, tau_end replaced with time index labels ([y_1, 1, 2] means that y_1 bar covers the period [tau_1,tau_2]). We will build at most a t x I indicator matrix. We only care about the period [tau_start_1, tau_end_I], so we can further reduce the complexity."
   ]
  },
  {
   "cell_type": "code",
   "execution_count": 5,
   "id": "6b068182",
   "metadata": {},
   "outputs": [
    {
     "data": {
      "text/html": [
       "<div><style>\n",
       ".dataframe > thead > tr,\n",
       ".dataframe > tbody > tr {\n",
       "  text-align: right;\n",
       "  white-space: pre-wrap;\n",
       "}\n",
       "</style>\n",
       "<small>shape: (6, 6)</small><table border=\"1\" class=\"dataframe\"><thead><tr><th>index</th><th>time_start</th><th>time_end</th><th>bar_1_overlap</th><th>bar_2_overlap</th><th>bar_3_overlap</th></tr><tr><td>u32</td><td>str</td><td>str</td><td>i32</td><td>i32</td><td>i32</td></tr></thead><tbody><tr><td>0</td><td>&quot;10:00&quot;</td><td>&quot;10:02&quot;</td><td>1</td><td>0</td><td>0</td></tr><tr><td>1</td><td>&quot;10:02&quot;</td><td>&quot;10:03&quot;</td><td>1</td><td>0</td><td>0</td></tr><tr><td>4</td><td>&quot;10:05&quot;</td><td>&quot;10:08&quot;</td><td>0</td><td>1</td><td>0</td></tr><tr><td>5</td><td>&quot;10:08&quot;</td><td>&quot;10:10&quot;</td><td>0</td><td>1</td><td>0</td></tr><tr><td>6</td><td>&quot;10:10&quot;</td><td>&quot;10:12&quot;</td><td>0</td><td>0</td><td>1</td></tr><tr><td>7</td><td>&quot;10:12&quot;</td><td>&quot;10:15&quot;</td><td>0</td><td>0</td><td>1</td></tr></tbody></table></div>"
      ],
      "text/plain": [
       "shape: (6, 6)\n",
       "┌───────┬────────────┬──────────┬───────────────┬───────────────┬───────────────┐\n",
       "│ index ┆ time_start ┆ time_end ┆ bar_1_overlap ┆ bar_2_overlap ┆ bar_3_overlap │\n",
       "│ ---   ┆ ---        ┆ ---      ┆ ---           ┆ ---           ┆ ---           │\n",
       "│ u32   ┆ str        ┆ str      ┆ i32           ┆ i32           ┆ i32           │\n",
       "╞═══════╪════════════╪══════════╪═══════════════╪═══════════════╪═══════════════╡\n",
       "│ 0     ┆ 10:00      ┆ 10:02    ┆ 1             ┆ 0             ┆ 0             │\n",
       "│ 1     ┆ 10:02      ┆ 10:03    ┆ 1             ┆ 0             ┆ 0             │\n",
       "│ 4     ┆ 10:05      ┆ 10:08    ┆ 0             ┆ 1             ┆ 0             │\n",
       "│ 5     ┆ 10:08      ┆ 10:10    ┆ 0             ┆ 1             ┆ 0             │\n",
       "│ 6     ┆ 10:10      ┆ 10:12    ┆ 0             ┆ 0             ┆ 1             │\n",
       "│ 7     ┆ 10:12      ┆ 10:15    ┆ 0             ┆ 0             ┆ 1             │\n",
       "└───────┴────────────┴──────────┴───────────────┴───────────────┴───────────────┘"
      ]
     },
     "execution_count": 5,
     "metadata": {},
     "output_type": "execute_result"
    }
   ],
   "source": [
    "from tsuro.sampling import create_overlap_matrix\n",
    "bars_df = pl.DataFrame({\n",
    "        \"bar_index\": [1,2,3],\n",
    "        \"volume\": [10, 20, 50],\n",
    "        \"time_start\": [\"10:00\", \"10:05\", \"10:10\"],\n",
    "        \"time_end\": [\"10:03\", \"10:10\", \"10:15\"]\n",
    "        }\n",
    ")\n",
    "\n",
    "index = pl.Series(values = [\"9:55\", \"10:00\", \"10:02\", \"10:03\", \"10:04\", \"10:05\", \"10:08\", \"10:10\", \"10:12\", \"10:15\"])\n",
    "overlap_matrix = create_overlap_matrix(\n",
    "    bars_df, \n",
    "    time_start_col = \"time_start\",\n",
    "    time_end_col = \"time_end\",\n",
    "    time_index = index,\n",
    "    index_col = \"bar_index\",\n",
    "    remove_no_overlaps = True\n",
    ")\n",
    "overlap_matrix"
   ]
  },
  {
   "cell_type": "code",
   "execution_count": 9,
   "id": "360f6a8b",
   "metadata": {},
   "outputs": [
    {
     "data": {
      "text/html": [
       "<div><style>\n",
       ".dataframe > thead > tr,\n",
       ".dataframe > tbody > tr {\n",
       "  text-align: right;\n",
       "  white-space: pre-wrap;\n",
       "}\n",
       "</style>\n",
       "<small>shape: (3, 5)</small><table border=\"1\" class=\"dataframe\"><thead><tr><th>volume</th><th>time_start</th><th>time_end</th><th>time_start_index</th><th>time_end_index</th></tr><tr><td>i64</td><td>str</td><td>str</td><td>u32</td><td>u32</td></tr></thead><tbody><tr><td>10</td><td>&quot;10:00&quot;</td><td>&quot;10:10&quot;</td><td>0</td><td>4</td></tr><tr><td>20</td><td>&quot;10:05&quot;</td><td>&quot;10:10&quot;</td><td>2</td><td>4</td></tr><tr><td>50</td><td>&quot;10:10&quot;</td><td>&quot;10:15&quot;</td><td>4</td><td>6</td></tr></tbody></table></div>"
      ],
      "text/plain": [
       "shape: (3, 5)\n",
       "┌────────┬────────────┬──────────┬──────────────────┬────────────────┐\n",
       "│ volume ┆ time_start ┆ time_end ┆ time_start_index ┆ time_end_index │\n",
       "│ ---    ┆ ---        ┆ ---      ┆ ---              ┆ ---            │\n",
       "│ i64    ┆ str        ┆ str      ┆ u32              ┆ u32            │\n",
       "╞════════╪════════════╪══════════╪══════════════════╪════════════════╡\n",
       "│ 10     ┆ 10:00      ┆ 10:10    ┆ 0                ┆ 4              │\n",
       "│ 20     ┆ 10:05      ┆ 10:10    ┆ 2                ┆ 4              │\n",
       "│ 50     ┆ 10:10      ┆ 10:15    ┆ 4                ┆ 6              │\n",
       "└────────┴────────────┴──────────┴──────────────────┴────────────────┘"
      ]
     },
     "execution_count": 9,
     "metadata": {},
     "output_type": "execute_result"
    }
   ],
   "source": [
    "from tsuro.utils import transform_columns_to_index\n",
    "index = pl.Series(values = [\"9:55\", \"10:00\", \"10:02\", \"10:05\", \"10:08\", \"10:10\", \"10:12\", \"10:05\"])\n",
    "\n",
    "df = pl.DataFrame({\n",
    "        \"volume\": [10, 20, 50],\n",
    "        \"time_start\": [\"10:00\", \"10:05\", \"10:10\"],\n",
    "        \"time_end\": [\"10:10\", \"10:10\", \"10:15\"]\n",
    "        }\n",
    ")\n",
    "\n",
    "df2, index = transform_columns_to_index(df, columns = [\"time_start\", \"time_end\"], index = index, return_index = True)\n",
    "df2"
   ]
  },
  {
   "cell_type": "code",
   "execution_count": 11,
   "id": "d9d17629",
   "metadata": {},
   "outputs": [
    {
     "data": {
      "text/html": [
       "<div><style>\n",
       ".dataframe > thead > tr,\n",
       ".dataframe > tbody > tr {\n",
       "  text-align: right;\n",
       "  white-space: pre-wrap;\n",
       "}\n",
       "</style>\n",
       "<small>shape: (3, 5)</small><table border=\"1\" class=\"dataframe\"><thead><tr><th>volume</th><th>time_start</th><th>time_end</th><th>time_start_index</th><th>time_end_index</th></tr><tr><td>i64</td><td>str</td><td>str</td><td>u32</td><td>u32</td></tr></thead><tbody><tr><td>10</td><td>&quot;10:00&quot;</td><td>&quot;10:10&quot;</td><td>0</td><td>2</td></tr><tr><td>20</td><td>&quot;10:05&quot;</td><td>&quot;10:10&quot;</td><td>1</td><td>2</td></tr><tr><td>50</td><td>&quot;10:10&quot;</td><td>&quot;10:15&quot;</td><td>2</td><td>3</td></tr></tbody></table></div>"
      ],
      "text/plain": [
       "shape: (3, 5)\n",
       "┌────────┬────────────┬──────────┬──────────────────┬────────────────┐\n",
       "│ volume ┆ time_start ┆ time_end ┆ time_start_index ┆ time_end_index │\n",
       "│ ---    ┆ ---        ┆ ---      ┆ ---              ┆ ---            │\n",
       "│ i64    ┆ str        ┆ str      ┆ u32              ┆ u32            │\n",
       "╞════════╪════════════╪══════════╪══════════════════╪════════════════╡\n",
       "│ 10     ┆ 10:00      ┆ 10:10    ┆ 0                ┆ 2              │\n",
       "│ 20     ┆ 10:05      ┆ 10:10    ┆ 1                ┆ 2              │\n",
       "│ 50     ┆ 10:10      ┆ 10:15    ┆ 2                ┆ 3              │\n",
       "└────────┴────────────┴──────────┴──────────────────┴────────────────┘"
      ]
     },
     "execution_count": 11,
     "metadata": {},
     "output_type": "execute_result"
    }
   ],
   "source": [
    "df1, index = transform_columns_to_index(df, columns = [\"time_start\", \"time_end\"], return_index = True)\n",
    "df1"
   ]
  },
  {
   "cell_type": "code",
   "execution_count": 12,
   "id": "9d6efcb7",
   "metadata": {},
   "outputs": [
    {
     "data": {
      "text/html": [
       "<div><style>\n",
       ".dataframe > thead > tr,\n",
       ".dataframe > tbody > tr {\n",
       "  text-align: right;\n",
       "  white-space: pre-wrap;\n",
       "}\n",
       "</style>\n",
       "<small>shape: (4, 2)</small><table border=\"1\" class=\"dataframe\"><thead><tr><th>values</th><th>index</th></tr><tr><td>str</td><td>u32</td></tr></thead><tbody><tr><td>&quot;10:00&quot;</td><td>0</td></tr><tr><td>&quot;10:05&quot;</td><td>1</td></tr><tr><td>&quot;10:10&quot;</td><td>2</td></tr><tr><td>&quot;10:15&quot;</td><td>3</td></tr></tbody></table></div>"
      ],
      "text/plain": [
       "shape: (4, 2)\n",
       "┌────────┬───────┐\n",
       "│ values ┆ index │\n",
       "│ ---    ┆ ---   │\n",
       "│ str    ┆ u32   │\n",
       "╞════════╪═══════╡\n",
       "│ 10:00  ┆ 0     │\n",
       "│ 10:05  ┆ 1     │\n",
       "│ 10:10  ┆ 2     │\n",
       "│ 10:15  ┆ 3     │\n",
       "└────────┴───────┘"
      ]
     },
     "execution_count": 12,
     "metadata": {},
     "output_type": "execute_result"
    }
   ],
   "source": [
    "index"
   ]
  },
  {
   "cell_type": "code",
   "execution_count": 19,
   "id": "3b5f36ce",
   "metadata": {},
   "outputs": [
    {
     "name": "stdout",
     "output_type": "stream",
     "text": [
      "shape: (7,)\n",
      "Series: '' [str]\n",
      "[\n",
      "\t\"10:00\"\n",
      "\t\"10:02\"\n",
      "\t\"10:05\"\n",
      "\t\"10:08\"\n",
      "\t\"10:10\"\n",
      "\t\"10:12\"\n",
      "\t\"10:15\"\n",
      "]\n",
      "shape: (7,)\n",
      "Series: 'values' [str]\n",
      "[\n",
      "\t\"10:00\"\n",
      "\t\"10:02\"\n",
      "\t\"10:05\"\n",
      "\t\"10:08\"\n",
      "\t\"10:10\"\n",
      "\t\"10:12\"\n",
      "\t\"10:15\"\n",
      "]\n"
     ]
    },
    {
     "data": {
      "text/html": [
       "<div><style>\n",
       ".dataframe > thead > tr,\n",
       ".dataframe > tbody > tr {\n",
       "  text-align: right;\n",
       "  white-space: pre-wrap;\n",
       "}\n",
       "</style>\n",
       "<small>shape: (7, 2)</small><table border=\"1\" class=\"dataframe\"><thead><tr><th>values</th><th>index</th></tr><tr><td>str</td><td>u32</td></tr></thead><tbody><tr><td>&quot;10:00&quot;</td><td>0</td></tr><tr><td>&quot;10:02&quot;</td><td>1</td></tr><tr><td>&quot;10:05&quot;</td><td>2</td></tr><tr><td>&quot;10:08&quot;</td><td>3</td></tr><tr><td>&quot;10:10&quot;</td><td>4</td></tr><tr><td>&quot;10:12&quot;</td><td>5</td></tr><tr><td>&quot;10:15&quot;</td><td>6</td></tr></tbody></table></div>"
      ],
      "text/plain": [
       "shape: (7, 2)\n",
       "┌────────┬───────┐\n",
       "│ values ┆ index │\n",
       "│ ---    ┆ ---   │\n",
       "│ str    ┆ u32   │\n",
       "╞════════╪═══════╡\n",
       "│ 10:00  ┆ 0     │\n",
       "│ 10:02  ┆ 1     │\n",
       "│ 10:05  ┆ 2     │\n",
       "│ 10:08  ┆ 3     │\n",
       "│ 10:10  ┆ 4     │\n",
       "│ 10:12  ┆ 5     │\n",
       "│ 10:15  ┆ 6     │\n",
       "└────────┴───────┘"
      ]
     },
     "execution_count": 19,
     "metadata": {},
     "output_type": "execute_result"
    }
   ],
   "source": [
    "index = pl.Series(values = [\"10:15\", \"10:02\", \"10:05\", \"10:08\", \"10:10\", \"10:12\", \"10:00\"])\n",
    "index = index.sort()\n",
    "print(index)\n",
    "\n",
    "index = index.alias(\"values\")\n",
    "print(index)\n",
    "index = pl.DataFrame(index)\n",
    "index = index.with_columns(pl.int_range(pl.len(), dtype=pl.UInt32).alias(\"index\"))\n",
    "index"
   ]
  },
  {
   "cell_type": "code",
   "execution_count": 2,
   "id": "19cca612",
   "metadata": {},
   "outputs": [
    {
     "data": {
      "text/html": [
       "<div><style>\n",
       ".dataframe > thead > tr,\n",
       ".dataframe > tbody > tr {\n",
       "  text-align: right;\n",
       "  white-space: pre-wrap;\n",
       "}\n",
       "</style>\n",
       "<small>shape: (66_577, 7)</small><table border=\"1\" class=\"dataframe\"><thead><tr><th></th><th>time</th><th>price</th><th>volume</th><th>dollar_value</th><th>market</th><th>condition</th></tr><tr><td>i64</td><td>str</td><td>f64</td><td>i64</td><td>f64</td><td>str</td><td>str</td></tr></thead><tbody><tr><td>0</td><td>&quot;6/10/2021 17:00&quot;</td><td>100.08</td><td>12904</td><td>1.2914e6</td><td>&quot;ASX&quot;</td><td>&quot;ET XT&quot;</td></tr><tr><td>1</td><td>&quot;6/10/2021 16:54&quot;</td><td>100.08</td><td>19280</td><td>1929542.4</td><td>&quot;ASX&quot;</td><td>&quot;ET XT&quot;</td></tr><tr><td>2</td><td>&quot;6/10/2021 16:47&quot;</td><td>100.3127</td><td>18517</td><td>1.8575e6</td><td>&quot;CXA&quot;</td><td>&quot;SX XT&quot;</td></tr><tr><td>3</td><td>&quot;6/10/2021 16:46&quot;</td><td>100.08</td><td>5364</td><td>536829.12</td><td>&quot;CXA&quot;</td><td>null</td></tr><tr><td>4</td><td>&quot;6/10/2021 16:45&quot;</td><td>100.08</td><td>24624</td><td>2.4644e6</td><td>&quot;ASX&quot;</td><td>&quot;ET XT&quot;</td></tr><tr><td>&hellip;</td><td>&hellip;</td><td>&hellip;</td><td>&hellip;</td><td>&hellip;</td><td>&hellip;</td><td>&hellip;</td></tr><tr><td>66572</td><td>&quot;6/10/2021 7:05&quot;</td><td>95.01</td><td>6000</td><td>570060.0</td><td>&quot;ASX&quot;</td><td>&quot;EC XT&quot;</td></tr><tr><td>66573</td><td>&quot;6/10/2021 7:05&quot;</td><td>94.01</td><td>1200</td><td>112812.0</td><td>&quot;ASX&quot;</td><td>&quot;EC&quot;</td></tr><tr><td>66574</td><td>&quot;6/10/2021 7:05&quot;</td><td>94.01</td><td>18700</td><td>1.757987e6</td><td>&quot;ASX&quot;</td><td>&quot;EC XT&quot;</td></tr><tr><td>66575</td><td>&quot;6/10/2021 7:05&quot;</td><td>94.0</td><td>1200</td><td>112800.0</td><td>&quot;ASX&quot;</td><td>&quot;EC&quot;</td></tr><tr><td>66576</td><td>&quot;6/10/2021 7:05&quot;</td><td>92.01</td><td>12000</td><td>1.10412e6</td><td>&quot;ASX&quot;</td><td>&quot;EC XT&quot;</td></tr></tbody></table></div>"
      ],
      "text/plain": [
       "shape: (66_577, 7)\n",
       "┌───────┬─────────────────┬──────────┬────────┬──────────────┬────────┬───────────┐\n",
       "│       ┆ time            ┆ price    ┆ volume ┆ dollar_value ┆ market ┆ condition │\n",
       "│ ---   ┆ ---             ┆ ---      ┆ ---    ┆ ---          ┆ ---    ┆ ---       │\n",
       "│ i64   ┆ str             ┆ f64      ┆ i64    ┆ f64          ┆ str    ┆ str       │\n",
       "╞═══════╪═════════════════╪══════════╪════════╪══════════════╪════════╪═══════════╡\n",
       "│ 0     ┆ 6/10/2021 17:00 ┆ 100.08   ┆ 12904  ┆ 1.2914e6     ┆ ASX    ┆ ET XT     │\n",
       "│ 1     ┆ 6/10/2021 16:54 ┆ 100.08   ┆ 19280  ┆ 1929542.4    ┆ ASX    ┆ ET XT     │\n",
       "│ 2     ┆ 6/10/2021 16:47 ┆ 100.3127 ┆ 18517  ┆ 1.8575e6     ┆ CXA    ┆ SX XT     │\n",
       "│ 3     ┆ 6/10/2021 16:46 ┆ 100.08   ┆ 5364   ┆ 536829.12    ┆ CXA    ┆ null      │\n",
       "│ 4     ┆ 6/10/2021 16:45 ┆ 100.08   ┆ 24624  ┆ 2.4644e6     ┆ ASX    ┆ ET XT     │\n",
       "│ …     ┆ …               ┆ …        ┆ …      ┆ …            ┆ …      ┆ …         │\n",
       "│ 66572 ┆ 6/10/2021 7:05  ┆ 95.01    ┆ 6000   ┆ 570060.0     ┆ ASX    ┆ EC XT     │\n",
       "│ 66573 ┆ 6/10/2021 7:05  ┆ 94.01    ┆ 1200   ┆ 112812.0     ┆ ASX    ┆ EC        │\n",
       "│ 66574 ┆ 6/10/2021 7:05  ┆ 94.01    ┆ 18700  ┆ 1.757987e6   ┆ ASX    ┆ EC XT     │\n",
       "│ 66575 ┆ 6/10/2021 7:05  ┆ 94.0     ┆ 1200   ┆ 112800.0     ┆ ASX    ┆ EC        │\n",
       "│ 66576 ┆ 6/10/2021 7:05  ┆ 92.01    ┆ 12000  ┆ 1.10412e6    ┆ ASX    ┆ EC XT     │\n",
       "└───────┴─────────────────┴──────────┴────────┴──────────────┴────────┴───────────┘"
      ]
     },
     "execution_count": 2,
     "metadata": {},
     "output_type": "execute_result"
    }
   ],
   "source": [
    "trades_df = load_cba_trades()\n",
    "trades_df"
   ]
  },
  {
   "cell_type": "code",
   "execution_count": 3,
   "id": "7d0c8f87",
   "metadata": {},
   "outputs": [
    {
     "data": {
      "text/html": [
       "<div><style>\n",
       ".dataframe > thead > tr,\n",
       ".dataframe > tbody > tr {\n",
       "  text-align: right;\n",
       "  white-space: pre-wrap;\n",
       "}\n",
       "</style>\n",
       "<small>shape: (66_542, 12)</small><table border=\"1\" class=\"dataframe\"><thead><tr><th></th><th>date_time</th><th>price</th><th>volume</th><th>dollar_value</th><th>market</th><th>condition</th><th>time</th><th>hour</th><th>minute</th><th>second</th><th>millisecond</th></tr><tr><td>i64</td><td>datetime[μs]</td><td>f64</td><td>i64</td><td>f64</td><td>str</td><td>str</td><td>time</td><td>i8</td><td>i8</td><td>i8</td><td>i32</td></tr></thead><tbody><tr><td>0</td><td>2021-06-10 17:00:00</td><td>100.08</td><td>12904</td><td>1.2914e6</td><td>&quot;ASX&quot;</td><td>&quot;ET XT&quot;</td><td>17:00:00</td><td>17</td><td>0</td><td>0</td><td>0</td></tr><tr><td>1</td><td>2021-06-10 16:54:00</td><td>100.08</td><td>19280</td><td>1929542.4</td><td>&quot;ASX&quot;</td><td>&quot;ET XT&quot;</td><td>16:54:00</td><td>16</td><td>54</td><td>0</td><td>0</td></tr><tr><td>2</td><td>2021-06-10 16:47:00</td><td>100.3127</td><td>18517</td><td>1.8575e6</td><td>&quot;CXA&quot;</td><td>&quot;SX XT&quot;</td><td>16:47:00</td><td>16</td><td>47</td><td>0</td><td>0</td></tr><tr><td>3</td><td>2021-06-10 16:46:00</td><td>100.08</td><td>5364</td><td>536829.12</td><td>&quot;CXA&quot;</td><td>null</td><td>16:46:00</td><td>16</td><td>46</td><td>0</td><td>0</td></tr><tr><td>4</td><td>2021-06-10 16:45:00</td><td>100.08</td><td>24624</td><td>2.4644e6</td><td>&quot;ASX&quot;</td><td>&quot;ET XT&quot;</td><td>16:45:00</td><td>16</td><td>45</td><td>0</td><td>0</td></tr><tr><td>&hellip;</td><td>&hellip;</td><td>&hellip;</td><td>&hellip;</td><td>&hellip;</td><td>&hellip;</td><td>&hellip;</td><td>&hellip;</td><td>&hellip;</td><td>&hellip;</td><td>&hellip;</td><td>&hellip;</td></tr><tr><td>66537</td><td>2021-06-10 10:02:00</td><td>102.0</td><td>4</td><td>408.0</td><td>&quot;ASX&quot;</td><td>null</td><td>10:02:00</td><td>10</td><td>2</td><td>0</td><td>0</td></tr><tr><td>66538</td><td>2021-06-10 10:02:00</td><td>102.0</td><td>30</td><td>3060.0</td><td>&quot;ASX&quot;</td><td>null</td><td>10:02:00</td><td>10</td><td>2</td><td>0</td><td>0</td></tr><tr><td>66539</td><td>2021-06-10 10:02:00</td><td>102.0</td><td>215</td><td>21930.0</td><td>&quot;ASX&quot;</td><td>null</td><td>10:02:00</td><td>10</td><td>2</td><td>0</td><td>0</td></tr><tr><td>66540</td><td>2021-06-10 10:02:00</td><td>102.0</td><td>233</td><td>23766.0</td><td>&quot;ASX&quot;</td><td>null</td><td>10:02:00</td><td>10</td><td>2</td><td>0</td><td>0</td></tr><tr><td>66541</td><td>2021-06-10 10:02:00</td><td>102.0</td><td>29</td><td>2958.0</td><td>&quot;ASX&quot;</td><td>null</td><td>10:02:00</td><td>10</td><td>2</td><td>0</td><td>0</td></tr></tbody></table></div>"
      ],
      "text/plain": [
       "shape: (66_542, 12)\n",
       "┌───────┬─────────────────────┬──────────┬────────┬───┬──────┬────────┬────────┬─────────────┐\n",
       "│       ┆ date_time           ┆ price    ┆ volume ┆ … ┆ hour ┆ minute ┆ second ┆ millisecond │\n",
       "│ ---   ┆ ---                 ┆ ---      ┆ ---    ┆   ┆ ---  ┆ ---    ┆ ---    ┆ ---         │\n",
       "│ i64   ┆ datetime[μs]        ┆ f64      ┆ i64    ┆   ┆ i8   ┆ i8     ┆ i8     ┆ i32         │\n",
       "╞═══════╪═════════════════════╪══════════╪════════╪═══╪══════╪════════╪════════╪═════════════╡\n",
       "│ 0     ┆ 2021-06-10 17:00:00 ┆ 100.08   ┆ 12904  ┆ … ┆ 17   ┆ 0      ┆ 0      ┆ 0           │\n",
       "│ 1     ┆ 2021-06-10 16:54:00 ┆ 100.08   ┆ 19280  ┆ … ┆ 16   ┆ 54     ┆ 0      ┆ 0           │\n",
       "│ 2     ┆ 2021-06-10 16:47:00 ┆ 100.3127 ┆ 18517  ┆ … ┆ 16   ┆ 47     ┆ 0      ┆ 0           │\n",
       "│ 3     ┆ 2021-06-10 16:46:00 ┆ 100.08   ┆ 5364   ┆ … ┆ 16   ┆ 46     ┆ 0      ┆ 0           │\n",
       "│ 4     ┆ 2021-06-10 16:45:00 ┆ 100.08   ┆ 24624  ┆ … ┆ 16   ┆ 45     ┆ 0      ┆ 0           │\n",
       "│ …     ┆ …                   ┆ …        ┆ …      ┆ … ┆ …    ┆ …      ┆ …      ┆ …           │\n",
       "│ 66537 ┆ 2021-06-10 10:02:00 ┆ 102.0    ┆ 4      ┆ … ┆ 10   ┆ 2      ┆ 0      ┆ 0           │\n",
       "│ 66538 ┆ 2021-06-10 10:02:00 ┆ 102.0    ┆ 30     ┆ … ┆ 10   ┆ 2      ┆ 0      ┆ 0           │\n",
       "│ 66539 ┆ 2021-06-10 10:02:00 ┆ 102.0    ┆ 215    ┆ … ┆ 10   ┆ 2      ┆ 0      ┆ 0           │\n",
       "│ 66540 ┆ 2021-06-10 10:02:00 ┆ 102.0    ┆ 233    ┆ … ┆ 10   ┆ 2      ┆ 0      ┆ 0           │\n",
       "│ 66541 ┆ 2021-06-10 10:02:00 ┆ 102.0    ┆ 29     ┆ … ┆ 10   ┆ 2      ┆ 0      ┆ 0           │\n",
       "└───────┴─────────────────────┴──────────┴────────┴───┴──────┴────────┴────────┴─────────────┘"
      ]
     },
     "execution_count": 3,
     "metadata": {},
     "output_type": "execute_result"
    }
   ],
   "source": [
    "# Convert \"Time\" Column into Datetime Object\n",
    "trades_df = cast_strings_to_datetime(trades_df, columns = [\"time\"])\n",
    "trades_df = trades_df.rename(\n",
    "   {\"time\": \"date_time\"}\n",
    ")\n",
    "\n",
    "\n",
    "# Grab Time Fields\n",
    "trades_df = trades_df.with_columns(\n",
    "    pl.col(\"date_time\").dt.time().alias(\"time\"),\n",
    "    pl.col(\"date_time\").dt.hour().alias(\"hour\"),\n",
    "    pl.col(\"date_time\").dt.minute().alias(\"minute\"),\n",
    "    pl.col(\"date_time\").dt.second().alias(\"second\"),\n",
    "    pl.col(\"date_time\").dt.millisecond().alias(\"millisecond\")\n",
    ")\n",
    "\n",
    "# Market Hours\n",
    "trades_df = trades_df.filter(\n",
    "    pl.col(\"time\").is_between(\n",
    "        time(9,0), time(17,0)\n",
    "    )\n",
    ")\n",
    "trades_df"
   ]
  },
  {
   "cell_type": "code",
   "execution_count": 5,
   "id": "0c662448",
   "metadata": {},
   "outputs": [],
   "source": [
    "from tsuro.data_structures import StandardBars\n",
    "\n",
    "bars = StandardBars(datetime_col = \"date_time\", price_col = \"price\", volume_col = \"volume\")"
   ]
  },
  {
   "cell_type": "code",
   "execution_count": 6,
   "id": "0a02ccc9",
   "metadata": {},
   "outputs": [
    {
     "data": {
      "text/html": [
       "<div><style>\n",
       ".dataframe > thead > tr,\n",
       ".dataframe > tbody > tr {\n",
       "  text-align: right;\n",
       "  white-space: pre-wrap;\n",
       "}\n",
       "</style>\n",
       "<small>shape: (63, 7)</small><table border=\"1\" class=\"dataframe\"><thead><tr><th>bar_index</th><th>open_price</th><th>high_price</th><th>low_price</th><th>close_price</th><th>datetime_start</th><th>datetime_end</th></tr><tr><td>i32</td><td>f64</td><td>f64</td><td>f64</td><td>f64</td><td>datetime[μs]</td><td>datetime[μs]</td></tr></thead><tbody><tr><td>27</td><td>99.92</td><td>99.98</td><td>99.77</td><td>99.91</td><td>2021-06-10 12:44:00</td><td>2021-06-10 12:55:00</td></tr><tr><td>18</td><td>99.9</td><td>100.01</td><td>99.65</td><td>99.68</td><td>2021-06-10 11:09:00</td><td>2021-06-10 11:13:00</td></tr><tr><td>9</td><td>100.85</td><td>101.08</td><td>100.72</td><td>100.98</td><td>2021-06-10 10:28:00</td><td>2021-06-10 10:32:00</td></tr><tr><td>30</td><td>99.93</td><td>99.95</td><td>99.64</td><td>99.65</td><td>2021-06-10 13:24:00</td><td>2021-06-10 13:36:00</td></tr><tr><td>3</td><td>102.5</td><td>102.59</td><td>102.01</td><td>102.07</td><td>2021-06-10 10:05:00</td><td>2021-06-10 10:10:00</td></tr><tr><td>&hellip;</td><td>&hellip;</td><td>&hellip;</td><td>&hellip;</td><td>&hellip;</td><td>&hellip;</td><td>&hellip;</td></tr><tr><td>38</td><td>99.98</td><td>100.01</td><td>99.84</td><td>100.01</td><td>2021-06-10 15:02:00</td><td>2021-06-10 15:14:00</td></tr><tr><td>53</td><td>100.08</td><td>100.08</td><td>100.08</td><td>100.08</td><td>2021-06-10 16:10:00</td><td>2021-06-10 16:10:00</td></tr><tr><td>35</td><td>99.97</td><td>100.0</td><td>99.73</td><td>99.77</td><td>2021-06-10 14:24:00</td><td>2021-06-10 14:36:00</td></tr><tr><td>47</td><td>100.08</td><td>100.08</td><td>100.08</td><td>100.08</td><td>2021-06-10 16:10:00</td><td>2021-06-10 16:10:00</td></tr><tr><td>62</td><td>100.3127</td><td>104.33</td><td>99.9673</td><td>99.9673</td><td>2021-06-10 16:22:00</td><td>2021-06-10 16:26:00</td></tr></tbody></table></div>"
      ],
      "text/plain": [
       "shape: (63, 7)\n",
       "┌───────────┬────────────┬────────────┬───────────┬─────────────┬─────────────────┬────────────────┐\n",
       "│ bar_index ┆ open_price ┆ high_price ┆ low_price ┆ close_price ┆ datetime_start  ┆ datetime_end   │\n",
       "│ ---       ┆ ---        ┆ ---        ┆ ---       ┆ ---         ┆ ---             ┆ ---            │\n",
       "│ i32       ┆ f64        ┆ f64        ┆ f64       ┆ f64         ┆ datetime[μs]    ┆ datetime[μs]   │\n",
       "╞═══════════╪════════════╪════════════╪═══════════╪═════════════╪═════════════════╪════════════════╡\n",
       "│ 27        ┆ 99.92      ┆ 99.98      ┆ 99.77     ┆ 99.91       ┆ 2021-06-10      ┆ 2021-06-10     │\n",
       "│           ┆            ┆            ┆           ┆             ┆ 12:44:00        ┆ 12:55:00       │\n",
       "│ 18        ┆ 99.9       ┆ 100.01     ┆ 99.65     ┆ 99.68       ┆ 2021-06-10      ┆ 2021-06-10     │\n",
       "│           ┆            ┆            ┆           ┆             ┆ 11:09:00        ┆ 11:13:00       │\n",
       "│ 9         ┆ 100.85     ┆ 101.08     ┆ 100.72    ┆ 100.98      ┆ 2021-06-10      ┆ 2021-06-10     │\n",
       "│           ┆            ┆            ┆           ┆             ┆ 10:28:00        ┆ 10:32:00       │\n",
       "│ 30        ┆ 99.93      ┆ 99.95      ┆ 99.64     ┆ 99.65       ┆ 2021-06-10      ┆ 2021-06-10     │\n",
       "│           ┆            ┆            ┆           ┆             ┆ 13:24:00        ┆ 13:36:00       │\n",
       "│ 3         ┆ 102.5      ┆ 102.59     ┆ 102.01    ┆ 102.07      ┆ 2021-06-10      ┆ 2021-06-10     │\n",
       "│           ┆            ┆            ┆           ┆             ┆ 10:05:00        ┆ 10:10:00       │\n",
       "│ …         ┆ …          ┆ …          ┆ …         ┆ …           ┆ …               ┆ …              │\n",
       "│ 38        ┆ 99.98      ┆ 100.01     ┆ 99.84     ┆ 100.01      ┆ 2021-06-10      ┆ 2021-06-10     │\n",
       "│           ┆            ┆            ┆           ┆             ┆ 15:02:00        ┆ 15:14:00       │\n",
       "│ 53        ┆ 100.08     ┆ 100.08     ┆ 100.08    ┆ 100.08      ┆ 2021-06-10      ┆ 2021-06-10     │\n",
       "│           ┆            ┆            ┆           ┆             ┆ 16:10:00        ┆ 16:10:00       │\n",
       "│ 35        ┆ 99.97      ┆ 100.0      ┆ 99.73     ┆ 99.77       ┆ 2021-06-10      ┆ 2021-06-10     │\n",
       "│           ┆            ┆            ┆           ┆             ┆ 14:24:00        ┆ 14:36:00       │\n",
       "│ 47        ┆ 100.08     ┆ 100.08     ┆ 100.08    ┆ 100.08      ┆ 2021-06-10      ┆ 2021-06-10     │\n",
       "│           ┆            ┆            ┆           ┆             ┆ 16:10:00        ┆ 16:10:00       │\n",
       "│ 62        ┆ 100.3127   ┆ 104.33     ┆ 99.9673   ┆ 99.9673     ┆ 2021-06-10      ┆ 2021-06-10     │\n",
       "│           ┆            ┆            ┆           ┆             ┆ 16:22:00        ┆ 16:26:00       │\n",
       "└───────────┴────────────┴────────────┴───────────┴─────────────┴─────────────────┴────────────────┘"
      ]
     },
     "execution_count": 6,
     "metadata": {},
     "output_type": "execute_result"
    }
   ],
   "source": [
    "pdf = bars.create_volume_bars(\n",
    "    trades_df,\n",
    "    order_by = \"date_time\"\n",
    ")\n",
    "pdf"
   ]
  },
  {
   "cell_type": "code",
   "execution_count": 7,
   "id": "ffdf8323",
   "metadata": {},
   "outputs": [
    {
     "data": {
      "text/html": [
       "<div><style>\n",
       ".dataframe > thead > tr,\n",
       ".dataframe > tbody > tr {\n",
       "  text-align: right;\n",
       "  white-space: pre-wrap;\n",
       "}\n",
       "</style>\n",
       "<small>shape: (54, 66)</small><table border=\"1\" class=\"dataframe\"><thead><tr><th>index</th><th>time_start</th><th>time_end</th><th>bar_27_overlap</th><th>bar_18_overlap</th><th>bar_9_overlap</th><th>bar_30_overlap</th><th>bar_3_overlap</th><th>bar_0_overlap</th><th>bar_6_overlap</th><th>bar_15_overlap</th><th>bar_12_overlap</th><th>bar_24_overlap</th><th>bar_21_overlap</th><th>bar_33_overlap</th><th>bar_48_overlap</th><th>bar_60_overlap</th><th>bar_42_overlap</th><th>bar_51_overlap</th><th>bar_63_overlap</th><th>bar_45_overlap</th><th>bar_36_overlap</th><th>bar_54_overlap</th><th>bar_39_overlap</th><th>bar_16_overlap</th><th>bar_4_overlap</th><th>bar_13_overlap</th><th>bar_28_overlap</th><th>bar_7_overlap</th><th>bar_10_overlap</th><th>bar_25_overlap</th><th>bar_1_overlap</th><th>bar_19_overlap</th><th>bar_31_overlap</th><th>bar_22_overlap</th><th>bar_55_overlap</th><th>bar_64_overlap</th><th>bar_40_overlap</th><th>bar_43_overlap</th><th>bar_52_overlap</th><th>bar_61_overlap</th><th>bar_37_overlap</th><th>bar_58_overlap</th><th>bar_34_overlap</th><th>bar_49_overlap</th><th>bar_46_overlap</th><th>bar_8_overlap</th><th>bar_11_overlap</th><th>bar_29_overlap</th><th>bar_32_overlap</th><th>bar_14_overlap</th><th>bar_17_overlap</th><th>bar_5_overlap</th><th>bar_20_overlap</th><th>bar_26_overlap</th><th>bar_2_overlap</th><th>bar_23_overlap</th><th>bar_56_overlap</th><th>bar_50_overlap</th><th>bar_44_overlap</th><th>bar_41_overlap</th><th>bar_38_overlap</th><th>bar_53_overlap</th><th>bar_35_overlap</th><th>bar_47_overlap</th><th>bar_62_overlap</th></tr><tr><td>u32</td><td>datetime[μs]</td><td>datetime[μs]</td><td>i32</td><td>i32</td><td>i32</td><td>i32</td><td>i32</td><td>i32</td><td>i32</td><td>i32</td><td>i32</td><td>i32</td><td>i32</td><td>i32</td><td>i32</td><td>i32</td><td>i32</td><td>i32</td><td>i32</td><td>i32</td><td>i32</td><td>i32</td><td>i32</td><td>i32</td><td>i32</td><td>i32</td><td>i32</td><td>i32</td><td>i32</td><td>i32</td><td>i32</td><td>i32</td><td>i32</td><td>i32</td><td>i32</td><td>i32</td><td>i32</td><td>i32</td><td>i32</td><td>i32</td><td>i32</td><td>i32</td><td>i32</td><td>i32</td><td>i32</td><td>i32</td><td>i32</td><td>i32</td><td>i32</td><td>i32</td><td>i32</td><td>i32</td><td>i32</td><td>i32</td><td>i32</td><td>i32</td><td>i32</td><td>i32</td><td>i32</td><td>i32</td><td>i32</td><td>i32</td><td>i32</td><td>i32</td><td>i32</td></tr></thead><tbody><tr><td>0</td><td>2021-06-10 10:02:00</td><td>2021-06-10 10:05:00</td><td>0</td><td>0</td><td>0</td><td>0</td><td>0</td><td>0</td><td>0</td><td>0</td><td>0</td><td>0</td><td>0</td><td>0</td><td>0</td><td>0</td><td>0</td><td>0</td><td>0</td><td>0</td><td>0</td><td>0</td><td>0</td><td>0</td><td>0</td><td>0</td><td>0</td><td>0</td><td>0</td><td>0</td><td>1</td><td>0</td><td>0</td><td>0</td><td>0</td><td>0</td><td>0</td><td>0</td><td>0</td><td>0</td><td>0</td><td>0</td><td>0</td><td>0</td><td>0</td><td>0</td><td>0</td><td>0</td><td>0</td><td>0</td><td>0</td><td>0</td><td>0</td><td>0</td><td>0</td><td>0</td><td>0</td><td>0</td><td>0</td><td>0</td><td>0</td><td>0</td><td>0</td><td>0</td><td>0</td></tr><tr><td>1</td><td>2021-06-10 10:05:00</td><td>2021-06-10 10:10:00</td><td>0</td><td>0</td><td>0</td><td>0</td><td>1</td><td>0</td><td>0</td><td>0</td><td>0</td><td>0</td><td>0</td><td>0</td><td>0</td><td>0</td><td>0</td><td>0</td><td>0</td><td>0</td><td>0</td><td>0</td><td>0</td><td>0</td><td>0</td><td>0</td><td>0</td><td>0</td><td>0</td><td>0</td><td>0</td><td>0</td><td>0</td><td>0</td><td>0</td><td>0</td><td>0</td><td>0</td><td>0</td><td>0</td><td>0</td><td>0</td><td>0</td><td>0</td><td>0</td><td>0</td><td>0</td><td>0</td><td>0</td><td>0</td><td>0</td><td>0</td><td>0</td><td>0</td><td>0</td><td>0</td><td>0</td><td>0</td><td>0</td><td>0</td><td>0</td><td>0</td><td>0</td><td>0</td><td>0</td></tr><tr><td>2</td><td>2021-06-10 10:10:00</td><td>2021-06-10 10:14:00</td><td>0</td><td>0</td><td>0</td><td>0</td><td>0</td><td>0</td><td>0</td><td>0</td><td>0</td><td>0</td><td>0</td><td>0</td><td>0</td><td>0</td><td>0</td><td>0</td><td>0</td><td>0</td><td>0</td><td>0</td><td>0</td><td>0</td><td>1</td><td>0</td><td>0</td><td>0</td><td>0</td><td>0</td><td>0</td><td>0</td><td>0</td><td>0</td><td>0</td><td>0</td><td>0</td><td>0</td><td>0</td><td>0</td><td>0</td><td>0</td><td>0</td><td>0</td><td>0</td><td>0</td><td>0</td><td>0</td><td>0</td><td>0</td><td>0</td><td>0</td><td>0</td><td>0</td><td>0</td><td>0</td><td>0</td><td>0</td><td>0</td><td>0</td><td>0</td><td>0</td><td>0</td><td>0</td><td>0</td></tr><tr><td>3</td><td>2021-06-10 10:14:00</td><td>2021-06-10 10:17:00</td><td>0</td><td>0</td><td>0</td><td>0</td><td>0</td><td>0</td><td>0</td><td>0</td><td>0</td><td>0</td><td>0</td><td>0</td><td>0</td><td>0</td><td>0</td><td>0</td><td>0</td><td>0</td><td>0</td><td>0</td><td>0</td><td>0</td><td>0</td><td>0</td><td>0</td><td>0</td><td>0</td><td>0</td><td>0</td><td>0</td><td>0</td><td>0</td><td>0</td><td>0</td><td>0</td><td>0</td><td>0</td><td>0</td><td>0</td><td>0</td><td>0</td><td>0</td><td>0</td><td>0</td><td>0</td><td>0</td><td>0</td><td>0</td><td>0</td><td>1</td><td>0</td><td>0</td><td>0</td><td>0</td><td>0</td><td>0</td><td>0</td><td>0</td><td>0</td><td>0</td><td>0</td><td>0</td><td>0</td></tr><tr><td>4</td><td>2021-06-10 10:17:00</td><td>2021-06-10 10:21:00</td><td>0</td><td>0</td><td>0</td><td>0</td><td>0</td><td>0</td><td>1</td><td>0</td><td>0</td><td>0</td><td>0</td><td>0</td><td>0</td><td>0</td><td>0</td><td>0</td><td>0</td><td>0</td><td>0</td><td>0</td><td>0</td><td>0</td><td>0</td><td>0</td><td>0</td><td>0</td><td>0</td><td>0</td><td>0</td><td>0</td><td>0</td><td>0</td><td>0</td><td>0</td><td>0</td><td>0</td><td>0</td><td>0</td><td>0</td><td>0</td><td>0</td><td>0</td><td>0</td><td>0</td><td>0</td><td>0</td><td>0</td><td>0</td><td>0</td><td>0</td><td>0</td><td>0</td><td>0</td><td>0</td><td>0</td><td>0</td><td>0</td><td>0</td><td>0</td><td>0</td><td>0</td><td>0</td><td>0</td></tr><tr><td>&hellip;</td><td>&hellip;</td><td>&hellip;</td><td>&hellip;</td><td>&hellip;</td><td>&hellip;</td><td>&hellip;</td><td>&hellip;</td><td>&hellip;</td><td>&hellip;</td><td>&hellip;</td><td>&hellip;</td><td>&hellip;</td><td>&hellip;</td><td>&hellip;</td><td>&hellip;</td><td>&hellip;</td><td>&hellip;</td><td>&hellip;</td><td>&hellip;</td><td>&hellip;</td><td>&hellip;</td><td>&hellip;</td><td>&hellip;</td><td>&hellip;</td><td>&hellip;</td><td>&hellip;</td><td>&hellip;</td><td>&hellip;</td><td>&hellip;</td><td>&hellip;</td><td>&hellip;</td><td>&hellip;</td><td>&hellip;</td><td>&hellip;</td><td>&hellip;</td><td>&hellip;</td><td>&hellip;</td><td>&hellip;</td><td>&hellip;</td><td>&hellip;</td><td>&hellip;</td><td>&hellip;</td><td>&hellip;</td><td>&hellip;</td><td>&hellip;</td><td>&hellip;</td><td>&hellip;</td><td>&hellip;</td><td>&hellip;</td><td>&hellip;</td><td>&hellip;</td><td>&hellip;</td><td>&hellip;</td><td>&hellip;</td><td>&hellip;</td><td>&hellip;</td><td>&hellip;</td><td>&hellip;</td><td>&hellip;</td><td>&hellip;</td><td>&hellip;</td><td>&hellip;</td><td>&hellip;</td><td>&hellip;</td><td>&hellip;</td></tr><tr><td>49</td><td>2021-06-10 16:20:00</td><td>2021-06-10 16:22:00</td><td>0</td><td>0</td><td>0</td><td>0</td><td>0</td><td>0</td><td>0</td><td>0</td><td>0</td><td>0</td><td>0</td><td>0</td><td>0</td><td>0</td><td>0</td><td>0</td><td>0</td><td>0</td><td>0</td><td>0</td><td>0</td><td>0</td><td>0</td><td>0</td><td>0</td><td>0</td><td>0</td><td>0</td><td>0</td><td>0</td><td>0</td><td>0</td><td>0</td><td>0</td><td>0</td><td>0</td><td>0</td><td>0</td><td>0</td><td>0</td><td>0</td><td>0</td><td>0</td><td>0</td><td>0</td><td>0</td><td>0</td><td>0</td><td>0</td><td>0</td><td>0</td><td>0</td><td>0</td><td>0</td><td>0</td><td>0</td><td>0</td><td>0</td><td>0</td><td>0</td><td>0</td><td>0</td><td>0</td></tr><tr><td>50</td><td>2021-06-10 16:22:00</td><td>2021-06-10 16:26:00</td><td>0</td><td>0</td><td>0</td><td>0</td><td>0</td><td>0</td><td>0</td><td>0</td><td>0</td><td>0</td><td>0</td><td>0</td><td>0</td><td>0</td><td>0</td><td>0</td><td>0</td><td>0</td><td>0</td><td>0</td><td>0</td><td>0</td><td>0</td><td>0</td><td>0</td><td>0</td><td>0</td><td>0</td><td>0</td><td>0</td><td>0</td><td>0</td><td>0</td><td>0</td><td>0</td><td>0</td><td>0</td><td>0</td><td>0</td><td>0</td><td>0</td><td>0</td><td>0</td><td>0</td><td>0</td><td>0</td><td>0</td><td>0</td><td>0</td><td>0</td><td>0</td><td>0</td><td>0</td><td>0</td><td>0</td><td>0</td><td>0</td><td>0</td><td>0</td><td>0</td><td>0</td><td>0</td><td>1</td></tr><tr><td>51</td><td>2021-06-10 16:26:00</td><td>2021-06-10 16:43:00</td><td>0</td><td>0</td><td>0</td><td>0</td><td>0</td><td>0</td><td>0</td><td>0</td><td>0</td><td>0</td><td>0</td><td>0</td><td>0</td><td>0</td><td>0</td><td>0</td><td>1</td><td>0</td><td>0</td><td>0</td><td>0</td><td>0</td><td>0</td><td>0</td><td>0</td><td>0</td><td>0</td><td>0</td><td>0</td><td>0</td><td>0</td><td>0</td><td>0</td><td>0</td><td>0</td><td>0</td><td>0</td><td>0</td><td>0</td><td>0</td><td>0</td><td>0</td><td>0</td><td>0</td><td>0</td><td>0</td><td>0</td><td>0</td><td>0</td><td>0</td><td>0</td><td>0</td><td>0</td><td>0</td><td>0</td><td>0</td><td>0</td><td>0</td><td>0</td><td>0</td><td>0</td><td>0</td><td>0</td></tr><tr><td>52</td><td>2021-06-10 16:43:00</td><td>2021-06-10 16:45:00</td><td>0</td><td>0</td><td>0</td><td>0</td><td>0</td><td>0</td><td>0</td><td>0</td><td>0</td><td>0</td><td>0</td><td>0</td><td>0</td><td>0</td><td>0</td><td>0</td><td>0</td><td>0</td><td>0</td><td>0</td><td>0</td><td>0</td><td>0</td><td>0</td><td>0</td><td>0</td><td>0</td><td>0</td><td>0</td><td>0</td><td>0</td><td>0</td><td>0</td><td>0</td><td>0</td><td>0</td><td>0</td><td>0</td><td>0</td><td>0</td><td>0</td><td>0</td><td>0</td><td>0</td><td>0</td><td>0</td><td>0</td><td>0</td><td>0</td><td>0</td><td>0</td><td>0</td><td>0</td><td>0</td><td>0</td><td>0</td><td>0</td><td>0</td><td>0</td><td>0</td><td>0</td><td>0</td><td>0</td></tr><tr><td>53</td><td>2021-06-10 16:45:00</td><td>2021-06-10 17:00:00</td><td>0</td><td>0</td><td>0</td><td>0</td><td>0</td><td>0</td><td>0</td><td>0</td><td>0</td><td>0</td><td>0</td><td>0</td><td>0</td><td>0</td><td>0</td><td>0</td><td>0</td><td>0</td><td>0</td><td>0</td><td>0</td><td>0</td><td>0</td><td>0</td><td>0</td><td>0</td><td>0</td><td>0</td><td>0</td><td>0</td><td>0</td><td>0</td><td>0</td><td>1</td><td>0</td><td>0</td><td>0</td><td>0</td><td>0</td><td>0</td><td>0</td><td>0</td><td>0</td><td>0</td><td>0</td><td>0</td><td>0</td><td>0</td><td>0</td><td>0</td><td>0</td><td>0</td><td>0</td><td>0</td><td>0</td><td>0</td><td>0</td><td>0</td><td>0</td><td>0</td><td>0</td><td>0</td><td>0</td></tr></tbody></table></div>"
      ],
      "text/plain": [
       "shape: (54, 66)\n",
       "┌───────┬────────────┬────────────┬────────────┬───┬───────────┬───────────┬───────────┬───────────┐\n",
       "│ index ┆ time_start ┆ time_end   ┆ bar_27_ove ┆ … ┆ bar_53_ov ┆ bar_35_ov ┆ bar_47_ov ┆ bar_62_ov │\n",
       "│ ---   ┆ ---        ┆ ---        ┆ rlap       ┆   ┆ erlap     ┆ erlap     ┆ erlap     ┆ erlap     │\n",
       "│ u32   ┆ datetime[μ ┆ datetime[μ ┆ ---        ┆   ┆ ---       ┆ ---       ┆ ---       ┆ ---       │\n",
       "│       ┆ s]         ┆ s]         ┆ i32        ┆   ┆ i32       ┆ i32       ┆ i32       ┆ i32       │\n",
       "╞═══════╪════════════╪════════════╪════════════╪═══╪═══════════╪═══════════╪═══════════╪═══════════╡\n",
       "│ 0     ┆ 2021-06-10 ┆ 2021-06-10 ┆ 0          ┆ … ┆ 0         ┆ 0         ┆ 0         ┆ 0         │\n",
       "│       ┆ 10:02:00   ┆ 10:05:00   ┆            ┆   ┆           ┆           ┆           ┆           │\n",
       "│ 1     ┆ 2021-06-10 ┆ 2021-06-10 ┆ 0          ┆ … ┆ 0         ┆ 0         ┆ 0         ┆ 0         │\n",
       "│       ┆ 10:05:00   ┆ 10:10:00   ┆            ┆   ┆           ┆           ┆           ┆           │\n",
       "│ 2     ┆ 2021-06-10 ┆ 2021-06-10 ┆ 0          ┆ … ┆ 0         ┆ 0         ┆ 0         ┆ 0         │\n",
       "│       ┆ 10:10:00   ┆ 10:14:00   ┆            ┆   ┆           ┆           ┆           ┆           │\n",
       "│ 3     ┆ 2021-06-10 ┆ 2021-06-10 ┆ 0          ┆ … ┆ 0         ┆ 0         ┆ 0         ┆ 0         │\n",
       "│       ┆ 10:14:00   ┆ 10:17:00   ┆            ┆   ┆           ┆           ┆           ┆           │\n",
       "│ 4     ┆ 2021-06-10 ┆ 2021-06-10 ┆ 0          ┆ … ┆ 0         ┆ 0         ┆ 0         ┆ 0         │\n",
       "│       ┆ 10:17:00   ┆ 10:21:00   ┆            ┆   ┆           ┆           ┆           ┆           │\n",
       "│ …     ┆ …          ┆ …          ┆ …          ┆ … ┆ …         ┆ …         ┆ …         ┆ …         │\n",
       "│ 49    ┆ 2021-06-10 ┆ 2021-06-10 ┆ 0          ┆ … ┆ 0         ┆ 0         ┆ 0         ┆ 0         │\n",
       "│       ┆ 16:20:00   ┆ 16:22:00   ┆            ┆   ┆           ┆           ┆           ┆           │\n",
       "│ 50    ┆ 2021-06-10 ┆ 2021-06-10 ┆ 0          ┆ … ┆ 0         ┆ 0         ┆ 0         ┆ 1         │\n",
       "│       ┆ 16:22:00   ┆ 16:26:00   ┆            ┆   ┆           ┆           ┆           ┆           │\n",
       "│ 51    ┆ 2021-06-10 ┆ 2021-06-10 ┆ 0          ┆ … ┆ 0         ┆ 0         ┆ 0         ┆ 0         │\n",
       "│       ┆ 16:26:00   ┆ 16:43:00   ┆            ┆   ┆           ┆           ┆           ┆           │\n",
       "│ 52    ┆ 2021-06-10 ┆ 2021-06-10 ┆ 0          ┆ … ┆ 0         ┆ 0         ┆ 0         ┆ 0         │\n",
       "│       ┆ 16:43:00   ┆ 16:45:00   ┆            ┆   ┆           ┆           ┆           ┆           │\n",
       "│ 53    ┆ 2021-06-10 ┆ 2021-06-10 ┆ 0          ┆ … ┆ 0         ┆ 0         ┆ 0         ┆ 0         │\n",
       "│       ┆ 16:45:00   ┆ 17:00:00   ┆            ┆   ┆           ┆           ┆           ┆           │\n",
       "└───────┴────────────┴────────────┴────────────┴───┴───────────┴───────────┴───────────┴───────────┘"
      ]
     },
     "execution_count": 7,
     "metadata": {},
     "output_type": "execute_result"
    }
   ],
   "source": [
    "from tsuro.sampling import create_overlap_matrix\n",
    "\n",
    "overlap_matrix, bars_df = create_overlap_matrix(\n",
    "    pdf,\n",
    "    time_start_col = \"datetime_start\",\n",
    "    time_end_col = \"datetime_end\",\n",
    "    index_col = \"bar_index\"\n",
    ")\n",
    "overlap_matrix"
   ]
  },
  {
   "cell_type": "code",
   "execution_count": 8,
   "id": "dd5ecb54",
   "metadata": {},
   "outputs": [
    {
     "data": {
      "text/html": [
       "<div><style>\n",
       ".dataframe > thead > tr,\n",
       ".dataframe > tbody > tr {\n",
       "  text-align: right;\n",
       "  white-space: pre-wrap;\n",
       "}\n",
       "</style>\n",
       "<small>shape: (63, 9)</small><table border=\"1\" class=\"dataframe\"><thead><tr><th>bar_index</th><th>open_price</th><th>high_price</th><th>low_price</th><th>close_price</th><th>datetime_start</th><th>datetime_end</th><th>datetime_start_index</th><th>datetime_end_index</th></tr><tr><td>i32</td><td>f64</td><td>f64</td><td>f64</td><td>f64</td><td>datetime[μs]</td><td>datetime[μs]</td><td>u32</td><td>u32</td></tr></thead><tbody><tr><td>27</td><td>99.92</td><td>99.98</td><td>99.77</td><td>99.91</td><td>2021-06-10 12:44:00</td><td>2021-06-10 12:55:00</td><td>25</td><td>26</td></tr><tr><td>18</td><td>99.9</td><td>100.01</td><td>99.65</td><td>99.68</td><td>2021-06-10 11:09:00</td><td>2021-06-10 11:13:00</td><td>16</td><td>17</td></tr><tr><td>9</td><td>100.85</td><td>101.08</td><td>100.72</td><td>100.98</td><td>2021-06-10 10:28:00</td><td>2021-06-10 10:32:00</td><td>7</td><td>8</td></tr><tr><td>30</td><td>99.93</td><td>99.95</td><td>99.64</td><td>99.65</td><td>2021-06-10 13:24:00</td><td>2021-06-10 13:36:00</td><td>28</td><td>29</td></tr><tr><td>3</td><td>102.5</td><td>102.59</td><td>102.01</td><td>102.07</td><td>2021-06-10 10:05:00</td><td>2021-06-10 10:10:00</td><td>1</td><td>2</td></tr><tr><td>&hellip;</td><td>&hellip;</td><td>&hellip;</td><td>&hellip;</td><td>&hellip;</td><td>&hellip;</td><td>&hellip;</td><td>&hellip;</td><td>&hellip;</td></tr><tr><td>38</td><td>99.98</td><td>100.01</td><td>99.84</td><td>100.01</td><td>2021-06-10 15:02:00</td><td>2021-06-10 15:14:00</td><td>36</td><td>37</td></tr><tr><td>53</td><td>100.08</td><td>100.08</td><td>100.08</td><td>100.08</td><td>2021-06-10 16:10:00</td><td>2021-06-10 16:10:00</td><td>44</td><td>44</td></tr><tr><td>35</td><td>99.97</td><td>100.0</td><td>99.73</td><td>99.77</td><td>2021-06-10 14:24:00</td><td>2021-06-10 14:36:00</td><td>33</td><td>34</td></tr><tr><td>47</td><td>100.08</td><td>100.08</td><td>100.08</td><td>100.08</td><td>2021-06-10 16:10:00</td><td>2021-06-10 16:10:00</td><td>44</td><td>44</td></tr><tr><td>62</td><td>100.3127</td><td>104.33</td><td>99.9673</td><td>99.9673</td><td>2021-06-10 16:22:00</td><td>2021-06-10 16:26:00</td><td>50</td><td>51</td></tr></tbody></table></div>"
      ],
      "text/plain": [
       "shape: (63, 9)\n",
       "┌───────────┬───────────┬───────────┬───────────┬───┬───────────┬───────────┬───────────┬──────────┐\n",
       "│ bar_index ┆ open_pric ┆ high_pric ┆ low_price ┆ … ┆ datetime_ ┆ datetime_ ┆ datetime_ ┆ datetime │\n",
       "│ ---       ┆ e         ┆ e         ┆ ---       ┆   ┆ start     ┆ end       ┆ start_ind ┆ _end_ind │\n",
       "│ i32       ┆ ---       ┆ ---       ┆ f64       ┆   ┆ ---       ┆ ---       ┆ ex        ┆ ex       │\n",
       "│           ┆ f64       ┆ f64       ┆           ┆   ┆ datetime[ ┆ datetime[ ┆ ---       ┆ ---      │\n",
       "│           ┆           ┆           ┆           ┆   ┆ μs]       ┆ μs]       ┆ u32       ┆ u32      │\n",
       "╞═══════════╪═══════════╪═══════════╪═══════════╪═══╪═══════════╪═══════════╪═══════════╪══════════╡\n",
       "│ 27        ┆ 99.92     ┆ 99.98     ┆ 99.77     ┆ … ┆ 2021-06-1 ┆ 2021-06-1 ┆ 25        ┆ 26       │\n",
       "│           ┆           ┆           ┆           ┆   ┆ 0         ┆ 0         ┆           ┆          │\n",
       "│           ┆           ┆           ┆           ┆   ┆ 12:44:00  ┆ 12:55:00  ┆           ┆          │\n",
       "│ 18        ┆ 99.9      ┆ 100.01    ┆ 99.65     ┆ … ┆ 2021-06-1 ┆ 2021-06-1 ┆ 16        ┆ 17       │\n",
       "│           ┆           ┆           ┆           ┆   ┆ 0         ┆ 0         ┆           ┆          │\n",
       "│           ┆           ┆           ┆           ┆   ┆ 11:09:00  ┆ 11:13:00  ┆           ┆          │\n",
       "│ 9         ┆ 100.85    ┆ 101.08    ┆ 100.72    ┆ … ┆ 2021-06-1 ┆ 2021-06-1 ┆ 7         ┆ 8        │\n",
       "│           ┆           ┆           ┆           ┆   ┆ 0         ┆ 0         ┆           ┆          │\n",
       "│           ┆           ┆           ┆           ┆   ┆ 10:28:00  ┆ 10:32:00  ┆           ┆          │\n",
       "│ 30        ┆ 99.93     ┆ 99.95     ┆ 99.64     ┆ … ┆ 2021-06-1 ┆ 2021-06-1 ┆ 28        ┆ 29       │\n",
       "│           ┆           ┆           ┆           ┆   ┆ 0         ┆ 0         ┆           ┆          │\n",
       "│           ┆           ┆           ┆           ┆   ┆ 13:24:00  ┆ 13:36:00  ┆           ┆          │\n",
       "│ 3         ┆ 102.5     ┆ 102.59    ┆ 102.01    ┆ … ┆ 2021-06-1 ┆ 2021-06-1 ┆ 1         ┆ 2        │\n",
       "│           ┆           ┆           ┆           ┆   ┆ 0         ┆ 0         ┆           ┆          │\n",
       "│           ┆           ┆           ┆           ┆   ┆ 10:05:00  ┆ 10:10:00  ┆           ┆          │\n",
       "│ …         ┆ …         ┆ …         ┆ …         ┆ … ┆ …         ┆ …         ┆ …         ┆ …        │\n",
       "│ 38        ┆ 99.98     ┆ 100.01    ┆ 99.84     ┆ … ┆ 2021-06-1 ┆ 2021-06-1 ┆ 36        ┆ 37       │\n",
       "│           ┆           ┆           ┆           ┆   ┆ 0         ┆ 0         ┆           ┆          │\n",
       "│           ┆           ┆           ┆           ┆   ┆ 15:02:00  ┆ 15:14:00  ┆           ┆          │\n",
       "│ 53        ┆ 100.08    ┆ 100.08    ┆ 100.08    ┆ … ┆ 2021-06-1 ┆ 2021-06-1 ┆ 44        ┆ 44       │\n",
       "│           ┆           ┆           ┆           ┆   ┆ 0         ┆ 0         ┆           ┆          │\n",
       "│           ┆           ┆           ┆           ┆   ┆ 16:10:00  ┆ 16:10:00  ┆           ┆          │\n",
       "│ 35        ┆ 99.97     ┆ 100.0     ┆ 99.73     ┆ … ┆ 2021-06-1 ┆ 2021-06-1 ┆ 33        ┆ 34       │\n",
       "│           ┆           ┆           ┆           ┆   ┆ 0         ┆ 0         ┆           ┆          │\n",
       "│           ┆           ┆           ┆           ┆   ┆ 14:24:00  ┆ 14:36:00  ┆           ┆          │\n",
       "│ 47        ┆ 100.08    ┆ 100.08    ┆ 100.08    ┆ … ┆ 2021-06-1 ┆ 2021-06-1 ┆ 44        ┆ 44       │\n",
       "│           ┆           ┆           ┆           ┆   ┆ 0         ┆ 0         ┆           ┆          │\n",
       "│           ┆           ┆           ┆           ┆   ┆ 16:10:00  ┆ 16:10:00  ┆           ┆          │\n",
       "│ 62        ┆ 100.3127  ┆ 104.33    ┆ 99.9673   ┆ … ┆ 2021-06-1 ┆ 2021-06-1 ┆ 50        ┆ 51       │\n",
       "│           ┆           ┆           ┆           ┆   ┆ 0         ┆ 0         ┆           ┆          │\n",
       "│           ┆           ┆           ┆           ┆   ┆ 16:22:00  ┆ 16:26:00  ┆           ┆          │\n",
       "└───────────┴───────────┴───────────┴───────────┴───┴───────────┴───────────┴───────────┴──────────┘"
      ]
     },
     "execution_count": 8,
     "metadata": {},
     "output_type": "execute_result"
    }
   ],
   "source": [
    "bars_df"
   ]
  },
  {
   "cell_type": "code",
   "execution_count": 9,
   "id": "81d23b76",
   "metadata": {},
   "outputs": [
    {
     "data": {
      "text/html": [
       "<div><style>\n",
       ".dataframe > thead > tr,\n",
       ".dataframe > tbody > tr {\n",
       "  text-align: right;\n",
       "  white-space: pre-wrap;\n",
       "}\n",
       "</style>\n",
       "<small>shape: (51, 1)</small><table border=\"1\" class=\"dataframe\"><thead><tr><th>datetime_end</th></tr><tr><td>datetime[μs]</td></tr></thead><tbody><tr><td>2021-06-10 16:10:00</td></tr><tr><td>2021-06-10 16:20:00</td></tr><tr><td>2021-06-10 10:08:00</td></tr><tr><td>2021-06-10 15:38:00</td></tr><tr><td>2021-06-10 16:43:00</td></tr><tr><td>&hellip;</td></tr><tr><td>2021-06-10 10:47:00</td></tr><tr><td>2021-06-10 13:43:00</td></tr><tr><td>2021-06-10 14:58:00</td></tr><tr><td>2021-06-10 13:02:00</td></tr><tr><td>2021-06-10 12:38:00</td></tr></tbody></table></div>"
      ],
      "text/plain": [
       "shape: (51, 1)\n",
       "┌─────────────────────┐\n",
       "│ datetime_end        │\n",
       "│ ---                 │\n",
       "│ datetime[μs]        │\n",
       "╞═════════════════════╡\n",
       "│ 2021-06-10 16:10:00 │\n",
       "│ 2021-06-10 16:20:00 │\n",
       "│ 2021-06-10 10:08:00 │\n",
       "│ 2021-06-10 15:38:00 │\n",
       "│ 2021-06-10 16:43:00 │\n",
       "│ …                   │\n",
       "│ 2021-06-10 10:47:00 │\n",
       "│ 2021-06-10 13:43:00 │\n",
       "│ 2021-06-10 14:58:00 │\n",
       "│ 2021-06-10 13:02:00 │\n",
       "│ 2021-06-10 12:38:00 │\n",
       "└─────────────────────┘"
      ]
     },
     "execution_count": 9,
     "metadata": {},
     "output_type": "execute_result"
    }
   ],
   "source": [
    "bars_start_times = pdf.select(\"datetime_start\").unique()\n",
    "bars_end_times = pdf.select(\"datetime_end\").unique()\n",
    "bars_end_times"
   ]
  },
  {
   "cell_type": "code",
   "execution_count": null,
   "id": "958bba96",
   "metadata": {},
   "outputs": [],
   "source": []
  }
 ],
 "metadata": {
  "kernelspec": {
   "display_name": "Python 3 (ipykernel)",
   "language": "python",
   "name": "python3"
  },
  "language_info": {
   "codemirror_mode": {
    "name": "ipython",
    "version": 3
   },
   "file_extension": ".py",
   "mimetype": "text/x-python",
   "name": "python",
   "nbconvert_exporter": "python",
   "pygments_lexer": "ipython3",
   "version": "3.11.4"
  }
 },
 "nbformat": 4,
 "nbformat_minor": 5
}
