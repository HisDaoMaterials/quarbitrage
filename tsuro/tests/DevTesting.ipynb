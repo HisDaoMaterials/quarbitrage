{
 "cells": [
  {
   "cell_type": "code",
   "execution_count": 1,
   "id": "2915db40",
   "metadata": {},
   "outputs": [],
   "source": [
    "import polars as pl\n",
    "import pandas as pd\n",
    "\n",
    "import sys\n",
    "sys.path.insert(0, 'C:\\\\Users\\\\rockh\\\\Repositories\\\\Tsuro\\\\')\n",
    "\n",
    "from tsuro.datasets import load_cba_trades\n"
   ]
  },
  {
   "cell_type": "code",
   "execution_count": 4,
   "id": "63fcbcfd",
   "metadata": {},
   "outputs": [],
   "source": [
    "trades = load_cba_trades(lazy=False)"
   ]
  },
  {
   "cell_type": "code",
   "execution_count": 9,
   "id": "1700b5a3",
   "metadata": {},
   "outputs": [
    {
     "data": {
      "text/html": [
       "<div><style>\n",
       ".dataframe > thead > tr,\n",
       ".dataframe > tbody > tr {\n",
       "  text-align: right;\n",
       "  white-space: pre-wrap;\n",
       "}\n",
       "</style>\n",
       "<small>shape: (66_577, 1)</small><table border=\"1\" class=\"dataframe\"><thead><tr><th>Time</th></tr><tr><td>str</td></tr></thead><tbody><tr><td>&quot;6/10/2021 17:00&quot;</td></tr><tr><td>&quot;6/10/2021 16:54&quot;</td></tr><tr><td>&quot;6/10/2021 16:47&quot;</td></tr><tr><td>&quot;6/10/2021 16:46&quot;</td></tr><tr><td>&quot;6/10/2021 16:45&quot;</td></tr><tr><td>&hellip;</td></tr><tr><td>&quot;6/10/2021 7:05&quot;</td></tr><tr><td>&quot;6/10/2021 7:05&quot;</td></tr><tr><td>&quot;6/10/2021 7:05&quot;</td></tr><tr><td>&quot;6/10/2021 7:05&quot;</td></tr><tr><td>&quot;6/10/2021 7:05&quot;</td></tr></tbody></table></div>"
      ],
      "text/plain": [
       "shape: (66_577, 1)\n",
       "┌─────────────────┐\n",
       "│ Time            │\n",
       "│ ---             │\n",
       "│ str             │\n",
       "╞═════════════════╡\n",
       "│ 6/10/2021 17:00 │\n",
       "│ 6/10/2021 16:54 │\n",
       "│ 6/10/2021 16:47 │\n",
       "│ 6/10/2021 16:46 │\n",
       "│ 6/10/2021 16:45 │\n",
       "│ …               │\n",
       "│ 6/10/2021 7:05  │\n",
       "│ 6/10/2021 7:05  │\n",
       "│ 6/10/2021 7:05  │\n",
       "│ 6/10/2021 7:05  │\n",
       "│ 6/10/2021 7:05  │\n",
       "└─────────────────┘"
      ]
     },
     "execution_count": 9,
     "metadata": {},
     "output_type": "execute_result"
    }
   ],
   "source": [
    "trades.select(\"Time\", \"\")"
   ]
  },
  {
   "cell_type": "code",
   "execution_count": null,
   "id": "a517ae40",
   "metadata": {},
   "outputs": [],
   "source": []
  }
 ],
 "metadata": {
  "kernelspec": {
   "display_name": "Python 3 (ipykernel)",
   "language": "python",
   "name": "python3"
  },
  "language_info": {
   "codemirror_mode": {
    "name": "ipython",
    "version": 3
   },
   "file_extension": ".py",
   "mimetype": "text/x-python",
   "name": "python",
   "nbconvert_exporter": "python",
   "pygments_lexer": "ipython3",
   "version": "3.11.4"
  }
 },
 "nbformat": 4,
 "nbformat_minor": 5
}
