{
 "cells": [
  {
   "cell_type": "code",
   "execution_count": 5,
   "id": "2915db40",
   "metadata": {},
   "outputs": [],
   "source": [
    "import polars as pl\n",
    "import pandas as pd\n",
    "import polars.datatypes as T\n",
    "\n",
    "import sys\n",
    "sys.path.insert(0, 'C:\\\\Users\\\\rockh\\\\Repositories\\\\Tsuro\\\\')\n",
    "\n",
    "from tsuro.datasets import load_cba_trades\n",
    "from tsuro.utils import cast_strings_to_datetime"
   ]
  },
  {
   "cell_type": "code",
   "execution_count": 6,
   "id": "63fcbcfd",
   "metadata": {},
   "outputs": [
    {
     "data": {
      "text/html": [
       "<div><style>\n",
       ".dataframe > thead > tr,\n",
       ".dataframe > tbody > tr {\n",
       "  text-align: right;\n",
       "  white-space: pre-wrap;\n",
       "}\n",
       "</style>\n",
       "<small>shape: (66_577, 7)</small><table border=\"1\" class=\"dataframe\"><thead><tr><th></th><th>time</th><th>price</th><th>volume</th><th>dollar_value</th><th>market</th><th>condition</th></tr><tr><td>i64</td><td>str</td><td>f64</td><td>i64</td><td>f64</td><td>str</td><td>str</td></tr></thead><tbody><tr><td>0</td><td>&quot;6/10/2021 17:00&quot;</td><td>100.08</td><td>12904</td><td>1.2914e6</td><td>&quot;ASX&quot;</td><td>&quot;ET XT&quot;</td></tr><tr><td>1</td><td>&quot;6/10/2021 16:54&quot;</td><td>100.08</td><td>19280</td><td>1929542.4</td><td>&quot;ASX&quot;</td><td>&quot;ET XT&quot;</td></tr><tr><td>2</td><td>&quot;6/10/2021 16:47&quot;</td><td>100.3127</td><td>18517</td><td>1.8575e6</td><td>&quot;CXA&quot;</td><td>&quot;SX XT&quot;</td></tr><tr><td>3</td><td>&quot;6/10/2021 16:46&quot;</td><td>100.08</td><td>5364</td><td>536829.12</td><td>&quot;CXA&quot;</td><td>null</td></tr><tr><td>4</td><td>&quot;6/10/2021 16:45&quot;</td><td>100.08</td><td>24624</td><td>2.4644e6</td><td>&quot;ASX&quot;</td><td>&quot;ET XT&quot;</td></tr><tr><td>&hellip;</td><td>&hellip;</td><td>&hellip;</td><td>&hellip;</td><td>&hellip;</td><td>&hellip;</td><td>&hellip;</td></tr><tr><td>66572</td><td>&quot;6/10/2021 7:05&quot;</td><td>95.01</td><td>6000</td><td>570060.0</td><td>&quot;ASX&quot;</td><td>&quot;EC XT&quot;</td></tr><tr><td>66573</td><td>&quot;6/10/2021 7:05&quot;</td><td>94.01</td><td>1200</td><td>112812.0</td><td>&quot;ASX&quot;</td><td>&quot;EC&quot;</td></tr><tr><td>66574</td><td>&quot;6/10/2021 7:05&quot;</td><td>94.01</td><td>18700</td><td>1.757987e6</td><td>&quot;ASX&quot;</td><td>&quot;EC XT&quot;</td></tr><tr><td>66575</td><td>&quot;6/10/2021 7:05&quot;</td><td>94.0</td><td>1200</td><td>112800.0</td><td>&quot;ASX&quot;</td><td>&quot;EC&quot;</td></tr><tr><td>66576</td><td>&quot;6/10/2021 7:05&quot;</td><td>92.01</td><td>12000</td><td>1.10412e6</td><td>&quot;ASX&quot;</td><td>&quot;EC XT&quot;</td></tr></tbody></table></div>"
      ],
      "text/plain": [
       "shape: (66_577, 7)\n",
       "┌───────┬─────────────────┬──────────┬────────┬──────────────┬────────┬───────────┐\n",
       "│       ┆ time            ┆ price    ┆ volume ┆ dollar_value ┆ market ┆ condition │\n",
       "│ ---   ┆ ---             ┆ ---      ┆ ---    ┆ ---          ┆ ---    ┆ ---       │\n",
       "│ i64   ┆ str             ┆ f64      ┆ i64    ┆ f64          ┆ str    ┆ str       │\n",
       "╞═══════╪═════════════════╪══════════╪════════╪══════════════╪════════╪═══════════╡\n",
       "│ 0     ┆ 6/10/2021 17:00 ┆ 100.08   ┆ 12904  ┆ 1.2914e6     ┆ ASX    ┆ ET XT     │\n",
       "│ 1     ┆ 6/10/2021 16:54 ┆ 100.08   ┆ 19280  ┆ 1929542.4    ┆ ASX    ┆ ET XT     │\n",
       "│ 2     ┆ 6/10/2021 16:47 ┆ 100.3127 ┆ 18517  ┆ 1.8575e6     ┆ CXA    ┆ SX XT     │\n",
       "│ 3     ┆ 6/10/2021 16:46 ┆ 100.08   ┆ 5364   ┆ 536829.12    ┆ CXA    ┆ null      │\n",
       "│ 4     ┆ 6/10/2021 16:45 ┆ 100.08   ┆ 24624  ┆ 2.4644e6     ┆ ASX    ┆ ET XT     │\n",
       "│ …     ┆ …               ┆ …        ┆ …      ┆ …            ┆ …      ┆ …         │\n",
       "│ 66572 ┆ 6/10/2021 7:05  ┆ 95.01    ┆ 6000   ┆ 570060.0     ┆ ASX    ┆ EC XT     │\n",
       "│ 66573 ┆ 6/10/2021 7:05  ┆ 94.01    ┆ 1200   ┆ 112812.0     ┆ ASX    ┆ EC        │\n",
       "│ 66574 ┆ 6/10/2021 7:05  ┆ 94.01    ┆ 18700  ┆ 1.757987e6   ┆ ASX    ┆ EC XT     │\n",
       "│ 66575 ┆ 6/10/2021 7:05  ┆ 94.0     ┆ 1200   ┆ 112800.0     ┆ ASX    ┆ EC        │\n",
       "│ 66576 ┆ 6/10/2021 7:05  ┆ 92.01    ┆ 12000  ┆ 1.10412e6    ┆ ASX    ┆ EC XT     │\n",
       "└───────┴─────────────────┴──────────┴────────┴──────────────┴────────┴───────────┘"
      ]
     },
     "execution_count": 6,
     "metadata": {},
     "output_type": "execute_result"
    }
   ],
   "source": [
    "trades_df = load_cba_trades(lazy=False)\n",
    "trades_df"
   ]
  },
  {
   "cell_type": "code",
   "execution_count": 7,
   "id": "1700b5a3",
   "metadata": {},
   "outputs": [
    {
     "name": "stdout",
     "output_type": "stream",
     "text": [
      "dtypes true\n",
      "<class 'dict'>\n"
     ]
    },
    {
     "data": {
      "text/html": [
       "<div><style>\n",
       ".dataframe > thead > tr,\n",
       ".dataframe > tbody > tr {\n",
       "  text-align: right;\n",
       "  white-space: pre-wrap;\n",
       "}\n",
       "</style>\n",
       "<small>shape: (66_577, 7)</small><table border=\"1\" class=\"dataframe\"><thead><tr><th></th><th>time</th><th>price</th><th>volume</th><th>dollar_value</th><th>market</th><th>condition</th></tr><tr><td>i64</td><td>datetime[μs]</td><td>f64</td><td>i64</td><td>f64</td><td>str</td><td>str</td></tr></thead><tbody><tr><td>0</td><td>2021-06-10 17:00:00</td><td>100.08</td><td>12904</td><td>1.2914e6</td><td>&quot;ASX&quot;</td><td>&quot;ET XT&quot;</td></tr><tr><td>1</td><td>2021-06-10 16:54:00</td><td>100.08</td><td>19280</td><td>1929542.4</td><td>&quot;ASX&quot;</td><td>&quot;ET XT&quot;</td></tr><tr><td>2</td><td>2021-06-10 16:47:00</td><td>100.3127</td><td>18517</td><td>1.8575e6</td><td>&quot;CXA&quot;</td><td>&quot;SX XT&quot;</td></tr><tr><td>3</td><td>2021-06-10 16:46:00</td><td>100.08</td><td>5364</td><td>536829.12</td><td>&quot;CXA&quot;</td><td>null</td></tr><tr><td>4</td><td>2021-06-10 16:45:00</td><td>100.08</td><td>24624</td><td>2.4644e6</td><td>&quot;ASX&quot;</td><td>&quot;ET XT&quot;</td></tr><tr><td>&hellip;</td><td>&hellip;</td><td>&hellip;</td><td>&hellip;</td><td>&hellip;</td><td>&hellip;</td><td>&hellip;</td></tr><tr><td>66572</td><td>2021-06-10 07:05:00</td><td>95.01</td><td>6000</td><td>570060.0</td><td>&quot;ASX&quot;</td><td>&quot;EC XT&quot;</td></tr><tr><td>66573</td><td>2021-06-10 07:05:00</td><td>94.01</td><td>1200</td><td>112812.0</td><td>&quot;ASX&quot;</td><td>&quot;EC&quot;</td></tr><tr><td>66574</td><td>2021-06-10 07:05:00</td><td>94.01</td><td>18700</td><td>1.757987e6</td><td>&quot;ASX&quot;</td><td>&quot;EC XT&quot;</td></tr><tr><td>66575</td><td>2021-06-10 07:05:00</td><td>94.0</td><td>1200</td><td>112800.0</td><td>&quot;ASX&quot;</td><td>&quot;EC&quot;</td></tr><tr><td>66576</td><td>2021-06-10 07:05:00</td><td>92.01</td><td>12000</td><td>1.10412e6</td><td>&quot;ASX&quot;</td><td>&quot;EC XT&quot;</td></tr></tbody></table></div>"
      ],
      "text/plain": [
       "shape: (66_577, 7)\n",
       "┌───────┬─────────────────────┬──────────┬────────┬──────────────┬────────┬───────────┐\n",
       "│       ┆ time                ┆ price    ┆ volume ┆ dollar_value ┆ market ┆ condition │\n",
       "│ ---   ┆ ---                 ┆ ---      ┆ ---    ┆ ---          ┆ ---    ┆ ---       │\n",
       "│ i64   ┆ datetime[μs]        ┆ f64      ┆ i64    ┆ f64          ┆ str    ┆ str       │\n",
       "╞═══════╪═════════════════════╪══════════╪════════╪══════════════╪════════╪═══════════╡\n",
       "│ 0     ┆ 2021-06-10 17:00:00 ┆ 100.08   ┆ 12904  ┆ 1.2914e6     ┆ ASX    ┆ ET XT     │\n",
       "│ 1     ┆ 2021-06-10 16:54:00 ┆ 100.08   ┆ 19280  ┆ 1929542.4    ┆ ASX    ┆ ET XT     │\n",
       "│ 2     ┆ 2021-06-10 16:47:00 ┆ 100.3127 ┆ 18517  ┆ 1.8575e6     ┆ CXA    ┆ SX XT     │\n",
       "│ 3     ┆ 2021-06-10 16:46:00 ┆ 100.08   ┆ 5364   ┆ 536829.12    ┆ CXA    ┆ null      │\n",
       "│ 4     ┆ 2021-06-10 16:45:00 ┆ 100.08   ┆ 24624  ┆ 2.4644e6     ┆ ASX    ┆ ET XT     │\n",
       "│ …     ┆ …                   ┆ …        ┆ …      ┆ …            ┆ …      ┆ …         │\n",
       "│ 66572 ┆ 2021-06-10 07:05:00 ┆ 95.01    ┆ 6000   ┆ 570060.0     ┆ ASX    ┆ EC XT     │\n",
       "│ 66573 ┆ 2021-06-10 07:05:00 ┆ 94.01    ┆ 1200   ┆ 112812.0     ┆ ASX    ┆ EC        │\n",
       "│ 66574 ┆ 2021-06-10 07:05:00 ┆ 94.01    ┆ 18700  ┆ 1.757987e6   ┆ ASX    ┆ EC XT     │\n",
       "│ 66575 ┆ 2021-06-10 07:05:00 ┆ 94.0     ┆ 1200   ┆ 112800.0     ┆ ASX    ┆ EC        │\n",
       "│ 66576 ┆ 2021-06-10 07:05:00 ┆ 92.01    ┆ 12000  ┆ 1.10412e6    ┆ ASX    ┆ EC XT     │\n",
       "└───────┴─────────────────────┴──────────┴────────┴──────────────┴────────┴───────────┘"
      ]
     },
     "execution_count": 7,
     "metadata": {},
     "output_type": "execute_result"
    }
   ],
   "source": [
    "# trades_df = trades_df.with_columns(\n",
    "#     pl.col(\"time\").str.strptime(\"%Y/%m/%d %H:%M:%S\", strict = False).alias(\"date\"),\n",
    "#     pl.col(\"time\").str.strptime(dtype = pl.Datetime, format = \"%m/%d/%Y %H:%M\").alias(\"time_new\")\n",
    "# )\n",
    "trades_df = cast_strings_to_datetime(trades_df, \"time\", format = \"%m/%d/%Y %H:%M\")\n",
    "\n",
    "trades_df"
   ]
  },
  {
   "cell_type": "code",
   "execution_count": 26,
   "id": "a517ae40",
   "metadata": {},
   "outputs": [
    {
     "data": {
      "text/plain": [
       "'6/10/2021 17:00'"
      ]
     },
     "execution_count": 26,
     "metadata": {},
     "output_type": "execute_result"
    }
   ],
   "source": [
    "val = trades_df.select([\"time\"])[0].item()\n",
    "val"
   ]
  },
  {
   "cell_type": "code",
   "execution_count": null,
   "id": "f530dae0",
   "metadata": {},
   "outputs": [],
   "source": []
  }
 ],
 "metadata": {
  "kernelspec": {
   "display_name": "Python 3 (ipykernel)",
   "language": "python",
   "name": "python3"
  },
  "language_info": {
   "codemirror_mode": {
    "name": "ipython",
    "version": 3
   },
   "file_extension": ".py",
   "mimetype": "text/x-python",
   "name": "python",
   "nbconvert_exporter": "python",
   "pygments_lexer": "ipython3",
   "version": "3.11.4"
  }
 },
 "nbformat": 4,
 "nbformat_minor": 5
}
