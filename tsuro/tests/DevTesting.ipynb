{
 "cells": [
  {
   "cell_type": "code",
   "execution_count": 1,
   "id": "2915db40",
   "metadata": {},
   "outputs": [],
   "source": [
    "import polars as pl\n",
    "import pandas as pd\n",
    "import polars.datatypes as T\n",
    "import numpy as np\n",
    "\n",
    "from datetime import datetime, time\n",
    "import sys\n",
    "sys.path.insert(0, 'C:\\\\Users\\\\rockh\\\\Repositories\\\\Tsuro\\\\')\n",
    "\n",
    "from tsuro.datasets import load_cba_trades\n",
    "from tsuro.preprocessing import cast_strings_to_datetime"
   ]
  },
  {
   "cell_type": "code",
   "execution_count": 32,
   "id": "8f36793e",
   "metadata": {},
   "outputs": [
    {
     "data": {
      "text/html": [
       "<div><style>\n",
       ".dataframe > thead > tr,\n",
       ".dataframe > tbody > tr {\n",
       "  text-align: right;\n",
       "  white-space: pre-wrap;\n",
       "}\n",
       "</style>\n",
       "<small>shape: (6, 7)</small><table border=\"1\" class=\"dataframe\"><thead><tr><th>class</th><th>hour</th><th>minute</th><th>volume</th><th>time</th><th>volume_ewmstd_span2</th><th>volume_ewmstd_span3</th></tr><tr><td>i64</td><td>i64</td><td>i64</td><td>i64</td><td>time</td><td>f64</td><td>f64</td></tr></thead><tbody><tr><td>0</td><td>12</td><td>20</td><td>150</td><td>12:20:00</td><td>88.388348</td><td>87.372356</td></tr><tr><td>1</td><td>10</td><td>5</td><td>16</td><td>10:05:00</td><td>11.313708</td><td>7.406561</td></tr><tr><td>0</td><td>13</td><td>15</td><td>2</td><td>13:15:00</td><td>104.651804</td><td>86.312969</td></tr><tr><td>1</td><td>10</td><td>15</td><td>5</td><td>10:15:00</td><td>24.748737</td><td>20.209616</td></tr><tr><td>0</td><td>12</td><td>12</td><td>25</td><td>12:12:00</td><td>17.67767</td><td>11.572751</td></tr><tr><td>1</td><td>10</td><td>10</td><td>40</td><td>10:10:00</td><td>16.970563</td><td>23.126979</td></tr></tbody></table></div>"
      ],
      "text/plain": [
       "shape: (6, 7)\n",
       "┌───────┬──────┬────────┬────────┬──────────┬─────────────────────┬─────────────────────┐\n",
       "│ class ┆ hour ┆ minute ┆ volume ┆ time     ┆ volume_ewmstd_span2 ┆ volume_ewmstd_span3 │\n",
       "│ ---   ┆ ---  ┆ ---    ┆ ---    ┆ ---      ┆ ---                 ┆ ---                 │\n",
       "│ i64   ┆ i64  ┆ i64    ┆ i64    ┆ time     ┆ f64                 ┆ f64                 │\n",
       "╞═══════╪══════╪════════╪════════╪══════════╪═════════════════════╪═════════════════════╡\n",
       "│ 0     ┆ 12   ┆ 20     ┆ 150    ┆ 12:20:00 ┆ 88.388348           ┆ 87.372356           │\n",
       "│ 1     ┆ 10   ┆ 5      ┆ 16     ┆ 10:05:00 ┆ 11.313708           ┆ 7.406561            │\n",
       "│ 0     ┆ 13   ┆ 15     ┆ 2      ┆ 13:15:00 ┆ 104.651804          ┆ 86.312969           │\n",
       "│ 1     ┆ 10   ┆ 15     ┆ 5      ┆ 10:15:00 ┆ 24.748737           ┆ 20.209616           │\n",
       "│ 0     ┆ 12   ┆ 12     ┆ 25     ┆ 12:12:00 ┆ 17.67767            ┆ 11.572751           │\n",
       "│ 1     ┆ 10   ┆ 10     ┆ 40     ┆ 10:10:00 ┆ 16.970563           ┆ 23.126979           │\n",
       "└───────┴──────┴────────┴────────┴──────────┴─────────────────────┴─────────────────────┘"
      ]
     },
     "execution_count": 32,
     "metadata": {},
     "output_type": "execute_result"
    }
   ],
   "source": [
    "import polars.datatypes as T\n",
    "from polars.testing import assert_frame_equal\n",
    "from tsuro.data_engineering import ewmstd\n",
    "\n",
    "volume_test = pl.Series(\n",
    "    \"volume_test\", [150.1,16.1,2.2,5.2,25.4,40.000002]\n",
    ")\n",
    "\n",
    "test_df = pl.DataFrame({\n",
    "    \"class\": [0,1,0,1,0,1],\n",
    "    \"hour\": [12,10,13,10,12,10],\n",
    "    \"minute\": [20,5,15,15,12,10],\n",
    "    \"volume\": [150,16,2,5,25,40]\n",
    "    }\n",
    ").with_columns(\n",
    "    pl.time(pl.col(\"hour\"), pl.col(\"minute\")).alias(\"time\")\n",
    ")\n",
    "\n",
    "test_df = ewmstd(\n",
    "        test_df,\n",
    "        ewmstd_cols=[\"volume\"],\n",
    "        spans=[2, 3],\n",
    "        partition_by=\"class\",\n",
    "        order_by=\"time\",\n",
    "    )\n",
    "\n",
    "#test_df.sort(by = [\"class\", \"time\"])\n",
    "test_df"
   ]
  },
  {
   "cell_type": "code",
   "execution_count": 14,
   "id": "7fb45f9e",
   "metadata": {},
   "outputs": [
    {
     "data": {
      "text/html": [
       "<div><style>\n",
       ".dataframe > thead > tr,\n",
       ".dataframe > tbody > tr {\n",
       "  text-align: right;\n",
       "  white-space: pre-wrap;\n",
       "}\n",
       "</style>\n",
       "<small>shape: (3, 6)</small><table border=\"1\" class=\"dataframe\"><thead><tr><th>class</th><th>hour</th><th>minute</th><th>volume</th><th>time</th><th>volume_ewma_span3</th></tr><tr><td>i64</td><td>i64</td><td>i64</td><td>i64</td><td>time</td><td>f64</td></tr></thead><tbody><tr><td>1</td><td>10</td><td>5</td><td>16</td><td>10:05:00</td><td>2.285714</td></tr><tr><td>1</td><td>10</td><td>10</td><td>40</td><td>10:10:00</td><td>13.714286</td></tr><tr><td>1</td><td>10</td><td>15</td><td>5</td><td>10:15:00</td><td>16.571429</td></tr></tbody></table></div>"
      ],
      "text/plain": [
       "shape: (3, 6)\n",
       "┌───────┬──────┬────────┬────────┬──────────┬───────────────────┐\n",
       "│ class ┆ hour ┆ minute ┆ volume ┆ time     ┆ volume_ewma_span3 │\n",
       "│ ---   ┆ ---  ┆ ---    ┆ ---    ┆ ---      ┆ ---               │\n",
       "│ i64   ┆ i64  ┆ i64    ┆ i64    ┆ time     ┆ f64               │\n",
       "╞═══════╪══════╪════════╪════════╪══════════╪═══════════════════╡\n",
       "│ 1     ┆ 10   ┆ 5      ┆ 16     ┆ 10:05:00 ┆ 2.285714          │\n",
       "│ 1     ┆ 10   ┆ 10     ┆ 40     ┆ 10:10:00 ┆ 13.714286         │\n",
       "│ 1     ┆ 10   ┆ 15     ┆ 5      ┆ 10:15:00 ┆ 16.571429         │\n",
       "└───────┴──────┴────────┴────────┴──────────┴───────────────────┘"
      ]
     },
     "execution_count": 14,
     "metadata": {},
     "output_type": "execute_result"
    }
   ],
   "source": [
    "from tsuro.data_engineering import ewma\n",
    "test_df = pl.DataFrame({\n",
    "    \"class\": [1,1,1],\n",
    "    \"hour\": [10,10,10],\n",
    "    \"minute\": [5,10,15],\n",
    "    \"volume\": [16,40,5]\n",
    "    }\n",
    ").with_columns(\n",
    "    pl.time(pl.col(\"hour\"), pl.col(\"minute\")).alias(\"time\")\n",
    ")\n",
    "\n",
    "test_df = ewma(\n",
    "        test_df,\n",
    "        ewma_cols=[\"volume\"],\n",
    "        spans=[3]\n",
    "    )\n",
    "test_df"
   ]
  },
  {
   "cell_type": "code",
   "execution_count": 29,
   "id": "c57ab1f3",
   "metadata": {},
   "outputs": [
    {
     "data": {
      "text/html": [
       "<div><style>\n",
       ".dataframe > thead > tr,\n",
       ".dataframe > tbody > tr {\n",
       "  text-align: right;\n",
       "  white-space: pre-wrap;\n",
       "}\n",
       "</style>\n",
       "<small>shape: (3, 6)</small><table border=\"1\" class=\"dataframe\"><thead><tr><th>class</th><th>hour</th><th>minute</th><th>volume</th><th>time</th><th>volume_ma</th></tr><tr><td>i64</td><td>i64</td><td>i64</td><td>i64</td><td>time</td><td>f64</td></tr></thead><tbody><tr><td>1</td><td>10</td><td>5</td><td>16</td><td>10:05:00</td><td>2.285714</td></tr><tr><td>1</td><td>10</td><td>10</td><td>40</td><td>10:10:00</td><td>13.714286</td></tr><tr><td>1</td><td>10</td><td>15</td><td>5</td><td>10:15:00</td><td>16.571429</td></tr></tbody></table></div>"
      ],
      "text/plain": [
       "shape: (3, 6)\n",
       "┌───────┬──────┬────────┬────────┬──────────┬───────────┐\n",
       "│ class ┆ hour ┆ minute ┆ volume ┆ time     ┆ volume_ma │\n",
       "│ ---   ┆ ---  ┆ ---    ┆ ---    ┆ ---      ┆ ---       │\n",
       "│ i64   ┆ i64  ┆ i64    ┆ i64    ┆ time     ┆ f64       │\n",
       "╞═══════╪══════╪════════╪════════╪══════════╪═══════════╡\n",
       "│ 1     ┆ 10   ┆ 5      ┆ 16     ┆ 10:05:00 ┆ 2.285714  │\n",
       "│ 1     ┆ 10   ┆ 10     ┆ 40     ┆ 10:10:00 ┆ 13.714286 │\n",
       "│ 1     ┆ 10   ┆ 15     ┆ 5      ┆ 10:15:00 ┆ 16.571429 │\n",
       "└───────┴──────┴────────┴────────┴──────────┴───────────┘"
      ]
     },
     "execution_count": 29,
     "metadata": {},
     "output_type": "execute_result"
    }
   ],
   "source": [
    "from tsuro.data_engineering import moving_average\n",
    "test_df = pl.DataFrame({\n",
    "    \"class\": [1,1,1],\n",
    "    \"hour\": [10,10,10],\n",
    "    \"minute\": [5,10,15],\n",
    "    \"volume\": [16,40,5]\n",
    "    }\n",
    ").with_columns(\n",
    "    pl.time(pl.col(\"hour\"), pl.col(\"minute\")).alias(\"time\")\n",
    ")\n",
    "\n",
    "test_df = moving_average(\n",
    "        test_df,\n",
    "        moving_avg_cols =[\"volume\"],\n",
    "        weights = [1/7,2/7,4/7]\n",
    "    )\n",
    "test_df"
   ]
  },
  {
   "cell_type": "code",
   "execution_count": 8,
   "id": "ff38e781",
   "metadata": {},
   "outputs": [
    {
     "data": {
      "text/html": [
       "<div><style>\n",
       ".dataframe > thead > tr,\n",
       ".dataframe > tbody > tr {\n",
       "  text-align: right;\n",
       "  white-space: pre-wrap;\n",
       "}\n",
       "</style>\n",
       "<small>shape: (6, 8)</small><table border=\"1\" class=\"dataframe\"><thead><tr><th>class</th><th>hour</th><th>minute</th><th>volume</th><th>time</th><th>volume_ewmstd_span2</th><th>volume_ewmstd_span3</th><th>volume_mvar</th></tr><tr><td>i64</td><td>i64</td><td>i64</td><td>i64</td><td>time</td><td>f64</td><td>f64</td><td>f64</td></tr></thead><tbody><tr><td>0</td><td>12</td><td>20</td><td>150</td><td>12:20:00</td><td>88.388348</td><td>87.372356</td><td>7633.928571</td></tr><tr><td>1</td><td>10</td><td>5</td><td>16</td><td>10:05:00</td><td>11.313708</td><td>7.406561</td><td>54.857143</td></tr><tr><td>0</td><td>13</td><td>15</td><td>2</td><td>13:15:00</td><td>104.651804</td><td>86.312969</td><td>7449.928571</td></tr><tr><td>1</td><td>10</td><td>15</td><td>5</td><td>10:15:00</td><td>24.748737</td><td>20.209616</td><td>408.428571</td></tr><tr><td>0</td><td>12</td><td>12</td><td>25</td><td>12:12:00</td><td>17.67767</td><td>11.572751</td><td>133.928571</td></tr><tr><td>1</td><td>10</td><td>10</td><td>40</td><td>10:10:00</td><td>16.970563</td><td>23.126979</td><td>534.857143</td></tr></tbody></table></div>"
      ],
      "text/plain": [
       "shape: (6, 8)\n",
       "┌───────┬──────┬────────┬────────┬──────────┬────────────────────┬───────────────────┬─────────────┐\n",
       "│ class ┆ hour ┆ minute ┆ volume ┆ time     ┆ volume_ewmstd_span ┆ volume_ewmstd_spa ┆ volume_mvar │\n",
       "│ ---   ┆ ---  ┆ ---    ┆ ---    ┆ ---      ┆ 2                  ┆ n3                ┆ ---         │\n",
       "│ i64   ┆ i64  ┆ i64    ┆ i64    ┆ time     ┆ ---                ┆ ---               ┆ f64         │\n",
       "│       ┆      ┆        ┆        ┆          ┆ f64                ┆ f64               ┆             │\n",
       "╞═══════╪══════╪════════╪════════╪══════════╪════════════════════╪═══════════════════╪═════════════╡\n",
       "│ 0     ┆ 12   ┆ 20     ┆ 150    ┆ 12:20:00 ┆ 88.388348          ┆ 87.372356         ┆ 7633.928571 │\n",
       "│ 1     ┆ 10   ┆ 5      ┆ 16     ┆ 10:05:00 ┆ 11.313708          ┆ 7.406561          ┆ 54.857143   │\n",
       "│ 0     ┆ 13   ┆ 15     ┆ 2      ┆ 13:15:00 ┆ 104.651804         ┆ 86.312969         ┆ 7449.928571 │\n",
       "│ 1     ┆ 10   ┆ 15     ┆ 5      ┆ 10:15:00 ┆ 24.748737          ┆ 20.209616         ┆ 408.428571  │\n",
       "│ 0     ┆ 12   ┆ 12     ┆ 25     ┆ 12:12:00 ┆ 17.67767           ┆ 11.572751         ┆ 133.928571  │\n",
       "│ 1     ┆ 10   ┆ 10     ┆ 40     ┆ 10:10:00 ┆ 16.970563          ┆ 23.126979         ┆ 534.857143  │\n",
       "└───────┴──────┴────────┴────────┴──────────┴────────────────────┴───────────────────┴─────────────┘"
      ]
     },
     "execution_count": 8,
     "metadata": {},
     "output_type": "execute_result"
    }
   ],
   "source": [
    "from tsuro.data_engineering import moving_variance\n",
    "\n",
    "test_df = moving_variance(\n",
    "    test_df,\n",
    "    moving_var_cols = \"volume\",\n",
    "    weights = [1/7,2/7,4/7],\n",
    "    partition_by = \"class\",\n",
    "    order_by = \"time\",\n",
    "    unbiased = True,\n",
    "    ddof = 1\n",
    ")\n",
    "test_df"
   ]
  },
  {
   "cell_type": "code",
   "execution_count": 3,
   "id": "63fcbcfd",
   "metadata": {},
   "outputs": [
    {
     "data": {
      "text/html": [
       "<div><style>\n",
       ".dataframe > thead > tr,\n",
       ".dataframe > tbody > tr {\n",
       "  text-align: right;\n",
       "  white-space: pre-wrap;\n",
       "}\n",
       "</style>\n",
       "<small>shape: (66_577, 7)</small><table border=\"1\" class=\"dataframe\"><thead><tr><th></th><th>time</th><th>price</th><th>volume</th><th>dollar_value</th><th>market</th><th>condition</th></tr><tr><td>i64</td><td>str</td><td>f64</td><td>i64</td><td>f64</td><td>str</td><td>str</td></tr></thead><tbody><tr><td>0</td><td>&quot;6/10/2021 17:00&quot;</td><td>100.08</td><td>12904</td><td>1.2914e6</td><td>&quot;ASX&quot;</td><td>&quot;ET XT&quot;</td></tr><tr><td>1</td><td>&quot;6/10/2021 16:54&quot;</td><td>100.08</td><td>19280</td><td>1929542.4</td><td>&quot;ASX&quot;</td><td>&quot;ET XT&quot;</td></tr><tr><td>2</td><td>&quot;6/10/2021 16:47&quot;</td><td>100.3127</td><td>18517</td><td>1.8575e6</td><td>&quot;CXA&quot;</td><td>&quot;SX XT&quot;</td></tr><tr><td>3</td><td>&quot;6/10/2021 16:46&quot;</td><td>100.08</td><td>5364</td><td>536829.12</td><td>&quot;CXA&quot;</td><td>null</td></tr><tr><td>4</td><td>&quot;6/10/2021 16:45&quot;</td><td>100.08</td><td>24624</td><td>2.4644e6</td><td>&quot;ASX&quot;</td><td>&quot;ET XT&quot;</td></tr><tr><td>&hellip;</td><td>&hellip;</td><td>&hellip;</td><td>&hellip;</td><td>&hellip;</td><td>&hellip;</td><td>&hellip;</td></tr><tr><td>66572</td><td>&quot;6/10/2021 7:05&quot;</td><td>95.01</td><td>6000</td><td>570060.0</td><td>&quot;ASX&quot;</td><td>&quot;EC XT&quot;</td></tr><tr><td>66573</td><td>&quot;6/10/2021 7:05&quot;</td><td>94.01</td><td>1200</td><td>112812.0</td><td>&quot;ASX&quot;</td><td>&quot;EC&quot;</td></tr><tr><td>66574</td><td>&quot;6/10/2021 7:05&quot;</td><td>94.01</td><td>18700</td><td>1.757987e6</td><td>&quot;ASX&quot;</td><td>&quot;EC XT&quot;</td></tr><tr><td>66575</td><td>&quot;6/10/2021 7:05&quot;</td><td>94.0</td><td>1200</td><td>112800.0</td><td>&quot;ASX&quot;</td><td>&quot;EC&quot;</td></tr><tr><td>66576</td><td>&quot;6/10/2021 7:05&quot;</td><td>92.01</td><td>12000</td><td>1.10412e6</td><td>&quot;ASX&quot;</td><td>&quot;EC XT&quot;</td></tr></tbody></table></div>"
      ],
      "text/plain": [
       "shape: (66_577, 7)\n",
       "┌───────┬─────────────────┬──────────┬────────┬──────────────┬────────┬───────────┐\n",
       "│       ┆ time            ┆ price    ┆ volume ┆ dollar_value ┆ market ┆ condition │\n",
       "│ ---   ┆ ---             ┆ ---      ┆ ---    ┆ ---          ┆ ---    ┆ ---       │\n",
       "│ i64   ┆ str             ┆ f64      ┆ i64    ┆ f64          ┆ str    ┆ str       │\n",
       "╞═══════╪═════════════════╪══════════╪════════╪══════════════╪════════╪═══════════╡\n",
       "│ 0     ┆ 6/10/2021 17:00 ┆ 100.08   ┆ 12904  ┆ 1.2914e6     ┆ ASX    ┆ ET XT     │\n",
       "│ 1     ┆ 6/10/2021 16:54 ┆ 100.08   ┆ 19280  ┆ 1929542.4    ┆ ASX    ┆ ET XT     │\n",
       "│ 2     ┆ 6/10/2021 16:47 ┆ 100.3127 ┆ 18517  ┆ 1.8575e6     ┆ CXA    ┆ SX XT     │\n",
       "│ 3     ┆ 6/10/2021 16:46 ┆ 100.08   ┆ 5364   ┆ 536829.12    ┆ CXA    ┆ null      │\n",
       "│ 4     ┆ 6/10/2021 16:45 ┆ 100.08   ┆ 24624  ┆ 2.4644e6     ┆ ASX    ┆ ET XT     │\n",
       "│ …     ┆ …               ┆ …        ┆ …      ┆ …            ┆ …      ┆ …         │\n",
       "│ 66572 ┆ 6/10/2021 7:05  ┆ 95.01    ┆ 6000   ┆ 570060.0     ┆ ASX    ┆ EC XT     │\n",
       "│ 66573 ┆ 6/10/2021 7:05  ┆ 94.01    ┆ 1200   ┆ 112812.0     ┆ ASX    ┆ EC        │\n",
       "│ 66574 ┆ 6/10/2021 7:05  ┆ 94.01    ┆ 18700  ┆ 1.757987e6   ┆ ASX    ┆ EC XT     │\n",
       "│ 66575 ┆ 6/10/2021 7:05  ┆ 94.0     ┆ 1200   ┆ 112800.0     ┆ ASX    ┆ EC        │\n",
       "│ 66576 ┆ 6/10/2021 7:05  ┆ 92.01    ┆ 12000  ┆ 1.10412e6    ┆ ASX    ┆ EC XT     │\n",
       "└───────┴─────────────────┴──────────┴────────┴──────────────┴────────┴───────────┘"
      ]
     },
     "execution_count": 3,
     "metadata": {},
     "output_type": "execute_result"
    }
   ],
   "source": [
    "trades_df = load_cba_trades(lazy=False)\n",
    "trades_df"
   ]
  },
  {
   "cell_type": "code",
   "execution_count": 4,
   "id": "1700b5a3",
   "metadata": {},
   "outputs": [
    {
     "data": {
      "text/html": [
       "<div><style>\n",
       ".dataframe > thead > tr,\n",
       ".dataframe > tbody > tr {\n",
       "  text-align: right;\n",
       "  white-space: pre-wrap;\n",
       "}\n",
       "</style>\n",
       "<small>shape: (66_542, 12)</small><table border=\"1\" class=\"dataframe\"><thead><tr><th></th><th>date_time</th><th>price</th><th>volume</th><th>dollar_value</th><th>market</th><th>condition</th><th>time</th><th>hour</th><th>minute</th><th>second</th><th>millisecond</th></tr><tr><td>i64</td><td>datetime[μs]</td><td>f64</td><td>i64</td><td>f64</td><td>str</td><td>str</td><td>time</td><td>i8</td><td>i8</td><td>i8</td><td>i32</td></tr></thead><tbody><tr><td>0</td><td>2021-06-10 17:00:00</td><td>100.08</td><td>12904</td><td>1.2914e6</td><td>&quot;ASX&quot;</td><td>&quot;ET XT&quot;</td><td>17:00:00</td><td>17</td><td>0</td><td>0</td><td>0</td></tr><tr><td>1</td><td>2021-06-10 16:54:00</td><td>100.08</td><td>19280</td><td>1929542.4</td><td>&quot;ASX&quot;</td><td>&quot;ET XT&quot;</td><td>16:54:00</td><td>16</td><td>54</td><td>0</td><td>0</td></tr><tr><td>2</td><td>2021-06-10 16:47:00</td><td>100.3127</td><td>18517</td><td>1.8575e6</td><td>&quot;CXA&quot;</td><td>&quot;SX XT&quot;</td><td>16:47:00</td><td>16</td><td>47</td><td>0</td><td>0</td></tr><tr><td>3</td><td>2021-06-10 16:46:00</td><td>100.08</td><td>5364</td><td>536829.12</td><td>&quot;CXA&quot;</td><td>null</td><td>16:46:00</td><td>16</td><td>46</td><td>0</td><td>0</td></tr><tr><td>4</td><td>2021-06-10 16:45:00</td><td>100.08</td><td>24624</td><td>2.4644e6</td><td>&quot;ASX&quot;</td><td>&quot;ET XT&quot;</td><td>16:45:00</td><td>16</td><td>45</td><td>0</td><td>0</td></tr><tr><td>&hellip;</td><td>&hellip;</td><td>&hellip;</td><td>&hellip;</td><td>&hellip;</td><td>&hellip;</td><td>&hellip;</td><td>&hellip;</td><td>&hellip;</td><td>&hellip;</td><td>&hellip;</td><td>&hellip;</td></tr><tr><td>66537</td><td>2021-06-10 10:02:00</td><td>102.0</td><td>4</td><td>408.0</td><td>&quot;ASX&quot;</td><td>null</td><td>10:02:00</td><td>10</td><td>2</td><td>0</td><td>0</td></tr><tr><td>66538</td><td>2021-06-10 10:02:00</td><td>102.0</td><td>30</td><td>3060.0</td><td>&quot;ASX&quot;</td><td>null</td><td>10:02:00</td><td>10</td><td>2</td><td>0</td><td>0</td></tr><tr><td>66539</td><td>2021-06-10 10:02:00</td><td>102.0</td><td>215</td><td>21930.0</td><td>&quot;ASX&quot;</td><td>null</td><td>10:02:00</td><td>10</td><td>2</td><td>0</td><td>0</td></tr><tr><td>66540</td><td>2021-06-10 10:02:00</td><td>102.0</td><td>233</td><td>23766.0</td><td>&quot;ASX&quot;</td><td>null</td><td>10:02:00</td><td>10</td><td>2</td><td>0</td><td>0</td></tr><tr><td>66541</td><td>2021-06-10 10:02:00</td><td>102.0</td><td>29</td><td>2958.0</td><td>&quot;ASX&quot;</td><td>null</td><td>10:02:00</td><td>10</td><td>2</td><td>0</td><td>0</td></tr></tbody></table></div>"
      ],
      "text/plain": [
       "shape: (66_542, 12)\n",
       "┌───────┬─────────────────────┬──────────┬────────┬───┬──────┬────────┬────────┬─────────────┐\n",
       "│       ┆ date_time           ┆ price    ┆ volume ┆ … ┆ hour ┆ minute ┆ second ┆ millisecond │\n",
       "│ ---   ┆ ---                 ┆ ---      ┆ ---    ┆   ┆ ---  ┆ ---    ┆ ---    ┆ ---         │\n",
       "│ i64   ┆ datetime[μs]        ┆ f64      ┆ i64    ┆   ┆ i8   ┆ i8     ┆ i8     ┆ i32         │\n",
       "╞═══════╪═════════════════════╪══════════╪════════╪═══╪══════╪════════╪════════╪═════════════╡\n",
       "│ 0     ┆ 2021-06-10 17:00:00 ┆ 100.08   ┆ 12904  ┆ … ┆ 17   ┆ 0      ┆ 0      ┆ 0           │\n",
       "│ 1     ┆ 2021-06-10 16:54:00 ┆ 100.08   ┆ 19280  ┆ … ┆ 16   ┆ 54     ┆ 0      ┆ 0           │\n",
       "│ 2     ┆ 2021-06-10 16:47:00 ┆ 100.3127 ┆ 18517  ┆ … ┆ 16   ┆ 47     ┆ 0      ┆ 0           │\n",
       "│ 3     ┆ 2021-06-10 16:46:00 ┆ 100.08   ┆ 5364   ┆ … ┆ 16   ┆ 46     ┆ 0      ┆ 0           │\n",
       "│ 4     ┆ 2021-06-10 16:45:00 ┆ 100.08   ┆ 24624  ┆ … ┆ 16   ┆ 45     ┆ 0      ┆ 0           │\n",
       "│ …     ┆ …                   ┆ …        ┆ …      ┆ … ┆ …    ┆ …      ┆ …      ┆ …           │\n",
       "│ 66537 ┆ 2021-06-10 10:02:00 ┆ 102.0    ┆ 4      ┆ … ┆ 10   ┆ 2      ┆ 0      ┆ 0           │\n",
       "│ 66538 ┆ 2021-06-10 10:02:00 ┆ 102.0    ┆ 30     ┆ … ┆ 10   ┆ 2      ┆ 0      ┆ 0           │\n",
       "│ 66539 ┆ 2021-06-10 10:02:00 ┆ 102.0    ┆ 215    ┆ … ┆ 10   ┆ 2      ┆ 0      ┆ 0           │\n",
       "│ 66540 ┆ 2021-06-10 10:02:00 ┆ 102.0    ┆ 233    ┆ … ┆ 10   ┆ 2      ┆ 0      ┆ 0           │\n",
       "│ 66541 ┆ 2021-06-10 10:02:00 ┆ 102.0    ┆ 29     ┆ … ┆ 10   ┆ 2      ┆ 0      ┆ 0           │\n",
       "└───────┴─────────────────────┴──────────┴────────┴───┴──────┴────────┴────────┴─────────────┘"
      ]
     },
     "execution_count": 4,
     "metadata": {},
     "output_type": "execute_result"
    }
   ],
   "source": [
    "# Convert \"Time\" Column into Datetime Object\n",
    "trades_df = cast_strings_to_datetime(trades_df, columns = [\"time\"])\n",
    "trades_df = trades_df.rename(\n",
    "   {\"time\": \"date_time\"}\n",
    ")\n",
    "\n",
    "\n",
    "# Grab Time Fields\n",
    "trades_df = trades_df.with_columns(\n",
    "    pl.col(\"date_time\").dt.time().alias(\"time\"),\n",
    "    pl.col(\"date_time\").dt.hour().alias(\"hour\"),\n",
    "    pl.col(\"date_time\").dt.minute().alias(\"minute\"),\n",
    "    pl.col(\"date_time\").dt.second().alias(\"second\"),\n",
    "    pl.col(\"date_time\").dt.millisecond().alias(\"millisecond\")\n",
    ")\n",
    "\n",
    "# Market Hours\n",
    "trades_df = trades_df.filter(\n",
    "    pl.col(\"time\").is_between(\n",
    "        time(9,0), time(17,0)\n",
    "    )\n",
    ")\n",
    "trades_df"
   ]
  },
  {
   "cell_type": "code",
   "execution_count": 5,
   "id": "778a22a9",
   "metadata": {},
   "outputs": [
    {
     "data": {
      "text/html": [
       "<div><style>\n",
       ".dataframe > thead > tr,\n",
       ".dataframe > tbody > tr {\n",
       "  text-align: right;\n",
       "  white-space: pre-wrap;\n",
       "}\n",
       "</style>\n",
       "<small>shape: (66_542, 12)</small><table border=\"1\" class=\"dataframe\"><thead><tr><th></th><th>date_time</th><th>price</th><th>volume</th><th>dollar_value</th><th>market</th><th>condition</th><th>time</th><th>hour</th><th>minute</th><th>second</th><th>millisecond</th></tr><tr><td>i64</td><td>datetime[μs]</td><td>f64</td><td>i64</td><td>f64</td><td>str</td><td>str</td><td>time</td><td>i8</td><td>i8</td><td>i8</td><td>i32</td></tr></thead><tbody><tr><td>66070</td><td>2021-06-10 10:02:00</td><td>102.93</td><td>29</td><td>2984.97</td><td>&quot;ASX&quot;</td><td>null</td><td>10:02:00</td><td>10</td><td>2</td><td>0</td><td>0</td></tr><tr><td>66071</td><td>2021-06-10 10:02:00</td><td>102.93</td><td>7</td><td>720.51</td><td>&quot;ASX&quot;</td><td>null</td><td>10:02:00</td><td>10</td><td>2</td><td>0</td><td>0</td></tr><tr><td>66072</td><td>2021-06-10 10:02:00</td><td>102.93</td><td>7</td><td>720.51</td><td>&quot;ASX&quot;</td><td>null</td><td>10:02:00</td><td>10</td><td>2</td><td>0</td><td>0</td></tr><tr><td>66073</td><td>2021-06-10 10:02:00</td><td>102.94</td><td>7</td><td>720.58</td><td>&quot;ASX&quot;</td><td>null</td><td>10:02:00</td><td>10</td><td>2</td><td>0</td><td>0</td></tr><tr><td>66074</td><td>2021-06-10 10:02:00</td><td>102.94</td><td>7</td><td>720.58</td><td>&quot;ASX&quot;</td><td>null</td><td>10:02:00</td><td>10</td><td>2</td><td>0</td><td>0</td></tr><tr><td>&hellip;</td><td>&hellip;</td><td>&hellip;</td><td>&hellip;</td><td>&hellip;</td><td>&hellip;</td><td>&hellip;</td><td>&hellip;</td><td>&hellip;</td><td>&hellip;</td><td>&hellip;</td><td>&hellip;</td></tr><tr><td>4</td><td>2021-06-10 16:45:00</td><td>100.08</td><td>24624</td><td>2.4644e6</td><td>&quot;ASX&quot;</td><td>&quot;ET XT&quot;</td><td>16:45:00</td><td>16</td><td>45</td><td>0</td><td>0</td></tr><tr><td>3</td><td>2021-06-10 16:46:00</td><td>100.08</td><td>5364</td><td>536829.12</td><td>&quot;CXA&quot;</td><td>null</td><td>16:46:00</td><td>16</td><td>46</td><td>0</td><td>0</td></tr><tr><td>2</td><td>2021-06-10 16:47:00</td><td>100.3127</td><td>18517</td><td>1.8575e6</td><td>&quot;CXA&quot;</td><td>&quot;SX XT&quot;</td><td>16:47:00</td><td>16</td><td>47</td><td>0</td><td>0</td></tr><tr><td>1</td><td>2021-06-10 16:54:00</td><td>100.08</td><td>19280</td><td>1929542.4</td><td>&quot;ASX&quot;</td><td>&quot;ET XT&quot;</td><td>16:54:00</td><td>16</td><td>54</td><td>0</td><td>0</td></tr><tr><td>0</td><td>2021-06-10 17:00:00</td><td>100.08</td><td>12904</td><td>1.2914e6</td><td>&quot;ASX&quot;</td><td>&quot;ET XT&quot;</td><td>17:00:00</td><td>17</td><td>0</td><td>0</td><td>0</td></tr></tbody></table></div>"
      ],
      "text/plain": [
       "shape: (66_542, 12)\n",
       "┌───────┬─────────────────────┬──────────┬────────┬───┬──────┬────────┬────────┬─────────────┐\n",
       "│       ┆ date_time           ┆ price    ┆ volume ┆ … ┆ hour ┆ minute ┆ second ┆ millisecond │\n",
       "│ ---   ┆ ---                 ┆ ---      ┆ ---    ┆   ┆ ---  ┆ ---    ┆ ---    ┆ ---         │\n",
       "│ i64   ┆ datetime[μs]        ┆ f64      ┆ i64    ┆   ┆ i8   ┆ i8     ┆ i8     ┆ i32         │\n",
       "╞═══════╪═════════════════════╪══════════╪════════╪═══╪══════╪════════╪════════╪═════════════╡\n",
       "│ 66070 ┆ 2021-06-10 10:02:00 ┆ 102.93   ┆ 29     ┆ … ┆ 10   ┆ 2      ┆ 0      ┆ 0           │\n",
       "│ 66071 ┆ 2021-06-10 10:02:00 ┆ 102.93   ┆ 7      ┆ … ┆ 10   ┆ 2      ┆ 0      ┆ 0           │\n",
       "│ 66072 ┆ 2021-06-10 10:02:00 ┆ 102.93   ┆ 7      ┆ … ┆ 10   ┆ 2      ┆ 0      ┆ 0           │\n",
       "│ 66073 ┆ 2021-06-10 10:02:00 ┆ 102.94   ┆ 7      ┆ … ┆ 10   ┆ 2      ┆ 0      ┆ 0           │\n",
       "│ 66074 ┆ 2021-06-10 10:02:00 ┆ 102.94   ┆ 7      ┆ … ┆ 10   ┆ 2      ┆ 0      ┆ 0           │\n",
       "│ …     ┆ …                   ┆ …        ┆ …      ┆ … ┆ …    ┆ …      ┆ …      ┆ …           │\n",
       "│ 4     ┆ 2021-06-10 16:45:00 ┆ 100.08   ┆ 24624  ┆ … ┆ 16   ┆ 45     ┆ 0      ┆ 0           │\n",
       "│ 3     ┆ 2021-06-10 16:46:00 ┆ 100.08   ┆ 5364   ┆ … ┆ 16   ┆ 46     ┆ 0      ┆ 0           │\n",
       "│ 2     ┆ 2021-06-10 16:47:00 ┆ 100.3127 ┆ 18517  ┆ … ┆ 16   ┆ 47     ┆ 0      ┆ 0           │\n",
       "│ 1     ┆ 2021-06-10 16:54:00 ┆ 100.08   ┆ 19280  ┆ … ┆ 16   ┆ 54     ┆ 0      ┆ 0           │\n",
       "│ 0     ┆ 2021-06-10 17:00:00 ┆ 100.08   ┆ 12904  ┆ … ┆ 17   ┆ 0      ┆ 0      ┆ 0           │\n",
       "└───────┴─────────────────────┴──────────┴────────┴───┴──────┴────────┴────────┴─────────────┘"
      ]
     },
     "execution_count": 5,
     "metadata": {},
     "output_type": "execute_result"
    }
   ],
   "source": [
    "# Sort by Time\n",
    "trades_df = trades_df.sort(by = \"time\")\n",
    "trades_df"
   ]
  },
  {
   "cell_type": "code",
   "execution_count": 6,
   "id": "8f72999f",
   "metadata": {},
   "outputs": [
    {
     "data": {
      "text/html": [
       "<div><style>\n",
       ".dataframe > thead > tr,\n",
       ".dataframe > tbody > tr {\n",
       "  text-align: right;\n",
       "  white-space: pre-wrap;\n",
       "}\n",
       "</style>\n",
       "<small>shape: (66_542, 14)</small><table border=\"1\" class=\"dataframe\"><thead><tr><th></th><th>date_time</th><th>price</th><th>volume</th><th>dollar_value</th><th>market</th><th>condition</th><th>time</th><th>hour</th><th>minute</th><th>second</th><th>millisecond</th><th>rank</th><th>class</th></tr><tr><td>i64</td><td>datetime[μs]</td><td>f64</td><td>i64</td><td>f64</td><td>str</td><td>str</td><td>time</td><td>i8</td><td>i8</td><td>i8</td><td>i32</td><td>u32</td><td>i32</td></tr></thead><tbody><tr><td>66070</td><td>2021-06-10 10:02:00</td><td>102.93</td><td>29</td><td>2984.97</td><td>&quot;ASX&quot;</td><td>null</td><td>10:02:00</td><td>10</td><td>2</td><td>0</td><td>0</td><td>1</td><td>1</td></tr><tr><td>66071</td><td>2021-06-10 10:02:00</td><td>102.93</td><td>7</td><td>720.51</td><td>&quot;ASX&quot;</td><td>null</td><td>10:02:00</td><td>10</td><td>2</td><td>0</td><td>0</td><td>2</td><td>0</td></tr><tr><td>66072</td><td>2021-06-10 10:02:00</td><td>102.93</td><td>7</td><td>720.51</td><td>&quot;ASX&quot;</td><td>null</td><td>10:02:00</td><td>10</td><td>2</td><td>0</td><td>0</td><td>3</td><td>1</td></tr><tr><td>66073</td><td>2021-06-10 10:02:00</td><td>102.94</td><td>7</td><td>720.58</td><td>&quot;ASX&quot;</td><td>null</td><td>10:02:00</td><td>10</td><td>2</td><td>0</td><td>0</td><td>4</td><td>0</td></tr><tr><td>66074</td><td>2021-06-10 10:02:00</td><td>102.94</td><td>7</td><td>720.58</td><td>&quot;ASX&quot;</td><td>null</td><td>10:02:00</td><td>10</td><td>2</td><td>0</td><td>0</td><td>5</td><td>1</td></tr><tr><td>&hellip;</td><td>&hellip;</td><td>&hellip;</td><td>&hellip;</td><td>&hellip;</td><td>&hellip;</td><td>&hellip;</td><td>&hellip;</td><td>&hellip;</td><td>&hellip;</td><td>&hellip;</td><td>&hellip;</td><td>&hellip;</td><td>&hellip;</td></tr><tr><td>4</td><td>2021-06-10 16:45:00</td><td>100.08</td><td>24624</td><td>2.4644e6</td><td>&quot;ASX&quot;</td><td>&quot;ET XT&quot;</td><td>16:45:00</td><td>16</td><td>45</td><td>0</td><td>0</td><td>66538</td><td>0</td></tr><tr><td>3</td><td>2021-06-10 16:46:00</td><td>100.08</td><td>5364</td><td>536829.12</td><td>&quot;CXA&quot;</td><td>null</td><td>16:46:00</td><td>16</td><td>46</td><td>0</td><td>0</td><td>66539</td><td>1</td></tr><tr><td>2</td><td>2021-06-10 16:47:00</td><td>100.3127</td><td>18517</td><td>1.8575e6</td><td>&quot;CXA&quot;</td><td>&quot;SX XT&quot;</td><td>16:47:00</td><td>16</td><td>47</td><td>0</td><td>0</td><td>66540</td><td>0</td></tr><tr><td>1</td><td>2021-06-10 16:54:00</td><td>100.08</td><td>19280</td><td>1929542.4</td><td>&quot;ASX&quot;</td><td>&quot;ET XT&quot;</td><td>16:54:00</td><td>16</td><td>54</td><td>0</td><td>0</td><td>66541</td><td>1</td></tr><tr><td>0</td><td>2021-06-10 17:00:00</td><td>100.08</td><td>12904</td><td>1.2914e6</td><td>&quot;ASX&quot;</td><td>&quot;ET XT&quot;</td><td>17:00:00</td><td>17</td><td>0</td><td>0</td><td>0</td><td>66542</td><td>0</td></tr></tbody></table></div>"
      ],
      "text/plain": [
       "shape: (66_542, 14)\n",
       "┌───────┬─────────────────────┬──────────┬────────┬───┬────────┬─────────────┬───────┬───────┐\n",
       "│       ┆ date_time           ┆ price    ┆ volume ┆ … ┆ second ┆ millisecond ┆ rank  ┆ class │\n",
       "│ ---   ┆ ---                 ┆ ---      ┆ ---    ┆   ┆ ---    ┆ ---         ┆ ---   ┆ ---   │\n",
       "│ i64   ┆ datetime[μs]        ┆ f64      ┆ i64    ┆   ┆ i8     ┆ i32         ┆ u32   ┆ i32   │\n",
       "╞═══════╪═════════════════════╪══════════╪════════╪═══╪════════╪═════════════╪═══════╪═══════╡\n",
       "│ 66070 ┆ 2021-06-10 10:02:00 ┆ 102.93   ┆ 29     ┆ … ┆ 0      ┆ 0           ┆ 1     ┆ 1     │\n",
       "│ 66071 ┆ 2021-06-10 10:02:00 ┆ 102.93   ┆ 7      ┆ … ┆ 0      ┆ 0           ┆ 2     ┆ 0     │\n",
       "│ 66072 ┆ 2021-06-10 10:02:00 ┆ 102.93   ┆ 7      ┆ … ┆ 0      ┆ 0           ┆ 3     ┆ 1     │\n",
       "│ 66073 ┆ 2021-06-10 10:02:00 ┆ 102.94   ┆ 7      ┆ … ┆ 0      ┆ 0           ┆ 4     ┆ 0     │\n",
       "│ 66074 ┆ 2021-06-10 10:02:00 ┆ 102.94   ┆ 7      ┆ … ┆ 0      ┆ 0           ┆ 5     ┆ 1     │\n",
       "│ …     ┆ …                   ┆ …        ┆ …      ┆ … ┆ …      ┆ …           ┆ …     ┆ …     │\n",
       "│ 4     ┆ 2021-06-10 16:45:00 ┆ 100.08   ┆ 24624  ┆ … ┆ 0      ┆ 0           ┆ 66538 ┆ 0     │\n",
       "│ 3     ┆ 2021-06-10 16:46:00 ┆ 100.08   ┆ 5364   ┆ … ┆ 0      ┆ 0           ┆ 66539 ┆ 1     │\n",
       "│ 2     ┆ 2021-06-10 16:47:00 ┆ 100.3127 ┆ 18517  ┆ … ┆ 0      ┆ 0           ┆ 66540 ┆ 0     │\n",
       "│ 1     ┆ 2021-06-10 16:54:00 ┆ 100.08   ┆ 19280  ┆ … ┆ 0      ┆ 0           ┆ 66541 ┆ 1     │\n",
       "│ 0     ┆ 2021-06-10 17:00:00 ┆ 100.08   ┆ 12904  ┆ … ┆ 0      ┆ 0           ┆ 66542 ┆ 0     │\n",
       "└───────┴─────────────────────┴──────────┴────────┴───┴────────┴─────────────┴───────┴───────┘"
      ]
     },
     "execution_count": 6,
     "metadata": {},
     "output_type": "execute_result"
    }
   ],
   "source": [
    "trades_df = trades_df.with_columns(\n",
    "    pl.col(\"date_time\").rank(method = \"ordinal\").alias(\"rank\")\n",
    ")\n",
    "trades_df = trades_df.with_columns(\n",
    "    pl.when(\n",
    "        pl.col(\"rank\") % 2 == 0\n",
    "    ).then(0).otherwise(1).alias(\"class\")\n",
    ")\n",
    "trades_df"
   ]
  },
  {
   "cell_type": "code",
   "execution_count": 7,
   "id": "3b98fb0a",
   "metadata": {},
   "outputs": [
    {
     "data": {
      "text/plain": [
       "['',\n",
       " 'date_time',\n",
       " 'price',\n",
       " 'volume',\n",
       " 'dollar_value',\n",
       " 'market',\n",
       " 'condition',\n",
       " 'time',\n",
       " 'hour',\n",
       " 'minute',\n",
       " 'second',\n",
       " 'millisecond',\n",
       " 'rank',\n",
       " 'class']"
      ]
     },
     "execution_count": 7,
     "metadata": {},
     "output_type": "execute_result"
    }
   ],
   "source": [
    "trades_df.columns"
   ]
  },
  {
   "cell_type": "code",
   "execution_count": 8,
   "id": "ea511164",
   "metadata": {},
   "outputs": [
    {
     "data": {
      "text/html": [
       "<div><style>\n",
       ".dataframe > thead > tr,\n",
       ".dataframe > tbody > tr {\n",
       "  text-align: right;\n",
       "  white-space: pre-wrap;\n",
       "}\n",
       "</style>\n",
       "<small>shape: (3, 3)</small><table border=\"1\" class=\"dataframe\"><thead><tr><th>time</th><th>price</th><th>volume</th></tr><tr><td>str</td><td>f64</td><td>i64</td></tr></thead><tbody><tr><td>&quot;10:00&quot;</td><td>50.5</td><td>120</td></tr><tr><td>&quot;10:05&quot;</td><td>60.1</td><td>300</td></tr><tr><td>&quot;10:10&quot;</td><td>55.2</td><td>200</td></tr></tbody></table></div>"
      ],
      "text/plain": [
       "shape: (3, 3)\n",
       "┌───────┬───────┬────────┐\n",
       "│ time  ┆ price ┆ volume │\n",
       "│ ---   ┆ ---   ┆ ---    │\n",
       "│ str   ┆ f64   ┆ i64    │\n",
       "╞═══════╪═══════╪════════╡\n",
       "│ 10:00 ┆ 50.5  ┆ 120    │\n",
       "│ 10:05 ┆ 60.1  ┆ 300    │\n",
       "│ 10:10 ┆ 55.2  ┆ 200    │\n",
       "└───────┴───────┴────────┘"
      ]
     },
     "execution_count": 8,
     "metadata": {},
     "output_type": "execute_result"
    }
   ],
   "source": [
    "df = pl.DataFrame({\"time\": [\"10:00\", \"10:05\", \"10:10\"], \"price\": [50.50, 60.10, 55.20], \"volume\": [120, 300, 200]})\n",
    "df"
   ]
  },
  {
   "cell_type": "code",
   "execution_count": 9,
   "id": "a9a99aa8",
   "metadata": {},
   "outputs": [],
   "source": [
    "# trades_df = trades_df.with_columns(\n",
    "#     pl.lit(np.random.rand(trades_df.shape[0])).alias(\"random\")\n",
    "# )\n",
    "\n",
    "# trades_df = trades_df.with_columns(\n",
    "#     pl.col(\"random\").round().alias(\"class\")\n",
    "# ).cast(\n",
    "#     {\"class\": T.Int32}\n",
    "# )\n",
    "\n",
    "# trades_df"
   ]
  },
  {
   "cell_type": "code",
   "execution_count": 10,
   "id": "017553bb",
   "metadata": {},
   "outputs": [],
   "source": [
    "from tsuro.data_structures import StandardBars\n",
    "\n",
    "bars = StandardBars(datetime_col = \"date_time\", price_col = \"price\", volume_col = \"volume\")"
   ]
  },
  {
   "cell_type": "code",
   "execution_count": 11,
   "id": "6047560e",
   "metadata": {},
   "outputs": [
    {
     "data": {
      "text/html": [
       "<div><style>\n",
       ".dataframe > thead > tr,\n",
       ".dataframe > tbody > tr {\n",
       "  text-align: right;\n",
       "  white-space: pre-wrap;\n",
       "}\n",
       "</style>\n",
       "<small>shape: (63, 7)</small><table border=\"1\" class=\"dataframe\"><thead><tr><th>bar_index</th><th>open_price</th><th>high_price</th><th>low_price</th><th>close_price</th><th>datetime_start</th><th>datetime_end</th></tr><tr><td>i32</td><td>f64</td><td>f64</td><td>f64</td><td>f64</td><td>datetime[μs]</td><td>datetime[μs]</td></tr></thead><tbody><tr><td>15</td><td>100.3</td><td>100.33</td><td>99.97</td><td>100.0</td><td>2021-06-10 10:58:00</td><td>2021-06-10 11:03:00</td></tr><tr><td>30</td><td>99.93</td><td>99.95</td><td>99.64</td><td>99.65</td><td>2021-06-10 13:24:00</td><td>2021-06-10 13:36:00</td></tr><tr><td>27</td><td>99.92</td><td>99.98</td><td>99.77</td><td>99.91</td><td>2021-06-10 12:44:00</td><td>2021-06-10 12:55:00</td></tr><tr><td>3</td><td>102.5</td><td>102.59</td><td>102.01</td><td>102.07</td><td>2021-06-10 10:05:00</td><td>2021-06-10 10:10:00</td></tr><tr><td>24</td><td>100.205</td><td>100.25</td><td>99.84</td><td>99.88</td><td>2021-06-10 12:03:00</td><td>2021-06-10 12:12:00</td></tr><tr><td>&hellip;</td><td>&hellip;</td><td>&hellip;</td><td>&hellip;</td><td>&hellip;</td><td>&hellip;</td><td>&hellip;</td></tr><tr><td>47</td><td>100.08</td><td>100.08</td><td>100.08</td><td>100.08</td><td>2021-06-10 16:10:00</td><td>2021-06-10 16:10:00</td></tr><tr><td>38</td><td>99.98</td><td>100.01</td><td>99.84</td><td>100.01</td><td>2021-06-10 15:02:00</td><td>2021-06-10 15:14:00</td></tr><tr><td>62</td><td>100.3127</td><td>104.33</td><td>99.9673</td><td>99.9673</td><td>2021-06-10 16:22:00</td><td>2021-06-10 16:26:00</td></tr><tr><td>50</td><td>100.08</td><td>100.08</td><td>100.08</td><td>100.08</td><td>2021-06-10 16:10:00</td><td>2021-06-10 16:10:00</td></tr><tr><td>41</td><td>99.94</td><td>100.14</td><td>99.9</td><td>100.13</td><td>2021-06-10 15:34:00</td><td>2021-06-10 15:41:00</td></tr></tbody></table></div>"
      ],
      "text/plain": [
       "shape: (63, 7)\n",
       "┌───────────┬────────────┬────────────┬───────────┬─────────────┬─────────────────┬────────────────┐\n",
       "│ bar_index ┆ open_price ┆ high_price ┆ low_price ┆ close_price ┆ datetime_start  ┆ datetime_end   │\n",
       "│ ---       ┆ ---        ┆ ---        ┆ ---       ┆ ---         ┆ ---             ┆ ---            │\n",
       "│ i32       ┆ f64        ┆ f64        ┆ f64       ┆ f64         ┆ datetime[μs]    ┆ datetime[μs]   │\n",
       "╞═══════════╪════════════╪════════════╪═══════════╪═════════════╪═════════════════╪════════════════╡\n",
       "│ 15        ┆ 100.3      ┆ 100.33     ┆ 99.97     ┆ 100.0       ┆ 2021-06-10      ┆ 2021-06-10     │\n",
       "│           ┆            ┆            ┆           ┆             ┆ 10:58:00        ┆ 11:03:00       │\n",
       "│ 30        ┆ 99.93      ┆ 99.95      ┆ 99.64     ┆ 99.65       ┆ 2021-06-10      ┆ 2021-06-10     │\n",
       "│           ┆            ┆            ┆           ┆             ┆ 13:24:00        ┆ 13:36:00       │\n",
       "│ 27        ┆ 99.92      ┆ 99.98      ┆ 99.77     ┆ 99.91       ┆ 2021-06-10      ┆ 2021-06-10     │\n",
       "│           ┆            ┆            ┆           ┆             ┆ 12:44:00        ┆ 12:55:00       │\n",
       "│ 3         ┆ 102.5      ┆ 102.59     ┆ 102.01    ┆ 102.07      ┆ 2021-06-10      ┆ 2021-06-10     │\n",
       "│           ┆            ┆            ┆           ┆             ┆ 10:05:00        ┆ 10:10:00       │\n",
       "│ 24        ┆ 100.205    ┆ 100.25     ┆ 99.84     ┆ 99.88       ┆ 2021-06-10      ┆ 2021-06-10     │\n",
       "│           ┆            ┆            ┆           ┆             ┆ 12:03:00        ┆ 12:12:00       │\n",
       "│ …         ┆ …          ┆ …          ┆ …         ┆ …           ┆ …               ┆ …              │\n",
       "│ 47        ┆ 100.08     ┆ 100.08     ┆ 100.08    ┆ 100.08      ┆ 2021-06-10      ┆ 2021-06-10     │\n",
       "│           ┆            ┆            ┆           ┆             ┆ 16:10:00        ┆ 16:10:00       │\n",
       "│ 38        ┆ 99.98      ┆ 100.01     ┆ 99.84     ┆ 100.01      ┆ 2021-06-10      ┆ 2021-06-10     │\n",
       "│           ┆            ┆            ┆           ┆             ┆ 15:02:00        ┆ 15:14:00       │\n",
       "│ 62        ┆ 100.3127   ┆ 104.33     ┆ 99.9673   ┆ 99.9673     ┆ 2021-06-10      ┆ 2021-06-10     │\n",
       "│           ┆            ┆            ┆           ┆             ┆ 16:22:00        ┆ 16:26:00       │\n",
       "│ 50        ┆ 100.08     ┆ 100.08     ┆ 100.08    ┆ 100.08      ┆ 2021-06-10      ┆ 2021-06-10     │\n",
       "│           ┆            ┆            ┆           ┆             ┆ 16:10:00        ┆ 16:10:00       │\n",
       "│ 41        ┆ 99.94      ┆ 100.14     ┆ 99.9      ┆ 100.13      ┆ 2021-06-10      ┆ 2021-06-10     │\n",
       "│           ┆            ┆            ┆           ┆             ┆ 15:34:00        ┆ 15:41:00       │\n",
       "└───────────┴────────────┴────────────┴───────────┴─────────────┴─────────────────┴────────────────┘"
      ]
     },
     "execution_count": 11,
     "metadata": {},
     "output_type": "execute_result"
    }
   ],
   "source": [
    "pdf = bars.create_volume_bars(\n",
    "    trades_df\n",
    ")\n",
    "pdf"
   ]
  },
  {
   "cell_type": "code",
   "execution_count": 12,
   "id": "72e13f93",
   "metadata": {},
   "outputs": [],
   "source": [
    "# trades_df = trades_df.with_columns(\n",
    "#         pl.col(\"volume\")\n",
    "#         .ewm_mean(span=3, adjust = True, min_periods = 1)\n",
    "#         .over(partition_by = None, order_by = \"rank\")\n",
    "#         .alias(\n",
    "#             f\"volume_ewma_span3\"\n",
    "#         )\n",
    "# )\n",
    "# trades_df"
   ]
  },
  {
   "cell_type": "code",
   "execution_count": 13,
   "id": "daa2a9ec",
   "metadata": {},
   "outputs": [
    {
     "data": {
      "text/html": [
       "<div><style>\n",
       ".dataframe > thead > tr,\n",
       ".dataframe > tbody > tr {\n",
       "  text-align: right;\n",
       "  white-space: pre-wrap;\n",
       "}\n",
       "</style>\n",
       "<small>shape: (66_542, 18)</small><table border=\"1\" class=\"dataframe\"><thead><tr><th></th><th>date_time</th><th>price</th><th>volume</th><th>dollar_value</th><th>market</th><th>condition</th><th>time</th><th>hour</th><th>minute</th><th>second</th><th>millisecond</th><th>rank</th><th>class</th><th>price_ewma_span3</th><th>price_ewma_span4</th><th>volume_ewma_span3</th><th>volume_ewma_span4</th></tr><tr><td>i64</td><td>datetime[μs]</td><td>f64</td><td>i64</td><td>f64</td><td>str</td><td>str</td><td>time</td><td>i8</td><td>i8</td><td>i8</td><td>i32</td><td>u32</td><td>i32</td><td>f64</td><td>f64</td><td>f64</td><td>f64</td></tr></thead><tbody><tr><td>66070</td><td>2021-06-10 10:02:00</td><td>102.93</td><td>29</td><td>2984.97</td><td>&quot;ASX&quot;</td><td>null</td><td>10:02:00</td><td>10</td><td>2</td><td>0</td><td>0</td><td>1</td><td>1</td><td>14.704286</td><td>10.217316</td><td>4.142857</td><td>2.878676</td></tr><tr><td>66071</td><td>2021-06-10 10:02:00</td><td>102.93</td><td>7</td><td>720.51</td><td>&quot;ASX&quot;</td><td>null</td><td>10:02:00</td><td>10</td><td>2</td><td>0</td><td>0</td><td>2</td><td>0</td><td>44.112857</td><td>27.246176</td><td>6.142857</td><td>4.036765</td></tr><tr><td>66072</td><td>2021-06-10 10:02:00</td><td>102.93</td><td>7</td><td>720.51</td><td>&quot;ASX&quot;</td><td>null</td><td>10:02:00</td><td>10</td><td>2</td><td>0</td><td>0</td><td>3</td><td>1</td><td>102.93</td><td>55.62761</td><td>10.142857</td><td>5.966912</td></tr><tr><td>66073</td><td>2021-06-10 10:02:00</td><td>102.94</td><td>7</td><td>720.58</td><td>&quot;ASX&quot;</td><td>null</td><td>10:02:00</td><td>10</td><td>2</td><td>0</td><td>0</td><td>4</td><td>0</td><td>102.935714</td><td>102.934596</td><td>7.0</td><td>9.183824</td></tr><tr><td>66074</td><td>2021-06-10 10:02:00</td><td>102.94</td><td>7</td><td>720.58</td><td>&quot;ASX&quot;</td><td>null</td><td>10:02:00</td><td>10</td><td>2</td><td>0</td><td>0</td><td>5</td><td>1</td><td>102.938571</td><td>102.937353</td><td>7.0</td><td>7.0</td></tr><tr><td>&hellip;</td><td>&hellip;</td><td>&hellip;</td><td>&hellip;</td><td>&hellip;</td><td>&hellip;</td><td>&hellip;</td><td>&hellip;</td><td>&hellip;</td><td>&hellip;</td><td>&hellip;</td><td>&hellip;</td><td>&hellip;</td><td>&hellip;</td><td>&hellip;</td><td>&hellip;</td><td>&hellip;</td><td>&hellip;</td></tr><tr><td>4</td><td>2021-06-10 16:45:00</td><td>100.08</td><td>24624</td><td>2.4644e6</td><td>&quot;ASX&quot;</td><td>&quot;ET XT&quot;</td><td>16:45:00</td><td>16</td><td>45</td><td>0</td><td>0</td><td>66538</td><td>0</td><td>100.08</td><td>100.08</td><td>17972.142857</td><td>18009.264706</td></tr><tr><td>3</td><td>2021-06-10 16:46:00</td><td>100.08</td><td>5364</td><td>536829.12</td><td>&quot;CXA&quot;</td><td>null</td><td>16:46:00</td><td>16</td><td>46</td><td>0</td><td>0</td><td>66539</td><td>1</td><td>100.08</td><td>100.08</td><td>10402.285714</td><td>11895.716912</td></tr><tr><td>2</td><td>2021-06-10 16:47:00</td><td>100.3127</td><td>18517</td><td>1.8575e6</td><td>&quot;CXA&quot;</td><td>&quot;SX XT&quot;</td><td>16:47:00</td><td>16</td><td>47</td><td>0</td><td>0</td><td>66540</td><td>0</td><td>100.212971</td><td>100.186939</td><td>15631.428571</td><td>14272.165441</td></tr><tr><td>1</td><td>2021-06-10 16:54:00</td><td>100.08</td><td>19280</td><td>1929542.4</td><td>&quot;ASX&quot;</td><td>&quot;ET XT&quot;</td><td>16:54:00</td><td>16</td><td>54</td><td>0</td><td>0</td><td>66541</td><td>1</td><td>100.146486</td><td>100.144164</td><td>17074.0</td><td>17297.805147</td></tr><tr><td>0</td><td>2021-06-10 17:00:00</td><td>100.08</td><td>12904</td><td>1.2914e6</td><td>&quot;ASX&quot;</td><td>&quot;ET XT&quot;</td><td>17:00:00</td><td>17</td><td>0</td><td>0</td><td>0</td><td>66542</td><td>0</td><td>100.113243</td><td>100.118498</td><td>15527.571429</td><td>14842.253676</td></tr></tbody></table></div>"
      ],
      "text/plain": [
       "shape: (66_542, 18)\n",
       "┌───────┬─────────────┬──────────┬────────┬───┬─────────────┬────────────┬────────────┬────────────┐\n",
       "│       ┆ date_time   ┆ price    ┆ volume ┆ … ┆ price_ewma_ ┆ price_ewma ┆ volume_ewm ┆ volume_ewm │\n",
       "│ ---   ┆ ---         ┆ ---      ┆ ---    ┆   ┆ span3       ┆ _span4     ┆ a_span3    ┆ a_span4    │\n",
       "│ i64   ┆ datetime[μs ┆ f64      ┆ i64    ┆   ┆ ---         ┆ ---        ┆ ---        ┆ ---        │\n",
       "│       ┆ ]           ┆          ┆        ┆   ┆ f64         ┆ f64        ┆ f64        ┆ f64        │\n",
       "╞═══════╪═════════════╪══════════╪════════╪═══╪═════════════╪════════════╪════════════╪════════════╡\n",
       "│ 66070 ┆ 2021-06-10  ┆ 102.93   ┆ 29     ┆ … ┆ 14.704286   ┆ 10.217316  ┆ 4.142857   ┆ 2.878676   │\n",
       "│       ┆ 10:02:00    ┆          ┆        ┆   ┆             ┆            ┆            ┆            │\n",
       "│ 66071 ┆ 2021-06-10  ┆ 102.93   ┆ 7      ┆ … ┆ 44.112857   ┆ 27.246176  ┆ 6.142857   ┆ 4.036765   │\n",
       "│       ┆ 10:02:00    ┆          ┆        ┆   ┆             ┆            ┆            ┆            │\n",
       "│ 66072 ┆ 2021-06-10  ┆ 102.93   ┆ 7      ┆ … ┆ 102.93      ┆ 55.62761   ┆ 10.142857  ┆ 5.966912   │\n",
       "│       ┆ 10:02:00    ┆          ┆        ┆   ┆             ┆            ┆            ┆            │\n",
       "│ 66073 ┆ 2021-06-10  ┆ 102.94   ┆ 7      ┆ … ┆ 102.935714  ┆ 102.934596 ┆ 7.0        ┆ 9.183824   │\n",
       "│       ┆ 10:02:00    ┆          ┆        ┆   ┆             ┆            ┆            ┆            │\n",
       "│ 66074 ┆ 2021-06-10  ┆ 102.94   ┆ 7      ┆ … ┆ 102.938571  ┆ 102.937353 ┆ 7.0        ┆ 7.0        │\n",
       "│       ┆ 10:02:00    ┆          ┆        ┆   ┆             ┆            ┆            ┆            │\n",
       "│ …     ┆ …           ┆ …        ┆ …      ┆ … ┆ …           ┆ …          ┆ …          ┆ …          │\n",
       "│ 4     ┆ 2021-06-10  ┆ 100.08   ┆ 24624  ┆ … ┆ 100.08      ┆ 100.08     ┆ 17972.1428 ┆ 18009.2647 │\n",
       "│       ┆ 16:45:00    ┆          ┆        ┆   ┆             ┆            ┆ 57         ┆ 06         │\n",
       "│ 3     ┆ 2021-06-10  ┆ 100.08   ┆ 5364   ┆ … ┆ 100.08      ┆ 100.08     ┆ 10402.2857 ┆ 11895.7169 │\n",
       "│       ┆ 16:46:00    ┆          ┆        ┆   ┆             ┆            ┆ 14         ┆ 12         │\n",
       "│ 2     ┆ 2021-06-10  ┆ 100.3127 ┆ 18517  ┆ … ┆ 100.212971  ┆ 100.186939 ┆ 15631.4285 ┆ 14272.1654 │\n",
       "│       ┆ 16:47:00    ┆          ┆        ┆   ┆             ┆            ┆ 71         ┆ 41         │\n",
       "│ 1     ┆ 2021-06-10  ┆ 100.08   ┆ 19280  ┆ … ┆ 100.146486  ┆ 100.144164 ┆ 17074.0    ┆ 17297.8051 │\n",
       "│       ┆ 16:54:00    ┆          ┆        ┆   ┆             ┆            ┆            ┆ 47         │\n",
       "│ 0     ┆ 2021-06-10  ┆ 100.08   ┆ 12904  ┆ … ┆ 100.113243  ┆ 100.118498 ┆ 15527.5714 ┆ 14842.2536 │\n",
       "│       ┆ 17:00:00    ┆          ┆        ┆   ┆             ┆            ┆ 29         ┆ 76         │\n",
       "└───────┴─────────────┴──────────┴────────┴───┴─────────────┴────────────┴────────────┴────────────┘"
      ]
     },
     "execution_count": 13,
     "metadata": {},
     "output_type": "execute_result"
    }
   ],
   "source": [
    "from tsuro.data_engineering import ewma\n",
    "\n",
    "trades_df = ewma(\n",
    "    trades_df,\n",
    "    ewma_cols = [\"price\", \"volume\"],\n",
    "    spans = [3,4],\n",
    "    order_by = \"rank\",\n",
    ")\n",
    "trades_df"
   ]
  },
  {
   "cell_type": "code",
   "execution_count": 14,
   "id": "2001ac76",
   "metadata": {},
   "outputs": [
    {
     "data": {
      "text/html": [
       "<div><style>\n",
       ".dataframe > thead > tr,\n",
       ".dataframe > tbody > tr {\n",
       "  text-align: right;\n",
       "  white-space: pre-wrap;\n",
       "}\n",
       "</style>\n",
       "<small>shape: (47_415, 5)</small><table border=\"1\" class=\"dataframe\"><thead><tr><th>rank</th><th>date_time</th><th>price</th><th>volume</th><th>volume_ewma_span3</th></tr><tr><td>u32</td><td>datetime[μs]</td><td>f64</td><td>i64</td><td>f64</td></tr></thead><tbody><tr><td>18772</td><td>2021-06-10 11:00:00</td><td>100.15</td><td>15</td><td>31.142857</td></tr><tr><td>18773</td><td>2021-06-10 11:00:00</td><td>100.15</td><td>2</td><td>8.428571</td></tr><tr><td>18774</td><td>2021-06-10 11:00:00</td><td>100.15</td><td>16</td><td>11.857143</td></tr><tr><td>18775</td><td>2021-06-10 11:00:00</td><td>100.16</td><td>50</td><td>33.428571</td></tr><tr><td>18776</td><td>2021-06-10 11:00:00</td><td>100.16</td><td>4</td><td>18.857143</td></tr><tr><td>&hellip;</td><td>&hellip;</td><td>&hellip;</td><td>&hellip;</td><td>&hellip;</td></tr><tr><td>66182</td><td>2021-06-10 15:59:00</td><td>99.95</td><td>1</td><td>3.857143</td></tr><tr><td>66183</td><td>2021-06-10 15:59:00</td><td>99.95</td><td>4</td><td>3.428571</td></tr><tr><td>66184</td><td>2021-06-10 15:59:00</td><td>99.935</td><td>60</td><td>35.571429</td></tr><tr><td>66185</td><td>2021-06-10 15:59:00</td><td>99.935</td><td>44</td><td>42.857143</td></tr><tr><td>66186</td><td>2021-06-10 15:59:00</td><td>99.92</td><td>16</td><td>30.285714</td></tr></tbody></table></div>"
      ],
      "text/plain": [
       "shape: (47_415, 5)\n",
       "┌───────┬─────────────────────┬────────┬────────┬───────────────────┐\n",
       "│ rank  ┆ date_time           ┆ price  ┆ volume ┆ volume_ewma_span3 │\n",
       "│ ---   ┆ ---                 ┆ ---    ┆ ---    ┆ ---               │\n",
       "│ u32   ┆ datetime[μs]        ┆ f64    ┆ i64    ┆ f64               │\n",
       "╞═══════╪═════════════════════╪════════╪════════╪═══════════════════╡\n",
       "│ 18772 ┆ 2021-06-10 11:00:00 ┆ 100.15 ┆ 15     ┆ 31.142857         │\n",
       "│ 18773 ┆ 2021-06-10 11:00:00 ┆ 100.15 ┆ 2      ┆ 8.428571          │\n",
       "│ 18774 ┆ 2021-06-10 11:00:00 ┆ 100.15 ┆ 16     ┆ 11.857143         │\n",
       "│ 18775 ┆ 2021-06-10 11:00:00 ┆ 100.16 ┆ 50     ┆ 33.428571         │\n",
       "│ 18776 ┆ 2021-06-10 11:00:00 ┆ 100.16 ┆ 4      ┆ 18.857143         │\n",
       "│ …     ┆ …                   ┆ …      ┆ …      ┆ …                 │\n",
       "│ 66182 ┆ 2021-06-10 15:59:00 ┆ 99.95  ┆ 1      ┆ 3.857143          │\n",
       "│ 66183 ┆ 2021-06-10 15:59:00 ┆ 99.95  ┆ 4      ┆ 3.428571          │\n",
       "│ 66184 ┆ 2021-06-10 15:59:00 ┆ 99.935 ┆ 60     ┆ 35.571429         │\n",
       "│ 66185 ┆ 2021-06-10 15:59:00 ┆ 99.935 ┆ 44     ┆ 42.857143         │\n",
       "│ 66186 ┆ 2021-06-10 15:59:00 ┆ 99.92  ┆ 16     ┆ 30.285714         │\n",
       "└───────┴─────────────────────┴────────┴────────┴───────────────────┘"
      ]
     },
     "execution_count": 14,
     "metadata": {},
     "output_type": "execute_result"
    }
   ],
   "source": [
    "trades_masked_df = trades_df.filter(\n",
    "    pl.col(\"time\").is_between(\n",
    "        time(11,0), time(16,0)\n",
    "    )\n",
    ")\n",
    "trades_filtered_df = trades_masked_df.select(\n",
    "    \"rank\",\n",
    "    \"date_time\",\n",
    "    \"price\",\n",
    "    \"volume\",\n",
    "    \"volume_ewma_span3\"\n",
    ")\n",
    "trades_filtered_df"
   ]
  },
  {
   "cell_type": "code",
   "execution_count": 15,
   "id": "0877f05a",
   "metadata": {},
   "outputs": [
    {
     "data": {
      "text/html": [
       "<div><style>\n",
       ".dataframe > thead > tr,\n",
       ".dataframe > tbody > tr {\n",
       "  text-align: right;\n",
       "  white-space: pre-wrap;\n",
       "}\n",
       "</style>\n",
       "<small>shape: (47_415, 9)</small><table border=\"1\" class=\"dataframe\"><thead><tr><th>rank</th><th>date_time</th><th>price</th><th>volume</th><th>volume_ewma_span3</th><th>volume_var_unnormed</th><th>volume_var_normed</th><th>volume_var_unnormed_unbias</th><th>volume_var_normed_unbias</th></tr><tr><td>u32</td><td>datetime[μs]</td><td>f64</td><td>i64</td><td>f64</td><td>f64</td><td>f64</td><td>f64</td><td>f64</td></tr></thead><tbody><tr><td>18772</td><td>2021-06-10 11:00:00</td><td>100.15</td><td>15</td><td>31.142857</td><td>31.25</td><td>31.25</td><td>51.136364</td><td>51.136364</td></tr><tr><td>18773</td><td>2021-06-10 11:00:00</td><td>100.15</td><td>2</td><td>8.428571</td><td>28.805556</td><td>28.805556</td><td>47.136364</td><td>47.136364</td></tr><tr><td>18774</td><td>2021-06-10 11:00:00</td><td>100.15</td><td>16</td><td>11.857143</td><td>42.138889</td><td>42.138889</td><td>68.954545</td><td>68.954545</td></tr><tr><td>18775</td><td>2021-06-10 11:00:00</td><td>100.16</td><td>50</td><td>33.428571</td><td>395.555556</td><td>395.555556</td><td>647.272727</td><td>647.272727</td></tr><tr><td>18776</td><td>2021-06-10 11:00:00</td><td>100.16</td><td>4</td><td>18.857143</td><td>428.888889</td><td>428.888889</td><td>701.818182</td><td>701.818182</td></tr><tr><td>&hellip;</td><td>&hellip;</td><td>&hellip;</td><td>&hellip;</td><td>&hellip;</td><td>&hellip;</td><td>&hellip;</td><td>&hellip;</td><td>&hellip;</td></tr><tr><td>66182</td><td>2021-06-10 15:59:00</td><td>99.95</td><td>1</td><td>3.857143</td><td>13.888889</td><td>13.888889</td><td>22.727273</td><td>22.727273</td></tr><tr><td>66183</td><td>2021-06-10 15:59:00</td><td>99.95</td><td>4</td><td>3.428571</td><td>3.222222</td><td>3.222222</td><td>5.272727</td><td>5.272727</td></tr><tr><td>66184</td><td>2021-06-10 15:59:00</td><td>99.935</td><td>60</td><td>35.571429</td><td>813.25</td><td>813.25</td><td>1330.772727</td><td>1330.772727</td></tr><tr><td>66185</td><td>2021-06-10 15:59:00</td><td>99.935</td><td>44</td><td>42.857143</td><td>350.222222</td><td>350.222222</td><td>573.090909</td><td>573.090909</td></tr><tr><td>66186</td><td>2021-06-10 15:59:00</td><td>99.92</td><td>16</td><td>30.285714</td><td>306.222222</td><td>306.222222</td><td>501.090909</td><td>501.090909</td></tr></tbody></table></div>"
      ],
      "text/plain": [
       "shape: (47_415, 9)\n",
       "┌───────┬─────────────┬────────┬────────┬───┬─────────────┬─────────────┬─────────────┬────────────┐\n",
       "│ rank  ┆ date_time   ┆ price  ┆ volume ┆ … ┆ volume_var_ ┆ volume_var_ ┆ volume_var_ ┆ volume_var │\n",
       "│ ---   ┆ ---         ┆ ---    ┆ ---    ┆   ┆ unnormed    ┆ normed      ┆ unnormed_un ┆ _normed_un │\n",
       "│ u32   ┆ datetime[μs ┆ f64    ┆ i64    ┆   ┆ ---         ┆ ---         ┆ bias        ┆ bias       │\n",
       "│       ┆ ]           ┆        ┆        ┆   ┆ f64         ┆ f64         ┆ ---         ┆ ---        │\n",
       "│       ┆             ┆        ┆        ┆   ┆             ┆             ┆ f64         ┆ f64        │\n",
       "╞═══════╪═════════════╪════════╪════════╪═══╪═════════════╪═════════════╪═════════════╪════════════╡\n",
       "│ 18772 ┆ 2021-06-10  ┆ 100.15 ┆ 15     ┆ … ┆ 31.25       ┆ 31.25       ┆ 51.136364   ┆ 51.136364  │\n",
       "│       ┆ 11:00:00    ┆        ┆        ┆   ┆             ┆             ┆             ┆            │\n",
       "│ 18773 ┆ 2021-06-10  ┆ 100.15 ┆ 2      ┆ … ┆ 28.805556   ┆ 28.805556   ┆ 47.136364   ┆ 47.136364  │\n",
       "│       ┆ 11:00:00    ┆        ┆        ┆   ┆             ┆             ┆             ┆            │\n",
       "│ 18774 ┆ 2021-06-10  ┆ 100.15 ┆ 16     ┆ … ┆ 42.138889   ┆ 42.138889   ┆ 68.954545   ┆ 68.954545  │\n",
       "│       ┆ 11:00:00    ┆        ┆        ┆   ┆             ┆             ┆             ┆            │\n",
       "│ 18775 ┆ 2021-06-10  ┆ 100.16 ┆ 50     ┆ … ┆ 395.555556  ┆ 395.555556  ┆ 647.272727  ┆ 647.272727 │\n",
       "│       ┆ 11:00:00    ┆        ┆        ┆   ┆             ┆             ┆             ┆            │\n",
       "│ 18776 ┆ 2021-06-10  ┆ 100.16 ┆ 4      ┆ … ┆ 428.888889  ┆ 428.888889  ┆ 701.818182  ┆ 701.818182 │\n",
       "│       ┆ 11:00:00    ┆        ┆        ┆   ┆             ┆             ┆             ┆            │\n",
       "│ …     ┆ …           ┆ …      ┆ …      ┆ … ┆ …           ┆ …           ┆ …           ┆ …          │\n",
       "│ 66182 ┆ 2021-06-10  ┆ 99.95  ┆ 1      ┆ … ┆ 13.888889   ┆ 13.888889   ┆ 22.727273   ┆ 22.727273  │\n",
       "│       ┆ 15:59:00    ┆        ┆        ┆   ┆             ┆             ┆             ┆            │\n",
       "│ 66183 ┆ 2021-06-10  ┆ 99.95  ┆ 4      ┆ … ┆ 3.222222    ┆ 3.222222    ┆ 5.272727    ┆ 5.272727   │\n",
       "│       ┆ 15:59:00    ┆        ┆        ┆   ┆             ┆             ┆             ┆            │\n",
       "│ 66184 ┆ 2021-06-10  ┆ 99.935 ┆ 60     ┆ … ┆ 813.25      ┆ 813.25      ┆ 1330.772727 ┆ 1330.77272 │\n",
       "│       ┆ 15:59:00    ┆        ┆        ┆   ┆             ┆             ┆             ┆ 7          │\n",
       "│ 66185 ┆ 2021-06-10  ┆ 99.935 ┆ 44     ┆ … ┆ 350.222222  ┆ 350.222222  ┆ 573.090909  ┆ 573.090909 │\n",
       "│       ┆ 15:59:00    ┆        ┆        ┆   ┆             ┆             ┆             ┆            │\n",
       "│ 66186 ┆ 2021-06-10  ┆ 99.92  ┆ 16     ┆ … ┆ 306.222222  ┆ 306.222222  ┆ 501.090909  ┆ 501.090909 │\n",
       "│       ┆ 15:59:00    ┆        ┆        ┆   ┆             ┆             ┆             ┆            │\n",
       "└───────┴─────────────┴────────┴────────┴───┴─────────────┴─────────────┴─────────────┴────────────┘"
      ]
     },
     "execution_count": 15,
     "metadata": {},
     "output_type": "execute_result"
    }
   ],
   "source": [
    "from tsuro.data_engineering import moving_variance\n",
    "\n",
    "trades_var_df = moving_variance(\n",
    "    trades_filtered_df,\n",
    "    \"volume\",\n",
    "    weights = {\"var_unnormed\": [1,2,3], \"var_normed\": [1/6,2/6,3/6]},\n",
    "    unbiased = False\n",
    ")\n",
    "\n",
    "trades_var_df = moving_variance(\n",
    "    trades_var_df,\n",
    "    \"volume\",\n",
    "    weights = {\"var_unnormed_unbias\": [1,2,3], \"var_normed_unbias\": [1/6,2/6,3/6]},\n",
    "    unbiased = True\n",
    ")\n",
    "trades_var_df"
   ]
  },
  {
   "cell_type": "code",
   "execution_count": 16,
   "id": "ec3c88c5",
   "metadata": {},
   "outputs": [
    {
     "data": {
      "text/html": [
       "<div><style>\n",
       ".dataframe > thead > tr,\n",
       ".dataframe > tbody > tr {\n",
       "  text-align: right;\n",
       "  white-space: pre-wrap;\n",
       "}\n",
       "</style>\n",
       "<small>shape: (47_415, 9)</small><table border=\"1\" class=\"dataframe\"><thead><tr><th>rank</th><th>date_time</th><th>price</th><th>volume</th><th>volume_ewma_span3</th><th>price_ewmstd_span3</th><th>price_ewmstd_span4</th><th>volume_ewmstd_span3</th><th>volume_ewmstd_span4</th></tr><tr><td>u32</td><td>datetime[μs]</td><td>f64</td><td>i64</td><td>f64</td><td>f64</td><td>f64</td><td>f64</td><td>f64</td></tr></thead><tbody><tr><td>18772</td><td>2021-06-10 11:00:00</td><td>100.15</td><td>15</td><td>31.142857</td><td>0.0</td><td>0.0</td><td>6.943651</td><td>5.457052</td></tr><tr><td>18773</td><td>2021-06-10 11:00:00</td><td>100.15</td><td>2</td><td>8.428571</td><td>0.0</td><td>0.0</td><td>6.734771</td><td>5.397995</td></tr><tr><td>18774</td><td>2021-06-10 11:00:00</td><td>100.15</td><td>16</td><td>11.857143</td><td>0.0</td><td>0.0</td><td>8.259194</td><td>9.002617</td></tr><tr><td>18775</td><td>2021-06-10 11:00:00</td><td>100.16</td><td>50</td><td>33.428571</td><td>0.006547</td><td>0.006063</td><td>25.950502</td><td>24.005108</td></tr><tr><td>18776</td><td>2021-06-10 11:00:00</td><td>100.16</td><td>4</td><td>18.857143</td><td>0.004629</td><td>0.005368</td><td>26.6029</td><td>24.28087</td></tr><tr><td>&hellip;</td><td>&hellip;</td><td>&hellip;</td><td>&hellip;</td><td>&hellip;</td><td>&hellip;</td><td>&hellip;</td><td>&hellip;</td><td>&hellip;</td></tr><tr><td>66182</td><td>2021-06-10 15:59:00</td><td>99.95</td><td>1</td><td>3.857143</td><td>NaN</td><td>0.0</td><td>4.818121</td><td>4.50743</td></tr><tr><td>66183</td><td>2021-06-10 15:59:00</td><td>99.95</td><td>4</td><td>3.428571</td><td>NaN</td><td>0.0</td><td>2.220039</td><td>3.434344</td></tr><tr><td>66184</td><td>2021-06-10 15:59:00</td><td>99.935</td><td>60</td><td>35.571429</td><td>0.00982</td><td>0.009095</td><td>37.335353</td><td>34.326241</td></tr><tr><td>66185</td><td>2021-06-10 15:59:00</td><td>99.935</td><td>44</td><td>42.857143</td><td>0.006944</td><td>0.008051</td><td>22.92846</td><td>26.570079</td></tr><tr><td>66186</td><td>2021-06-10 15:59:00</td><td>99.92</td><td>16</td><td>30.285714</td><td>0.00982</td><td>0.011954</td><td>22.778436</td><td>23.087183</td></tr></tbody></table></div>"
      ],
      "text/plain": [
       "shape: (47_415, 9)\n",
       "┌───────┬─────────────┬────────┬────────┬───┬─────────────┬─────────────┬─────────────┬────────────┐\n",
       "│ rank  ┆ date_time   ┆ price  ┆ volume ┆ … ┆ price_ewmst ┆ price_ewmst ┆ volume_ewms ┆ volume_ewm │\n",
       "│ ---   ┆ ---         ┆ ---    ┆ ---    ┆   ┆ d_span3     ┆ d_span4     ┆ td_span3    ┆ std_span4  │\n",
       "│ u32   ┆ datetime[μs ┆ f64    ┆ i64    ┆   ┆ ---         ┆ ---         ┆ ---         ┆ ---        │\n",
       "│       ┆ ]           ┆        ┆        ┆   ┆ f64         ┆ f64         ┆ f64         ┆ f64        │\n",
       "╞═══════╪═════════════╪════════╪════════╪═══╪═════════════╪═════════════╪═════════════╪════════════╡\n",
       "│ 18772 ┆ 2021-06-10  ┆ 100.15 ┆ 15     ┆ … ┆ 0.0         ┆ 0.0         ┆ 6.943651    ┆ 5.457052   │\n",
       "│       ┆ 11:00:00    ┆        ┆        ┆   ┆             ┆             ┆             ┆            │\n",
       "│ 18773 ┆ 2021-06-10  ┆ 100.15 ┆ 2      ┆ … ┆ 0.0         ┆ 0.0         ┆ 6.734771    ┆ 5.397995   │\n",
       "│       ┆ 11:00:00    ┆        ┆        ┆   ┆             ┆             ┆             ┆            │\n",
       "│ 18774 ┆ 2021-06-10  ┆ 100.15 ┆ 16     ┆ … ┆ 0.0         ┆ 0.0         ┆ 8.259194    ┆ 9.002617   │\n",
       "│       ┆ 11:00:00    ┆        ┆        ┆   ┆             ┆             ┆             ┆            │\n",
       "│ 18775 ┆ 2021-06-10  ┆ 100.16 ┆ 50     ┆ … ┆ 0.006547    ┆ 0.006063    ┆ 25.950502   ┆ 24.005108  │\n",
       "│       ┆ 11:00:00    ┆        ┆        ┆   ┆             ┆             ┆             ┆            │\n",
       "│ 18776 ┆ 2021-06-10  ┆ 100.16 ┆ 4      ┆ … ┆ 0.004629    ┆ 0.005368    ┆ 26.6029     ┆ 24.28087   │\n",
       "│       ┆ 11:00:00    ┆        ┆        ┆   ┆             ┆             ┆             ┆            │\n",
       "│ …     ┆ …           ┆ …      ┆ …      ┆ … ┆ …           ┆ …           ┆ …           ┆ …          │\n",
       "│ 66182 ┆ 2021-06-10  ┆ 99.95  ┆ 1      ┆ … ┆ NaN         ┆ 0.0         ┆ 4.818121    ┆ 4.50743    │\n",
       "│       ┆ 15:59:00    ┆        ┆        ┆   ┆             ┆             ┆             ┆            │\n",
       "│ 66183 ┆ 2021-06-10  ┆ 99.95  ┆ 4      ┆ … ┆ NaN         ┆ 0.0         ┆ 2.220039    ┆ 3.434344   │\n",
       "│       ┆ 15:59:00    ┆        ┆        ┆   ┆             ┆             ┆             ┆            │\n",
       "│ 66184 ┆ 2021-06-10  ┆ 99.935 ┆ 60     ┆ … ┆ 0.00982     ┆ 0.009095    ┆ 37.335353   ┆ 34.326241  │\n",
       "│       ┆ 15:59:00    ┆        ┆        ┆   ┆             ┆             ┆             ┆            │\n",
       "│ 66185 ┆ 2021-06-10  ┆ 99.935 ┆ 44     ┆ … ┆ 0.006944    ┆ 0.008051    ┆ 22.92846    ┆ 26.570079  │\n",
       "│       ┆ 15:59:00    ┆        ┆        ┆   ┆             ┆             ┆             ┆            │\n",
       "│ 66186 ┆ 2021-06-10  ┆ 99.92  ┆ 16     ┆ … ┆ 0.00982     ┆ 0.011954    ┆ 22.778436   ┆ 23.087183  │\n",
       "│       ┆ 15:59:00    ┆        ┆        ┆   ┆             ┆             ┆             ┆            │\n",
       "└───────┴─────────────┴────────┴────────┴───┴─────────────┴─────────────┴─────────────┴────────────┘"
      ]
     },
     "execution_count": 16,
     "metadata": {},
     "output_type": "execute_result"
    }
   ],
   "source": [
    "from tsuro.data_engineering import ewmstd\n",
    "\n",
    "trades_ewm_df = ewmstd(\n",
    "    trades_filtered_df,\n",
    "    ewmstd_cols = [\"price\", \"volume\"],\n",
    "    spans = [3,4],\n",
    "    order_by = \"rank\",\n",
    ")\n",
    "trades_ewm_df"
   ]
  },
  {
   "cell_type": "code",
   "execution_count": 18,
   "id": "a83bf8fe",
   "metadata": {},
   "outputs": [],
   "source": [
    "from tsuro.data_engineering import moving_stddev\n",
    "\n",
    "trades_ewm_df = moving_stddev(\n",
    "    trades_ewm_df,\n",
    "    \"volume\",\n",
    "    weights = {\"ewmstd_test\": [1/7,2/7,4/7]},\n",
    "    unbiased = True\n",
    ")"
   ]
  },
  {
   "cell_type": "code",
   "execution_count": 19,
   "id": "c468d97d",
   "metadata": {},
   "outputs": [
    {
     "data": {
      "text/html": [
       "<div><style>\n",
       ".dataframe > thead > tr,\n",
       ".dataframe > tbody > tr {\n",
       "  text-align: right;\n",
       "  white-space: pre-wrap;\n",
       "}\n",
       "</style>\n",
       "<small>shape: (47_415, 10)</small><table border=\"1\" class=\"dataframe\"><thead><tr><th>rank</th><th>date_time</th><th>price</th><th>volume</th><th>volume_ewma_span3</th><th>price_ewmstd_span3</th><th>price_ewmstd_span4</th><th>volume_ewmstd_span3</th><th>volume_ewmstd_span4</th><th>volume_ewmstd_test</th></tr><tr><td>u32</td><td>datetime[μs]</td><td>f64</td><td>i64</td><td>f64</td><td>f64</td><td>f64</td><td>f64</td><td>f64</td><td>f64</td></tr></thead><tbody><tr><td>18772</td><td>2021-06-10 11:00:00</td><td>100.15</td><td>15</td><td>31.142857</td><td>0.0</td><td>0.0</td><td>6.943651</td><td>5.457052</td><td>6.943651</td></tr><tr><td>18773</td><td>2021-06-10 11:00:00</td><td>100.15</td><td>2</td><td>8.428571</td><td>0.0</td><td>0.0</td><td>6.734771</td><td>5.397995</td><td>6.734771</td></tr><tr><td>18774</td><td>2021-06-10 11:00:00</td><td>100.15</td><td>16</td><td>11.857143</td><td>0.0</td><td>0.0</td><td>8.259194</td><td>9.002617</td><td>8.259194</td></tr><tr><td>18775</td><td>2021-06-10 11:00:00</td><td>100.16</td><td>50</td><td>33.428571</td><td>0.006547</td><td>0.006063</td><td>25.950502</td><td>24.005108</td><td>25.950502</td></tr><tr><td>18776</td><td>2021-06-10 11:00:00</td><td>100.16</td><td>4</td><td>18.857143</td><td>0.004629</td><td>0.005368</td><td>26.6029</td><td>24.28087</td><td>26.6029</td></tr><tr><td>&hellip;</td><td>&hellip;</td><td>&hellip;</td><td>&hellip;</td><td>&hellip;</td><td>&hellip;</td><td>&hellip;</td><td>&hellip;</td><td>&hellip;</td><td>&hellip;</td></tr><tr><td>66182</td><td>2021-06-10 15:59:00</td><td>99.95</td><td>1</td><td>3.857143</td><td>NaN</td><td>0.0</td><td>4.818121</td><td>4.50743</td><td>4.818121</td></tr><tr><td>66183</td><td>2021-06-10 15:59:00</td><td>99.95</td><td>4</td><td>3.428571</td><td>NaN</td><td>0.0</td><td>2.220039</td><td>3.434344</td><td>2.220039</td></tr><tr><td>66184</td><td>2021-06-10 15:59:00</td><td>99.935</td><td>60</td><td>35.571429</td><td>0.00982</td><td>0.009095</td><td>37.335353</td><td>34.326241</td><td>37.335353</td></tr><tr><td>66185</td><td>2021-06-10 15:59:00</td><td>99.935</td><td>44</td><td>42.857143</td><td>0.006944</td><td>0.008051</td><td>22.92846</td><td>26.570079</td><td>22.92846</td></tr><tr><td>66186</td><td>2021-06-10 15:59:00</td><td>99.92</td><td>16</td><td>30.285714</td><td>0.00982</td><td>0.011954</td><td>22.778436</td><td>23.087183</td><td>22.778436</td></tr></tbody></table></div>"
      ],
      "text/plain": [
       "shape: (47_415, 10)\n",
       "┌───────┬─────────────┬────────┬────────┬───┬─────────────┬─────────────┬─────────────┬────────────┐\n",
       "│ rank  ┆ date_time   ┆ price  ┆ volume ┆ … ┆ price_ewmst ┆ volume_ewms ┆ volume_ewms ┆ volume_ewm │\n",
       "│ ---   ┆ ---         ┆ ---    ┆ ---    ┆   ┆ d_span4     ┆ td_span3    ┆ td_span4    ┆ std_test   │\n",
       "│ u32   ┆ datetime[μs ┆ f64    ┆ i64    ┆   ┆ ---         ┆ ---         ┆ ---         ┆ ---        │\n",
       "│       ┆ ]           ┆        ┆        ┆   ┆ f64         ┆ f64         ┆ f64         ┆ f64        │\n",
       "╞═══════╪═════════════╪════════╪════════╪═══╪═════════════╪═════════════╪═════════════╪════════════╡\n",
       "│ 18772 ┆ 2021-06-10  ┆ 100.15 ┆ 15     ┆ … ┆ 0.0         ┆ 6.943651    ┆ 5.457052    ┆ 6.943651   │\n",
       "│       ┆ 11:00:00    ┆        ┆        ┆   ┆             ┆             ┆             ┆            │\n",
       "│ 18773 ┆ 2021-06-10  ┆ 100.15 ┆ 2      ┆ … ┆ 0.0         ┆ 6.734771    ┆ 5.397995    ┆ 6.734771   │\n",
       "│       ┆ 11:00:00    ┆        ┆        ┆   ┆             ┆             ┆             ┆            │\n",
       "│ 18774 ┆ 2021-06-10  ┆ 100.15 ┆ 16     ┆ … ┆ 0.0         ┆ 8.259194    ┆ 9.002617    ┆ 8.259194   │\n",
       "│       ┆ 11:00:00    ┆        ┆        ┆   ┆             ┆             ┆             ┆            │\n",
       "│ 18775 ┆ 2021-06-10  ┆ 100.16 ┆ 50     ┆ … ┆ 0.006063    ┆ 25.950502   ┆ 24.005108   ┆ 25.950502  │\n",
       "│       ┆ 11:00:00    ┆        ┆        ┆   ┆             ┆             ┆             ┆            │\n",
       "│ 18776 ┆ 2021-06-10  ┆ 100.16 ┆ 4      ┆ … ┆ 0.005368    ┆ 26.6029     ┆ 24.28087    ┆ 26.6029    │\n",
       "│       ┆ 11:00:00    ┆        ┆        ┆   ┆             ┆             ┆             ┆            │\n",
       "│ …     ┆ …           ┆ …      ┆ …      ┆ … ┆ …           ┆ …           ┆ …           ┆ …          │\n",
       "│ 66182 ┆ 2021-06-10  ┆ 99.95  ┆ 1      ┆ … ┆ 0.0         ┆ 4.818121    ┆ 4.50743     ┆ 4.818121   │\n",
       "│       ┆ 15:59:00    ┆        ┆        ┆   ┆             ┆             ┆             ┆            │\n",
       "│ 66183 ┆ 2021-06-10  ┆ 99.95  ┆ 4      ┆ … ┆ 0.0         ┆ 2.220039    ┆ 3.434344    ┆ 2.220039   │\n",
       "│       ┆ 15:59:00    ┆        ┆        ┆   ┆             ┆             ┆             ┆            │\n",
       "│ 66184 ┆ 2021-06-10  ┆ 99.935 ┆ 60     ┆ … ┆ 0.009095    ┆ 37.335353   ┆ 34.326241   ┆ 37.335353  │\n",
       "│       ┆ 15:59:00    ┆        ┆        ┆   ┆             ┆             ┆             ┆            │\n",
       "│ 66185 ┆ 2021-06-10  ┆ 99.935 ┆ 44     ┆ … ┆ 0.008051    ┆ 22.92846    ┆ 26.570079   ┆ 22.92846   │\n",
       "│       ┆ 15:59:00    ┆        ┆        ┆   ┆             ┆             ┆             ┆            │\n",
       "│ 66186 ┆ 2021-06-10  ┆ 99.92  ┆ 16     ┆ … ┆ 0.011954    ┆ 22.778436   ┆ 23.087183   ┆ 22.778436  │\n",
       "│       ┆ 15:59:00    ┆        ┆        ┆   ┆             ┆             ┆             ┆            │\n",
       "└───────┴─────────────┴────────┴────────┴───┴─────────────┴─────────────┴─────────────┴────────────┘"
      ]
     },
     "execution_count": 19,
     "metadata": {},
     "output_type": "execute_result"
    }
   ],
   "source": [
    "trades_ewm_df"
   ]
  },
  {
   "cell_type": "code",
   "execution_count": 32,
   "id": "25d6bcf2",
   "metadata": {},
   "outputs": [
    {
     "data": {
      "text/plain": [
       "21.333333333333332"
      ]
     },
     "execution_count": 32,
     "metadata": {},
     "output_type": "execute_result"
    }
   ],
   "source": [
    "import numpy as np\n",
    "def weighted_avg(\n",
    "    values: list[float],\n",
    "    weights: list[float]\n",
    "):\n",
    "    dot = np.dot(values,weights)\n",
    "    total_weight = np.sum(weights)\n",
    "    \n",
    "    return dot/total_weight\n",
    "\n",
    "weighted_avg([16,50,4], [1,2,3])"
   ]
  },
  {
   "cell_type": "code",
   "execution_count": 35,
   "id": "bf613239",
   "metadata": {},
   "outputs": [
    {
     "name": "stdout",
     "output_type": "stream",
     "text": [
      "[ 28.440889 821.796889 300.432889]\n"
     ]
    },
    {
     "data": {
      "text/plain": [
       "428.888889"
      ]
     },
     "execution_count": 35,
     "metadata": {},
     "output_type": "execute_result"
    }
   ],
   "source": [
    "def weighted_var(\n",
    "    values: list[float],\n",
    "    weights: list[float],\n",
    "    mean: float\n",
    "):\n",
    "    values_diff = [value - mean for value in values]\n",
    "    sq_err = np.power(values_diff, 2)\n",
    "    print(sq_err)\n",
    "    dot = np.dot(sq_err, weights)\n",
    "    total_weight = np.sum(weights)\n",
    "    \n",
    "    return dot/total_weight\n",
    "\n",
    "weighted_var([16,50,4], [1,2,3], mean = 21.333)"
   ]
  },
  {
   "cell_type": "code",
   "execution_count": 24,
   "id": "c66cdf9c",
   "metadata": {},
   "outputs": [
    {
     "name": "stdout",
     "output_type": "stream",
     "text": [
      "[50, 16, 15.19753, 16, 2, 37.59259]\n",
      "Triple 1: [50, 16, 15.19753]| Triple 2: [16, 2, 37.59259]\n",
      "alpha = 3.660810128205128\n",
      "beta = -10.490186025641025\n",
      "Triple1[z] = 15.19753\n",
      "Triple2[z] = 37.59259\n",
      "\n",
      "[50, 16, 15.19753, 44, 60, 25.02695]\n",
      "Triple 1: [50, 16, 15.19753]| Triple 2: [44, 60, 25.02695]\n",
      "alpha = 0.22274416376306622\n",
      "beta = 0.25377011324041804\n",
      "Triple1[z] = 15.19753\n",
      "Triple2[z] = 25.026949999999996\n",
      "\n",
      "[50, 16, 15.19753, 60, 4, 43.080861]\n",
      "Triple 1: [50, 16, 15.19753]| Triple 2: [60, 4, 43.080861]\n",
      "alpha = 0.826978494736842\n",
      "beta = -1.6344621710526315\n",
      "Triple1[z] = 15.197529999999997\n",
      "Triple2[z] = 43.080861\n",
      "\n",
      "[16, 2, 37.59259, 44, 60, 25.02695]\n",
      "Triple 1: [16, 2, 37.59259]| Triple 2: [44, 60, 25.02695]\n",
      "alpha = 2.5292448394495417\n",
      "beta = -1.4376637155963305\n",
      "Triple1[z] = 37.59259000000001\n",
      "Triple2[z] = 25.02695\n",
      "\n",
      "[16, 2, 37.59259, 60, 4, 43.080861]\n",
      "Triple 1: [16, 2, 37.59259]| Triple 2: [60, 4, 43.080861]\n",
      "alpha = -1.1465828214285716\n",
      "beta = 27.968957571428575\n",
      "Triple1[z] = 37.59259\n",
      "Triple2[z] = 43.080861\n",
      "\n",
      "[44, 60, 25.02695, 60, 4, 43.080861]\n",
      "Triple 1: [44, 60, 25.02695]| Triple 2: [60, 4, 43.080861]\n",
      "alpha = 0.7256845385514018\n",
      "beta = -0.115052828271028\n",
      "Triple1[z] = 25.02695\n",
      "Triple2[z] = 43.080861\n",
      "\n"
     ]
    }
   ],
   "source": [
    "def get_linear_coeffs(x_0,y_0,z_0,x_1,y_1,z_1):\n",
    "    \"\"\"\n",
    "    Fit z = alpha*x + beta*y\n",
    "    \"\"\"\n",
    "    \n",
    "    det = x_0*y_1 - y_0*x_1\n",
    "    alpha = (y_1*z_0 - y_0*z_1)/det\n",
    "    beta = (-x_1*z_0 + x_0*z_1)/det\n",
    "    \n",
    "    return alpha, beta\n",
    "\n",
    "triples = [\n",
    "    [50, 16,15.19753],\n",
    "    [16, 2,37.59259],\n",
    "    [44, 60,25.02695],\n",
    "    [60,4,43.080861]\n",
    "]\n",
    "\n",
    "for idx1 in range(len(triples)):\n",
    "    triple1 = triples[idx1]\n",
    "    \n",
    "    for idx2 in range(idx1+1,len(triples)):\n",
    "        triple2 = triples[idx2]\n",
    "        \n",
    "        total_list = triple1 + triple2\n",
    "        print(total_list)\n",
    "        alpha, beta = get_linear_coeffs(*total_list)\n",
    "        \n",
    "        print(f\"Triple 1: {triple1}| Triple 2: {triple2}\")\n",
    "        print(f\"alpha = {alpha}\\nbeta = {beta}\")\n",
    "        print(f\"Triple1[z] = {alpha*triple1[0] + beta*triple1[1]}\")\n",
    "        print(f\"Triple2[z] = {alpha*triple2[0] + beta*triple2[1]}\\n\")"
   ]
  },
  {
   "cell_type": "code",
   "execution_count": 85,
   "id": "18c3d7d1",
   "metadata": {},
   "outputs": [
    {
     "data": {
      "text/html": [
       "<div><style>\n",
       ".dataframe > thead > tr,\n",
       ".dataframe > tbody > tr {\n",
       "  text-align: right;\n",
       "  white-space: pre-wrap;\n",
       "}\n",
       "</style>\n",
       "<small>shape: (4, 3)</small><table border=\"1\" class=\"dataframe\"><thead><tr><th>volume</th><th>rank</th><th>volume_ewma_span3</th></tr><tr><td>i64</td><td>i64</td><td>f64</td></tr></thead><tbody><tr><td>2</td><td>1</td><td>2.0</td></tr><tr><td>16</td><td>2</td><td>11.333333</td></tr><tr><td>50</td><td>3</td><td>33.428571</td></tr><tr><td>4</td><td>4</td><td>17.733333</td></tr></tbody></table></div>"
      ],
      "text/plain": [
       "shape: (4, 3)\n",
       "┌────────┬──────┬───────────────────┐\n",
       "│ volume ┆ rank ┆ volume_ewma_span3 │\n",
       "│ ---    ┆ ---  ┆ ---               │\n",
       "│ i64    ┆ i64  ┆ f64               │\n",
       "╞════════╪══════╪═══════════════════╡\n",
       "│ 2      ┆ 1    ┆ 2.0               │\n",
       "│ 16     ┆ 2    ┆ 11.333333         │\n",
       "│ 50     ┆ 3    ┆ 33.428571         │\n",
       "│ 4      ┆ 4    ┆ 17.733333         │\n",
       "└────────┴──────┴───────────────────┘"
      ]
     },
     "execution_count": 85,
     "metadata": {},
     "output_type": "execute_result"
    }
   ],
   "source": [
    "data = {\n",
    "        \"volume\": [2,16,50,4],\n",
    "        \"rank\": [1,2,3,4]\n",
    "\n",
    "}\n",
    "df = pl.DataFrame(\n",
    "    data\n",
    ")\n",
    "\n",
    "df = df.with_columns(\n",
    "    pl.col(\"volume\").ewm_mean(span = 3).alias(\"volume_ewma_span3\")\n",
    ")\n",
    "df"
   ]
  },
  {
   "cell_type": "code",
   "execution_count": 89,
   "id": "958a6693",
   "metadata": {},
   "outputs": [
    {
     "data": {
      "text/html": [
       "<div><style>\n",
       ".dataframe > thead > tr,\n",
       ".dataframe > tbody > tr {\n",
       "  text-align: right;\n",
       "  white-space: pre-wrap;\n",
       "}\n",
       "</style>\n",
       "<small>shape: (4, 4)</small><table border=\"1\" class=\"dataframe\"><thead><tr><th>volume</th><th>rank</th><th>volume_ewma_span3</th><th>custom_volume_ewma_span3</th></tr><tr><td>i64</td><td>i64</td><td>f64</td><td>f64</td></tr></thead><tbody><tr><td>2</td><td>1</td><td>2.0</td><td>null</td></tr><tr><td>16</td><td>2</td><td>11.333333</td><td>null</td></tr><tr><td>50</td><td>3</td><td>33.428571</td><td>33.428571</td></tr><tr><td>4</td><td>4</td><td>17.733333</td><td>18.857143</td></tr></tbody></table></div>"
      ],
      "text/plain": [
       "shape: (4, 4)\n",
       "┌────────┬──────┬───────────────────┬──────────────────────────┐\n",
       "│ volume ┆ rank ┆ volume_ewma_span3 ┆ custom_volume_ewma_span3 │\n",
       "│ ---    ┆ ---  ┆ ---               ┆ ---                      │\n",
       "│ i64    ┆ i64  ┆ f64               ┆ f64                      │\n",
       "╞════════╪══════╪═══════════════════╪══════════════════════════╡\n",
       "│ 2      ┆ 1    ┆ 2.0               ┆ null                     │\n",
       "│ 16     ┆ 2    ┆ 11.333333         ┆ null                     │\n",
       "│ 50     ┆ 3    ┆ 33.428571         ┆ 33.428571                │\n",
       "│ 4      ┆ 4    ┆ 17.733333         ┆ 18.857143                │\n",
       "└────────┴──────┴───────────────────┴──────────────────────────┘"
      ]
     },
     "execution_count": 89,
     "metadata": {},
     "output_type": "execute_result"
    }
   ],
   "source": [
    "span = 3\n",
    "alpha = 2/(span+1)\n",
    "\n",
    "bias_correction = alpha/(1-(1-alpha)**span)\n",
    "weights = [bias_correction*(1-alpha)**(span-1-i) for i in range(span)]\n",
    "\n",
    "df = df.with_columns(\n",
    "    pl.col(\"volume\").rolling_mean(window_size = span, weights = weights).alias(\"custom_volume_ewma_span3\")\n",
    ")\n",
    "df"
   ]
  },
  {
   "cell_type": "code",
   "execution_count": 46,
   "id": "a517ae40",
   "metadata": {},
   "outputs": [
    {
     "data": {
      "text/html": [
       "<div><style>\n",
       ".dataframe > thead > tr,\n",
       ".dataframe > tbody > tr {\n",
       "  text-align: right;\n",
       "  white-space: pre-wrap;\n",
       "}\n",
       "</style>\n",
       "<small>shape: (23_708, 15)</small><table border=\"1\" class=\"dataframe\"><thead><tr><th>rank</th><th>date_time</th><th>price</th><th>volume</th><th>dollar_value</th><th>time</th><th>class</th><th>price_ewma_span2</th><th>price_ewma_span4</th><th>volume_ewma_span2</th><th>volume_ewma_span4</th><th>volume_lag1</th><th>volume_lag2</th><th>volume_lag3</th><th>volume_lag4</th></tr><tr><td>u32</td><td>datetime[μs]</td><td>f64</td><td>i64</td><td>f64</td><td>time</td><td>i32</td><td>f64</td><td>f64</td><td>f64</td><td>f64</td><td>i64</td><td>i64</td><td>i64</td><td>i64</td></tr></thead><tbody><tr><td>1</td><td>2021-06-10 11:00:00</td><td>100.15</td><td>15</td><td>1502.25</td><td>11:00:00</td><td>1</td><td>100.15</td><td>100.15</td><td>15.0</td><td>15.0</td><td>null</td><td>null</td><td>null</td><td>null</td></tr><tr><td>3</td><td>2021-06-10 11:00:00</td><td>100.15</td><td>16</td><td>1602.4</td><td>11:00:00</td><td>1</td><td>100.15</td><td>100.15</td><td>15.75</td><td>15.625</td><td>15</td><td>null</td><td>null</td><td>null</td></tr><tr><td>5</td><td>2021-06-10 11:00:00</td><td>100.16</td><td>4</td><td>400.64</td><td>11:00:00</td><td>1</td><td>100.156923</td><td>100.155102</td><td>7.615385</td><td>9.693878</td><td>16</td><td>15</td><td>null</td><td>null</td></tr><tr><td>7</td><td>2021-06-10 11:00:00</td><td>100.16</td><td>393</td><td>39362.88</td><td>11:00:00</td><td>1</td><td>100.159</td><td>100.157353</td><td>267.75</td><td>185.845588</td><td>4</td><td>16</td><td>15</td><td>null</td></tr><tr><td>9</td><td>2021-06-10 11:00:00</td><td>100.16</td><td>12</td><td>1201.92</td><td>11:00:00</td><td>1</td><td>100.159669</td><td>100.158501</td><td>96.545455</td><td>110.444136</td><td>393</td><td>4</td><td>16</td><td>15</td></tr><tr><td>&hellip;</td><td>&hellip;</td><td>&hellip;</td><td>&hellip;</td><td>&hellip;</td><td>&hellip;</td><td>&hellip;</td><td>&hellip;</td><td>&hellip;</td><td>&hellip;</td><td>&hellip;</td><td>&hellip;</td><td>&hellip;</td><td>&hellip;</td><td>&hellip;</td></tr><tr><td>47407</td><td>2021-06-10 15:59:00</td><td>99.95</td><td>30</td><td>2998.5</td><td>15:59:00</td><td>1</td><td>99.947805</td><td>99.942304</td><td>30.453214</td><td>25.20014</td><td>43</td><td>11</td><td>1</td><td>1</td></tr><tr><td>47409</td><td>2021-06-10 15:59:00</td><td>99.95</td><td>11</td><td>1099.45</td><td>15:59:00</td><td>1</td><td>99.949268</td><td>99.945382</td><td>17.484405</td><td>19.520084</td><td>30</td><td>43</td><td>11</td><td>1</td></tr><tr><td>47411</td><td>2021-06-10 15:59:00</td><td>99.95</td><td>1</td><td>99.95</td><td>15:59:00</td><td>1</td><td>99.949756</td><td>99.947229</td><td>6.494802</td><td>12.11205</td><td>11</td><td>30</td><td>43</td><td>11</td></tr><tr><td>47413</td><td>2021-06-10 15:59:00</td><td>99.935</td><td>60</td><td>5996.1</td><td>15:59:00</td><td>1</td><td>99.939919</td><td>99.942338</td><td>42.164934</td><td>31.26723</td><td>1</td><td>11</td><td>30</td><td>43</td></tr><tr><td>47415</td><td>2021-06-10 15:59:00</td><td>99.92</td><td>16</td><td>1598.72</td><td>15:59:00</td><td>1</td><td>99.92664</td><td>99.933403</td><td>24.721645</td><td>25.160338</td><td>60</td><td>1</td><td>11</td><td>30</td></tr></tbody></table></div>"
      ],
      "text/plain": [
       "shape: (23_708, 15)\n",
       "┌───────┬─────────────┬────────┬────────┬───┬─────────────┬─────────────┬─────────────┬────────────┐\n",
       "│ rank  ┆ date_time   ┆ price  ┆ volume ┆ … ┆ volume_lag1 ┆ volume_lag2 ┆ volume_lag3 ┆ volume_lag │\n",
       "│ ---   ┆ ---         ┆ ---    ┆ ---    ┆   ┆ ---         ┆ ---         ┆ ---         ┆ 4          │\n",
       "│ u32   ┆ datetime[μs ┆ f64    ┆ i64    ┆   ┆ i64         ┆ i64         ┆ i64         ┆ ---        │\n",
       "│       ┆ ]           ┆        ┆        ┆   ┆             ┆             ┆             ┆ i64        │\n",
       "╞═══════╪═════════════╪════════╪════════╪═══╪═════════════╪═════════════╪═════════════╪════════════╡\n",
       "│ 1     ┆ 2021-06-10  ┆ 100.15 ┆ 15     ┆ … ┆ null        ┆ null        ┆ null        ┆ null       │\n",
       "│       ┆ 11:00:00    ┆        ┆        ┆   ┆             ┆             ┆             ┆            │\n",
       "│ 3     ┆ 2021-06-10  ┆ 100.15 ┆ 16     ┆ … ┆ 15          ┆ null        ┆ null        ┆ null       │\n",
       "│       ┆ 11:00:00    ┆        ┆        ┆   ┆             ┆             ┆             ┆            │\n",
       "│ 5     ┆ 2021-06-10  ┆ 100.16 ┆ 4      ┆ … ┆ 16          ┆ 15          ┆ null        ┆ null       │\n",
       "│       ┆ 11:00:00    ┆        ┆        ┆   ┆             ┆             ┆             ┆            │\n",
       "│ 7     ┆ 2021-06-10  ┆ 100.16 ┆ 393    ┆ … ┆ 4           ┆ 16          ┆ 15          ┆ null       │\n",
       "│       ┆ 11:00:00    ┆        ┆        ┆   ┆             ┆             ┆             ┆            │\n",
       "│ 9     ┆ 2021-06-10  ┆ 100.16 ┆ 12     ┆ … ┆ 393         ┆ 4           ┆ 16          ┆ 15         │\n",
       "│       ┆ 11:00:00    ┆        ┆        ┆   ┆             ┆             ┆             ┆            │\n",
       "│ …     ┆ …           ┆ …      ┆ …      ┆ … ┆ …           ┆ …           ┆ …           ┆ …          │\n",
       "│ 47407 ┆ 2021-06-10  ┆ 99.95  ┆ 30     ┆ … ┆ 43          ┆ 11          ┆ 1           ┆ 1          │\n",
       "│       ┆ 15:59:00    ┆        ┆        ┆   ┆             ┆             ┆             ┆            │\n",
       "│ 47409 ┆ 2021-06-10  ┆ 99.95  ┆ 11     ┆ … ┆ 30          ┆ 43          ┆ 11          ┆ 1          │\n",
       "│       ┆ 15:59:00    ┆        ┆        ┆   ┆             ┆             ┆             ┆            │\n",
       "│ 47411 ┆ 2021-06-10  ┆ 99.95  ┆ 1      ┆ … ┆ 11          ┆ 30          ┆ 43          ┆ 11         │\n",
       "│       ┆ 15:59:00    ┆        ┆        ┆   ┆             ┆             ┆             ┆            │\n",
       "│ 47413 ┆ 2021-06-10  ┆ 99.935 ┆ 60     ┆ … ┆ 1           ┆ 11          ┆ 30          ┆ 43         │\n",
       "│       ┆ 15:59:00    ┆        ┆        ┆   ┆             ┆             ┆             ┆            │\n",
       "│ 47415 ┆ 2021-06-10  ┆ 99.92  ┆ 16     ┆ … ┆ 60          ┆ 1           ┆ 11          ┆ 30         │\n",
       "│       ┆ 15:59:00    ┆        ┆        ┆   ┆             ┆             ┆             ┆            │\n",
       "└───────┴─────────────┴────────┴────────┴───┴─────────────┴─────────────┴─────────────┴────────────┘"
      ]
     },
     "execution_count": 46,
     "metadata": {},
     "output_type": "execute_result"
    }
   ],
   "source": [
    "trades_1 = trades_df.filter(\n",
    "    pl.col(\"class\") == 1\n",
    ")\n",
    "trades_1"
   ]
  },
  {
   "cell_type": "code",
   "execution_count": null,
   "id": "f530dae0",
   "metadata": {},
   "outputs": [],
   "source": [
    "import numpy as np\n",
    "\n",
    "def bars(x,y):\n",
    "    \n",
    "    return np.int64(x/y)*y\n",
    "\n",
    "print(np.arange(100))\n",
    "bars(np.arange(100),25)"
   ]
  },
  {
   "cell_type": "code",
   "execution_count": null,
   "id": "f37675ef",
   "metadata": {},
   "outputs": [],
   "source": []
  }
 ],
 "metadata": {
  "kernelspec": {
   "display_name": "Python 3 (ipykernel)",
   "language": "python",
   "name": "python3"
  },
  "language_info": {
   "codemirror_mode": {
    "name": "ipython",
    "version": 3
   },
   "file_extension": ".py",
   "mimetype": "text/x-python",
   "name": "python",
   "nbconvert_exporter": "python",
   "pygments_lexer": "ipython3",
   "version": "3.11.4"
  }
 },
 "nbformat": 4,
 "nbformat_minor": 5
}
