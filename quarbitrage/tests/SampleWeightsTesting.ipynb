{
 "cells": [
  {
   "cell_type": "code",
   "execution_count": 2,
   "id": "2a55b62b",
   "metadata": {},
   "outputs": [
    {
     "name": "stderr",
     "output_type": "stream",
     "text": [
      "C:\\Users\\rockh\\anaconda3\\Lib\\site-packages\\pandas\\core\\arrays\\masked.py:60: UserWarning: Pandas requires version '1.3.6' or newer of 'bottleneck' (version '1.3.5' currently installed).\n",
      "  from pandas.core import (\n"
     ]
    }
   ],
   "source": [
    "import polars as pl\n",
    "import pandas as pd\n",
    "import polars.datatypes as T\n",
    "import numpy as np\n",
    "\n",
    "from datetime import datetime, time\n",
    "import sys\n",
    "sys.path.insert(0, 'C:\\\\Users\\\\rockh\\\\Repositories\\\\Tsuro\\\\')\n",
    "\n",
    "from tsuro.datasets import load_cba_trades\n",
    "from tsuro.preprocessing import cast_strings_to_datetime"
   ]
  },
  {
   "cell_type": "code",
   "execution_count": 2,
   "id": "97e1fc2f",
   "metadata": {},
   "outputs": [
    {
     "data": {
      "text/plain": [
       "array([21, 56, 20,  1, 38, 28, 50, 41, 12, 39, 52,  9, 31, 37, 53,  1, 30,\n",
       "       40,  6, 38, 42, 19, 22, 18, 33, 59, 29, 22, 23, 17])"
      ]
     },
     "execution_count": 2,
     "metadata": {},
     "output_type": "execute_result"
    }
   ],
   "source": [
    "import random\n",
    "test = np.random.randint(60, size = 30)\n",
    "test"
   ]
  },
  {
   "cell_type": "code",
   "execution_count": 12,
   "id": "3361ef7d",
   "metadata": {},
   "outputs": [
    {
     "data": {
      "text/html": [
       "<div><style>\n",
       ".dataframe > thead > tr,\n",
       ".dataframe > tbody > tr {\n",
       "  text-align: right;\n",
       "  white-space: pre-wrap;\n",
       "}\n",
       "</style>\n",
       "<small>shape: (3, 3)</small><table border=\"1\" class=\"dataframe\"><thead><tr><th>datetime_start</th><th>datetime_end</th><th>index</th></tr><tr><td>datetime[μs]</td><td>datetime[μs]</td><td>u32</td></tr></thead><tbody><tr><td>2021-06-10 17:00:00</td><td>2021-06-10 17:45:00</td><td>0</td></tr><tr><td>2021-06-10 16:54:00</td><td>2021-06-10 17:13:00</td><td>1</td></tr><tr><td>2021-06-10 16:47:00</td><td>2021-06-10 17:21:00</td><td>2</td></tr></tbody></table></div>"
      ],
      "text/plain": [
       "shape: (3, 3)\n",
       "┌─────────────────────┬─────────────────────┬───────┐\n",
       "│ datetime_start      ┆ datetime_end        ┆ index │\n",
       "│ ---                 ┆ ---                 ┆ ---   │\n",
       "│ datetime[μs]        ┆ datetime[μs]        ┆ u32   │\n",
       "╞═════════════════════╪═════════════════════╪═══════╡\n",
       "│ 2021-06-10 17:00:00 ┆ 2021-06-10 17:45:00 ┆ 0     │\n",
       "│ 2021-06-10 16:54:00 ┆ 2021-06-10 17:13:00 ┆ 1     │\n",
       "│ 2021-06-10 16:47:00 ┆ 2021-06-10 17:21:00 ┆ 2     │\n",
       "└─────────────────────┴─────────────────────┴───────┘"
      ]
     },
     "execution_count": 12,
     "metadata": {},
     "output_type": "execute_result"
    }
   ],
   "source": [
    "def create_pseudo_bars(df):\n",
    "    \n",
    "    df = df.with_columns(\n",
    "        pl.lit(\n",
    "            np.random.randint(low = 1, high = 60, size = df.height)\n",
    "        ).alias(\"add_minutes\"),\n",
    "        pl.lit(\n",
    "            np.random.randint(6, size = df.height)\n",
    "        ).alias(\"add_hours\"),\n",
    "    )\n",
    "    \n",
    "    df = cast_strings_to_datetime(\n",
    "        df, \n",
    "        columns = [\"time\"]\n",
    "    )\n",
    "    \n",
    "    df = df.with_columns(\n",
    "        (\n",
    "            pl.col(\"time\") + \n",
    "            pl.duration(\n",
    "                hours = pl.col(\"add_hours\"), \n",
    "                minutes = pl.col(\"add_minutes\")\n",
    "            )\n",
    "        ).alias(\"datetime_end\")\n",
    "    )\n",
    "    \n",
    "    df = df.rename(\n",
    "        mapping = {\"time\": \"datetime_start\"}\n",
    "    )\n",
    "    \n",
    "    return df\n",
    "\n",
    "from tsuro.utils import create_dataframe_index\n",
    "df = load_cba_trades()\n",
    "df_test = create_pseudo_bars(df).select(\"datetime_start\", \"datetime_end\")\n",
    "df_test = create_dataframe_index(df_test)\n",
    "\n",
    "df_test[0:3]"
   ]
  },
  {
   "cell_type": "code",
   "execution_count": 2,
   "id": "759aa2ec",
   "metadata": {},
   "outputs": [
    {
     "ename": "NameError",
     "evalue": "name 'df_test' is not defined",
     "output_type": "error",
     "traceback": [
      "\u001b[1;31m---------------------------------------------------------------------------\u001b[0m",
      "\u001b[1;31mNameError\u001b[0m                                 Traceback (most recent call last)",
      "Cell \u001b[1;32mIn[2], line 6\u001b[0m\n\u001b[0;32m      2\u001b[0m \u001b[38;5;28;01mfrom\u001b[39;00m \u001b[38;5;21;01mtsuro\u001b[39;00m\u001b[38;5;21;01m.\u001b[39;00m\u001b[38;5;21;01msampling\u001b[39;00m \u001b[38;5;28;01mimport\u001b[39;00m create_overlap_matrix\n\u001b[0;32m      4\u001b[0m time0 \u001b[38;5;241m=\u001b[39m time\u001b[38;5;241m.\u001b[39mtime()\n\u001b[0;32m      5\u001b[0m overlap_matrix \u001b[38;5;241m=\u001b[39m create_overlap_matrix(\n\u001b[1;32m----> 6\u001b[0m         df_test,\n\u001b[0;32m      7\u001b[0m         time_start_col \u001b[38;5;241m=\u001b[39m \u001b[38;5;124m\"\u001b[39m\u001b[38;5;124mdatetime_start\u001b[39m\u001b[38;5;124m\"\u001b[39m,\n\u001b[0;32m      8\u001b[0m         time_end_col \u001b[38;5;241m=\u001b[39m \u001b[38;5;124m\"\u001b[39m\u001b[38;5;124mdatetime_end\u001b[39m\u001b[38;5;124m\"\u001b[39m,\n\u001b[0;32m      9\u001b[0m         index_col \u001b[38;5;241m=\u001b[39m \u001b[38;5;124m\"\u001b[39m\u001b[38;5;124mindex\u001b[39m\u001b[38;5;124m\"\u001b[39m,\n\u001b[0;32m     10\u001b[0m         remove_no_overlaps \u001b[38;5;241m=\u001b[39m \u001b[38;5;28;01mTrue\u001b[39;00m\n\u001b[0;32m     11\u001b[0m     )\n\u001b[0;32m     12\u001b[0m time1 \u001b[38;5;241m=\u001b[39m time\u001b[38;5;241m.\u001b[39mtime()\n\u001b[0;32m     13\u001b[0m completion_time \u001b[38;5;241m=\u001b[39m time1\u001b[38;5;241m-\u001b[39mtime0\n",
      "\u001b[1;31mNameError\u001b[0m: name 'df_test' is not defined"
     ]
    }
   ],
   "source": [
    "import time\n",
    "from tsuro.sampling import create_overlap_matrix\n",
    "\n",
    "time0 = time.time()\n",
    "overlap_matrix = create_overlap_matrix(\n",
    "        df_test,\n",
    "        time_start_col = \"datetime_start\",\n",
    "        time_end_col = \"datetime_end\",\n",
    "        index_col = \"index\",\n",
    "        remove_no_overlaps = True\n",
    "    )\n",
    "time1 = time.time()\n",
    "completion_time = time1-time0\n",
    "print(f\"Completion Time: {completion_time}\")\n"
   ]
  },
  {
   "cell_type": "code",
   "execution_count": 3,
   "id": "7a6580ce",
   "metadata": {},
   "outputs": [
    {
     "data": {
      "text/html": [
       "<div><style>\n",
       ".dataframe > thead > tr,\n",
       ".dataframe > tbody > tr {\n",
       "  text-align: right;\n",
       "  white-space: pre-wrap;\n",
       "}\n",
       "</style>\n",
       "<small>shape: (744, 66_580)</small><table border=\"1\" class=\"dataframe\"><thead><tr><th>index</th><th>time_start</th><th>time_end</th><th>bar_0_overlap</th><th>bar_1_overlap</th><th>bar_2_overlap</th><th>bar_3_overlap</th><th>bar_4_overlap</th><th>bar_5_overlap</th><th>bar_6_overlap</th><th>bar_7_overlap</th><th>bar_8_overlap</th><th>bar_9_overlap</th><th>bar_10_overlap</th><th>bar_11_overlap</th><th>bar_12_overlap</th><th>bar_13_overlap</th><th>bar_14_overlap</th><th>bar_15_overlap</th><th>bar_16_overlap</th><th>bar_17_overlap</th><th>bar_18_overlap</th><th>bar_19_overlap</th><th>bar_20_overlap</th><th>bar_21_overlap</th><th>bar_22_overlap</th><th>bar_23_overlap</th><th>bar_24_overlap</th><th>bar_25_overlap</th><th>bar_26_overlap</th><th>bar_27_overlap</th><th>bar_28_overlap</th><th>bar_29_overlap</th><th>bar_30_overlap</th><th>bar_31_overlap</th><th>bar_32_overlap</th><th>bar_33_overlap</th><th>&hellip;</th><th>bar_66540_overlap</th><th>bar_66541_overlap</th><th>bar_66542_overlap</th><th>bar_66543_overlap</th><th>bar_66544_overlap</th><th>bar_66545_overlap</th><th>bar_66546_overlap</th><th>bar_66547_overlap</th><th>bar_66548_overlap</th><th>bar_66549_overlap</th><th>bar_66550_overlap</th><th>bar_66551_overlap</th><th>bar_66552_overlap</th><th>bar_66553_overlap</th><th>bar_66554_overlap</th><th>bar_66555_overlap</th><th>bar_66556_overlap</th><th>bar_66557_overlap</th><th>bar_66558_overlap</th><th>bar_66559_overlap</th><th>bar_66560_overlap</th><th>bar_66561_overlap</th><th>bar_66562_overlap</th><th>bar_66563_overlap</th><th>bar_66564_overlap</th><th>bar_66565_overlap</th><th>bar_66566_overlap</th><th>bar_66567_overlap</th><th>bar_66568_overlap</th><th>bar_66569_overlap</th><th>bar_66570_overlap</th><th>bar_66571_overlap</th><th>bar_66572_overlap</th><th>bar_66573_overlap</th><th>bar_66574_overlap</th><th>bar_66575_overlap</th><th>bar_66576_overlap</th></tr><tr><td>i64</td><td>str</td><td>str</td><td>i64</td><td>i64</td><td>i64</td><td>i64</td><td>i64</td><td>i64</td><td>i64</td><td>i64</td><td>i64</td><td>i64</td><td>i64</td><td>i64</td><td>i64</td><td>i64</td><td>i64</td><td>i64</td><td>i64</td><td>i64</td><td>i64</td><td>i64</td><td>i64</td><td>i64</td><td>i64</td><td>i64</td><td>i64</td><td>i64</td><td>i64</td><td>i64</td><td>i64</td><td>i64</td><td>i64</td><td>i64</td><td>i64</td><td>i64</td><td>&hellip;</td><td>i64</td><td>i64</td><td>i64</td><td>i64</td><td>i64</td><td>i64</td><td>i64</td><td>i64</td><td>i64</td><td>i64</td><td>i64</td><td>i64</td><td>i64</td><td>i64</td><td>i64</td><td>i64</td><td>i64</td><td>i64</td><td>i64</td><td>i64</td><td>i64</td><td>i64</td><td>i64</td><td>i64</td><td>i64</td><td>i64</td><td>i64</td><td>i64</td><td>i64</td><td>i64</td><td>i64</td><td>i64</td><td>i64</td><td>i64</td><td>i64</td><td>i64</td><td>i64</td></tr></thead><tbody><tr><td>0</td><td>&quot;2021-06-10T07:05:00.000000&quot;</td><td>&quot;2021-06-10T07:17:00.000000&quot;</td><td>0</td><td>0</td><td>0</td><td>0</td><td>0</td><td>0</td><td>0</td><td>0</td><td>0</td><td>0</td><td>0</td><td>0</td><td>0</td><td>0</td><td>0</td><td>0</td><td>0</td><td>0</td><td>0</td><td>0</td><td>0</td><td>0</td><td>0</td><td>0</td><td>0</td><td>0</td><td>0</td><td>0</td><td>0</td><td>0</td><td>0</td><td>0</td><td>0</td><td>0</td><td>&hellip;</td><td>0</td><td>0</td><td>1</td><td>1</td><td>1</td><td>1</td><td>1</td><td>1</td><td>1</td><td>1</td><td>1</td><td>1</td><td>1</td><td>1</td><td>1</td><td>1</td><td>1</td><td>1</td><td>1</td><td>1</td><td>1</td><td>1</td><td>1</td><td>1</td><td>1</td><td>1</td><td>1</td><td>1</td><td>1</td><td>1</td><td>1</td><td>1</td><td>1</td><td>1</td><td>1</td><td>1</td><td>1</td></tr><tr><td>1</td><td>&quot;2021-06-10T07:17:00.000000&quot;</td><td>&quot;2021-06-10T07:19:00.000000&quot;</td><td>0</td><td>0</td><td>0</td><td>0</td><td>0</td><td>0</td><td>0</td><td>0</td><td>0</td><td>0</td><td>0</td><td>0</td><td>0</td><td>0</td><td>0</td><td>0</td><td>0</td><td>0</td><td>0</td><td>0</td><td>0</td><td>0</td><td>0</td><td>0</td><td>0</td><td>0</td><td>0</td><td>0</td><td>0</td><td>0</td><td>0</td><td>0</td><td>0</td><td>0</td><td>&hellip;</td><td>0</td><td>0</td><td>1</td><td>1</td><td>1</td><td>1</td><td>1</td><td>1</td><td>1</td><td>1</td><td>1</td><td>1</td><td>1</td><td>1</td><td>1</td><td>1</td><td>1</td><td>1</td><td>1</td><td>1</td><td>1</td><td>1</td><td>1</td><td>1</td><td>1</td><td>1</td><td>1</td><td>1</td><td>1</td><td>1</td><td>1</td><td>1</td><td>1</td><td>1</td><td>1</td><td>0</td><td>1</td></tr><tr><td>2</td><td>&quot;2021-06-10T07:19:00.000000&quot;</td><td>&quot;2021-06-10T07:26:00.000000&quot;</td><td>0</td><td>0</td><td>0</td><td>0</td><td>0</td><td>0</td><td>0</td><td>0</td><td>0</td><td>0</td><td>0</td><td>0</td><td>0</td><td>0</td><td>0</td><td>0</td><td>0</td><td>0</td><td>0</td><td>0</td><td>0</td><td>0</td><td>0</td><td>0</td><td>0</td><td>0</td><td>0</td><td>0</td><td>0</td><td>0</td><td>0</td><td>0</td><td>0</td><td>0</td><td>&hellip;</td><td>0</td><td>0</td><td>1</td><td>1</td><td>1</td><td>1</td><td>1</td><td>1</td><td>1</td><td>1</td><td>1</td><td>1</td><td>1</td><td>1</td><td>1</td><td>0</td><td>1</td><td>1</td><td>1</td><td>1</td><td>1</td><td>1</td><td>1</td><td>1</td><td>1</td><td>1</td><td>1</td><td>1</td><td>1</td><td>1</td><td>1</td><td>1</td><td>1</td><td>1</td><td>1</td><td>0</td><td>1</td></tr><tr><td>3</td><td>&quot;2021-06-10T07:26:00.000000&quot;</td><td>&quot;2021-06-10T07:31:00.000000&quot;</td><td>0</td><td>0</td><td>0</td><td>0</td><td>0</td><td>0</td><td>0</td><td>0</td><td>0</td><td>0</td><td>0</td><td>0</td><td>0</td><td>0</td><td>0</td><td>0</td><td>0</td><td>0</td><td>0</td><td>0</td><td>0</td><td>0</td><td>0</td><td>0</td><td>0</td><td>0</td><td>0</td><td>0</td><td>0</td><td>0</td><td>0</td><td>0</td><td>0</td><td>0</td><td>&hellip;</td><td>0</td><td>0</td><td>1</td><td>1</td><td>1</td><td>1</td><td>1</td><td>1</td><td>1</td><td>1</td><td>1</td><td>1</td><td>1</td><td>1</td><td>1</td><td>0</td><td>1</td><td>0</td><td>1</td><td>1</td><td>1</td><td>1</td><td>1</td><td>1</td><td>1</td><td>1</td><td>1</td><td>1</td><td>1</td><td>1</td><td>1</td><td>1</td><td>1</td><td>1</td><td>1</td><td>0</td><td>1</td></tr><tr><td>4</td><td>&quot;2021-06-10T07:31:00.000000&quot;</td><td>&quot;2021-06-10T07:46:00.000000&quot;</td><td>0</td><td>0</td><td>0</td><td>0</td><td>0</td><td>0</td><td>0</td><td>0</td><td>0</td><td>0</td><td>0</td><td>0</td><td>0</td><td>0</td><td>0</td><td>0</td><td>0</td><td>0</td><td>0</td><td>0</td><td>0</td><td>0</td><td>0</td><td>0</td><td>0</td><td>0</td><td>0</td><td>0</td><td>0</td><td>0</td><td>0</td><td>0</td><td>0</td><td>0</td><td>&hellip;</td><td>0</td><td>0</td><td>1</td><td>1</td><td>1</td><td>1</td><td>1</td><td>1</td><td>1</td><td>1</td><td>1</td><td>1</td><td>1</td><td>1</td><td>1</td><td>0</td><td>1</td><td>0</td><td>1</td><td>1</td><td>1</td><td>0</td><td>1</td><td>1</td><td>1</td><td>1</td><td>1</td><td>1</td><td>1</td><td>1</td><td>1</td><td>1</td><td>1</td><td>1</td><td>1</td><td>0</td><td>1</td></tr><tr><td>&hellip;</td><td>&hellip;</td><td>&hellip;</td><td>&hellip;</td><td>&hellip;</td><td>&hellip;</td><td>&hellip;</td><td>&hellip;</td><td>&hellip;</td><td>&hellip;</td><td>&hellip;</td><td>&hellip;</td><td>&hellip;</td><td>&hellip;</td><td>&hellip;</td><td>&hellip;</td><td>&hellip;</td><td>&hellip;</td><td>&hellip;</td><td>&hellip;</td><td>&hellip;</td><td>&hellip;</td><td>&hellip;</td><td>&hellip;</td><td>&hellip;</td><td>&hellip;</td><td>&hellip;</td><td>&hellip;</td><td>&hellip;</td><td>&hellip;</td><td>&hellip;</td><td>&hellip;</td><td>&hellip;</td><td>&hellip;</td><td>&hellip;</td><td>&hellip;</td><td>&hellip;</td><td>&hellip;</td><td>&hellip;</td><td>&hellip;</td><td>&hellip;</td><td>&hellip;</td><td>&hellip;</td><td>&hellip;</td><td>&hellip;</td><td>&hellip;</td><td>&hellip;</td><td>&hellip;</td><td>&hellip;</td><td>&hellip;</td><td>&hellip;</td><td>&hellip;</td><td>&hellip;</td><td>&hellip;</td><td>&hellip;</td><td>&hellip;</td><td>&hellip;</td><td>&hellip;</td><td>&hellip;</td><td>&hellip;</td><td>&hellip;</td><td>&hellip;</td><td>&hellip;</td><td>&hellip;</td><td>&hellip;</td><td>&hellip;</td><td>&hellip;</td><td>&hellip;</td><td>&hellip;</td><td>&hellip;</td><td>&hellip;</td><td>&hellip;</td><td>&hellip;</td><td>&hellip;</td><td>&hellip;</td></tr><tr><td>739</td><td>&quot;2021-06-10T21:59:00.000000&quot;</td><td>&quot;2021-06-10T22:00:00.000000&quot;</td><td>0</td><td>0</td><td>0</td><td>0</td><td>0</td><td>1</td><td>0</td><td>0</td><td>0</td><td>0</td><td>0</td><td>1</td><td>0</td><td>0</td><td>0</td><td>0</td><td>0</td><td>0</td><td>0</td><td>0</td><td>0</td><td>0</td><td>1</td><td>0</td><td>0</td><td>0</td><td>0</td><td>0</td><td>0</td><td>0</td><td>0</td><td>0</td><td>0</td><td>0</td><td>&hellip;</td><td>0</td><td>0</td><td>0</td><td>0</td><td>0</td><td>0</td><td>0</td><td>0</td><td>0</td><td>0</td><td>0</td><td>0</td><td>0</td><td>0</td><td>0</td><td>0</td><td>0</td><td>0</td><td>0</td><td>0</td><td>0</td><td>0</td><td>0</td><td>0</td><td>0</td><td>0</td><td>0</td><td>0</td><td>0</td><td>0</td><td>0</td><td>0</td><td>0</td><td>0</td><td>0</td><td>0</td><td>0</td></tr><tr><td>740</td><td>&quot;2021-06-10T22:00:00.000000&quot;</td><td>&quot;2021-06-10T22:04:00.000000&quot;</td><td>0</td><td>0</td><td>0</td><td>0</td><td>0</td><td>1</td><td>0</td><td>0</td><td>0</td><td>0</td><td>0</td><td>1</td><td>0</td><td>0</td><td>0</td><td>0</td><td>0</td><td>0</td><td>0</td><td>0</td><td>0</td><td>0</td><td>1</td><td>0</td><td>0</td><td>0</td><td>0</td><td>0</td><td>0</td><td>0</td><td>0</td><td>0</td><td>0</td><td>0</td><td>&hellip;</td><td>0</td><td>0</td><td>0</td><td>0</td><td>0</td><td>0</td><td>0</td><td>0</td><td>0</td><td>0</td><td>0</td><td>0</td><td>0</td><td>0</td><td>0</td><td>0</td><td>0</td><td>0</td><td>0</td><td>0</td><td>0</td><td>0</td><td>0</td><td>0</td><td>0</td><td>0</td><td>0</td><td>0</td><td>0</td><td>0</td><td>0</td><td>0</td><td>0</td><td>0</td><td>0</td><td>0</td><td>0</td></tr><tr><td>741</td><td>&quot;2021-06-10T22:04:00.000000&quot;</td><td>&quot;2021-06-10T22:06:00.000000&quot;</td><td>0</td><td>0</td><td>0</td><td>0</td><td>0</td><td>1</td><td>0</td><td>0</td><td>0</td><td>0</td><td>0</td><td>1</td><td>0</td><td>0</td><td>0</td><td>0</td><td>0</td><td>0</td><td>0</td><td>0</td><td>0</td><td>0</td><td>0</td><td>0</td><td>0</td><td>0</td><td>0</td><td>0</td><td>0</td><td>0</td><td>0</td><td>0</td><td>0</td><td>0</td><td>&hellip;</td><td>0</td><td>0</td><td>0</td><td>0</td><td>0</td><td>0</td><td>0</td><td>0</td><td>0</td><td>0</td><td>0</td><td>0</td><td>0</td><td>0</td><td>0</td><td>0</td><td>0</td><td>0</td><td>0</td><td>0</td><td>0</td><td>0</td><td>0</td><td>0</td><td>0</td><td>0</td><td>0</td><td>0</td><td>0</td><td>0</td><td>0</td><td>0</td><td>0</td><td>0</td><td>0</td><td>0</td><td>0</td></tr><tr><td>742</td><td>&quot;2021-06-10T22:06:00.000000&quot;</td><td>&quot;2021-06-10T22:20:00.000000&quot;</td><td>0</td><td>0</td><td>0</td><td>0</td><td>0</td><td>1</td><td>0</td><td>0</td><td>0</td><td>0</td><td>0</td><td>1</td><td>0</td><td>0</td><td>0</td><td>0</td><td>0</td><td>0</td><td>0</td><td>0</td><td>0</td><td>0</td><td>0</td><td>0</td><td>0</td><td>0</td><td>0</td><td>0</td><td>0</td><td>0</td><td>0</td><td>0</td><td>0</td><td>0</td><td>&hellip;</td><td>0</td><td>0</td><td>0</td><td>0</td><td>0</td><td>0</td><td>0</td><td>0</td><td>0</td><td>0</td><td>0</td><td>0</td><td>0</td><td>0</td><td>0</td><td>0</td><td>0</td><td>0</td><td>0</td><td>0</td><td>0</td><td>0</td><td>0</td><td>0</td><td>0</td><td>0</td><td>0</td><td>0</td><td>0</td><td>0</td><td>0</td><td>0</td><td>0</td><td>0</td><td>0</td><td>0</td><td>0</td></tr><tr><td>743</td><td>&quot;2021-06-10T22:20:00.000000&quot;</td><td>&quot;2021-06-10T22:30:00.000000&quot;</td><td>0</td><td>0</td><td>0</td><td>0</td><td>0</td><td>1</td><td>0</td><td>0</td><td>0</td><td>0</td><td>0</td><td>0</td><td>0</td><td>0</td><td>0</td><td>0</td><td>0</td><td>0</td><td>0</td><td>0</td><td>0</td><td>0</td><td>0</td><td>0</td><td>0</td><td>0</td><td>0</td><td>0</td><td>0</td><td>0</td><td>0</td><td>0</td><td>0</td><td>0</td><td>&hellip;</td><td>0</td><td>0</td><td>0</td><td>0</td><td>0</td><td>0</td><td>0</td><td>0</td><td>0</td><td>0</td><td>0</td><td>0</td><td>0</td><td>0</td><td>0</td><td>0</td><td>0</td><td>0</td><td>0</td><td>0</td><td>0</td><td>0</td><td>0</td><td>0</td><td>0</td><td>0</td><td>0</td><td>0</td><td>0</td><td>0</td><td>0</td><td>0</td><td>0</td><td>0</td><td>0</td><td>0</td><td>0</td></tr></tbody></table></div>"
      ],
      "text/plain": [
       "shape: (744, 66_580)\n",
       "┌───────┬────────────┬────────────┬────────────┬───┬───────────┬───────────┬───────────┬───────────┐\n",
       "│ index ┆ time_start ┆ time_end   ┆ bar_0_over ┆ … ┆ bar_66573 ┆ bar_66574 ┆ bar_66575 ┆ bar_66576 │\n",
       "│ ---   ┆ ---        ┆ ---        ┆ lap        ┆   ┆ _overlap  ┆ _overlap  ┆ _overlap  ┆ _overlap  │\n",
       "│ i64   ┆ str        ┆ str        ┆ ---        ┆   ┆ ---       ┆ ---       ┆ ---       ┆ ---       │\n",
       "│       ┆            ┆            ┆ i64        ┆   ┆ i64       ┆ i64       ┆ i64       ┆ i64       │\n",
       "╞═══════╪════════════╪════════════╪════════════╪═══╪═══════════╪═══════════╪═══════════╪═══════════╡\n",
       "│ 0     ┆ 2021-06-10 ┆ 2021-06-10 ┆ 0          ┆ … ┆ 1         ┆ 1         ┆ 1         ┆ 1         │\n",
       "│       ┆ T07:05:00. ┆ T07:17:00. ┆            ┆   ┆           ┆           ┆           ┆           │\n",
       "│       ┆ 000000     ┆ 000000     ┆            ┆   ┆           ┆           ┆           ┆           │\n",
       "│ 1     ┆ 2021-06-10 ┆ 2021-06-10 ┆ 0          ┆ … ┆ 1         ┆ 1         ┆ 0         ┆ 1         │\n",
       "│       ┆ T07:17:00. ┆ T07:19:00. ┆            ┆   ┆           ┆           ┆           ┆           │\n",
       "│       ┆ 000000     ┆ 000000     ┆            ┆   ┆           ┆           ┆           ┆           │\n",
       "│ 2     ┆ 2021-06-10 ┆ 2021-06-10 ┆ 0          ┆ … ┆ 1         ┆ 1         ┆ 0         ┆ 1         │\n",
       "│       ┆ T07:19:00. ┆ T07:26:00. ┆            ┆   ┆           ┆           ┆           ┆           │\n",
       "│       ┆ 000000     ┆ 000000     ┆            ┆   ┆           ┆           ┆           ┆           │\n",
       "│ 3     ┆ 2021-06-10 ┆ 2021-06-10 ┆ 0          ┆ … ┆ 1         ┆ 1         ┆ 0         ┆ 1         │\n",
       "│       ┆ T07:26:00. ┆ T07:31:00. ┆            ┆   ┆           ┆           ┆           ┆           │\n",
       "│       ┆ 000000     ┆ 000000     ┆            ┆   ┆           ┆           ┆           ┆           │\n",
       "│ 4     ┆ 2021-06-10 ┆ 2021-06-10 ┆ 0          ┆ … ┆ 1         ┆ 1         ┆ 0         ┆ 1         │\n",
       "│       ┆ T07:31:00. ┆ T07:46:00. ┆            ┆   ┆           ┆           ┆           ┆           │\n",
       "│       ┆ 000000     ┆ 000000     ┆            ┆   ┆           ┆           ┆           ┆           │\n",
       "│ …     ┆ …          ┆ …          ┆ …          ┆ … ┆ …         ┆ …         ┆ …         ┆ …         │\n",
       "│ 739   ┆ 2021-06-10 ┆ 2021-06-10 ┆ 0          ┆ … ┆ 0         ┆ 0         ┆ 0         ┆ 0         │\n",
       "│       ┆ T21:59:00. ┆ T22:00:00. ┆            ┆   ┆           ┆           ┆           ┆           │\n",
       "│       ┆ 000000     ┆ 000000     ┆            ┆   ┆           ┆           ┆           ┆           │\n",
       "│ 740   ┆ 2021-06-10 ┆ 2021-06-10 ┆ 0          ┆ … ┆ 0         ┆ 0         ┆ 0         ┆ 0         │\n",
       "│       ┆ T22:00:00. ┆ T22:04:00. ┆            ┆   ┆           ┆           ┆           ┆           │\n",
       "│       ┆ 000000     ┆ 000000     ┆            ┆   ┆           ┆           ┆           ┆           │\n",
       "│ 741   ┆ 2021-06-10 ┆ 2021-06-10 ┆ 0          ┆ … ┆ 0         ┆ 0         ┆ 0         ┆ 0         │\n",
       "│       ┆ T22:04:00. ┆ T22:06:00. ┆            ┆   ┆           ┆           ┆           ┆           │\n",
       "│       ┆ 000000     ┆ 000000     ┆            ┆   ┆           ┆           ┆           ┆           │\n",
       "│ 742   ┆ 2021-06-10 ┆ 2021-06-10 ┆ 0          ┆ … ┆ 0         ┆ 0         ┆ 0         ┆ 0         │\n",
       "│       ┆ T22:06:00. ┆ T22:20:00. ┆            ┆   ┆           ┆           ┆           ┆           │\n",
       "│       ┆ 000000     ┆ 000000     ┆            ┆   ┆           ┆           ┆           ┆           │\n",
       "│ 743   ┆ 2021-06-10 ┆ 2021-06-10 ┆ 0          ┆ … ┆ 0         ┆ 0         ┆ 0         ┆ 0         │\n",
       "│       ┆ T22:20:00. ┆ T22:30:00. ┆            ┆   ┆           ┆           ┆           ┆           │\n",
       "│       ┆ 000000     ┆ 000000     ┆            ┆   ┆           ┆           ┆           ┆           │\n",
       "└───────┴────────────┴────────────┴────────────┴───┴───────────┴───────────┴───────────┴───────────┘"
      ]
     },
     "execution_count": 3,
     "metadata": {},
     "output_type": "execute_result"
    }
   ],
   "source": [
    "#overlap_matrix.write_csv(\"overlap_matrix_test.csv\")\n",
    "overlap_matrix = pl.read_csv(\"overlap_matrix_test.csv\")\n",
    "overlap_matrix"
   ]
  },
  {
   "cell_type": "code",
   "execution_count": 4,
   "id": "809727b0",
   "metadata": {},
   "outputs": [
    {
     "data": {
      "text/html": [
       "<div><style>\n",
       ".dataframe > thead > tr,\n",
       ".dataframe > tbody > tr {\n",
       "  text-align: right;\n",
       "  white-space: pre-wrap;\n",
       "}\n",
       "</style>\n",
       "<small>shape: (744, 1_000)</small><table border=\"1\" class=\"dataframe\"><thead><tr><th>bar_0_overlap</th><th>bar_1_overlap</th><th>bar_2_overlap</th><th>bar_3_overlap</th><th>bar_4_overlap</th><th>bar_5_overlap</th><th>bar_6_overlap</th><th>bar_7_overlap</th><th>bar_8_overlap</th><th>bar_9_overlap</th><th>bar_10_overlap</th><th>bar_11_overlap</th><th>bar_12_overlap</th><th>bar_13_overlap</th><th>bar_14_overlap</th><th>bar_15_overlap</th><th>bar_16_overlap</th><th>bar_17_overlap</th><th>bar_18_overlap</th><th>bar_19_overlap</th><th>bar_20_overlap</th><th>bar_21_overlap</th><th>bar_22_overlap</th><th>bar_23_overlap</th><th>bar_24_overlap</th><th>bar_25_overlap</th><th>bar_26_overlap</th><th>bar_27_overlap</th><th>bar_28_overlap</th><th>bar_29_overlap</th><th>bar_30_overlap</th><th>bar_31_overlap</th><th>bar_32_overlap</th><th>bar_33_overlap</th><th>bar_34_overlap</th><th>bar_35_overlap</th><th>bar_36_overlap</th><th>&hellip;</th><th>bar_963_overlap</th><th>bar_964_overlap</th><th>bar_965_overlap</th><th>bar_966_overlap</th><th>bar_967_overlap</th><th>bar_968_overlap</th><th>bar_969_overlap</th><th>bar_970_overlap</th><th>bar_971_overlap</th><th>bar_972_overlap</th><th>bar_973_overlap</th><th>bar_974_overlap</th><th>bar_975_overlap</th><th>bar_976_overlap</th><th>bar_977_overlap</th><th>bar_978_overlap</th><th>bar_979_overlap</th><th>bar_980_overlap</th><th>bar_981_overlap</th><th>bar_982_overlap</th><th>bar_983_overlap</th><th>bar_984_overlap</th><th>bar_985_overlap</th><th>bar_986_overlap</th><th>bar_987_overlap</th><th>bar_988_overlap</th><th>bar_989_overlap</th><th>bar_990_overlap</th><th>bar_991_overlap</th><th>bar_992_overlap</th><th>bar_993_overlap</th><th>bar_994_overlap</th><th>bar_995_overlap</th><th>bar_996_overlap</th><th>bar_997_overlap</th><th>bar_998_overlap</th><th>bar_999_overlap</th></tr><tr><td>i64</td><td>i64</td><td>i64</td><td>i64</td><td>i64</td><td>i64</td><td>i64</td><td>i64</td><td>i64</td><td>i64</td><td>i64</td><td>i64</td><td>i64</td><td>i64</td><td>i64</td><td>i64</td><td>i64</td><td>i64</td><td>i64</td><td>i64</td><td>i64</td><td>i64</td><td>i64</td><td>i64</td><td>i64</td><td>i64</td><td>i64</td><td>i64</td><td>i64</td><td>i64</td><td>i64</td><td>i64</td><td>i64</td><td>i64</td><td>i64</td><td>i64</td><td>i64</td><td>&hellip;</td><td>i64</td><td>i64</td><td>i64</td><td>i64</td><td>i64</td><td>i64</td><td>i64</td><td>i64</td><td>i64</td><td>i64</td><td>i64</td><td>i64</td><td>i64</td><td>i64</td><td>i64</td><td>i64</td><td>i64</td><td>i64</td><td>i64</td><td>i64</td><td>i64</td><td>i64</td><td>i64</td><td>i64</td><td>i64</td><td>i64</td><td>i64</td><td>i64</td><td>i64</td><td>i64</td><td>i64</td><td>i64</td><td>i64</td><td>i64</td><td>i64</td><td>i64</td><td>i64</td></tr></thead><tbody><tr><td>0</td><td>0</td><td>0</td><td>0</td><td>0</td><td>0</td><td>0</td><td>0</td><td>0</td><td>0</td><td>0</td><td>0</td><td>0</td><td>0</td><td>0</td><td>0</td><td>0</td><td>0</td><td>0</td><td>0</td><td>0</td><td>0</td><td>0</td><td>0</td><td>0</td><td>0</td><td>0</td><td>0</td><td>0</td><td>0</td><td>0</td><td>0</td><td>0</td><td>0</td><td>0</td><td>0</td><td>0</td><td>&hellip;</td><td>0</td><td>0</td><td>0</td><td>0</td><td>0</td><td>0</td><td>0</td><td>0</td><td>0</td><td>0</td><td>0</td><td>0</td><td>0</td><td>0</td><td>0</td><td>0</td><td>0</td><td>0</td><td>0</td><td>0</td><td>0</td><td>0</td><td>0</td><td>0</td><td>0</td><td>0</td><td>0</td><td>0</td><td>0</td><td>0</td><td>0</td><td>0</td><td>0</td><td>0</td><td>0</td><td>0</td><td>0</td></tr><tr><td>0</td><td>0</td><td>0</td><td>0</td><td>0</td><td>0</td><td>0</td><td>0</td><td>0</td><td>0</td><td>0</td><td>0</td><td>0</td><td>0</td><td>0</td><td>0</td><td>0</td><td>0</td><td>0</td><td>0</td><td>0</td><td>0</td><td>0</td><td>0</td><td>0</td><td>0</td><td>0</td><td>0</td><td>0</td><td>0</td><td>0</td><td>0</td><td>0</td><td>0</td><td>0</td><td>0</td><td>0</td><td>&hellip;</td><td>0</td><td>0</td><td>0</td><td>0</td><td>0</td><td>0</td><td>0</td><td>0</td><td>0</td><td>0</td><td>0</td><td>0</td><td>0</td><td>0</td><td>0</td><td>0</td><td>0</td><td>0</td><td>0</td><td>0</td><td>0</td><td>0</td><td>0</td><td>0</td><td>0</td><td>0</td><td>0</td><td>0</td><td>0</td><td>0</td><td>0</td><td>0</td><td>0</td><td>0</td><td>0</td><td>0</td><td>0</td></tr><tr><td>0</td><td>0</td><td>0</td><td>0</td><td>0</td><td>0</td><td>0</td><td>0</td><td>0</td><td>0</td><td>0</td><td>0</td><td>0</td><td>0</td><td>0</td><td>0</td><td>0</td><td>0</td><td>0</td><td>0</td><td>0</td><td>0</td><td>0</td><td>0</td><td>0</td><td>0</td><td>0</td><td>0</td><td>0</td><td>0</td><td>0</td><td>0</td><td>0</td><td>0</td><td>0</td><td>0</td><td>0</td><td>&hellip;</td><td>0</td><td>0</td><td>0</td><td>0</td><td>0</td><td>0</td><td>0</td><td>0</td><td>0</td><td>0</td><td>0</td><td>0</td><td>0</td><td>0</td><td>0</td><td>0</td><td>0</td><td>0</td><td>0</td><td>0</td><td>0</td><td>0</td><td>0</td><td>0</td><td>0</td><td>0</td><td>0</td><td>0</td><td>0</td><td>0</td><td>0</td><td>0</td><td>0</td><td>0</td><td>0</td><td>0</td><td>0</td></tr><tr><td>0</td><td>0</td><td>0</td><td>0</td><td>0</td><td>0</td><td>0</td><td>0</td><td>0</td><td>0</td><td>0</td><td>0</td><td>0</td><td>0</td><td>0</td><td>0</td><td>0</td><td>0</td><td>0</td><td>0</td><td>0</td><td>0</td><td>0</td><td>0</td><td>0</td><td>0</td><td>0</td><td>0</td><td>0</td><td>0</td><td>0</td><td>0</td><td>0</td><td>0</td><td>0</td><td>0</td><td>0</td><td>&hellip;</td><td>0</td><td>0</td><td>0</td><td>0</td><td>0</td><td>0</td><td>0</td><td>0</td><td>0</td><td>0</td><td>0</td><td>0</td><td>0</td><td>0</td><td>0</td><td>0</td><td>0</td><td>0</td><td>0</td><td>0</td><td>0</td><td>0</td><td>0</td><td>0</td><td>0</td><td>0</td><td>0</td><td>0</td><td>0</td><td>0</td><td>0</td><td>0</td><td>0</td><td>0</td><td>0</td><td>0</td><td>0</td></tr><tr><td>0</td><td>0</td><td>0</td><td>0</td><td>0</td><td>0</td><td>0</td><td>0</td><td>0</td><td>0</td><td>0</td><td>0</td><td>0</td><td>0</td><td>0</td><td>0</td><td>0</td><td>0</td><td>0</td><td>0</td><td>0</td><td>0</td><td>0</td><td>0</td><td>0</td><td>0</td><td>0</td><td>0</td><td>0</td><td>0</td><td>0</td><td>0</td><td>0</td><td>0</td><td>0</td><td>0</td><td>0</td><td>&hellip;</td><td>0</td><td>0</td><td>0</td><td>0</td><td>0</td><td>0</td><td>0</td><td>0</td><td>0</td><td>0</td><td>0</td><td>0</td><td>0</td><td>0</td><td>0</td><td>0</td><td>0</td><td>0</td><td>0</td><td>0</td><td>0</td><td>0</td><td>0</td><td>0</td><td>0</td><td>0</td><td>0</td><td>0</td><td>0</td><td>0</td><td>0</td><td>0</td><td>0</td><td>0</td><td>0</td><td>0</td><td>0</td></tr><tr><td>&hellip;</td><td>&hellip;</td><td>&hellip;</td><td>&hellip;</td><td>&hellip;</td><td>&hellip;</td><td>&hellip;</td><td>&hellip;</td><td>&hellip;</td><td>&hellip;</td><td>&hellip;</td><td>&hellip;</td><td>&hellip;</td><td>&hellip;</td><td>&hellip;</td><td>&hellip;</td><td>&hellip;</td><td>&hellip;</td><td>&hellip;</td><td>&hellip;</td><td>&hellip;</td><td>&hellip;</td><td>&hellip;</td><td>&hellip;</td><td>&hellip;</td><td>&hellip;</td><td>&hellip;</td><td>&hellip;</td><td>&hellip;</td><td>&hellip;</td><td>&hellip;</td><td>&hellip;</td><td>&hellip;</td><td>&hellip;</td><td>&hellip;</td><td>&hellip;</td><td>&hellip;</td><td>&hellip;</td><td>&hellip;</td><td>&hellip;</td><td>&hellip;</td><td>&hellip;</td><td>&hellip;</td><td>&hellip;</td><td>&hellip;</td><td>&hellip;</td><td>&hellip;</td><td>&hellip;</td><td>&hellip;</td><td>&hellip;</td><td>&hellip;</td><td>&hellip;</td><td>&hellip;</td><td>&hellip;</td><td>&hellip;</td><td>&hellip;</td><td>&hellip;</td><td>&hellip;</td><td>&hellip;</td><td>&hellip;</td><td>&hellip;</td><td>&hellip;</td><td>&hellip;</td><td>&hellip;</td><td>&hellip;</td><td>&hellip;</td><td>&hellip;</td><td>&hellip;</td><td>&hellip;</td><td>&hellip;</td><td>&hellip;</td><td>&hellip;</td><td>&hellip;</td><td>&hellip;</td><td>&hellip;</td></tr><tr><td>0</td><td>0</td><td>0</td><td>0</td><td>0</td><td>1</td><td>0</td><td>0</td><td>0</td><td>0</td><td>0</td><td>1</td><td>0</td><td>0</td><td>0</td><td>0</td><td>0</td><td>0</td><td>0</td><td>0</td><td>0</td><td>0</td><td>1</td><td>0</td><td>0</td><td>0</td><td>0</td><td>0</td><td>0</td><td>0</td><td>0</td><td>0</td><td>0</td><td>0</td><td>0</td><td>0</td><td>0</td><td>&hellip;</td><td>0</td><td>0</td><td>0</td><td>0</td><td>0</td><td>0</td><td>0</td><td>0</td><td>0</td><td>0</td><td>0</td><td>0</td><td>0</td><td>0</td><td>0</td><td>0</td><td>0</td><td>0</td><td>0</td><td>0</td><td>0</td><td>0</td><td>0</td><td>0</td><td>0</td><td>0</td><td>0</td><td>0</td><td>0</td><td>0</td><td>0</td><td>0</td><td>0</td><td>0</td><td>0</td><td>0</td><td>0</td></tr><tr><td>0</td><td>0</td><td>0</td><td>0</td><td>0</td><td>1</td><td>0</td><td>0</td><td>0</td><td>0</td><td>0</td><td>1</td><td>0</td><td>0</td><td>0</td><td>0</td><td>0</td><td>0</td><td>0</td><td>0</td><td>0</td><td>0</td><td>1</td><td>0</td><td>0</td><td>0</td><td>0</td><td>0</td><td>0</td><td>0</td><td>0</td><td>0</td><td>0</td><td>0</td><td>0</td><td>0</td><td>0</td><td>&hellip;</td><td>0</td><td>0</td><td>0</td><td>0</td><td>0</td><td>0</td><td>0</td><td>0</td><td>0</td><td>0</td><td>0</td><td>0</td><td>0</td><td>0</td><td>0</td><td>0</td><td>0</td><td>0</td><td>0</td><td>0</td><td>0</td><td>0</td><td>0</td><td>0</td><td>0</td><td>0</td><td>0</td><td>0</td><td>0</td><td>0</td><td>0</td><td>0</td><td>0</td><td>0</td><td>0</td><td>0</td><td>0</td></tr><tr><td>0</td><td>0</td><td>0</td><td>0</td><td>0</td><td>1</td><td>0</td><td>0</td><td>0</td><td>0</td><td>0</td><td>1</td><td>0</td><td>0</td><td>0</td><td>0</td><td>0</td><td>0</td><td>0</td><td>0</td><td>0</td><td>0</td><td>0</td><td>0</td><td>0</td><td>0</td><td>0</td><td>0</td><td>0</td><td>0</td><td>0</td><td>0</td><td>0</td><td>0</td><td>0</td><td>0</td><td>0</td><td>&hellip;</td><td>0</td><td>0</td><td>0</td><td>0</td><td>0</td><td>0</td><td>0</td><td>0</td><td>0</td><td>0</td><td>0</td><td>0</td><td>0</td><td>0</td><td>0</td><td>0</td><td>0</td><td>0</td><td>0</td><td>0</td><td>0</td><td>0</td><td>0</td><td>0</td><td>0</td><td>0</td><td>0</td><td>0</td><td>0</td><td>0</td><td>0</td><td>0</td><td>0</td><td>0</td><td>0</td><td>0</td><td>0</td></tr><tr><td>0</td><td>0</td><td>0</td><td>0</td><td>0</td><td>1</td><td>0</td><td>0</td><td>0</td><td>0</td><td>0</td><td>1</td><td>0</td><td>0</td><td>0</td><td>0</td><td>0</td><td>0</td><td>0</td><td>0</td><td>0</td><td>0</td><td>0</td><td>0</td><td>0</td><td>0</td><td>0</td><td>0</td><td>0</td><td>0</td><td>0</td><td>0</td><td>0</td><td>0</td><td>0</td><td>0</td><td>0</td><td>&hellip;</td><td>0</td><td>0</td><td>0</td><td>0</td><td>0</td><td>0</td><td>0</td><td>0</td><td>0</td><td>0</td><td>0</td><td>0</td><td>0</td><td>0</td><td>0</td><td>0</td><td>0</td><td>0</td><td>0</td><td>0</td><td>0</td><td>0</td><td>0</td><td>0</td><td>0</td><td>0</td><td>0</td><td>0</td><td>0</td><td>0</td><td>0</td><td>0</td><td>0</td><td>0</td><td>0</td><td>0</td><td>0</td></tr><tr><td>0</td><td>0</td><td>0</td><td>0</td><td>0</td><td>1</td><td>0</td><td>0</td><td>0</td><td>0</td><td>0</td><td>0</td><td>0</td><td>0</td><td>0</td><td>0</td><td>0</td><td>0</td><td>0</td><td>0</td><td>0</td><td>0</td><td>0</td><td>0</td><td>0</td><td>0</td><td>0</td><td>0</td><td>0</td><td>0</td><td>0</td><td>0</td><td>0</td><td>0</td><td>0</td><td>0</td><td>0</td><td>&hellip;</td><td>0</td><td>0</td><td>0</td><td>0</td><td>0</td><td>0</td><td>0</td><td>0</td><td>0</td><td>0</td><td>0</td><td>0</td><td>0</td><td>0</td><td>0</td><td>0</td><td>0</td><td>0</td><td>0</td><td>0</td><td>0</td><td>0</td><td>0</td><td>0</td><td>0</td><td>0</td><td>0</td><td>0</td><td>0</td><td>0</td><td>0</td><td>0</td><td>0</td><td>0</td><td>0</td><td>0</td><td>0</td></tr></tbody></table></div>"
      ],
      "text/plain": [
       "shape: (744, 1_000)\n",
       "┌───────────┬───────────┬───────────┬───────────┬───┬───────────┬───────────┬───────────┬──────────┐\n",
       "│ bar_0_ove ┆ bar_1_ove ┆ bar_2_ove ┆ bar_3_ove ┆ … ┆ bar_996_o ┆ bar_997_o ┆ bar_998_o ┆ bar_999_ │\n",
       "│ rlap      ┆ rlap      ┆ rlap      ┆ rlap      ┆   ┆ verlap    ┆ verlap    ┆ verlap    ┆ overlap  │\n",
       "│ ---       ┆ ---       ┆ ---       ┆ ---       ┆   ┆ ---       ┆ ---       ┆ ---       ┆ ---      │\n",
       "│ i64       ┆ i64       ┆ i64       ┆ i64       ┆   ┆ i64       ┆ i64       ┆ i64       ┆ i64      │\n",
       "╞═══════════╪═══════════╪═══════════╪═══════════╪═══╪═══════════╪═══════════╪═══════════╪══════════╡\n",
       "│ 0         ┆ 0         ┆ 0         ┆ 0         ┆ … ┆ 0         ┆ 0         ┆ 0         ┆ 0        │\n",
       "│ 0         ┆ 0         ┆ 0         ┆ 0         ┆ … ┆ 0         ┆ 0         ┆ 0         ┆ 0        │\n",
       "│ 0         ┆ 0         ┆ 0         ┆ 0         ┆ … ┆ 0         ┆ 0         ┆ 0         ┆ 0        │\n",
       "│ 0         ┆ 0         ┆ 0         ┆ 0         ┆ … ┆ 0         ┆ 0         ┆ 0         ┆ 0        │\n",
       "│ 0         ┆ 0         ┆ 0         ┆ 0         ┆ … ┆ 0         ┆ 0         ┆ 0         ┆ 0        │\n",
       "│ …         ┆ …         ┆ …         ┆ …         ┆ … ┆ …         ┆ …         ┆ …         ┆ …        │\n",
       "│ 0         ┆ 0         ┆ 0         ┆ 0         ┆ … ┆ 0         ┆ 0         ┆ 0         ┆ 0        │\n",
       "│ 0         ┆ 0         ┆ 0         ┆ 0         ┆ … ┆ 0         ┆ 0         ┆ 0         ┆ 0        │\n",
       "│ 0         ┆ 0         ┆ 0         ┆ 0         ┆ … ┆ 0         ┆ 0         ┆ 0         ┆ 0        │\n",
       "│ 0         ┆ 0         ┆ 0         ┆ 0         ┆ … ┆ 0         ┆ 0         ┆ 0         ┆ 0        │\n",
       "│ 0         ┆ 0         ┆ 0         ┆ 0         ┆ … ┆ 0         ┆ 0         ┆ 0         ┆ 0        │\n",
       "└───────────┴───────────┴───────────┴───────────┴───┴───────────┴───────────┴───────────┴──────────┘"
      ]
     },
     "execution_count": 4,
     "metadata": {},
     "output_type": "execute_result"
    }
   ],
   "source": [
    "overlap_matrix = pl.read_csv(\"overlap_matrix_test.csv\")\n",
    "\n",
    "overlap_matrix_bars = overlap_matrix.with_columns(\n",
    "    pl.when(\n",
    "        pl.col(\"time_start\") == pl.col(\"time_end\"),\n",
    "    ).then(1).otherwise(0).alias(\"zero_time_interval_flag\")\n",
    ").filter(\n",
    "    pl.col(\"zero_time_interval_flag\") != 1\n",
    ").drop(\n",
    "    \"index\",\n",
    "    \"time_start\",\n",
    "    \"time_end\",\n",
    "    \"zero_time_interval_flag\"\n",
    ")[:, 0:1000]\n",
    "\n",
    "overlap_matrix_vert_sum = overlap_matrix_bars.sum()\n",
    "\n",
    "overlap_matrix_bars"
   ]
  },
  {
   "cell_type": "code",
   "execution_count": 5,
   "id": "185b0d96",
   "metadata": {},
   "outputs": [
    {
     "data": {
      "text/plain": [
       "array([[0, 0, 0, ..., 0, 0, 0],\n",
       "       [0, 0, 0, ..., 0, 0, 0],\n",
       "       [0, 0, 0, ..., 0, 0, 0],\n",
       "       ...,\n",
       "       [0, 0, 0, ..., 0, 0, 0],\n",
       "       [0, 0, 0, ..., 0, 0, 0],\n",
       "       [0, 0, 0, ..., 0, 0, 0]], dtype=int64)"
      ]
     },
     "execution_count": 5,
     "metadata": {},
     "output_type": "execute_result"
    }
   ],
   "source": [
    "overlap_matrix = pl.read_csv(\"overlap_matrix_test.csv\")\n",
    "\n",
    "overlap_matrix_bars = overlap_matrix.with_columns(\n",
    "    pl.when(\n",
    "        pl.col(\"time_start\") == pl.col(\"time_end\"),\n",
    "    ).then(1).otherwise(0).alias(\"zero_time_interval_flag\")\n",
    ").filter(\n",
    "    pl.col(\"zero_time_interval_flag\") != 1\n",
    ").drop(\n",
    "    \"index\",\n",
    "    \"time_start\",\n",
    "    \"time_end\",\n",
    "    \"zero_time_interval_flag\"\n",
    ")[:, 0:1000]\n",
    "\n",
    "overlap_matrix_vert_sum = overlap_matrix_bars.sum()\n",
    "\n",
    "overlap_matrix_bars_np = overlap_matrix_bars.to_numpy()\n",
    "overlap_matrix_vert_sum_np = overlap_matrix_vert_sum.to_numpy()\n",
    "overlap_matrix_bars_np"
   ]
  },
  {
   "cell_type": "code",
   "execution_count": 7,
   "id": "ab89792d",
   "metadata": {},
   "outputs": [
    {
     "data": {
      "text/plain": [
       "array([[1, 3, 5],\n",
       "       [0, 0, 0],\n",
       "       [0, 0, 0],\n",
       "       ...,\n",
       "       [0, 0, 1],\n",
       "       [0, 0, 1],\n",
       "       [0, 0, 1]], dtype=int64)"
      ]
     },
     "execution_count": 7,
     "metadata": {},
     "output_type": "execute_result"
    }
   ],
   "source": [
    "for i in range(overlap_matrix_bars_np.shape[1]):\n",
    "    overlap_matrix_bars_np[0,i] = i"
   ]
  },
  {
   "cell_type": "code",
   "execution_count": 14,
   "id": "84e5cee7",
   "metadata": {},
   "outputs": [
    {
     "data": {
      "text/plain": [
       "array([[612, 517, 823, ..., 722, 199, 289],\n",
       "       [  0,   0,   0, ...,   0,   0,   0],\n",
       "       [  0,   0,   0, ...,   0,   0,   0],\n",
       "       ...,\n",
       "       [  0,   0,   0, ...,   0,   0,   0],\n",
       "       [  0,   0,   0, ...,   0,   0,   0],\n",
       "       [  0,   0,   0, ...,   0,   0,   0]], dtype=int64)"
      ]
     },
     "execution_count": 14,
     "metadata": {},
     "output_type": "execute_result"
    }
   ],
   "source": [
    "from sklearn.utils.random import sample_without_replacement\n",
    "\n",
    "sample_indices = sample_without_replacement(\n",
    "    1000, 10\n",
    ")\n",
    "\n",
    "overlap_matrix_bars_np[:,sample_indices]"
   ]
  },
  {
   "cell_type": "code",
   "execution_count": 19,
   "id": "a718447b",
   "metadata": {},
   "outputs": [
    {
     "name": "stdout",
     "output_type": "stream",
     "text": [
      "Building estimator 1 of 30 for this parallel run (total 100)...\n",
      "Building estimator 2 of 30 for this parallel run (total 100)...\n",
      "Building estimator 3 of 30 for this parallel run (total 100)...\n",
      "Building estimator 4 of 30 for this parallel run (total 100)...\n",
      "Building estimator 5 of 30 for this parallel run (total 100)...\n",
      "Building estimator 6 of 30 for this parallel run (total 100)...\n",
      "Building estimator 7 of 30 for this parallel run (total 100)...\n",
      "Building estimator 8 of 30 for this parallel run (total 100)...\n",
      "Building estimator 9 of 30 for this parallel run (total 100)...\n",
      "Building estimator 10 of 30 for this parallel run (total 100)...\n",
      "Building estimator 11 of 30 for this parallel run (total 100)...\n",
      "Building estimator 12 of 30 for this parallel run (total 100)...\n",
      "Building estimator 13 of 30 for this parallel run (total 100)...\n",
      "Building estimator 14 of 30 for this parallel run (total 100)...\n",
      "Building estimator 15 of 30 for this parallel run (total 100)...\n",
      "Building estimator 16 of 30 for this parallel run (total 100)...\n",
      "Building estimator 17 of 30 for this parallel run (total 100)...\n",
      "Building estimator 18 of 30 for this parallel run (total 100)...\n",
      "Building estimator 19 of 30 for this parallel run (total 100)...\n",
      "Building estimator 20 of 30 for this parallel run (total 100)...\n",
      "Building estimator 21 of 30 for this parallel run (total 100)...\n",
      "Building estimator 22 of 30 for this parallel run (total 100)...\n",
      "Building estimator 23 of 30 for this parallel run (total 100)...\n",
      "Building estimator 24 of 30 for this parallel run (total 100)...\n",
      "Building estimator 25 of 30 for this parallel run (total 100)...\n",
      "Building estimator 26 of 30 for this parallel run (total 100)...\n",
      "Building estimator 27 of 30 for this parallel run (total 100)...\n",
      "Building estimator 28 of 30 for this parallel run (total 100)...\n",
      "Building estimator 29 of 30 for this parallel run (total 100)...\n",
      "Building estimator 30 of 30 for this parallel run (total 100)...\n"
     ]
    }
   ],
   "source": [
    "verbose = 2\n",
    "n_estimators = 30\n",
    "total_n_estimators = 100\n",
    "for i in range(n_estimators):\n",
    "    if verbose > 1:\n",
    "        print(\n",
    "            f\"Building estimator {i+1} of {n_estimators} for this parallel run (total {total_n_estimators})...\"\n",
    "        )"
   ]
  },
  {
   "cell_type": "code",
   "execution_count": 14,
   "id": "b75e5de2",
   "metadata": {},
   "outputs": [
    {
     "data": {
      "text/plain": [
       "1"
      ]
     },
     "execution_count": 14,
     "metadata": {},
     "output_type": "execute_result"
    }
   ],
   "source": [
    "rs = np.random.RandomState(seed = 5)\n",
    "\n",
    "result = rs.choice(range(3), p = np.array([0,1/2,1/2]))\n",
    "\n",
    "result"
   ]
  },
  {
   "cell_type": "code",
   "execution_count": 17,
   "id": "9071fb3c",
   "metadata": {},
   "outputs": [
    {
     "name": "stdout",
     "output_type": "stream",
     "text": [
      "Completion Time: 5.726243734359741\n"
     ]
    },
    {
     "data": {
      "text/plain": [
       "array([ 84, 491, 789, 445, 263, 759, 635, 717, 238, 812, 227, 384, 737,\n",
       "       120, 481, 553, 823,  39, 667, 754, 208, 270, 759, 831, 607, 789,\n",
       "         8, 294, 529,  12, 907, 219, 151, 581, 101, 766, 904, 970, 464,\n",
       "       243, 545, 136,  22, 592, 502, 575, 853, 862, 772, 871, 123, 369,\n",
       "       835, 135, 447, 447, 769, 743, 812, 203, 451,  20, 360, 714, 512,\n",
       "       664, 781, 849, 764, 657, 351, 602, 870, 189,  31, 850, 161, 882,\n",
       "       392, 962, 650, 555, 559, 677,  51,  45, 750, 947, 673, 900, 521,\n",
       "       286, 190, 936, 209, 640, 449, 327, 943, 936, 604, 824,  27, 342,\n",
       "       190, 563, 713, 408, 348, 436, 518, 660,  79, 206,  46, 867, 110,\n",
       "        92,   0, 146, 379, 897,  79, 550, 278, 995, 863, 822,  64, 606,\n",
       "       382, 838, 476, 773, 114, 592, 963, 791,  47, 429, 507, 615, 990,\n",
       "        22, 931, 128, 604, 867, 532,  13, 798,  59, 463, 745,  20,  95,\n",
       "       597, 859, 580, 121, 567, 845,  79, 617, 946, 356, 869, 361, 625,\n",
       "        82, 762, 972, 235, 294, 402,  24, 603, 290, 295, 843, 486, 179,\n",
       "       239, 265, 255, 716,  99,  41, 688,  40, 543, 922, 642, 715, 548,\n",
       "        39, 872, 689, 285, 915, 878, 695, 378, 978, 303, 229, 862, 737,\n",
       "       141, 376, 469, 702, 785, 386, 267, 574, 175, 778, 291, 713, 877,\n",
       "       739, 317, 708, 173, 455, 453, 380, 229,  25, 765, 872, 711, 395,\n",
       "       211, 769, 217, 910, 677, 162, 204, 567, 925, 192, 758, 365, 665,\n",
       "       564, 512, 845, 376, 532, 988, 526, 588, 144,  24, 625, 526, 640,\n",
       "       624, 187, 682,  89, 188, 786, 648, 536, 584, 860, 485, 465, 535,\n",
       "       707, 764, 619,  11, 353, 833, 699,   5, 433, 783, 511, 238, 278,\n",
       "       317, 313, 807, 455, 106, 488, 830, 678, 220, 535, 917, 382, 191,\n",
       "       107, 491, 431,  23, 938, 967, 810,  78, 745, 726, 680, 544,  38,\n",
       "       487, 797, 596, 279, 787, 332, 766, 956, 290,  72, 804, 193, 913,\n",
       "        50, 811, 651,  84, 237, 741,   1, 209, 189, 510, 877, 602, 735,\n",
       "       695, 489, 566, 595, 804, 707, 124, 740, 993, 355, 151, 964, 528,\n",
       "       858, 373, 960, 436, 947, 538, 780, 585, 769,  94, 931, 770, 570,\n",
       "       510, 772,  51, 746, 102, 613, 950, 336, 880, 410, 954, 980,  79,\n",
       "       666, 857, 377, 979, 536,  11, 306, 807, 190, 865, 255, 375, 992,\n",
       "       575, 721,  42,  65, 580, 371, 919, 287, 366,  96, 813, 638, 856,\n",
       "       828, 701, 713, 546, 161, 750, 473, 577, 447, 793, 119, 658, 834,\n",
       "       189, 318, 244, 828,  59, 330, 252,  62, 695, 322, 810, 609, 364,\n",
       "       689,  42, 863,  66,  27, 882, 441, 959, 568,  71, 130,  23, 396,\n",
       "       492, 163, 272, 725, 586, 489, 107, 634, 170, 124, 801, 284,  24,\n",
       "       277, 467, 796, 110, 387, 742, 610, 989, 901, 918, 787, 146, 887,\n",
       "       872, 253, 586, 593, 603, 325, 642, 626, 130,  67,  87,  87, 828,\n",
       "       529, 343,  96, 847, 122, 957,  42,  51, 518, 613, 294,  71, 391,\n",
       "       398, 804, 230, 383, 272, 837, 545, 798, 734,   7, 300, 625, 391,\n",
       "       198, 952, 911,   9, 196, 366, 460, 172, 957, 372, 924, 887, 325,\n",
       "       899, 411, 493,  94, 501, 987, 548, 203, 648, 215,  55, 572,  42,\n",
       "        18, 383, 763, 627, 258, 826, 296, 786, 330, 973, 607, 377, 860,\n",
       "       773, 656, 146, 796,  89, 335, 495, 344, 137, 806, 295, 525, 935,\n",
       "       425,   0, 460, 349,   5, 734, 775, 935, 470, 815, 674, 531, 749,\n",
       "       911, 365, 133, 355, 953, 951, 890, 846, 952,  63, 951, 971, 916,\n",
       "       706, 336,  61, 616, 746,  19, 817, 435, 817, 922, 355, 175, 151,\n",
       "         7,   5, 577, 745, 586, 682, 428, 658,  83, 184, 745, 705, 954,\n",
       "       900, 908, 288, 486, 717, 151, 463, 256, 356, 275, 773, 812, 561,\n",
       "        18, 584, 212,  99, 879, 170, 675, 908, 105, 240, 560, 445, 751,\n",
       "        99, 565, 472, 376, 696,  24, 356, 171, 889, 574, 140, 368, 115,\n",
       "        40, 923, 545,  79, 243, 637, 519, 435, 631, 140, 318, 690, 683,\n",
       "       854,  62, 182, 808, 198,  88, 318, 688, 547, 922, 807, 614, 712,\n",
       "       135,  67, 531, 185,  47, 270, 409, 682,  68, 613, 424, 632, 901,\n",
       "       652,  84, 982, 120, 280,  94, 717, 422, 563,  76, 118, 651, 106,\n",
       "       974, 382, 281, 413, 639, 541, 901,  18, 684, 554,  27, 790, 167,\n",
       "       102, 983, 705, 709, 979, 247, 374, 369, 583, 683, 498, 256, 265,\n",
       "       574, 304, 142, 675, 901, 202, 407, 458,  98, 701, 851, 326, 526,\n",
       "       799, 816,  48, 760, 426, 105, 501, 172, 148, 150, 325, 928, 582,\n",
       "       938, 654, 354, 298, 113, 182, 483, 591, 382, 188, 603, 958, 618,\n",
       "       660, 656, 657, 778, 223, 247,  24, 460, 573, 337, 532, 531, 725,\n",
       "       863, 956,  83, 786, 270,   5, 245, 830, 274, 209, 667, 107, 582,\n",
       "       878, 581, 628, 631, 854,   1, 584, 918, 175, 259, 294,  55, 681,\n",
       "       967, 892, 807, 508, 407,  91,  94, 919, 237, 864, 547, 118, 819,\n",
       "        14, 257, 322, 434, 578, 849, 541, 195, 227, 797, 606, 650, 400,\n",
       "       534, 447, 512, 598, 841, 430, 455, 397, 718,  23, 885, 649, 356,\n",
       "       937, 617, 978, 675, 759, 359, 226, 352, 957,  21, 598, 445, 271,\n",
       "       719, 378, 827, 579, 771, 707, 706, 561, 913, 409, 809, 168, 258,\n",
       "       382, 426, 924, 667, 146, 635,  37, 480, 980, 325, 744, 306, 892,\n",
       "       418, 158,  95, 920, 632, 102, 767, 318, 681, 671, 664, 492, 254,\n",
       "       365,  25, 942, 557, 987, 752, 630, 474, 245, 811,  32, 792, 393,\n",
       "       290, 430, 723, 529, 281, 597, 950,  29,  94, 567, 562, 841, 908,\n",
       "       988, 543, 483, 828, 744, 626,  47, 603,   5,  38,   9, 221, 423,\n",
       "       832, 488, 616, 453, 535, 639, 472, 285, 774,  14, 507, 504, 652,\n",
       "       877, 449, 509, 572, 121, 124, 980, 824,  15, 320, 217, 339, 180,\n",
       "       347, 804, 759, 388, 459, 980, 172, 624, 352, 429,  66,  27, 205,\n",
       "       642, 231,   4, 614, 542, 602,  88, 287, 590, 758,  41,  87,  90,\n",
       "       520, 539, 388,  94, 558, 129, 119, 851, 954, 739, 903, 229])"
      ]
     },
     "execution_count": 17,
     "metadata": {},
     "output_type": "execute_result"
    }
   ],
   "source": [
    "import time\n",
    "from tsuro.sampling.bootstrap_sampling import create_sequential_bootstrap_sample_indices\n",
    "random_state = np.random.RandomState()\n",
    "index_pool = np.arange(overlap_matrix_bars.width)\n",
    "time0 = time.time()\n",
    "sample_indices = create_sequential_bootstrap_sample_indices(\n",
    "    overlap_matrix = overlap_matrix_bars_np,\n",
    "    overlap_matrix_column_sums = overlap_matrix_vert_sum_np,\n",
    "    index_pool = index_pool,\n",
    "    random_state = random_state\n",
    ")\n",
    "time1 = time.time()\n",
    "completion_time = time1-time0\n",
    "print(f\"Completion Time: {completion_time}\")\n",
    "sample_indices"
   ]
  },
  {
   "cell_type": "code",
   "execution_count": 4,
   "id": "0e999149",
   "metadata": {},
   "outputs": [
    {
     "name": "stdout",
     "output_type": "stream",
     "text": [
      "Sample Size: 100\n",
      "Completion Time: 0.06164908409118652\n",
      "Sample Size: 500\n",
      "Completion Time: 0.2740144729614258\n",
      "Sample Size: 1000\n",
      "Completion Time: 0.5509986877441406\n",
      "Sample Size: 5000\n",
      "Completion Time: 2.934000015258789\n",
      "Sample Size: 10000\n",
      "Completion Time: 6.29799747467041\n",
      "Sample Size: 25000\n",
      "Completion Time: 17.437002420425415\n",
      "Sample Size: 50000\n",
      "Completion Time: 72.2759518623352\n"
     ]
    },
    {
     "data": {
      "text/plain": [
       "{'100': 0.06164908409118652,\n",
       " '500': 0.2740144729614258,\n",
       " '1000': 0.5509986877441406,\n",
       " '5000': 2.934000015258789,\n",
       " '10000': 6.29799747467041,\n",
       " '25000': 17.437002420425415,\n",
       " '50000': 72.2759518623352}"
      ]
     },
     "execution_count": 4,
     "metadata": {},
     "output_type": "execute_result"
    }
   ],
   "source": [
    "import time\n",
    "from tsuro.sampling import create_overlap_matrix\n",
    "\n",
    "complexity = {}\n",
    "\n",
    "sample_sizes = [100, 500, 1000, 5000, 10000, 25000, 50000]\n",
    "\n",
    "for sample_size in sample_sizes:\n",
    "    print(f\"Sample Size: {sample_size}\")\n",
    "    df_sample = df_test[0:sample_size]\n",
    "    \n",
    "    time0 = time.time()\n",
    "    overlap_mat = create_overlap_matrix(\n",
    "        df_sample,\n",
    "        time_start_col = \"datetime_start\",\n",
    "        time_end_col = \"datetime_end\",\n",
    "        index_col = \"index\",\n",
    "        remove_no_overlaps = True\n",
    "    )\n",
    "    time1 = time.time()\n",
    "    \n",
    "    completion_time = time1-time0\n",
    "    print(f\"Completion Time: {completion_time}\")\n",
    "    complexity[str(sample_size)] = completion_time\n",
    "\n",
    "complexity"
   ]
  },
  {
   "cell_type": "markdown",
   "id": "4f0bd8b6",
   "metadata": {},
   "source": [
    "PSEUDO CODE\n",
    "Function receives two arguments:\n",
    "1) sample_bars [[y_1, tau_start_1, tau_end_1],[y_2, tau_start_2, tau_end_2] ..., [y_I, tau_start_I, tau_end_I]].\n",
    "2) time_index [tau_0,tau_1,...,tau_t].\n",
    "\n",
    "Easier to work with index label itself. We have no need for timestamps. At the end of the day we just want to create bootstrap samples for the sample_bars. Therefore, time_index is optional argument. Pass sample_bars through alone with tau_start, tau_end replaced with time index labels ([y_1, 1, 2] means that y_1 bar covers the period [tau_1,tau_2]). We will build at most a t x I indicator matrix. We only care about the period [tau_start_1, tau_end_I], so we can further reduce the complexity."
   ]
  },
  {
   "cell_type": "code",
   "execution_count": 7,
   "id": "6b068182",
   "metadata": {},
   "outputs": [
    {
     "data": {
      "text/plain": [
       "6"
      ]
     },
     "execution_count": 7,
     "metadata": {},
     "output_type": "execute_result"
    }
   ],
   "source": [
    "from tsuro.sampling import create_overlap_matrix\n",
    "bars_df = pl.DataFrame({\n",
    "        \"bar_index\": [0,1,2],\n",
    "        \"volume\": [10, 20, 50],\n",
    "        \"time_start\": [\"10:00\", \"10:02\", \"10:03\"],\n",
    "        \"time_end\": [\"10:03\", \"10:10\", \"10:15\"]\n",
    "        }\n",
    ")\n",
    "\n",
    "index = pl.Series(values = [\"9:55\", \"10:00\", \"10:02\", \"10:03\", \"10:04\", \"10:05\", \"10:08\", \"10:10\", \"10:12\", \"10:15\"])\n",
    "overlap_matrix = create_overlap_matrix(\n",
    "    bars_df,\n",
    "    time_start_col = \"time_start\",\n",
    "    time_end_col = \"time_end\",\n",
    "    time_index = index,\n",
    "    index_col = \"bar_index\",\n",
    "    remove_no_overlaps = True\n",
    ")\n",
    "overlap_matrix.width"
   ]
  },
  {
   "cell_type": "code",
   "execution_count": 8,
   "id": "13a36f1f",
   "metadata": {},
   "outputs": [
    {
     "data": {
      "text/plain": [
       "polars.dataframe.frame.DataFrame"
      ]
     },
     "execution_count": 8,
     "metadata": {},
     "output_type": "execute_result"
    }
   ],
   "source": [
    "from tsuro.data_structures import StandardBars\n",
    "\n",
    "# Create Trades DataFrame\n",
    "trades_df = load_cba_trades()\n",
    "\n",
    "trades_df = cast_strings_to_datetime(trades_df, columns = [\"time\"])\n",
    "\n",
    "time_index = trades_df.select(\"time\").unique()\n",
    "type(time_index)"
   ]
  },
  {
   "cell_type": "code",
   "execution_count": 9,
   "id": "1cf0f346",
   "metadata": {},
   "outputs": [
    {
     "data": {
      "text/html": [
       "<div><style>\n",
       ".dataframe > thead > tr,\n",
       ".dataframe > tbody > tr {\n",
       "  text-align: right;\n",
       "  white-space: pre-wrap;\n",
       "}\n",
       "</style>\n",
       "<small>shape: (49, 8)</small><table border=\"1\" class=\"dataframe\"><thead><tr><th>bar_index</th><th>open_price</th><th>high_price</th><th>low_price</th><th>close_price</th><th>datetime_start</th><th>datetime_end</th><th>zero_time_interval_flag</th></tr><tr><td>i32</td><td>f64</td><td>f64</td><td>f64</td><td>f64</td><td>datetime[μs]</td><td>datetime[μs]</td><td>i32</td></tr></thead><tbody><tr><td>30</td><td>99.89</td><td>99.98</td><td>99.77</td><td>99.915</td><td>2021-06-10 12:47:00</td><td>2021-06-10 12:58:00</td><td>0</td></tr><tr><td>21</td><td>99.845</td><td>99.94</td><td>99.62</td><td>99.7</td><td>2021-06-10 11:10:00</td><td>2021-06-10 11:14:00</td><td>0</td></tr><tr><td>12</td><td>100.8</td><td>101.08</td><td>100.72</td><td>100.945</td><td>2021-06-10 10:29:00</td><td>2021-06-10 10:33:00</td><td>0</td></tr><tr><td>15</td><td>100.905</td><td>100.96</td><td>100.35</td><td>100.35</td><td>2021-06-10 10:45:00</td><td>2021-06-10 10:49:00</td><td>0</td></tr><tr><td>9</td><td>101.6</td><td>101.6</td><td>101.01</td><td>101.21</td><td>2021-06-10 10:18:00</td><td>2021-06-10 10:22:00</td><td>0</td></tr><tr><td>&hellip;</td><td>&hellip;</td><td>&hellip;</td><td>&hellip;</td><td>&hellip;</td><td>&hellip;</td><td>&hellip;</td><td>&hellip;</td></tr><tr><td>47</td><td>99.81</td><td>100.08</td><td>99.76</td><td>100.08</td><td>2021-06-10 15:55:00</td><td>2021-06-10 16:10:00</td><td>0</td></tr><tr><td>38</td><td>99.91</td><td>99.97</td><td>99.73</td><td>99.765</td><td>2021-06-10 14:29:00</td><td>2021-06-10 14:39:00</td><td>0</td></tr><tr><td>41</td><td>99.92</td><td>100.02</td><td>99.84</td><td>99.9</td><td>2021-06-10 15:06:00</td><td>2021-06-10 15:16:00</td><td>0</td></tr><tr><td>35</td><td>99.88</td><td>99.91</td><td>99.63</td><td>99.765</td><td>2021-06-10 13:48:00</td><td>2021-06-10 14:00:00</td><td>0</td></tr><tr><td>65</td><td>100.3127</td><td>104.33</td><td>99.9673</td><td>100.08</td><td>2021-06-10 16:22:00</td><td>2021-06-10 16:28:00</td><td>0</td></tr></tbody></table></div>"
      ],
      "text/plain": [
       "shape: (49, 8)\n",
       "┌───────────┬────────────┬────────────┬───────────┬────────────┬───────────┬───────────┬───────────┐\n",
       "│ bar_index ┆ open_price ┆ high_price ┆ low_price ┆ close_pric ┆ datetime_ ┆ datetime_ ┆ zero_time │\n",
       "│ ---       ┆ ---        ┆ ---        ┆ ---       ┆ e          ┆ start     ┆ end       ┆ _interval │\n",
       "│ i32       ┆ f64        ┆ f64        ┆ f64       ┆ ---        ┆ ---       ┆ ---       ┆ _flag     │\n",
       "│           ┆            ┆            ┆           ┆ f64        ┆ datetime[ ┆ datetime[ ┆ ---       │\n",
       "│           ┆            ┆            ┆           ┆            ┆ μs]       ┆ μs]       ┆ i32       │\n",
       "╞═══════════╪════════════╪════════════╪═══════════╪════════════╪═══════════╪═══════════╪═══════════╡\n",
       "│ 30        ┆ 99.89      ┆ 99.98      ┆ 99.77     ┆ 99.915     ┆ 2021-06-1 ┆ 2021-06-1 ┆ 0         │\n",
       "│           ┆            ┆            ┆           ┆            ┆ 0         ┆ 0         ┆           │\n",
       "│           ┆            ┆            ┆           ┆            ┆ 12:47:00  ┆ 12:58:00  ┆           │\n",
       "│ 21        ┆ 99.845     ┆ 99.94      ┆ 99.62     ┆ 99.7       ┆ 2021-06-1 ┆ 2021-06-1 ┆ 0         │\n",
       "│           ┆            ┆            ┆           ┆            ┆ 0         ┆ 0         ┆           │\n",
       "│           ┆            ┆            ┆           ┆            ┆ 11:10:00  ┆ 11:14:00  ┆           │\n",
       "│ 12        ┆ 100.8      ┆ 101.08     ┆ 100.72    ┆ 100.945    ┆ 2021-06-1 ┆ 2021-06-1 ┆ 0         │\n",
       "│           ┆            ┆            ┆           ┆            ┆ 0         ┆ 0         ┆           │\n",
       "│           ┆            ┆            ┆           ┆            ┆ 10:29:00  ┆ 10:33:00  ┆           │\n",
       "│ 15        ┆ 100.905    ┆ 100.96     ┆ 100.35    ┆ 100.35     ┆ 2021-06-1 ┆ 2021-06-1 ┆ 0         │\n",
       "│           ┆            ┆            ┆           ┆            ┆ 0         ┆ 0         ┆           │\n",
       "│           ┆            ┆            ┆           ┆            ┆ 10:45:00  ┆ 10:49:00  ┆           │\n",
       "│ 9         ┆ 101.6      ┆ 101.6      ┆ 101.01    ┆ 101.21     ┆ 2021-06-1 ┆ 2021-06-1 ┆ 0         │\n",
       "│           ┆            ┆            ┆           ┆            ┆ 0         ┆ 0         ┆           │\n",
       "│           ┆            ┆            ┆           ┆            ┆ 10:18:00  ┆ 10:22:00  ┆           │\n",
       "│ …         ┆ …          ┆ …          ┆ …         ┆ …          ┆ …         ┆ …         ┆ …         │\n",
       "│ 47        ┆ 99.81      ┆ 100.08     ┆ 99.76     ┆ 100.08     ┆ 2021-06-1 ┆ 2021-06-1 ┆ 0         │\n",
       "│           ┆            ┆            ┆           ┆            ┆ 0         ┆ 0         ┆           │\n",
       "│           ┆            ┆            ┆           ┆            ┆ 15:55:00  ┆ 16:10:00  ┆           │\n",
       "│ 38        ┆ 99.91      ┆ 99.97      ┆ 99.73     ┆ 99.765     ┆ 2021-06-1 ┆ 2021-06-1 ┆ 0         │\n",
       "│           ┆            ┆            ┆           ┆            ┆ 0         ┆ 0         ┆           │\n",
       "│           ┆            ┆            ┆           ┆            ┆ 14:29:00  ┆ 14:39:00  ┆           │\n",
       "│ 41        ┆ 99.92      ┆ 100.02     ┆ 99.84     ┆ 99.9       ┆ 2021-06-1 ┆ 2021-06-1 ┆ 0         │\n",
       "│           ┆            ┆            ┆           ┆            ┆ 0         ┆ 0         ┆           │\n",
       "│           ┆            ┆            ┆           ┆            ┆ 15:06:00  ┆ 15:16:00  ┆           │\n",
       "│ 35        ┆ 99.88      ┆ 99.91      ┆ 99.63     ┆ 99.765     ┆ 2021-06-1 ┆ 2021-06-1 ┆ 0         │\n",
       "│           ┆            ┆            ┆           ┆            ┆ 0         ┆ 0         ┆           │\n",
       "│           ┆            ┆            ┆           ┆            ┆ 13:48:00  ┆ 14:00:00  ┆           │\n",
       "│ 65        ┆ 100.3127   ┆ 104.33     ┆ 99.9673   ┆ 100.08     ┆ 2021-06-1 ┆ 2021-06-1 ┆ 0         │\n",
       "│           ┆            ┆            ┆           ┆            ┆ 0         ┆ 0         ┆           │\n",
       "│           ┆            ┆            ┆           ┆            ┆ 16:22:00  ┆ 16:28:00  ┆           │\n",
       "└───────────┴────────────┴────────────┴───────────┴────────────┴───────────┴───────────┴───────────┘"
      ]
     },
     "execution_count": 9,
     "metadata": {},
     "output_type": "execute_result"
    }
   ],
   "source": [
    "bars = StandardBars(datetime_col = \"time\", price_col = \"price\", volume_col = \"volume\")\n",
    "\n",
    "trade_bars = bars.create_volume_bars(\n",
    "    trades_df,\n",
    "    order_by = \"time\"\n",
    ").with_columns(\n",
    "    pl.when(\n",
    "        pl.col(\"datetime_start\") == pl.col(\"datetime_end\"),\n",
    "    ).then(1).otherwise(0).alias(\"zero_time_interval_flag\")\n",
    ").filter(\n",
    "    pl.col(\"zero_time_interval_flag\") != 1\n",
    ")\n",
    "trade_bars"
   ]
  },
  {
   "cell_type": "code",
   "execution_count": 10,
   "id": "0b565c74",
   "metadata": {},
   "outputs": [
    {
     "name": "stdout",
     "output_type": "stream",
     "text": [
      "Time: 0.04100155830383301\n"
     ]
    },
    {
     "data": {
      "text/html": [
       "<div><style>\n",
       ".dataframe > thead > tr,\n",
       ".dataframe > tbody > tr {\n",
       "  text-align: right;\n",
       "  white-space: pre-wrap;\n",
       "}\n",
       "</style>\n",
       "<small>shape: (371, 52)</small><table border=\"1\" class=\"dataframe\"><thead><tr><th>index</th><th>time_start</th><th>time_end</th><th>bar_2_overlap</th><th>bar_4_overlap</th><th>bar_5_overlap</th><th>bar_6_overlap</th><th>bar_7_overlap</th><th>bar_8_overlap</th><th>bar_9_overlap</th><th>bar_10_overlap</th><th>bar_11_overlap</th><th>bar_12_overlap</th><th>bar_13_overlap</th><th>bar_14_overlap</th><th>bar_15_overlap</th><th>bar_16_overlap</th><th>bar_17_overlap</th><th>bar_18_overlap</th><th>bar_19_overlap</th><th>bar_20_overlap</th><th>bar_21_overlap</th><th>bar_22_overlap</th><th>bar_23_overlap</th><th>bar_24_overlap</th><th>bar_25_overlap</th><th>bar_26_overlap</th><th>bar_27_overlap</th><th>bar_28_overlap</th><th>bar_29_overlap</th><th>bar_30_overlap</th><th>bar_31_overlap</th><th>bar_32_overlap</th><th>bar_33_overlap</th><th>bar_34_overlap</th><th>bar_35_overlap</th><th>bar_36_overlap</th><th>bar_37_overlap</th><th>bar_38_overlap</th><th>bar_39_overlap</th><th>bar_40_overlap</th><th>bar_41_overlap</th><th>bar_42_overlap</th><th>bar_43_overlap</th><th>bar_44_overlap</th><th>bar_45_overlap</th><th>bar_46_overlap</th><th>bar_47_overlap</th><th>bar_61_overlap</th><th>bar_65_overlap</th><th>bar_66_overlap</th><th>bar_67_overlap</th></tr><tr><td>u32</td><td>datetime[μs]</td><td>datetime[μs]</td><td>i32</td><td>i32</td><td>i32</td><td>i32</td><td>i32</td><td>i32</td><td>i32</td><td>i32</td><td>i32</td><td>i32</td><td>i32</td><td>i32</td><td>i32</td><td>i32</td><td>i32</td><td>i32</td><td>i32</td><td>i32</td><td>i32</td><td>i32</td><td>i32</td><td>i32</td><td>i32</td><td>i32</td><td>i32</td><td>i32</td><td>i32</td><td>i32</td><td>i32</td><td>i32</td><td>i32</td><td>i32</td><td>i32</td><td>i32</td><td>i32</td><td>i32</td><td>i32</td><td>i32</td><td>i32</td><td>i32</td><td>i32</td><td>i32</td><td>i32</td><td>i32</td><td>i32</td><td>i32</td><td>i32</td><td>i32</td><td>i32</td></tr></thead><tbody><tr><td>0</td><td>2021-06-10 07:05:00</td><td>2021-06-10 10:02:00</td><td>1</td><td>0</td><td>0</td><td>0</td><td>0</td><td>0</td><td>0</td><td>0</td><td>0</td><td>0</td><td>0</td><td>0</td><td>0</td><td>0</td><td>0</td><td>0</td><td>0</td><td>0</td><td>0</td><td>0</td><td>0</td><td>0</td><td>0</td><td>0</td><td>0</td><td>0</td><td>0</td><td>0</td><td>0</td><td>0</td><td>0</td><td>0</td><td>0</td><td>0</td><td>0</td><td>0</td><td>0</td><td>0</td><td>0</td><td>0</td><td>0</td><td>0</td><td>0</td><td>0</td><td>0</td><td>0</td><td>0</td><td>0</td><td>0</td></tr><tr><td>1</td><td>2021-06-10 10:02:00</td><td>2021-06-10 10:03:00</td><td>0</td><td>1</td><td>0</td><td>0</td><td>0</td><td>0</td><td>0</td><td>0</td><td>0</td><td>0</td><td>0</td><td>0</td><td>0</td><td>0</td><td>0</td><td>0</td><td>0</td><td>0</td><td>0</td><td>0</td><td>0</td><td>0</td><td>0</td><td>0</td><td>0</td><td>0</td><td>0</td><td>0</td><td>0</td><td>0</td><td>0</td><td>0</td><td>0</td><td>0</td><td>0</td><td>0</td><td>0</td><td>0</td><td>0</td><td>0</td><td>0</td><td>0</td><td>0</td><td>0</td><td>0</td><td>0</td><td>0</td><td>0</td><td>0</td></tr><tr><td>2</td><td>2021-06-10 10:03:00</td><td>2021-06-10 10:04:00</td><td>0</td><td>1</td><td>0</td><td>0</td><td>0</td><td>0</td><td>0</td><td>0</td><td>0</td><td>0</td><td>0</td><td>0</td><td>0</td><td>0</td><td>0</td><td>0</td><td>0</td><td>0</td><td>0</td><td>0</td><td>0</td><td>0</td><td>0</td><td>0</td><td>0</td><td>0</td><td>0</td><td>0</td><td>0</td><td>0</td><td>0</td><td>0</td><td>0</td><td>0</td><td>0</td><td>0</td><td>0</td><td>0</td><td>0</td><td>0</td><td>0</td><td>0</td><td>0</td><td>0</td><td>0</td><td>0</td><td>0</td><td>0</td><td>0</td></tr><tr><td>3</td><td>2021-06-10 10:04:00</td><td>2021-06-10 10:05:00</td><td>0</td><td>1</td><td>0</td><td>0</td><td>0</td><td>0</td><td>0</td><td>0</td><td>0</td><td>0</td><td>0</td><td>0</td><td>0</td><td>0</td><td>0</td><td>0</td><td>0</td><td>0</td><td>0</td><td>0</td><td>0</td><td>0</td><td>0</td><td>0</td><td>0</td><td>0</td><td>0</td><td>0</td><td>0</td><td>0</td><td>0</td><td>0</td><td>0</td><td>0</td><td>0</td><td>0</td><td>0</td><td>0</td><td>0</td><td>0</td><td>0</td><td>0</td><td>0</td><td>0</td><td>0</td><td>0</td><td>0</td><td>0</td><td>0</td></tr><tr><td>4</td><td>2021-06-10 10:05:00</td><td>2021-06-10 10:06:00</td><td>0</td><td>0</td><td>1</td><td>0</td><td>0</td><td>0</td><td>0</td><td>0</td><td>0</td><td>0</td><td>0</td><td>0</td><td>0</td><td>0</td><td>0</td><td>0</td><td>0</td><td>0</td><td>0</td><td>0</td><td>0</td><td>0</td><td>0</td><td>0</td><td>0</td><td>0</td><td>0</td><td>0</td><td>0</td><td>0</td><td>0</td><td>0</td><td>0</td><td>0</td><td>0</td><td>0</td><td>0</td><td>0</td><td>0</td><td>0</td><td>0</td><td>0</td><td>0</td><td>0</td><td>0</td><td>0</td><td>0</td><td>0</td><td>0</td></tr><tr><td>&hellip;</td><td>&hellip;</td><td>&hellip;</td><td>&hellip;</td><td>&hellip;</td><td>&hellip;</td><td>&hellip;</td><td>&hellip;</td><td>&hellip;</td><td>&hellip;</td><td>&hellip;</td><td>&hellip;</td><td>&hellip;</td><td>&hellip;</td><td>&hellip;</td><td>&hellip;</td><td>&hellip;</td><td>&hellip;</td><td>&hellip;</td><td>&hellip;</td><td>&hellip;</td><td>&hellip;</td><td>&hellip;</td><td>&hellip;</td><td>&hellip;</td><td>&hellip;</td><td>&hellip;</td><td>&hellip;</td><td>&hellip;</td><td>&hellip;</td><td>&hellip;</td><td>&hellip;</td><td>&hellip;</td><td>&hellip;</td><td>&hellip;</td><td>&hellip;</td><td>&hellip;</td><td>&hellip;</td><td>&hellip;</td><td>&hellip;</td><td>&hellip;</td><td>&hellip;</td><td>&hellip;</td><td>&hellip;</td><td>&hellip;</td><td>&hellip;</td><td>&hellip;</td><td>&hellip;</td><td>&hellip;</td><td>&hellip;</td><td>&hellip;</td><td>&hellip;</td></tr><tr><td>372</td><td>2021-06-10 16:37:00</td><td>2021-06-10 16:43:00</td><td>0</td><td>0</td><td>0</td><td>0</td><td>0</td><td>0</td><td>0</td><td>0</td><td>0</td><td>0</td><td>0</td><td>0</td><td>0</td><td>0</td><td>0</td><td>0</td><td>0</td><td>0</td><td>0</td><td>0</td><td>0</td><td>0</td><td>0</td><td>0</td><td>0</td><td>0</td><td>0</td><td>0</td><td>0</td><td>0</td><td>0</td><td>0</td><td>0</td><td>0</td><td>0</td><td>0</td><td>0</td><td>0</td><td>0</td><td>0</td><td>0</td><td>0</td><td>0</td><td>0</td><td>0</td><td>0</td><td>0</td><td>1</td><td>0</td></tr><tr><td>373</td><td>2021-06-10 16:43:00</td><td>2021-06-10 16:45:00</td><td>0</td><td>0</td><td>0</td><td>0</td><td>0</td><td>0</td><td>0</td><td>0</td><td>0</td><td>0</td><td>0</td><td>0</td><td>0</td><td>0</td><td>0</td><td>0</td><td>0</td><td>0</td><td>0</td><td>0</td><td>0</td><td>0</td><td>0</td><td>0</td><td>0</td><td>0</td><td>0</td><td>0</td><td>0</td><td>0</td><td>0</td><td>0</td><td>0</td><td>0</td><td>0</td><td>0</td><td>0</td><td>0</td><td>0</td><td>0</td><td>0</td><td>0</td><td>0</td><td>0</td><td>0</td><td>0</td><td>0</td><td>1</td><td>0</td></tr><tr><td>374</td><td>2021-06-10 16:45:00</td><td>2021-06-10 16:46:00</td><td>0</td><td>0</td><td>0</td><td>0</td><td>0</td><td>0</td><td>0</td><td>0</td><td>0</td><td>0</td><td>0</td><td>0</td><td>0</td><td>0</td><td>0</td><td>0</td><td>0</td><td>0</td><td>0</td><td>0</td><td>0</td><td>0</td><td>0</td><td>0</td><td>0</td><td>0</td><td>0</td><td>0</td><td>0</td><td>0</td><td>0</td><td>0</td><td>0</td><td>0</td><td>0</td><td>0</td><td>0</td><td>0</td><td>0</td><td>0</td><td>0</td><td>0</td><td>0</td><td>0</td><td>0</td><td>0</td><td>0</td><td>1</td><td>0</td></tr><tr><td>376</td><td>2021-06-10 16:47:00</td><td>2021-06-10 16:54:00</td><td>0</td><td>0</td><td>0</td><td>0</td><td>0</td><td>0</td><td>0</td><td>0</td><td>0</td><td>0</td><td>0</td><td>0</td><td>0</td><td>0</td><td>0</td><td>0</td><td>0</td><td>0</td><td>0</td><td>0</td><td>0</td><td>0</td><td>0</td><td>0</td><td>0</td><td>0</td><td>0</td><td>0</td><td>0</td><td>0</td><td>0</td><td>0</td><td>0</td><td>0</td><td>0</td><td>0</td><td>0</td><td>0</td><td>0</td><td>0</td><td>0</td><td>0</td><td>0</td><td>0</td><td>0</td><td>0</td><td>0</td><td>0</td><td>1</td></tr><tr><td>377</td><td>2021-06-10 16:54:00</td><td>2021-06-10 17:00:00</td><td>0</td><td>0</td><td>0</td><td>0</td><td>0</td><td>0</td><td>0</td><td>0</td><td>0</td><td>0</td><td>0</td><td>0</td><td>0</td><td>0</td><td>0</td><td>0</td><td>0</td><td>0</td><td>0</td><td>0</td><td>0</td><td>0</td><td>0</td><td>0</td><td>0</td><td>0</td><td>0</td><td>0</td><td>0</td><td>0</td><td>0</td><td>0</td><td>0</td><td>0</td><td>0</td><td>0</td><td>0</td><td>0</td><td>0</td><td>0</td><td>0</td><td>0</td><td>0</td><td>0</td><td>0</td><td>0</td><td>0</td><td>0</td><td>1</td></tr></tbody></table></div>"
      ],
      "text/plain": [
       "shape: (371, 52)\n",
       "┌───────┬────────────┬────────────┬────────────┬───┬───────────┬───────────┬───────────┬───────────┐\n",
       "│ index ┆ time_start ┆ time_end   ┆ bar_2_over ┆ … ┆ bar_61_ov ┆ bar_65_ov ┆ bar_66_ov ┆ bar_67_ov │\n",
       "│ ---   ┆ ---        ┆ ---        ┆ lap        ┆   ┆ erlap     ┆ erlap     ┆ erlap     ┆ erlap     │\n",
       "│ u32   ┆ datetime[μ ┆ datetime[μ ┆ ---        ┆   ┆ ---       ┆ ---       ┆ ---       ┆ ---       │\n",
       "│       ┆ s]         ┆ s]         ┆ i32        ┆   ┆ i32       ┆ i32       ┆ i32       ┆ i32       │\n",
       "╞═══════╪════════════╪════════════╪════════════╪═══╪═══════════╪═══════════╪═══════════╪═══════════╡\n",
       "│ 0     ┆ 2021-06-10 ┆ 2021-06-10 ┆ 1          ┆ … ┆ 0         ┆ 0         ┆ 0         ┆ 0         │\n",
       "│       ┆ 07:05:00   ┆ 10:02:00   ┆            ┆   ┆           ┆           ┆           ┆           │\n",
       "│ 1     ┆ 2021-06-10 ┆ 2021-06-10 ┆ 0          ┆ … ┆ 0         ┆ 0         ┆ 0         ┆ 0         │\n",
       "│       ┆ 10:02:00   ┆ 10:03:00   ┆            ┆   ┆           ┆           ┆           ┆           │\n",
       "│ 2     ┆ 2021-06-10 ┆ 2021-06-10 ┆ 0          ┆ … ┆ 0         ┆ 0         ┆ 0         ┆ 0         │\n",
       "│       ┆ 10:03:00   ┆ 10:04:00   ┆            ┆   ┆           ┆           ┆           ┆           │\n",
       "│ 3     ┆ 2021-06-10 ┆ 2021-06-10 ┆ 0          ┆ … ┆ 0         ┆ 0         ┆ 0         ┆ 0         │\n",
       "│       ┆ 10:04:00   ┆ 10:05:00   ┆            ┆   ┆           ┆           ┆           ┆           │\n",
       "│ 4     ┆ 2021-06-10 ┆ 2021-06-10 ┆ 0          ┆ … ┆ 0         ┆ 0         ┆ 0         ┆ 0         │\n",
       "│       ┆ 10:05:00   ┆ 10:06:00   ┆            ┆   ┆           ┆           ┆           ┆           │\n",
       "│ …     ┆ …          ┆ …          ┆ …          ┆ … ┆ …         ┆ …         ┆ …         ┆ …         │\n",
       "│ 372   ┆ 2021-06-10 ┆ 2021-06-10 ┆ 0          ┆ … ┆ 0         ┆ 0         ┆ 1         ┆ 0         │\n",
       "│       ┆ 16:37:00   ┆ 16:43:00   ┆            ┆   ┆           ┆           ┆           ┆           │\n",
       "│ 373   ┆ 2021-06-10 ┆ 2021-06-10 ┆ 0          ┆ … ┆ 0         ┆ 0         ┆ 1         ┆ 0         │\n",
       "│       ┆ 16:43:00   ┆ 16:45:00   ┆            ┆   ┆           ┆           ┆           ┆           │\n",
       "│ 374   ┆ 2021-06-10 ┆ 2021-06-10 ┆ 0          ┆ … ┆ 0         ┆ 0         ┆ 1         ┆ 0         │\n",
       "│       ┆ 16:45:00   ┆ 16:46:00   ┆            ┆   ┆           ┆           ┆           ┆           │\n",
       "│ 376   ┆ 2021-06-10 ┆ 2021-06-10 ┆ 0          ┆ … ┆ 0         ┆ 0         ┆ 0         ┆ 1         │\n",
       "│       ┆ 16:47:00   ┆ 16:54:00   ┆            ┆   ┆           ┆           ┆           ┆           │\n",
       "│ 377   ┆ 2021-06-10 ┆ 2021-06-10 ┆ 0          ┆ … ┆ 0         ┆ 0         ┆ 0         ┆ 1         │\n",
       "│       ┆ 16:54:00   ┆ 17:00:00   ┆            ┆   ┆           ┆           ┆           ┆           │\n",
       "└───────┴────────────┴────────────┴────────────┴───┴───────────┴───────────┴───────────┴───────────┘"
      ]
     },
     "execution_count": 10,
     "metadata": {},
     "output_type": "execute_result"
    }
   ],
   "source": [
    "import time\n",
    "\n",
    "time0 = time.time()\n",
    "trades_overlap_matrix = create_overlap_matrix(\n",
    "    trade_bars,\n",
    "    time_start_col = \"datetime_start\",\n",
    "    time_end_col = \"datetime_end\",\n",
    "    time_index = time_index,\n",
    "    index_col = \"bar_index\",\n",
    "    remove_no_overlaps = True\n",
    ")\n",
    "\n",
    "time1 = time.time()\n",
    "print(f\"Time: {time1-time0}\")\n",
    "trades_overlap_matrix"
   ]
  },
  {
   "cell_type": "code",
   "execution_count": 11,
   "id": "092be242",
   "metadata": {},
   "outputs": [
    {
     "data": {
      "text/html": [
       "<div><style>\n",
       ".dataframe > thead > tr,\n",
       ".dataframe > tbody > tr {\n",
       "  text-align: right;\n",
       "  white-space: pre-wrap;\n",
       "}\n",
       "</style>\n",
       "<small>shape: (1, 49)</small><table border=\"1\" class=\"dataframe\"><thead><tr><th>bar_2_overlap</th><th>bar_4_overlap</th><th>bar_5_overlap</th><th>bar_6_overlap</th><th>bar_7_overlap</th><th>bar_8_overlap</th><th>bar_9_overlap</th><th>bar_10_overlap</th><th>bar_11_overlap</th><th>bar_12_overlap</th><th>bar_13_overlap</th><th>bar_14_overlap</th><th>bar_15_overlap</th><th>bar_16_overlap</th><th>bar_17_overlap</th><th>bar_18_overlap</th><th>bar_19_overlap</th><th>bar_20_overlap</th><th>bar_21_overlap</th><th>bar_22_overlap</th><th>bar_23_overlap</th><th>bar_24_overlap</th><th>bar_25_overlap</th><th>bar_26_overlap</th><th>bar_27_overlap</th><th>bar_28_overlap</th><th>bar_29_overlap</th><th>bar_30_overlap</th><th>bar_31_overlap</th><th>bar_32_overlap</th><th>bar_33_overlap</th><th>bar_34_overlap</th><th>bar_35_overlap</th><th>bar_36_overlap</th><th>bar_37_overlap</th><th>bar_38_overlap</th><th>bar_39_overlap</th><th>bar_40_overlap</th><th>bar_41_overlap</th><th>bar_42_overlap</th><th>bar_43_overlap</th><th>bar_44_overlap</th><th>bar_45_overlap</th><th>bar_46_overlap</th><th>bar_47_overlap</th><th>bar_61_overlap</th><th>bar_65_overlap</th><th>bar_66_overlap</th><th>bar_67_overlap</th></tr><tr><td>i32</td><td>i32</td><td>i32</td><td>i32</td><td>i32</td><td>i32</td><td>i32</td><td>i32</td><td>i32</td><td>i32</td><td>i32</td><td>i32</td><td>i32</td><td>i32</td><td>i32</td><td>i32</td><td>i32</td><td>i32</td><td>i32</td><td>i32</td><td>i32</td><td>i32</td><td>i32</td><td>i32</td><td>i32</td><td>i32</td><td>i32</td><td>i32</td><td>i32</td><td>i32</td><td>i32</td><td>i32</td><td>i32</td><td>i32</td><td>i32</td><td>i32</td><td>i32</td><td>i32</td><td>i32</td><td>i32</td><td>i32</td><td>i32</td><td>i32</td><td>i32</td><td>i32</td><td>i32</td><td>i32</td><td>i32</td><td>i32</td></tr></thead><tbody><tr><td>1</td><td>3</td><td>2</td><td>5</td><td>3</td><td>3</td><td>4</td><td>3</td><td>4</td><td>4</td><td>5</td><td>7</td><td>4</td><td>5</td><td>6</td><td>3</td><td>4</td><td>3</td><td>4</td><td>7</td><td>11</td><td>12</td><td>11</td><td>11</td><td>10</td><td>16</td><td>15</td><td>11</td><td>14</td><td>15</td><td>9</td><td>12</td><td>12</td><td>10</td><td>19</td><td>10</td><td>16</td><td>11</td><td>10</td><td>11</td><td>9</td><td>7</td><td>7</td><td>5</td><td>5</td><td>1</td><td>4</td><td>5</td><td>2</td></tr></tbody></table></div>"
      ],
      "text/plain": [
       "shape: (1, 49)\n",
       "┌───────────┬───────────┬───────────┬───────────┬───┬───────────┬───────────┬───────────┬──────────┐\n",
       "│ bar_2_ove ┆ bar_4_ove ┆ bar_5_ove ┆ bar_6_ove ┆ … ┆ bar_61_ov ┆ bar_65_ov ┆ bar_66_ov ┆ bar_67_o │\n",
       "│ rlap      ┆ rlap      ┆ rlap      ┆ rlap      ┆   ┆ erlap     ┆ erlap     ┆ erlap     ┆ verlap   │\n",
       "│ ---       ┆ ---       ┆ ---       ┆ ---       ┆   ┆ ---       ┆ ---       ┆ ---       ┆ ---      │\n",
       "│ i32       ┆ i32       ┆ i32       ┆ i32       ┆   ┆ i32       ┆ i32       ┆ i32       ┆ i32      │\n",
       "╞═══════════╪═══════════╪═══════════╪═══════════╪═══╪═══════════╪═══════════╪═══════════╪══════════╡\n",
       "│ 1         ┆ 3         ┆ 2         ┆ 5         ┆ … ┆ 1         ┆ 4         ┆ 5         ┆ 2        │\n",
       "└───────────┴───────────┴───────────┴───────────┴───┴───────────┴───────────┴───────────┴──────────┘"
      ]
     },
     "execution_count": 11,
     "metadata": {},
     "output_type": "execute_result"
    }
   ],
   "source": [
    "from tsuro.utils import compute_column_sums\n",
    "from tsuro.sampling.bootstrap_sampling import create_sequential_bootstrap_sample_indices\n",
    "\n",
    "trades_overlap_matrix_bars = trades_overlap_matrix.drop(\"index\", \"time_start\", \"time_end\")\n",
    "trades_overlap_matrix_bars_sums = compute_column_sums(trades_overlap_matrix_bars)\n",
    "trades_overlap_matrix_bars_sums"
   ]
  },
  {
   "cell_type": "code",
   "execution_count": 15,
   "id": "c8b76c0b",
   "metadata": {},
   "outputs": [
    {
     "data": {
      "text/plain": [
       "array([[0., 0.],\n",
       "       [0., 0.],\n",
       "       [0., 0.]])"
      ]
     },
     "execution_count": 15,
     "metadata": {},
     "output_type": "execute_result"
    }
   ],
   "source": [
    "test = np.zeros([3,2])\n",
    "test"
   ]
  },
  {
   "cell_type": "code",
   "execution_count": 12,
   "id": "eab349ad",
   "metadata": {},
   "outputs": [
    {
     "name": "stdout",
     "output_type": "stream",
     "text": [
      "Time: 14.155001163482666\n"
     ]
    },
    {
     "data": {
      "text/plain": [
       "array([18, 35, 11, 25, 21,  6, 26,  9,  6, 19, 24, 14,  3, 20,  7,  4, 12,\n",
       "       37, 34, 33, 30, 45, 41, 32,  8, 39,  2, 43, 38,  7, 11, 31, 44, 38,\n",
       "       28, 46, 36, 16,  6,  6,  4, 23, 40, 37, 19,  0, 47,  8, 44])"
      ]
     },
     "execution_count": 12,
     "metadata": {},
     "output_type": "execute_result"
    }
   ],
   "source": [
    "import numpy as np\n",
    "\n",
    "index_pool = np.arange(trades_overlap_matrix_bars.width)\n",
    "\n",
    "time0 = time.time()\n",
    "\n",
    "for i in range(100):\n",
    "    sample_indices = create_sequential_bootstrap_sample_indices(\n",
    "        trades_overlap_matrix_bars,\n",
    "        trades_overlap_matrix_bars_sums,\n",
    "        index_pool = index_pool\n",
    "    )\n",
    "time1 = time.time()\n",
    "\n",
    "print(f\"Time: {time1-time0}\")\n",
    "sample_indices"
   ]
  },
  {
   "cell_type": "code",
   "execution_count": 23,
   "id": "127a0b67",
   "metadata": {},
   "outputs": [
    {
     "data": {
      "text/html": [
       "<div><style>\n",
       ".dataframe > thead > tr,\n",
       ".dataframe > tbody > tr {\n",
       "  text-align: right;\n",
       "  white-space: pre-wrap;\n",
       "}\n",
       "</style>\n",
       "<small>shape: (1, 6)</small><table border=\"1\" class=\"dataframe\"><thead><tr><th>index</th><th>time_start</th><th>time_end</th><th>bar_0_overlap</th><th>bar_1_overlap</th><th>bar_2_overlap</th></tr><tr><td>u32</td><td>str</td><td>str</td><td>i32</td><td>i32</td><td>i32</td></tr></thead><tbody><tr><td>28</td><td>null</td><td>null</td><td>2</td><td>5</td><td>6</td></tr></tbody></table></div>"
      ],
      "text/plain": [
       "shape: (1, 6)\n",
       "┌───────┬────────────┬──────────┬───────────────┬───────────────┬───────────────┐\n",
       "│ index ┆ time_start ┆ time_end ┆ bar_0_overlap ┆ bar_1_overlap ┆ bar_2_overlap │\n",
       "│ ---   ┆ ---        ┆ ---      ┆ ---           ┆ ---           ┆ ---           │\n",
       "│ u32   ┆ str        ┆ str      ┆ i32           ┆ i32           ┆ i32           │\n",
       "╞═══════╪════════════╪══════════╪═══════════════╪═══════════════╪═══════════════╡\n",
       "│ 28    ┆ null       ┆ null     ┆ 2             ┆ 5             ┆ 6             │\n",
       "└───────┴────────────┴──────────┴───────────────┴───────────────┴───────────────┘"
      ]
     },
     "execution_count": 23,
     "metadata": {},
     "output_type": "execute_result"
    }
   ],
   "source": [
    "def create_bar_sizes(\n",
    "        overlap_matrix,\n",
    "        bar_col_start_idx: int = 0\n",
    "):\n",
    "    \"\"\"\n",
    "    Compute sizes for each bar\n",
    "    \"\"\"\n",
    "    bar_cols = overlap_matrix.columns[bar_col_start_idx::]\n",
    "\n",
    "    return overlap_matrix.select(\n",
    "        bar_cols\n",
    "    ).sum()\n",
    "\n",
    "create_bar_sizes(overlap_matrix)"
   ]
  },
  {
   "cell_type": "code",
   "execution_count": 4,
   "id": "a985749e",
   "metadata": {},
   "outputs": [],
   "source": [
    "def create_concurrent_overlap(\n",
    "    overlap_matrix,\n",
    "    bar_col_start_idx: int = 0,\n",
    "    drop_bar_cols: bool = True,\n",
    "    concurrent_alias: str = \"concurrency_count\",\n",
    "):\n",
    "    \"\"\"\n",
    "    Compute concurrent overlap across all bars for each time interval.\n",
    "    \"\"\"\n",
    "    bar_cols = overlap_matrix.columns[bar_col_start_idx::]\n",
    "\n",
    "    concurrent_vector = overlap_matrix.with_columns(\n",
    "        pl.sum_horizontal(bar_cols).alias(concurrent_alias)\n",
    "    )\n",
    "\n",
    "    if drop_bar_cols:\n",
    "        concurrent_vector = concurrent_vector.drop(bar_cols)\n",
    "\n",
    "    return concurrent_vector"
   ]
  },
  {
   "cell_type": "code",
   "execution_count": 94,
   "id": "fb43018a",
   "metadata": {},
   "outputs": [],
   "source": [
    "from typing import Optional\n",
    "\n",
    "def _update_chosen_indices(\n",
    "    index_indicator_arr: np.array,\n",
    "    index: int\n",
    ") -> np.array:\n",
    "    \"\"\"\n",
    "    Update index array\n",
    "    \"\"\"\n",
    "    index_indicator_arr[index] = 1\n",
    "    \n",
    "    return index_indicator_arr\n",
    "\n",
    "def _update_sample_array(\n",
    "    sample_array,\n",
    "    idx: int,\n",
    "    result: int\n",
    ") -> np.array:\n",
    "    \"\"\"\n",
    "    Update sample array\n",
    "    \"\"\"\n",
    "    sample_array[idx] = int(result)\n",
    "    return sample_array\n",
    "    \n",
    "    \n",
    "def _compute_uniqueness(\n",
    "    overlap_matrix: pl.DataFrame,\n",
    "    index_arr: np.array\n",
    ") -> pl.DataFrame:\n",
    "    \"\"\"\n",
    "    Compute Uniqueness\n",
    "    \"\"\"\n",
    "    weights = 1 + np.dot(overlap_matrix, index_arr)\n",
    "    \n",
    "    return overlap_matrix.select(pl.all()/weights)\n",
    "\n",
    "def _compute_average_uniqueness(\n",
    "    uniqueness_matrix: pl.DataFrame,\n",
    "    overlap_matrix_sizes: pl.DataFrame\n",
    ") -> pl.DataFrame:\n",
    "    \"\"\"\n",
    "    Compute Average Uniqueness\n",
    "    \"\"\"\n",
    "    return create_bar_sizes(uniqueness_matrix)/overlap_matrix_sizes\n",
    "\n",
    "def _compute_probabilities(\n",
    "    avg_uniqueness_vector: pl.DataFrame\n",
    ") -> np.array:\n",
    "    \"\"\"\n",
    "    Compute Probabilities\n",
    "    \"\"\"\n",
    "    return (avg_uniqueness_vector/avg_uniqueness_vector.sum_horizontal()).row(0)\n",
    "\n",
    "def random_discrete_draw(\n",
    "    elements: np.array,\n",
    "    prob_dist: Optional[tuple] = None\n",
    ") -> int:\n",
    "    \"\"\"\n",
    "    Random Draw from elements using provided probability distribution\n",
    "    \"\"\"\n",
    "    return np.random.choice(elements, p=prob_dist)\n",
    "\n",
    "def create_sample_indices(\n",
    "    overlap_matrix,\n",
    "    overlap_matrix_vertical_sum,\n",
    "    index_pool: np.array,\n",
    "    sample_size: Optional[int] = None\n",
    ") -> np.array:\n",
    "    \"\"\"\n",
    "    Create Sample Indices\n",
    "    \"\"\"\n",
    "    num_indices = overlap_matrix.shape[1]\n",
    "    \n",
    "    if sample_size is None:\n",
    "        sample_size = num_indices\n",
    "    \n",
    "    # Initialization\n",
    "    sample_indices = np.zeros(sample_size)\n",
    "    chosen_indices = np.zeros(num_indices)\n",
    "    \n",
    "    # Initial Draw\n",
    "    result = random_discrete_draw(index_pool)\n",
    "    \n",
    "    # Update Index Indicator Array and Sample Indices\n",
    "    sample_indices = _update_sample_array(sample_indices, 0, result)\n",
    "    chosen_indices = _update_chosen_indices(chosen_indices, result)\n",
    "    print(f\"Sample Indices: {sample_indices}\")\n",
    "    print(f\"Chosen Indices: {chosen_indices}\")\n",
    "    \n",
    "    num_samples = 1\n",
    "    while num_samples < sample_size:\n",
    "        uniqueness_matrix = _compute_uniqueness(overlap_matrix, chosen_indices)\n",
    "\n",
    "        avg_uniqueness_vector = _compute_average_uniqueness(uniqueness_matrix, overlap_matrix_sizes)\n",
    "\n",
    "        probs = _compute_probabilities(avg_uniqueness_vector)\n",
    "        \n",
    "        random_draw = random_discrete_draw(index_pool, probs)\n",
    "        print(type(random_draw))\n",
    "        \n",
    "        # Update Index Indicator Array\n",
    "        chosen_indices = _update_chosen_indices(chosen_indices, random_draw)\n",
    "        sample_indices = _update_sample_array(sample_indices, num_samples, random_draw)\n",
    "        \n",
    "        # Increase Num Samples\n",
    "        num_samples = num_samples + 1\n",
    "        \n",
    "        print(f\"Sample Indices: {sample_indices}\")\n",
    "        print(f\"Chosen Indices: {chosen_indices}\")\n",
    "        \n",
    "    return sample_indices.astype(int)"
   ]
  },
  {
   "cell_type": "code",
   "execution_count": 95,
   "id": "365cb395",
   "metadata": {},
   "outputs": [
    {
     "name": "stdout",
     "output_type": "stream",
     "text": [
      "Sample Indices: [1. 0. 0.]\n",
      "Chosen Indices: [0. 1. 0.]\n",
      "<class 'numpy.int32'>\n",
      "Sample Indices: [1. 2. 0.]\n",
      "Chosen Indices: [0. 1. 1.]\n",
      "<class 'numpy.int32'>\n",
      "Sample Indices: [1. 2. 0.]\n",
      "Chosen Indices: [1. 1. 1.]\n"
     ]
    },
    {
     "data": {
      "text/plain": [
       "array([1, 2, 0])"
      ]
     },
     "execution_count": 95,
     "metadata": {},
     "output_type": "execute_result"
    }
   ],
   "source": [
    "overlap_matrix_bars = overlap_matrix.select(\"bar_0_overlap\", \"bar_1_overlap\", \"bar_2_overlap\")\n",
    "\n",
    "overlap_matrix_sizes = create_bar_sizes(overlap_matrix_bars)\n",
    "\n",
    "elements = np.arange(0,3)\n",
    "\n",
    "sample = create_sample_indices(overlap_matrix_bars, overlap_matrix_sizes, elements)\n",
    "sample"
   ]
  },
  {
   "cell_type": "code",
   "execution_count": 93,
   "id": "e046bbf3",
   "metadata": {},
   "outputs": [
    {
     "data": {
      "text/plain": [
       "numpy.ndarray"
      ]
     },
     "execution_count": 93,
     "metadata": {},
     "output_type": "execute_result"
    }
   ],
   "source": []
  },
  {
   "cell_type": "code",
   "execution_count": 91,
   "id": "7208fc9c",
   "metadata": {},
   "outputs": [
    {
     "data": {
      "text/plain": [
       "array([1, 1, 2])"
      ]
     },
     "execution_count": 91,
     "metadata": {},
     "output_type": "execute_result"
    }
   ],
   "source": [
    "z[0] = 1\n",
    "z"
   ]
  },
  {
   "cell_type": "code",
   "execution_count": 50,
   "id": "ce48d1db",
   "metadata": {},
   "outputs": [
    {
     "data": {
      "text/plain": [
       "0"
      ]
     },
     "execution_count": 50,
     "metadata": {},
     "output_type": "execute_result"
    }
   ],
   "source": [
    "result = random_discrete_draw(elements, probs, size = 3)\n",
    "result"
   ]
  },
  {
   "cell_type": "code",
   "execution_count": null,
   "id": "03417101",
   "metadata": {},
   "outputs": [],
   "source": []
  },
  {
   "cell_type": "code",
   "execution_count": 17,
   "id": "ae91c6b9",
   "metadata": {},
   "outputs": [
    {
     "ename": "ColumnNotFoundError",
     "evalue": "bar_0_overlap",
     "output_type": "error",
     "traceback": [
      "\u001b[1;31m---------------------------------------------------------------------------\u001b[0m",
      "\u001b[1;31mColumnNotFoundError\u001b[0m                       Traceback (most recent call last)",
      "Cell \u001b[1;32mIn[17], line 4\u001b[0m\n\u001b[0;32m      1\u001b[0m psi \u001b[38;5;241m=\u001b[39m [\u001b[38;5;241m0\u001b[39m, \u001b[38;5;241m1\u001b[39m, \u001b[38;5;241m1\u001b[39m]\n\u001b[0;32m      2\u001b[0m \u001b[38;5;28;01mimport\u001b[39;00m \u001b[38;5;21;01mnumpy\u001b[39;00m \u001b[38;5;28;01mas\u001b[39;00m \u001b[38;5;21;01mnp\u001b[39;00m\n\u001b[1;32m----> 4\u001b[0m overlap_matrix_bars \u001b[38;5;241m=\u001b[39m overlap_matrix\u001b[38;5;241m.\u001b[39mselect(\u001b[38;5;124m\"\u001b[39m\u001b[38;5;124mbar_0_overlap\u001b[39m\u001b[38;5;124m\"\u001b[39m, \u001b[38;5;124m\"\u001b[39m\u001b[38;5;124mbar_1_overlap\u001b[39m\u001b[38;5;124m\"\u001b[39m, \u001b[38;5;124m\"\u001b[39m\u001b[38;5;124mbar_2_overlap\u001b[39m\u001b[38;5;124m\"\u001b[39m)\n\u001b[0;32m      5\u001b[0m \u001b[38;5;28mprint\u001b[39m(overlap_matrix_bars)\n\u001b[0;32m      6\u001b[0m df \u001b[38;5;241m=\u001b[39m \u001b[38;5;241m1\u001b[39m \u001b[38;5;241m+\u001b[39m np\u001b[38;5;241m.\u001b[39mdot(overlap_matrix_bars, psi)\n",
      "File \u001b[1;32m~\\anaconda3\\Lib\\site-packages\\polars\\dataframe\\frame.py:8873\u001b[0m, in \u001b[0;36mDataFrame.select\u001b[1;34m(self, *exprs, **named_exprs)\u001b[0m\n\u001b[0;32m   8773\u001b[0m \u001b[38;5;28;01mdef\u001b[39;00m \u001b[38;5;21mselect\u001b[39m(\n\u001b[0;32m   8774\u001b[0m     \u001b[38;5;28mself\u001b[39m, \u001b[38;5;241m*\u001b[39mexprs: IntoExpr \u001b[38;5;241m|\u001b[39m Iterable[IntoExpr], \u001b[38;5;241m*\u001b[39m\u001b[38;5;241m*\u001b[39mnamed_exprs: IntoExpr\n\u001b[0;32m   8775\u001b[0m ) \u001b[38;5;241m-\u001b[39m\u001b[38;5;241m>\u001b[39m DataFrame:\n\u001b[0;32m   8776\u001b[0m \u001b[38;5;250m    \u001b[39m\u001b[38;5;124;03m\"\"\"\u001b[39;00m\n\u001b[0;32m   8777\u001b[0m \u001b[38;5;124;03m    Select columns from this DataFrame.\u001b[39;00m\n\u001b[0;32m   8778\u001b[0m \n\u001b[1;32m   (...)\u001b[0m\n\u001b[0;32m   8871\u001b[0m \u001b[38;5;124;03m    └──────────────┘\u001b[39;00m\n\u001b[0;32m   8872\u001b[0m \u001b[38;5;124;03m    \"\"\"\u001b[39;00m\n\u001b[1;32m-> 8873\u001b[0m     \u001b[38;5;28;01mreturn\u001b[39;00m \u001b[38;5;28mself\u001b[39m\u001b[38;5;241m.\u001b[39mlazy()\u001b[38;5;241m.\u001b[39mselect(\u001b[38;5;241m*\u001b[39mexprs, \u001b[38;5;241m*\u001b[39m\u001b[38;5;241m*\u001b[39mnamed_exprs)\u001b[38;5;241m.\u001b[39mcollect(_eager\u001b[38;5;241m=\u001b[39m\u001b[38;5;28;01mTrue\u001b[39;00m)\n",
      "File \u001b[1;32m~\\anaconda3\\Lib\\site-packages\\polars\\lazyframe\\frame.py:2034\u001b[0m, in \u001b[0;36mLazyFrame.collect\u001b[1;34m(self, type_coercion, predicate_pushdown, projection_pushdown, simplify_expression, slice_pushdown, comm_subplan_elim, comm_subexpr_elim, cluster_with_columns, no_optimization, streaming, engine, background, _eager, **_kwargs)\u001b[0m\n\u001b[0;32m   2032\u001b[0m \u001b[38;5;66;03m# Only for testing purposes\u001b[39;00m\n\u001b[0;32m   2033\u001b[0m callback \u001b[38;5;241m=\u001b[39m _kwargs\u001b[38;5;241m.\u001b[39mget(\u001b[38;5;124m\"\u001b[39m\u001b[38;5;124mpost_opt_callback\u001b[39m\u001b[38;5;124m\"\u001b[39m, callback)\n\u001b[1;32m-> 2034\u001b[0m \u001b[38;5;28;01mreturn\u001b[39;00m wrap_df(ldf\u001b[38;5;241m.\u001b[39mcollect(callback))\n",
      "\u001b[1;31mColumnNotFoundError\u001b[0m: bar_0_overlap"
     ]
    }
   ],
   "source": [
    "psi = [0, 1, 1]\n",
    "import numpy as np\n",
    "\n",
    "overlap_matrix_bars = overlap_matrix.select(\"bar_0_overlap\", \"bar_1_overlap\", \"bar_2_overlap\")\n",
    "print(overlap_matrix_bars)\n",
    "df = 1 + np.dot(overlap_matrix_bars, psi)\n",
    "df\n",
    "print(df)\n",
    "uniqueness = overlap_matrix_bars.select(pl.all()/df)\n",
    "uniqueness\n",
    "print(uniqueness)\n",
    "overlap_matrix_sizes = create_bar_sizes(overlap_matrix_bars)\n",
    "avg_uniqueness_numer = create_bar_sizes(uniqueness)\n",
    "print(avg_uniqueness_numer)\n",
    "print(avg_uniqueness_denom)\n",
    "avg_uniqueness = avg_uniqueness_numer/overlap_matrix_sizes\n",
    "avg_uniqueness"
   ]
  },
  {
   "cell_type": "code",
   "execution_count": 39,
   "id": "e5b7dbcd",
   "metadata": {},
   "outputs": [
    {
     "data": {
      "text/html": [
       "<div><style>\n",
       ".dataframe > thead > tr,\n",
       ".dataframe > tbody > tr {\n",
       "  text-align: right;\n",
       "  white-space: pre-wrap;\n",
       "}\n",
       "</style>\n",
       "<small>shape: (1, 3)</small><table border=\"1\" class=\"dataframe\"><thead><tr><th>bar_1_overlap</th><th>bar_2_overlap</th><th>bar_3_overlap</th></tr><tr><td>f64</td><td>f64</td><td>f64</td></tr></thead><tbody><tr><td>0.498155</td><td>0.243542</td><td>0.258303</td></tr></tbody></table></div>"
      ],
      "text/plain": [
       "shape: (1, 3)\n",
       "┌───────────────┬───────────────┬───────────────┐\n",
       "│ bar_1_overlap ┆ bar_2_overlap ┆ bar_3_overlap │\n",
       "│ ---           ┆ ---           ┆ ---           │\n",
       "│ f64           ┆ f64           ┆ f64           │\n",
       "╞═══════════════╪═══════════════╪═══════════════╡\n",
       "│ 0.498155      ┆ 0.243542      ┆ 0.258303      │\n",
       "└───────────────┴───────────────┴───────────────┘"
      ]
     },
     "execution_count": 39,
     "metadata": {},
     "output_type": "execute_result"
    }
   ],
   "source": [
    "norm = avg_uniqueness/avg_uniqueness.sum_horizontal()\n",
    "norm"
   ]
  },
  {
   "cell_type": "code",
   "execution_count": 51,
   "id": "c88b7f25",
   "metadata": {},
   "outputs": [
    {
     "data": {
      "text/plain": [
       "3"
      ]
     },
     "execution_count": 51,
     "metadata": {},
     "output_type": "execute_result"
    }
   ],
   "source": [
    "result = np.random.choice(np.arange(1,4), p=norm.row(0))\n",
    "result"
   ]
  },
  {
   "cell_type": "code",
   "execution_count": 55,
   "id": "fcef920c",
   "metadata": {},
   "outputs": [
    {
     "data": {
      "text/plain": [
       "{'1': 0.49643, '2': 0.24246, '3': 0.26111}"
      ]
     },
     "execution_count": 55,
     "metadata": {},
     "output_type": "execute_result"
    }
   ],
   "source": [
    "def draw(values, dist):\n",
    "    \n",
    "    return np.random.choice(values, p=dist)\n",
    "\n",
    "iterations = 100000\n",
    "counts = {\"1\": 0, \"2\": 0, \"3\": 0}\n",
    "\n",
    "values = np.arange(1,4)\n",
    "dist = norm.row(0)\n",
    "\n",
    "for i in range(iterations):\n",
    "    result = random_discrete_draw(elements, probs, size = 3)\n",
    "    counts[str(result)] += 1\n",
    "\n",
    "for key in counts.keys():\n",
    "    counts[key] = counts[key]/iterations\n",
    "    \n",
    "counts"
   ]
  },
  {
   "cell_type": "code",
   "execution_count": 19,
   "id": "595da25a",
   "metadata": {},
   "outputs": [
    {
     "name": "stdout",
     "output_type": "stream",
     "text": [
      "['bar_1_overlap', 'bar_2_overlap', 'bar_3_overlap']\n"
     ]
    },
    {
     "data": {
      "text/html": [
       "<div><style>\n",
       ".dataframe > thead > tr,\n",
       ".dataframe > tbody > tr {\n",
       "  text-align: right;\n",
       "  white-space: pre-wrap;\n",
       "}\n",
       "</style>\n",
       "<small>shape: (8, 4)</small><table border=\"1\" class=\"dataframe\"><thead><tr><th>index</th><th>time_start</th><th>time_end</th><th>concurrent_sum</th></tr><tr><td>u32</td><td>str</td><td>str</td><td>i32</td></tr></thead><tbody><tr><td>0</td><td>&quot;10:00&quot;</td><td>&quot;10:02&quot;</td><td>1</td></tr><tr><td>1</td><td>&quot;10:02&quot;</td><td>&quot;10:03&quot;</td><td>2</td></tr><tr><td>2</td><td>&quot;10:03&quot;</td><td>&quot;10:04&quot;</td><td>2</td></tr><tr><td>3</td><td>&quot;10:04&quot;</td><td>&quot;10:05&quot;</td><td>2</td></tr><tr><td>4</td><td>&quot;10:05&quot;</td><td>&quot;10:08&quot;</td><td>2</td></tr><tr><td>5</td><td>&quot;10:08&quot;</td><td>&quot;10:10&quot;</td><td>2</td></tr><tr><td>6</td><td>&quot;10:10&quot;</td><td>&quot;10:12&quot;</td><td>1</td></tr><tr><td>7</td><td>&quot;10:12&quot;</td><td>&quot;10:15&quot;</td><td>1</td></tr></tbody></table></div>"
      ],
      "text/plain": [
       "shape: (8, 4)\n",
       "┌───────┬────────────┬──────────┬────────────────┐\n",
       "│ index ┆ time_start ┆ time_end ┆ concurrent_sum │\n",
       "│ ---   ┆ ---        ┆ ---      ┆ ---            │\n",
       "│ u32   ┆ str        ┆ str      ┆ i32            │\n",
       "╞═══════╪════════════╪══════════╪════════════════╡\n",
       "│ 0     ┆ 10:00      ┆ 10:02    ┆ 1              │\n",
       "│ 1     ┆ 10:02      ┆ 10:03    ┆ 2              │\n",
       "│ 2     ┆ 10:03      ┆ 10:04    ┆ 2              │\n",
       "│ 3     ┆ 10:04      ┆ 10:05    ┆ 2              │\n",
       "│ 4     ┆ 10:05      ┆ 10:08    ┆ 2              │\n",
       "│ 5     ┆ 10:08      ┆ 10:10    ┆ 2              │\n",
       "│ 6     ┆ 10:10      ┆ 10:12    ┆ 1              │\n",
       "│ 7     ┆ 10:12      ┆ 10:15    ┆ 1              │\n",
       "└───────┴────────────┴──────────┴────────────────┘"
      ]
     },
     "execution_count": 19,
     "metadata": {},
     "output_type": "execute_result"
    }
   ],
   "source": [
    "all_bar_cols = overlap_matrix.columns[3::]\n",
    "print(all_bar_cols)\n",
    "\n",
    "df = overlap_matrix.with_columns(pl.sum_horizontal(all_bar_cols).alias(\"concurrent_sum\")).drop(all_bar_cols)\n",
    "df"
   ]
  },
  {
   "cell_type": "code",
   "execution_count": 14,
   "id": "360f6a8b",
   "metadata": {},
   "outputs": [
    {
     "ename": "TypeError",
     "evalue": "transform_columns_to_index() got an unexpected keyword argument 'columns'",
     "output_type": "error",
     "traceback": [
      "\u001b[1;31m---------------------------------------------------------------------------\u001b[0m",
      "\u001b[1;31mTypeError\u001b[0m                                 Traceback (most recent call last)",
      "Cell \u001b[1;32mIn[14], line 11\u001b[0m\n\u001b[0;32m      2\u001b[0m index \u001b[38;5;241m=\u001b[39m pl\u001b[38;5;241m.\u001b[39mSeries(values \u001b[38;5;241m=\u001b[39m [\u001b[38;5;124m\"\u001b[39m\u001b[38;5;124m9:55\u001b[39m\u001b[38;5;124m\"\u001b[39m, \u001b[38;5;124m\"\u001b[39m\u001b[38;5;124m10:00\u001b[39m\u001b[38;5;124m\"\u001b[39m, \u001b[38;5;124m\"\u001b[39m\u001b[38;5;124m10:02\u001b[39m\u001b[38;5;124m\"\u001b[39m, \u001b[38;5;124m\"\u001b[39m\u001b[38;5;124m10:05\u001b[39m\u001b[38;5;124m\"\u001b[39m, \u001b[38;5;124m\"\u001b[39m\u001b[38;5;124m10:08\u001b[39m\u001b[38;5;124m\"\u001b[39m, \u001b[38;5;124m\"\u001b[39m\u001b[38;5;124m10:10\u001b[39m\u001b[38;5;124m\"\u001b[39m, \u001b[38;5;124m\"\u001b[39m\u001b[38;5;124m10:12\u001b[39m\u001b[38;5;124m\"\u001b[39m, \u001b[38;5;124m\"\u001b[39m\u001b[38;5;124m10:05\u001b[39m\u001b[38;5;124m\"\u001b[39m])\n\u001b[0;32m      4\u001b[0m df \u001b[38;5;241m=\u001b[39m pl\u001b[38;5;241m.\u001b[39mDataFrame({\n\u001b[0;32m      5\u001b[0m         \u001b[38;5;124m\"\u001b[39m\u001b[38;5;124mvolume\u001b[39m\u001b[38;5;124m\"\u001b[39m: [\u001b[38;5;241m10\u001b[39m, \u001b[38;5;241m20\u001b[39m, \u001b[38;5;241m50\u001b[39m],\n\u001b[0;32m      6\u001b[0m         \u001b[38;5;124m\"\u001b[39m\u001b[38;5;124mtime_start\u001b[39m\u001b[38;5;124m\"\u001b[39m: [\u001b[38;5;124m\"\u001b[39m\u001b[38;5;124m10:00\u001b[39m\u001b[38;5;124m\"\u001b[39m, \u001b[38;5;124m\"\u001b[39m\u001b[38;5;124m10:05\u001b[39m\u001b[38;5;124m\"\u001b[39m, \u001b[38;5;124m\"\u001b[39m\u001b[38;5;124m10:10\u001b[39m\u001b[38;5;124m\"\u001b[39m],\n\u001b[0;32m      7\u001b[0m         \u001b[38;5;124m\"\u001b[39m\u001b[38;5;124mtime_end\u001b[39m\u001b[38;5;124m\"\u001b[39m: [\u001b[38;5;124m\"\u001b[39m\u001b[38;5;124m10:10\u001b[39m\u001b[38;5;124m\"\u001b[39m, \u001b[38;5;124m\"\u001b[39m\u001b[38;5;124m10:10\u001b[39m\u001b[38;5;124m\"\u001b[39m, \u001b[38;5;124m\"\u001b[39m\u001b[38;5;124m10:15\u001b[39m\u001b[38;5;124m\"\u001b[39m]\n\u001b[0;32m      8\u001b[0m         }\n\u001b[0;32m      9\u001b[0m )\n\u001b[1;32m---> 11\u001b[0m df2, index \u001b[38;5;241m=\u001b[39m transform_columns_to_index(df, columns \u001b[38;5;241m=\u001b[39m [\u001b[38;5;124m\"\u001b[39m\u001b[38;5;124mtime_start\u001b[39m\u001b[38;5;124m\"\u001b[39m, \u001b[38;5;124m\"\u001b[39m\u001b[38;5;124mtime_end\u001b[39m\u001b[38;5;124m\"\u001b[39m], index \u001b[38;5;241m=\u001b[39m index, return_index \u001b[38;5;241m=\u001b[39m \u001b[38;5;28;01mTrue\u001b[39;00m)\n\u001b[0;32m     12\u001b[0m df2\n",
      "\u001b[1;31mTypeError\u001b[0m: transform_columns_to_index() got an unexpected keyword argument 'columns'"
     ]
    }
   ],
   "source": [
    "from tsuro.utils import transform_columns_to_index\n",
    "index = pl.Series(values = [\"9:55\", \"10:00\", \"10:02\", \"10:05\", \"10:08\", \"10:10\", \"10:12\", \"10:05\"])\n",
    "\n",
    "df = pl.DataFrame({\n",
    "        \"volume\": [10, 20, 50],\n",
    "        \"time_start\": [\"10:00\", \"10:05\", \"10:10\"],\n",
    "        \"time_end\": [\"10:10\", \"10:10\", \"10:15\"]\n",
    "        }\n",
    ")\n",
    "\n",
    "df2, index = transform_columns_to_index(df, columns = [\"time_start\", \"time_end\"], index = index, return_index = True)\n",
    "df2"
   ]
  },
  {
   "cell_type": "code",
   "execution_count": 11,
   "id": "d9d17629",
   "metadata": {},
   "outputs": [
    {
     "data": {
      "text/html": [
       "<div><style>\n",
       ".dataframe > thead > tr,\n",
       ".dataframe > tbody > tr {\n",
       "  text-align: right;\n",
       "  white-space: pre-wrap;\n",
       "}\n",
       "</style>\n",
       "<small>shape: (3, 5)</small><table border=\"1\" class=\"dataframe\"><thead><tr><th>volume</th><th>time_start</th><th>time_end</th><th>time_start_index</th><th>time_end_index</th></tr><tr><td>i64</td><td>str</td><td>str</td><td>u32</td><td>u32</td></tr></thead><tbody><tr><td>10</td><td>&quot;10:00&quot;</td><td>&quot;10:10&quot;</td><td>0</td><td>2</td></tr><tr><td>20</td><td>&quot;10:05&quot;</td><td>&quot;10:10&quot;</td><td>1</td><td>2</td></tr><tr><td>50</td><td>&quot;10:10&quot;</td><td>&quot;10:15&quot;</td><td>2</td><td>3</td></tr></tbody></table></div>"
      ],
      "text/plain": [
       "shape: (3, 5)\n",
       "┌────────┬────────────┬──────────┬──────────────────┬────────────────┐\n",
       "│ volume ┆ time_start ┆ time_end ┆ time_start_index ┆ time_end_index │\n",
       "│ ---    ┆ ---        ┆ ---      ┆ ---              ┆ ---            │\n",
       "│ i64    ┆ str        ┆ str      ┆ u32              ┆ u32            │\n",
       "╞════════╪════════════╪══════════╪══════════════════╪════════════════╡\n",
       "│ 10     ┆ 10:00      ┆ 10:10    ┆ 0                ┆ 2              │\n",
       "│ 20     ┆ 10:05      ┆ 10:10    ┆ 1                ┆ 2              │\n",
       "│ 50     ┆ 10:10      ┆ 10:15    ┆ 2                ┆ 3              │\n",
       "└────────┴────────────┴──────────┴──────────────────┴────────────────┘"
      ]
     },
     "execution_count": 11,
     "metadata": {},
     "output_type": "execute_result"
    }
   ],
   "source": [
    "df1, index = transform_columns_to_index(df, columns = [\"time_start\", \"time_end\"], return_index = True)\n",
    "df1"
   ]
  },
  {
   "cell_type": "code",
   "execution_count": 12,
   "id": "9d6efcb7",
   "metadata": {},
   "outputs": [
    {
     "data": {
      "text/html": [
       "<div><style>\n",
       ".dataframe > thead > tr,\n",
       ".dataframe > tbody > tr {\n",
       "  text-align: right;\n",
       "  white-space: pre-wrap;\n",
       "}\n",
       "</style>\n",
       "<small>shape: (4, 2)</small><table border=\"1\" class=\"dataframe\"><thead><tr><th>values</th><th>index</th></tr><tr><td>str</td><td>u32</td></tr></thead><tbody><tr><td>&quot;10:00&quot;</td><td>0</td></tr><tr><td>&quot;10:05&quot;</td><td>1</td></tr><tr><td>&quot;10:10&quot;</td><td>2</td></tr><tr><td>&quot;10:15&quot;</td><td>3</td></tr></tbody></table></div>"
      ],
      "text/plain": [
       "shape: (4, 2)\n",
       "┌────────┬───────┐\n",
       "│ values ┆ index │\n",
       "│ ---    ┆ ---   │\n",
       "│ str    ┆ u32   │\n",
       "╞════════╪═══════╡\n",
       "│ 10:00  ┆ 0     │\n",
       "│ 10:05  ┆ 1     │\n",
       "│ 10:10  ┆ 2     │\n",
       "│ 10:15  ┆ 3     │\n",
       "└────────┴───────┘"
      ]
     },
     "execution_count": 12,
     "metadata": {},
     "output_type": "execute_result"
    }
   ],
   "source": [
    "index"
   ]
  },
  {
   "cell_type": "code",
   "execution_count": 19,
   "id": "3b5f36ce",
   "metadata": {},
   "outputs": [
    {
     "name": "stdout",
     "output_type": "stream",
     "text": [
      "shape: (7,)\n",
      "Series: '' [str]\n",
      "[\n",
      "\t\"10:00\"\n",
      "\t\"10:02\"\n",
      "\t\"10:05\"\n",
      "\t\"10:08\"\n",
      "\t\"10:10\"\n",
      "\t\"10:12\"\n",
      "\t\"10:15\"\n",
      "]\n",
      "shape: (7,)\n",
      "Series: 'values' [str]\n",
      "[\n",
      "\t\"10:00\"\n",
      "\t\"10:02\"\n",
      "\t\"10:05\"\n",
      "\t\"10:08\"\n",
      "\t\"10:10\"\n",
      "\t\"10:12\"\n",
      "\t\"10:15\"\n",
      "]\n"
     ]
    },
    {
     "data": {
      "text/html": [
       "<div><style>\n",
       ".dataframe > thead > tr,\n",
       ".dataframe > tbody > tr {\n",
       "  text-align: right;\n",
       "  white-space: pre-wrap;\n",
       "}\n",
       "</style>\n",
       "<small>shape: (7, 2)</small><table border=\"1\" class=\"dataframe\"><thead><tr><th>values</th><th>index</th></tr><tr><td>str</td><td>u32</td></tr></thead><tbody><tr><td>&quot;10:00&quot;</td><td>0</td></tr><tr><td>&quot;10:02&quot;</td><td>1</td></tr><tr><td>&quot;10:05&quot;</td><td>2</td></tr><tr><td>&quot;10:08&quot;</td><td>3</td></tr><tr><td>&quot;10:10&quot;</td><td>4</td></tr><tr><td>&quot;10:12&quot;</td><td>5</td></tr><tr><td>&quot;10:15&quot;</td><td>6</td></tr></tbody></table></div>"
      ],
      "text/plain": [
       "shape: (7, 2)\n",
       "┌────────┬───────┐\n",
       "│ values ┆ index │\n",
       "│ ---    ┆ ---   │\n",
       "│ str    ┆ u32   │\n",
       "╞════════╪═══════╡\n",
       "│ 10:00  ┆ 0     │\n",
       "│ 10:02  ┆ 1     │\n",
       "│ 10:05  ┆ 2     │\n",
       "│ 10:08  ┆ 3     │\n",
       "│ 10:10  ┆ 4     │\n",
       "│ 10:12  ┆ 5     │\n",
       "│ 10:15  ┆ 6     │\n",
       "└────────┴───────┘"
      ]
     },
     "execution_count": 19,
     "metadata": {},
     "output_type": "execute_result"
    }
   ],
   "source": [
    "index = pl.Series(values = [\"10:15\", \"10:02\", \"10:05\", \"10:08\", \"10:10\", \"10:12\", \"10:00\"])\n",
    "index = index.sort()\n",
    "print(index)\n",
    "\n",
    "index = index.alias(\"values\")\n",
    "print(index)\n",
    "index = pl.DataFrame(index)\n",
    "index = index.with_columns(pl.int_range(pl.len(), dtype=pl.UInt32).alias(\"index\"))\n",
    "index"
   ]
  },
  {
   "cell_type": "code",
   "execution_count": 3,
   "id": "19cca612",
   "metadata": {},
   "outputs": [
    {
     "data": {
      "text/html": [
       "<div><style>\n",
       ".dataframe > thead > tr,\n",
       ".dataframe > tbody > tr {\n",
       "  text-align: right;\n",
       "  white-space: pre-wrap;\n",
       "}\n",
       "</style>\n",
       "<small>shape: (66_577, 7)</small><table border=\"1\" class=\"dataframe\"><thead><tr><th></th><th>time</th><th>price</th><th>volume</th><th>dollar_value</th><th>market</th><th>condition</th></tr><tr><td>i64</td><td>str</td><td>f64</td><td>i64</td><td>f64</td><td>str</td><td>str</td></tr></thead><tbody><tr><td>0</td><td>&quot;6/10/2021 17:00&quot;</td><td>100.08</td><td>12904</td><td>1.2914e6</td><td>&quot;ASX&quot;</td><td>&quot;ET XT&quot;</td></tr><tr><td>1</td><td>&quot;6/10/2021 16:54&quot;</td><td>100.08</td><td>19280</td><td>1929542.4</td><td>&quot;ASX&quot;</td><td>&quot;ET XT&quot;</td></tr><tr><td>2</td><td>&quot;6/10/2021 16:47&quot;</td><td>100.3127</td><td>18517</td><td>1.8575e6</td><td>&quot;CXA&quot;</td><td>&quot;SX XT&quot;</td></tr><tr><td>3</td><td>&quot;6/10/2021 16:46&quot;</td><td>100.08</td><td>5364</td><td>536829.12</td><td>&quot;CXA&quot;</td><td>null</td></tr><tr><td>4</td><td>&quot;6/10/2021 16:45&quot;</td><td>100.08</td><td>24624</td><td>2.4644e6</td><td>&quot;ASX&quot;</td><td>&quot;ET XT&quot;</td></tr><tr><td>&hellip;</td><td>&hellip;</td><td>&hellip;</td><td>&hellip;</td><td>&hellip;</td><td>&hellip;</td><td>&hellip;</td></tr><tr><td>66572</td><td>&quot;6/10/2021 7:05&quot;</td><td>95.01</td><td>6000</td><td>570060.0</td><td>&quot;ASX&quot;</td><td>&quot;EC XT&quot;</td></tr><tr><td>66573</td><td>&quot;6/10/2021 7:05&quot;</td><td>94.01</td><td>1200</td><td>112812.0</td><td>&quot;ASX&quot;</td><td>&quot;EC&quot;</td></tr><tr><td>66574</td><td>&quot;6/10/2021 7:05&quot;</td><td>94.01</td><td>18700</td><td>1.757987e6</td><td>&quot;ASX&quot;</td><td>&quot;EC XT&quot;</td></tr><tr><td>66575</td><td>&quot;6/10/2021 7:05&quot;</td><td>94.0</td><td>1200</td><td>112800.0</td><td>&quot;ASX&quot;</td><td>&quot;EC&quot;</td></tr><tr><td>66576</td><td>&quot;6/10/2021 7:05&quot;</td><td>92.01</td><td>12000</td><td>1.10412e6</td><td>&quot;ASX&quot;</td><td>&quot;EC XT&quot;</td></tr></tbody></table></div>"
      ],
      "text/plain": [
       "shape: (66_577, 7)\n",
       "┌───────┬─────────────────┬──────────┬────────┬──────────────┬────────┬───────────┐\n",
       "│       ┆ time            ┆ price    ┆ volume ┆ dollar_value ┆ market ┆ condition │\n",
       "│ ---   ┆ ---             ┆ ---      ┆ ---    ┆ ---          ┆ ---    ┆ ---       │\n",
       "│ i64   ┆ str             ┆ f64      ┆ i64    ┆ f64          ┆ str    ┆ str       │\n",
       "╞═══════╪═════════════════╪══════════╪════════╪══════════════╪════════╪═══════════╡\n",
       "│ 0     ┆ 6/10/2021 17:00 ┆ 100.08   ┆ 12904  ┆ 1.2914e6     ┆ ASX    ┆ ET XT     │\n",
       "│ 1     ┆ 6/10/2021 16:54 ┆ 100.08   ┆ 19280  ┆ 1929542.4    ┆ ASX    ┆ ET XT     │\n",
       "│ 2     ┆ 6/10/2021 16:47 ┆ 100.3127 ┆ 18517  ┆ 1.8575e6     ┆ CXA    ┆ SX XT     │\n",
       "│ 3     ┆ 6/10/2021 16:46 ┆ 100.08   ┆ 5364   ┆ 536829.12    ┆ CXA    ┆ null      │\n",
       "│ 4     ┆ 6/10/2021 16:45 ┆ 100.08   ┆ 24624  ┆ 2.4644e6     ┆ ASX    ┆ ET XT     │\n",
       "│ …     ┆ …               ┆ …        ┆ …      ┆ …            ┆ …      ┆ …         │\n",
       "│ 66572 ┆ 6/10/2021 7:05  ┆ 95.01    ┆ 6000   ┆ 570060.0     ┆ ASX    ┆ EC XT     │\n",
       "│ 66573 ┆ 6/10/2021 7:05  ┆ 94.01    ┆ 1200   ┆ 112812.0     ┆ ASX    ┆ EC        │\n",
       "│ 66574 ┆ 6/10/2021 7:05  ┆ 94.01    ┆ 18700  ┆ 1.757987e6   ┆ ASX    ┆ EC XT     │\n",
       "│ 66575 ┆ 6/10/2021 7:05  ┆ 94.0     ┆ 1200   ┆ 112800.0     ┆ ASX    ┆ EC        │\n",
       "│ 66576 ┆ 6/10/2021 7:05  ┆ 92.01    ┆ 12000  ┆ 1.10412e6    ┆ ASX    ┆ EC XT     │\n",
       "└───────┴─────────────────┴──────────┴────────┴──────────────┴────────┴───────────┘"
      ]
     },
     "execution_count": 3,
     "metadata": {},
     "output_type": "execute_result"
    }
   ],
   "source": [
    "trades_df = load_cba_trades()\n",
    "trades_df"
   ]
  },
  {
   "cell_type": "code",
   "execution_count": 4,
   "id": "7d0c8f87",
   "metadata": {},
   "outputs": [
    {
     "data": {
      "text/html": [
       "<div><style>\n",
       ".dataframe > thead > tr,\n",
       ".dataframe > tbody > tr {\n",
       "  text-align: right;\n",
       "  white-space: pre-wrap;\n",
       "}\n",
       "</style>\n",
       "<small>shape: (66_542, 12)</small><table border=\"1\" class=\"dataframe\"><thead><tr><th></th><th>date_time</th><th>price</th><th>volume</th><th>dollar_value</th><th>market</th><th>condition</th><th>time</th><th>hour</th><th>minute</th><th>second</th><th>millisecond</th></tr><tr><td>i64</td><td>datetime[μs]</td><td>f64</td><td>i64</td><td>f64</td><td>str</td><td>str</td><td>time</td><td>i8</td><td>i8</td><td>i8</td><td>i32</td></tr></thead><tbody><tr><td>0</td><td>2021-06-10 17:00:00</td><td>100.08</td><td>12904</td><td>1.2914e6</td><td>&quot;ASX&quot;</td><td>&quot;ET XT&quot;</td><td>17:00:00</td><td>17</td><td>0</td><td>0</td><td>0</td></tr><tr><td>1</td><td>2021-06-10 16:54:00</td><td>100.08</td><td>19280</td><td>1929542.4</td><td>&quot;ASX&quot;</td><td>&quot;ET XT&quot;</td><td>16:54:00</td><td>16</td><td>54</td><td>0</td><td>0</td></tr><tr><td>2</td><td>2021-06-10 16:47:00</td><td>100.3127</td><td>18517</td><td>1.8575e6</td><td>&quot;CXA&quot;</td><td>&quot;SX XT&quot;</td><td>16:47:00</td><td>16</td><td>47</td><td>0</td><td>0</td></tr><tr><td>3</td><td>2021-06-10 16:46:00</td><td>100.08</td><td>5364</td><td>536829.12</td><td>&quot;CXA&quot;</td><td>null</td><td>16:46:00</td><td>16</td><td>46</td><td>0</td><td>0</td></tr><tr><td>4</td><td>2021-06-10 16:45:00</td><td>100.08</td><td>24624</td><td>2.4644e6</td><td>&quot;ASX&quot;</td><td>&quot;ET XT&quot;</td><td>16:45:00</td><td>16</td><td>45</td><td>0</td><td>0</td></tr><tr><td>&hellip;</td><td>&hellip;</td><td>&hellip;</td><td>&hellip;</td><td>&hellip;</td><td>&hellip;</td><td>&hellip;</td><td>&hellip;</td><td>&hellip;</td><td>&hellip;</td><td>&hellip;</td><td>&hellip;</td></tr><tr><td>66537</td><td>2021-06-10 10:02:00</td><td>102.0</td><td>4</td><td>408.0</td><td>&quot;ASX&quot;</td><td>null</td><td>10:02:00</td><td>10</td><td>2</td><td>0</td><td>0</td></tr><tr><td>66538</td><td>2021-06-10 10:02:00</td><td>102.0</td><td>30</td><td>3060.0</td><td>&quot;ASX&quot;</td><td>null</td><td>10:02:00</td><td>10</td><td>2</td><td>0</td><td>0</td></tr><tr><td>66539</td><td>2021-06-10 10:02:00</td><td>102.0</td><td>215</td><td>21930.0</td><td>&quot;ASX&quot;</td><td>null</td><td>10:02:00</td><td>10</td><td>2</td><td>0</td><td>0</td></tr><tr><td>66540</td><td>2021-06-10 10:02:00</td><td>102.0</td><td>233</td><td>23766.0</td><td>&quot;ASX&quot;</td><td>null</td><td>10:02:00</td><td>10</td><td>2</td><td>0</td><td>0</td></tr><tr><td>66541</td><td>2021-06-10 10:02:00</td><td>102.0</td><td>29</td><td>2958.0</td><td>&quot;ASX&quot;</td><td>null</td><td>10:02:00</td><td>10</td><td>2</td><td>0</td><td>0</td></tr></tbody></table></div>"
      ],
      "text/plain": [
       "shape: (66_542, 12)\n",
       "┌───────┬─────────────────────┬──────────┬────────┬───┬──────┬────────┬────────┬─────────────┐\n",
       "│       ┆ date_time           ┆ price    ┆ volume ┆ … ┆ hour ┆ minute ┆ second ┆ millisecond │\n",
       "│ ---   ┆ ---                 ┆ ---      ┆ ---    ┆   ┆ ---  ┆ ---    ┆ ---    ┆ ---         │\n",
       "│ i64   ┆ datetime[μs]        ┆ f64      ┆ i64    ┆   ┆ i8   ┆ i8     ┆ i8     ┆ i32         │\n",
       "╞═══════╪═════════════════════╪══════════╪════════╪═══╪══════╪════════╪════════╪═════════════╡\n",
       "│ 0     ┆ 2021-06-10 17:00:00 ┆ 100.08   ┆ 12904  ┆ … ┆ 17   ┆ 0      ┆ 0      ┆ 0           │\n",
       "│ 1     ┆ 2021-06-10 16:54:00 ┆ 100.08   ┆ 19280  ┆ … ┆ 16   ┆ 54     ┆ 0      ┆ 0           │\n",
       "│ 2     ┆ 2021-06-10 16:47:00 ┆ 100.3127 ┆ 18517  ┆ … ┆ 16   ┆ 47     ┆ 0      ┆ 0           │\n",
       "│ 3     ┆ 2021-06-10 16:46:00 ┆ 100.08   ┆ 5364   ┆ … ┆ 16   ┆ 46     ┆ 0      ┆ 0           │\n",
       "│ 4     ┆ 2021-06-10 16:45:00 ┆ 100.08   ┆ 24624  ┆ … ┆ 16   ┆ 45     ┆ 0      ┆ 0           │\n",
       "│ …     ┆ …                   ┆ …        ┆ …      ┆ … ┆ …    ┆ …      ┆ …      ┆ …           │\n",
       "│ 66537 ┆ 2021-06-10 10:02:00 ┆ 102.0    ┆ 4      ┆ … ┆ 10   ┆ 2      ┆ 0      ┆ 0           │\n",
       "│ 66538 ┆ 2021-06-10 10:02:00 ┆ 102.0    ┆ 30     ┆ … ┆ 10   ┆ 2      ┆ 0      ┆ 0           │\n",
       "│ 66539 ┆ 2021-06-10 10:02:00 ┆ 102.0    ┆ 215    ┆ … ┆ 10   ┆ 2      ┆ 0      ┆ 0           │\n",
       "│ 66540 ┆ 2021-06-10 10:02:00 ┆ 102.0    ┆ 233    ┆ … ┆ 10   ┆ 2      ┆ 0      ┆ 0           │\n",
       "│ 66541 ┆ 2021-06-10 10:02:00 ┆ 102.0    ┆ 29     ┆ … ┆ 10   ┆ 2      ┆ 0      ┆ 0           │\n",
       "└───────┴─────────────────────┴──────────┴────────┴───┴──────┴────────┴────────┴─────────────┘"
      ]
     },
     "execution_count": 4,
     "metadata": {},
     "output_type": "execute_result"
    }
   ],
   "source": [
    "# Convert \"Time\" Column into Datetime Object\n",
    "trades_df = cast_strings_to_datetime(trades_df, columns = [\"time\"])\n",
    "trades_df = trades_df.rename(\n",
    "   {\"time\": \"date_time\"}\n",
    ")\n",
    "\n",
    "\n",
    "# Grab Time Fields\n",
    "trades_df = trades_df.with_columns(\n",
    "    pl.col(\"date_time\").dt.time().alias(\"time\"),\n",
    "    pl.col(\"date_time\").dt.hour().alias(\"hour\"),\n",
    "    pl.col(\"date_time\").dt.minute().alias(\"minute\"),\n",
    "    pl.col(\"date_time\").dt.second().alias(\"second\"),\n",
    "    pl.col(\"date_time\").dt.millisecond().alias(\"millisecond\")\n",
    ")\n",
    "\n",
    "# Market Hours\n",
    "trades_df = trades_df.filter(\n",
    "    pl.col(\"time\").is_between(\n",
    "        time(9,0), time(17,0)\n",
    "    )\n",
    ")\n",
    "trades_df"
   ]
  },
  {
   "cell_type": "code",
   "execution_count": 5,
   "id": "0c662448",
   "metadata": {},
   "outputs": [],
   "source": [
    "from tsuro.data_structures import StandardBars\n",
    "\n",
    "bars = StandardBars(datetime_col = \"date_time\", price_col = \"price\", volume_col = \"volume\")"
   ]
  },
  {
   "cell_type": "code",
   "execution_count": 6,
   "id": "0a02ccc9",
   "metadata": {},
   "outputs": [
    {
     "data": {
      "text/html": [
       "<div><style>\n",
       ".dataframe > thead > tr,\n",
       ".dataframe > tbody > tr {\n",
       "  text-align: right;\n",
       "  white-space: pre-wrap;\n",
       "}\n",
       "</style>\n",
       "<small>shape: (63, 7)</small><table border=\"1\" class=\"dataframe\"><thead><tr><th>bar_index</th><th>open_price</th><th>high_price</th><th>low_price</th><th>close_price</th><th>datetime_start</th><th>datetime_end</th></tr><tr><td>i32</td><td>f64</td><td>f64</td><td>f64</td><td>f64</td><td>datetime[μs]</td><td>datetime[μs]</td></tr></thead><tbody><tr><td>3</td><td>102.5</td><td>102.59</td><td>102.01</td><td>102.07</td><td>2021-06-10 10:05:00</td><td>2021-06-10 10:10:00</td></tr><tr><td>12</td><td>101.02</td><td>101.06</td><td>100.76</td><td>100.815</td><td>2021-06-10 10:44:00</td><td>2021-06-10 10:47:00</td></tr><tr><td>9</td><td>100.85</td><td>101.08</td><td>100.72</td><td>100.98</td><td>2021-06-10 10:28:00</td><td>2021-06-10 10:32:00</td></tr><tr><td>30</td><td>99.93</td><td>99.95</td><td>99.64</td><td>99.65</td><td>2021-06-10 13:24:00</td><td>2021-06-10 13:36:00</td></tr><tr><td>21</td><td>100.2</td><td>100.275</td><td>99.95</td><td>100.16</td><td>2021-06-10 11:29:00</td><td>2021-06-10 11:41:00</td></tr><tr><td>&hellip;</td><td>&hellip;</td><td>&hellip;</td><td>&hellip;</td><td>&hellip;</td><td>&hellip;</td><td>&hellip;</td></tr><tr><td>50</td><td>100.08</td><td>100.08</td><td>100.08</td><td>100.08</td><td>2021-06-10 16:10:00</td><td>2021-06-10 16:10:00</td></tr><tr><td>56</td><td>99.9681</td><td>99.9681</td><td>99.9681</td><td>99.9681</td><td>2021-06-10 16:14:00</td><td>2021-06-10 16:14:00</td></tr><tr><td>38</td><td>99.98</td><td>100.01</td><td>99.84</td><td>100.01</td><td>2021-06-10 15:02:00</td><td>2021-06-10 15:14:00</td></tr><tr><td>53</td><td>100.08</td><td>100.08</td><td>100.08</td><td>100.08</td><td>2021-06-10 16:10:00</td><td>2021-06-10 16:10:00</td></tr><tr><td>35</td><td>99.97</td><td>100.0</td><td>99.73</td><td>99.77</td><td>2021-06-10 14:24:00</td><td>2021-06-10 14:36:00</td></tr></tbody></table></div>"
      ],
      "text/plain": [
       "shape: (63, 7)\n",
       "┌───────────┬────────────┬────────────┬───────────┬─────────────┬─────────────────┬────────────────┐\n",
       "│ bar_index ┆ open_price ┆ high_price ┆ low_price ┆ close_price ┆ datetime_start  ┆ datetime_end   │\n",
       "│ ---       ┆ ---        ┆ ---        ┆ ---       ┆ ---         ┆ ---             ┆ ---            │\n",
       "│ i32       ┆ f64        ┆ f64        ┆ f64       ┆ f64         ┆ datetime[μs]    ┆ datetime[μs]   │\n",
       "╞═══════════╪════════════╪════════════╪═══════════╪═════════════╪═════════════════╪════════════════╡\n",
       "│ 3         ┆ 102.5      ┆ 102.59     ┆ 102.01    ┆ 102.07      ┆ 2021-06-10      ┆ 2021-06-10     │\n",
       "│           ┆            ┆            ┆           ┆             ┆ 10:05:00        ┆ 10:10:00       │\n",
       "│ 12        ┆ 101.02     ┆ 101.06     ┆ 100.76    ┆ 100.815     ┆ 2021-06-10      ┆ 2021-06-10     │\n",
       "│           ┆            ┆            ┆           ┆             ┆ 10:44:00        ┆ 10:47:00       │\n",
       "│ 9         ┆ 100.85     ┆ 101.08     ┆ 100.72    ┆ 100.98      ┆ 2021-06-10      ┆ 2021-06-10     │\n",
       "│           ┆            ┆            ┆           ┆             ┆ 10:28:00        ┆ 10:32:00       │\n",
       "│ 30        ┆ 99.93      ┆ 99.95      ┆ 99.64     ┆ 99.65       ┆ 2021-06-10      ┆ 2021-06-10     │\n",
       "│           ┆            ┆            ┆           ┆             ┆ 13:24:00        ┆ 13:36:00       │\n",
       "│ 21        ┆ 100.2      ┆ 100.275    ┆ 99.95     ┆ 100.16      ┆ 2021-06-10      ┆ 2021-06-10     │\n",
       "│           ┆            ┆            ┆           ┆             ┆ 11:29:00        ┆ 11:41:00       │\n",
       "│ …         ┆ …          ┆ …          ┆ …         ┆ …           ┆ …               ┆ …              │\n",
       "│ 50        ┆ 100.08     ┆ 100.08     ┆ 100.08    ┆ 100.08      ┆ 2021-06-10      ┆ 2021-06-10     │\n",
       "│           ┆            ┆            ┆           ┆             ┆ 16:10:00        ┆ 16:10:00       │\n",
       "│ 56        ┆ 99.9681    ┆ 99.9681    ┆ 99.9681   ┆ 99.9681     ┆ 2021-06-10      ┆ 2021-06-10     │\n",
       "│           ┆            ┆            ┆           ┆             ┆ 16:14:00        ┆ 16:14:00       │\n",
       "│ 38        ┆ 99.98      ┆ 100.01     ┆ 99.84     ┆ 100.01      ┆ 2021-06-10      ┆ 2021-06-10     │\n",
       "│           ┆            ┆            ┆           ┆             ┆ 15:02:00        ┆ 15:14:00       │\n",
       "│ 53        ┆ 100.08     ┆ 100.08     ┆ 100.08    ┆ 100.08      ┆ 2021-06-10      ┆ 2021-06-10     │\n",
       "│           ┆            ┆            ┆           ┆             ┆ 16:10:00        ┆ 16:10:00       │\n",
       "│ 35        ┆ 99.97      ┆ 100.0      ┆ 99.73     ┆ 99.77       ┆ 2021-06-10      ┆ 2021-06-10     │\n",
       "│           ┆            ┆            ┆           ┆             ┆ 14:24:00        ┆ 14:36:00       │\n",
       "└───────────┴────────────┴────────────┴───────────┴─────────────┴─────────────────┴────────────────┘"
      ]
     },
     "execution_count": 6,
     "metadata": {},
     "output_type": "execute_result"
    }
   ],
   "source": [
    "pdf = bars.create_volume_bars(\n",
    "    trades_df,\n",
    "    order_by = \"date_time\"\n",
    ")\n",
    "pdf"
   ]
  },
  {
   "cell_type": "code",
   "execution_count": 9,
   "id": "ffdf8323",
   "metadata": {},
   "outputs": [
    {
     "name": "stdout",
     "output_type": "stream",
     "text": [
      "Time: 0.04300689697265625s\n"
     ]
    },
    {
     "data": {
      "text/html": [
       "<div><style>\n",
       ".dataframe > thead > tr,\n",
       ".dataframe > tbody > tr {\n",
       "  text-align: right;\n",
       "  white-space: pre-wrap;\n",
       "}\n",
       "</style>\n",
       "<small>shape: (48, 66)</small><table border=\"1\" class=\"dataframe\"><thead><tr><th>index</th><th>time_start</th><th>time_end</th><th>bar_3_overlap</th><th>bar_12_overlap</th><th>bar_9_overlap</th><th>bar_30_overlap</th><th>bar_21_overlap</th><th>bar_6_overlap</th><th>bar_18_overlap</th><th>bar_27_overlap</th><th>bar_15_overlap</th><th>bar_0_overlap</th><th>bar_24_overlap</th><th>bar_39_overlap</th><th>bar_42_overlap</th><th>bar_36_overlap</th><th>bar_60_overlap</th><th>bar_45_overlap</th><th>bar_63_overlap</th><th>bar_51_overlap</th><th>bar_48_overlap</th><th>bar_33_overlap</th><th>bar_54_overlap</th><th>bar_13_overlap</th><th>bar_22_overlap</th><th>bar_28_overlap</th><th>bar_25_overlap</th><th>bar_16_overlap</th><th>bar_19_overlap</th><th>bar_1_overlap</th><th>bar_7_overlap</th><th>bar_31_overlap</th><th>bar_4_overlap</th><th>bar_10_overlap</th><th>bar_34_overlap</th><th>bar_64_overlap</th><th>bar_52_overlap</th><th>bar_40_overlap</th><th>bar_37_overlap</th><th>bar_46_overlap</th><th>bar_49_overlap</th><th>bar_58_overlap</th><th>bar_61_overlap</th><th>bar_43_overlap</th><th>bar_55_overlap</th><th>bar_20_overlap</th><th>bar_2_overlap</th><th>bar_26_overlap</th><th>bar_8_overlap</th><th>bar_23_overlap</th><th>bar_11_overlap</th><th>bar_17_overlap</th><th>bar_14_overlap</th><th>bar_32_overlap</th><th>bar_29_overlap</th><th>bar_5_overlap</th><th>bar_47_overlap</th><th>bar_62_overlap</th><th>bar_41_overlap</th><th>bar_44_overlap</th><th>bar_50_overlap</th><th>bar_56_overlap</th><th>bar_38_overlap</th><th>bar_53_overlap</th><th>bar_35_overlap</th></tr><tr><td>u32</td><td>datetime[μs]</td><td>datetime[μs]</td><td>i32</td><td>i32</td><td>i32</td><td>i32</td><td>i32</td><td>i32</td><td>i32</td><td>i32</td><td>i32</td><td>i32</td><td>i32</td><td>i32</td><td>i32</td><td>i32</td><td>i32</td><td>i32</td><td>i32</td><td>i32</td><td>i32</td><td>i32</td><td>i32</td><td>i32</td><td>i32</td><td>i32</td><td>i32</td><td>i32</td><td>i32</td><td>i32</td><td>i32</td><td>i32</td><td>i32</td><td>i32</td><td>i32</td><td>i32</td><td>i32</td><td>i32</td><td>i32</td><td>i32</td><td>i32</td><td>i32</td><td>i32</td><td>i32</td><td>i32</td><td>i32</td><td>i32</td><td>i32</td><td>i32</td><td>i32</td><td>i32</td><td>i32</td><td>i32</td><td>i32</td><td>i32</td><td>i32</td><td>i32</td><td>i32</td><td>i32</td><td>i32</td><td>i32</td><td>i32</td><td>i32</td><td>i32</td><td>i32</td></tr></thead><tbody><tr><td>0</td><td>2021-06-10 10:02:00</td><td>2021-06-10 10:05:00</td><td>0</td><td>0</td><td>0</td><td>0</td><td>0</td><td>0</td><td>0</td><td>0</td><td>0</td><td>0</td><td>0</td><td>0</td><td>0</td><td>0</td><td>0</td><td>0</td><td>0</td><td>0</td><td>0</td><td>0</td><td>0</td><td>0</td><td>0</td><td>0</td><td>0</td><td>0</td><td>0</td><td>1</td><td>0</td><td>0</td><td>0</td><td>0</td><td>0</td><td>0</td><td>0</td><td>0</td><td>0</td><td>0</td><td>0</td><td>0</td><td>0</td><td>0</td><td>0</td><td>0</td><td>0</td><td>0</td><td>0</td><td>0</td><td>0</td><td>0</td><td>0</td><td>0</td><td>0</td><td>0</td><td>0</td><td>0</td><td>0</td><td>0</td><td>0</td><td>0</td><td>0</td><td>0</td><td>0</td></tr><tr><td>1</td><td>2021-06-10 10:05:00</td><td>2021-06-10 10:10:00</td><td>1</td><td>0</td><td>0</td><td>0</td><td>0</td><td>0</td><td>0</td><td>0</td><td>0</td><td>0</td><td>0</td><td>0</td><td>0</td><td>0</td><td>0</td><td>0</td><td>0</td><td>0</td><td>0</td><td>0</td><td>0</td><td>0</td><td>0</td><td>0</td><td>0</td><td>0</td><td>0</td><td>0</td><td>0</td><td>0</td><td>0</td><td>0</td><td>0</td><td>0</td><td>0</td><td>0</td><td>0</td><td>0</td><td>0</td><td>0</td><td>0</td><td>0</td><td>0</td><td>0</td><td>0</td><td>0</td><td>0</td><td>0</td><td>0</td><td>0</td><td>0</td><td>0</td><td>0</td><td>0</td><td>0</td><td>0</td><td>0</td><td>0</td><td>0</td><td>0</td><td>0</td><td>0</td><td>0</td></tr><tr><td>2</td><td>2021-06-10 10:10:00</td><td>2021-06-10 10:14:00</td><td>0</td><td>0</td><td>0</td><td>0</td><td>0</td><td>0</td><td>0</td><td>0</td><td>0</td><td>0</td><td>0</td><td>0</td><td>0</td><td>0</td><td>0</td><td>0</td><td>0</td><td>0</td><td>0</td><td>0</td><td>0</td><td>0</td><td>0</td><td>0</td><td>0</td><td>0</td><td>0</td><td>0</td><td>0</td><td>0</td><td>1</td><td>0</td><td>0</td><td>0</td><td>0</td><td>0</td><td>0</td><td>0</td><td>0</td><td>0</td><td>0</td><td>0</td><td>0</td><td>0</td><td>0</td><td>0</td><td>0</td><td>0</td><td>0</td><td>0</td><td>0</td><td>0</td><td>0</td><td>0</td><td>0</td><td>0</td><td>0</td><td>0</td><td>0</td><td>0</td><td>0</td><td>0</td><td>0</td></tr><tr><td>3</td><td>2021-06-10 10:14:00</td><td>2021-06-10 10:17:00</td><td>0</td><td>0</td><td>0</td><td>0</td><td>0</td><td>0</td><td>0</td><td>0</td><td>0</td><td>0</td><td>0</td><td>0</td><td>0</td><td>0</td><td>0</td><td>0</td><td>0</td><td>0</td><td>0</td><td>0</td><td>0</td><td>0</td><td>0</td><td>0</td><td>0</td><td>0</td><td>0</td><td>0</td><td>0</td><td>0</td><td>0</td><td>0</td><td>0</td><td>0</td><td>0</td><td>0</td><td>0</td><td>0</td><td>0</td><td>0</td><td>0</td><td>0</td><td>0</td><td>0</td><td>0</td><td>0</td><td>0</td><td>0</td><td>0</td><td>0</td><td>0</td><td>0</td><td>0</td><td>1</td><td>0</td><td>0</td><td>0</td><td>0</td><td>0</td><td>0</td><td>0</td><td>0</td><td>0</td></tr><tr><td>4</td><td>2021-06-10 10:17:00</td><td>2021-06-10 10:21:00</td><td>0</td><td>0</td><td>0</td><td>0</td><td>0</td><td>1</td><td>0</td><td>0</td><td>0</td><td>0</td><td>0</td><td>0</td><td>0</td><td>0</td><td>0</td><td>0</td><td>0</td><td>0</td><td>0</td><td>0</td><td>0</td><td>0</td><td>0</td><td>0</td><td>0</td><td>0</td><td>0</td><td>0</td><td>0</td><td>0</td><td>0</td><td>0</td><td>0</td><td>0</td><td>0</td><td>0</td><td>0</td><td>0</td><td>0</td><td>0</td><td>0</td><td>0</td><td>0</td><td>0</td><td>0</td><td>0</td><td>0</td><td>0</td><td>0</td><td>0</td><td>0</td><td>0</td><td>0</td><td>0</td><td>0</td><td>0</td><td>0</td><td>0</td><td>0</td><td>0</td><td>0</td><td>0</td><td>0</td></tr><tr><td>&hellip;</td><td>&hellip;</td><td>&hellip;</td><td>&hellip;</td><td>&hellip;</td><td>&hellip;</td><td>&hellip;</td><td>&hellip;</td><td>&hellip;</td><td>&hellip;</td><td>&hellip;</td><td>&hellip;</td><td>&hellip;</td><td>&hellip;</td><td>&hellip;</td><td>&hellip;</td><td>&hellip;</td><td>&hellip;</td><td>&hellip;</td><td>&hellip;</td><td>&hellip;</td><td>&hellip;</td><td>&hellip;</td><td>&hellip;</td><td>&hellip;</td><td>&hellip;</td><td>&hellip;</td><td>&hellip;</td><td>&hellip;</td><td>&hellip;</td><td>&hellip;</td><td>&hellip;</td><td>&hellip;</td><td>&hellip;</td><td>&hellip;</td><td>&hellip;</td><td>&hellip;</td><td>&hellip;</td><td>&hellip;</td><td>&hellip;</td><td>&hellip;</td><td>&hellip;</td><td>&hellip;</td><td>&hellip;</td><td>&hellip;</td><td>&hellip;</td><td>&hellip;</td><td>&hellip;</td><td>&hellip;</td><td>&hellip;</td><td>&hellip;</td><td>&hellip;</td><td>&hellip;</td><td>&hellip;</td><td>&hellip;</td><td>&hellip;</td><td>&hellip;</td><td>&hellip;</td><td>&hellip;</td><td>&hellip;</td><td>&hellip;</td><td>&hellip;</td><td>&hellip;</td><td>&hellip;</td><td>&hellip;</td><td>&hellip;</td></tr><tr><td>43</td><td>2021-06-10 15:59:00</td><td>2021-06-10 16:10:00</td><td>0</td><td>0</td><td>0</td><td>0</td><td>0</td><td>0</td><td>0</td><td>0</td><td>0</td><td>0</td><td>0</td><td>0</td><td>0</td><td>0</td><td>0</td><td>1</td><td>0</td><td>0</td><td>0</td><td>0</td><td>0</td><td>0</td><td>0</td><td>0</td><td>0</td><td>0</td><td>0</td><td>0</td><td>0</td><td>0</td><td>0</td><td>0</td><td>0</td><td>0</td><td>0</td><td>0</td><td>0</td><td>0</td><td>0</td><td>0</td><td>0</td><td>0</td><td>0</td><td>0</td><td>0</td><td>0</td><td>0</td><td>0</td><td>0</td><td>0</td><td>0</td><td>0</td><td>0</td><td>0</td><td>0</td><td>0</td><td>0</td><td>0</td><td>0</td><td>0</td><td>0</td><td>0</td><td>0</td></tr><tr><td>46</td><td>2021-06-10 16:15:00</td><td>2021-06-10 16:17:00</td><td>0</td><td>0</td><td>0</td><td>0</td><td>0</td><td>0</td><td>0</td><td>0</td><td>0</td><td>0</td><td>0</td><td>0</td><td>0</td><td>0</td><td>0</td><td>0</td><td>0</td><td>0</td><td>0</td><td>0</td><td>0</td><td>0</td><td>0</td><td>0</td><td>0</td><td>0</td><td>0</td><td>0</td><td>0</td><td>0</td><td>0</td><td>0</td><td>0</td><td>0</td><td>0</td><td>0</td><td>0</td><td>0</td><td>0</td><td>1</td><td>0</td><td>0</td><td>0</td><td>0</td><td>0</td><td>0</td><td>0</td><td>0</td><td>0</td><td>0</td><td>0</td><td>0</td><td>0</td><td>0</td><td>0</td><td>0</td><td>0</td><td>0</td><td>0</td><td>0</td><td>0</td><td>0</td><td>0</td></tr><tr><td>50</td><td>2021-06-10 16:22:00</td><td>2021-06-10 16:26:00</td><td>0</td><td>0</td><td>0</td><td>0</td><td>0</td><td>0</td><td>0</td><td>0</td><td>0</td><td>0</td><td>0</td><td>0</td><td>0</td><td>0</td><td>0</td><td>0</td><td>0</td><td>0</td><td>0</td><td>0</td><td>0</td><td>0</td><td>0</td><td>0</td><td>0</td><td>0</td><td>0</td><td>0</td><td>0</td><td>0</td><td>0</td><td>0</td><td>0</td><td>0</td><td>0</td><td>0</td><td>0</td><td>0</td><td>0</td><td>0</td><td>0</td><td>0</td><td>0</td><td>0</td><td>0</td><td>0</td><td>0</td><td>0</td><td>0</td><td>0</td><td>0</td><td>0</td><td>0</td><td>0</td><td>0</td><td>1</td><td>0</td><td>0</td><td>0</td><td>0</td><td>0</td><td>0</td><td>0</td></tr><tr><td>51</td><td>2021-06-10 16:26:00</td><td>2021-06-10 16:43:00</td><td>0</td><td>0</td><td>0</td><td>0</td><td>0</td><td>0</td><td>0</td><td>0</td><td>0</td><td>0</td><td>0</td><td>0</td><td>0</td><td>0</td><td>0</td><td>0</td><td>1</td><td>0</td><td>0</td><td>0</td><td>0</td><td>0</td><td>0</td><td>0</td><td>0</td><td>0</td><td>0</td><td>0</td><td>0</td><td>0</td><td>0</td><td>0</td><td>0</td><td>0</td><td>0</td><td>0</td><td>0</td><td>0</td><td>0</td><td>0</td><td>0</td><td>0</td><td>0</td><td>0</td><td>0</td><td>0</td><td>0</td><td>0</td><td>0</td><td>0</td><td>0</td><td>0</td><td>0</td><td>0</td><td>0</td><td>0</td><td>0</td><td>0</td><td>0</td><td>0</td><td>0</td><td>0</td><td>0</td></tr><tr><td>53</td><td>2021-06-10 16:45:00</td><td>2021-06-10 17:00:00</td><td>0</td><td>0</td><td>0</td><td>0</td><td>0</td><td>0</td><td>0</td><td>0</td><td>0</td><td>0</td><td>0</td><td>0</td><td>0</td><td>0</td><td>0</td><td>0</td><td>0</td><td>0</td><td>0</td><td>0</td><td>0</td><td>0</td><td>0</td><td>0</td><td>0</td><td>0</td><td>0</td><td>0</td><td>0</td><td>0</td><td>0</td><td>0</td><td>0</td><td>1</td><td>0</td><td>0</td><td>0</td><td>0</td><td>0</td><td>0</td><td>0</td><td>0</td><td>0</td><td>0</td><td>0</td><td>0</td><td>0</td><td>0</td><td>0</td><td>0</td><td>0</td><td>0</td><td>0</td><td>0</td><td>0</td><td>0</td><td>0</td><td>0</td><td>0</td><td>0</td><td>0</td><td>0</td><td>0</td></tr></tbody></table></div>"
      ],
      "text/plain": [
       "shape: (48, 66)\n",
       "┌───────┬────────────┬────────────┬────────────┬───┬───────────┬───────────┬───────────┬───────────┐\n",
       "│ index ┆ time_start ┆ time_end   ┆ bar_3_over ┆ … ┆ bar_56_ov ┆ bar_38_ov ┆ bar_53_ov ┆ bar_35_ov │\n",
       "│ ---   ┆ ---        ┆ ---        ┆ lap        ┆   ┆ erlap     ┆ erlap     ┆ erlap     ┆ erlap     │\n",
       "│ u32   ┆ datetime[μ ┆ datetime[μ ┆ ---        ┆   ┆ ---       ┆ ---       ┆ ---       ┆ ---       │\n",
       "│       ┆ s]         ┆ s]         ┆ i32        ┆   ┆ i32       ┆ i32       ┆ i32       ┆ i32       │\n",
       "╞═══════╪════════════╪════════════╪════════════╪═══╪═══════════╪═══════════╪═══════════╪═══════════╡\n",
       "│ 0     ┆ 2021-06-10 ┆ 2021-06-10 ┆ 0          ┆ … ┆ 0         ┆ 0         ┆ 0         ┆ 0         │\n",
       "│       ┆ 10:02:00   ┆ 10:05:00   ┆            ┆   ┆           ┆           ┆           ┆           │\n",
       "│ 1     ┆ 2021-06-10 ┆ 2021-06-10 ┆ 1          ┆ … ┆ 0         ┆ 0         ┆ 0         ┆ 0         │\n",
       "│       ┆ 10:05:00   ┆ 10:10:00   ┆            ┆   ┆           ┆           ┆           ┆           │\n",
       "│ 2     ┆ 2021-06-10 ┆ 2021-06-10 ┆ 0          ┆ … ┆ 0         ┆ 0         ┆ 0         ┆ 0         │\n",
       "│       ┆ 10:10:00   ┆ 10:14:00   ┆            ┆   ┆           ┆           ┆           ┆           │\n",
       "│ 3     ┆ 2021-06-10 ┆ 2021-06-10 ┆ 0          ┆ … ┆ 0         ┆ 0         ┆ 0         ┆ 0         │\n",
       "│       ┆ 10:14:00   ┆ 10:17:00   ┆            ┆   ┆           ┆           ┆           ┆           │\n",
       "│ 4     ┆ 2021-06-10 ┆ 2021-06-10 ┆ 0          ┆ … ┆ 0         ┆ 0         ┆ 0         ┆ 0         │\n",
       "│       ┆ 10:17:00   ┆ 10:21:00   ┆            ┆   ┆           ┆           ┆           ┆           │\n",
       "│ …     ┆ …          ┆ …          ┆ …          ┆ … ┆ …         ┆ …         ┆ …         ┆ …         │\n",
       "│ 43    ┆ 2021-06-10 ┆ 2021-06-10 ┆ 0          ┆ … ┆ 0         ┆ 0         ┆ 0         ┆ 0         │\n",
       "│       ┆ 15:59:00   ┆ 16:10:00   ┆            ┆   ┆           ┆           ┆           ┆           │\n",
       "│ 46    ┆ 2021-06-10 ┆ 2021-06-10 ┆ 0          ┆ … ┆ 0         ┆ 0         ┆ 0         ┆ 0         │\n",
       "│       ┆ 16:15:00   ┆ 16:17:00   ┆            ┆   ┆           ┆           ┆           ┆           │\n",
       "│ 50    ┆ 2021-06-10 ┆ 2021-06-10 ┆ 0          ┆ … ┆ 0         ┆ 0         ┆ 0         ┆ 0         │\n",
       "│       ┆ 16:22:00   ┆ 16:26:00   ┆            ┆   ┆           ┆           ┆           ┆           │\n",
       "│ 51    ┆ 2021-06-10 ┆ 2021-06-10 ┆ 0          ┆ … ┆ 0         ┆ 0         ┆ 0         ┆ 0         │\n",
       "│       ┆ 16:26:00   ┆ 16:43:00   ┆            ┆   ┆           ┆           ┆           ┆           │\n",
       "│ 53    ┆ 2021-06-10 ┆ 2021-06-10 ┆ 0          ┆ … ┆ 0         ┆ 0         ┆ 0         ┆ 0         │\n",
       "│       ┆ 16:45:00   ┆ 17:00:00   ┆            ┆   ┆           ┆           ┆           ┆           │\n",
       "└───────┴────────────┴────────────┴────────────┴───┴───────────┴───────────┴───────────┴───────────┘"
      ]
     },
     "execution_count": 9,
     "metadata": {},
     "output_type": "execute_result"
    }
   ],
   "source": [
    "from tsuro.sampling import create_overlap_matrix\n",
    "\n",
    "import time\n",
    "\n",
    "time0 = time.time()\n",
    "overlap_matrix, bars_df = create_overlap_matrix(\n",
    "    pdf,\n",
    "    time_start_col = \"datetime_start\",\n",
    "    time_end_col = \"datetime_end\",\n",
    "    index_col = \"bar_index\",\n",
    "    return_bars = True\n",
    ")\n",
    "time1 = time.time()\n",
    "print(f\"Time: {time1-time0}s\")\n",
    "overlap_matrix"
   ]
  },
  {
   "cell_type": "code",
   "execution_count": 8,
   "id": "dd5ecb54",
   "metadata": {},
   "outputs": [
    {
     "data": {
      "text/html": [
       "<div><style>\n",
       ".dataframe > thead > tr,\n",
       ".dataframe > tbody > tr {\n",
       "  text-align: right;\n",
       "  white-space: pre-wrap;\n",
       "}\n",
       "</style>\n",
       "<small>shape: (63, 9)</small><table border=\"1\" class=\"dataframe\"><thead><tr><th>bar_index</th><th>open_price</th><th>high_price</th><th>low_price</th><th>close_price</th><th>datetime_start</th><th>datetime_end</th><th>datetime_start_index</th><th>datetime_end_index</th></tr><tr><td>i32</td><td>f64</td><td>f64</td><td>f64</td><td>f64</td><td>datetime[μs]</td><td>datetime[μs]</td><td>u32</td><td>u32</td></tr></thead><tbody><tr><td>27</td><td>99.92</td><td>99.98</td><td>99.77</td><td>99.91</td><td>2021-06-10 12:44:00</td><td>2021-06-10 12:55:00</td><td>25</td><td>26</td></tr><tr><td>18</td><td>99.9</td><td>100.01</td><td>99.65</td><td>99.68</td><td>2021-06-10 11:09:00</td><td>2021-06-10 11:13:00</td><td>16</td><td>17</td></tr><tr><td>9</td><td>100.85</td><td>101.08</td><td>100.72</td><td>100.98</td><td>2021-06-10 10:28:00</td><td>2021-06-10 10:32:00</td><td>7</td><td>8</td></tr><tr><td>30</td><td>99.93</td><td>99.95</td><td>99.64</td><td>99.65</td><td>2021-06-10 13:24:00</td><td>2021-06-10 13:36:00</td><td>28</td><td>29</td></tr><tr><td>3</td><td>102.5</td><td>102.59</td><td>102.01</td><td>102.07</td><td>2021-06-10 10:05:00</td><td>2021-06-10 10:10:00</td><td>1</td><td>2</td></tr><tr><td>&hellip;</td><td>&hellip;</td><td>&hellip;</td><td>&hellip;</td><td>&hellip;</td><td>&hellip;</td><td>&hellip;</td><td>&hellip;</td><td>&hellip;</td></tr><tr><td>38</td><td>99.98</td><td>100.01</td><td>99.84</td><td>100.01</td><td>2021-06-10 15:02:00</td><td>2021-06-10 15:14:00</td><td>36</td><td>37</td></tr><tr><td>53</td><td>100.08</td><td>100.08</td><td>100.08</td><td>100.08</td><td>2021-06-10 16:10:00</td><td>2021-06-10 16:10:00</td><td>44</td><td>44</td></tr><tr><td>35</td><td>99.97</td><td>100.0</td><td>99.73</td><td>99.77</td><td>2021-06-10 14:24:00</td><td>2021-06-10 14:36:00</td><td>33</td><td>34</td></tr><tr><td>47</td><td>100.08</td><td>100.08</td><td>100.08</td><td>100.08</td><td>2021-06-10 16:10:00</td><td>2021-06-10 16:10:00</td><td>44</td><td>44</td></tr><tr><td>62</td><td>100.3127</td><td>104.33</td><td>99.9673</td><td>99.9673</td><td>2021-06-10 16:22:00</td><td>2021-06-10 16:26:00</td><td>50</td><td>51</td></tr></tbody></table></div>"
      ],
      "text/plain": [
       "shape: (63, 9)\n",
       "┌───────────┬───────────┬───────────┬───────────┬───┬───────────┬───────────┬───────────┬──────────┐\n",
       "│ bar_index ┆ open_pric ┆ high_pric ┆ low_price ┆ … ┆ datetime_ ┆ datetime_ ┆ datetime_ ┆ datetime │\n",
       "│ ---       ┆ e         ┆ e         ┆ ---       ┆   ┆ start     ┆ end       ┆ start_ind ┆ _end_ind │\n",
       "│ i32       ┆ ---       ┆ ---       ┆ f64       ┆   ┆ ---       ┆ ---       ┆ ex        ┆ ex       │\n",
       "│           ┆ f64       ┆ f64       ┆           ┆   ┆ datetime[ ┆ datetime[ ┆ ---       ┆ ---      │\n",
       "│           ┆           ┆           ┆           ┆   ┆ μs]       ┆ μs]       ┆ u32       ┆ u32      │\n",
       "╞═══════════╪═══════════╪═══════════╪═══════════╪═══╪═══════════╪═══════════╪═══════════╪══════════╡\n",
       "│ 27        ┆ 99.92     ┆ 99.98     ┆ 99.77     ┆ … ┆ 2021-06-1 ┆ 2021-06-1 ┆ 25        ┆ 26       │\n",
       "│           ┆           ┆           ┆           ┆   ┆ 0         ┆ 0         ┆           ┆          │\n",
       "│           ┆           ┆           ┆           ┆   ┆ 12:44:00  ┆ 12:55:00  ┆           ┆          │\n",
       "│ 18        ┆ 99.9      ┆ 100.01    ┆ 99.65     ┆ … ┆ 2021-06-1 ┆ 2021-06-1 ┆ 16        ┆ 17       │\n",
       "│           ┆           ┆           ┆           ┆   ┆ 0         ┆ 0         ┆           ┆          │\n",
       "│           ┆           ┆           ┆           ┆   ┆ 11:09:00  ┆ 11:13:00  ┆           ┆          │\n",
       "│ 9         ┆ 100.85    ┆ 101.08    ┆ 100.72    ┆ … ┆ 2021-06-1 ┆ 2021-06-1 ┆ 7         ┆ 8        │\n",
       "│           ┆           ┆           ┆           ┆   ┆ 0         ┆ 0         ┆           ┆          │\n",
       "│           ┆           ┆           ┆           ┆   ┆ 10:28:00  ┆ 10:32:00  ┆           ┆          │\n",
       "│ 30        ┆ 99.93     ┆ 99.95     ┆ 99.64     ┆ … ┆ 2021-06-1 ┆ 2021-06-1 ┆ 28        ┆ 29       │\n",
       "│           ┆           ┆           ┆           ┆   ┆ 0         ┆ 0         ┆           ┆          │\n",
       "│           ┆           ┆           ┆           ┆   ┆ 13:24:00  ┆ 13:36:00  ┆           ┆          │\n",
       "│ 3         ┆ 102.5     ┆ 102.59    ┆ 102.01    ┆ … ┆ 2021-06-1 ┆ 2021-06-1 ┆ 1         ┆ 2        │\n",
       "│           ┆           ┆           ┆           ┆   ┆ 0         ┆ 0         ┆           ┆          │\n",
       "│           ┆           ┆           ┆           ┆   ┆ 10:05:00  ┆ 10:10:00  ┆           ┆          │\n",
       "│ …         ┆ …         ┆ …         ┆ …         ┆ … ┆ …         ┆ …         ┆ …         ┆ …        │\n",
       "│ 38        ┆ 99.98     ┆ 100.01    ┆ 99.84     ┆ … ┆ 2021-06-1 ┆ 2021-06-1 ┆ 36        ┆ 37       │\n",
       "│           ┆           ┆           ┆           ┆   ┆ 0         ┆ 0         ┆           ┆          │\n",
       "│           ┆           ┆           ┆           ┆   ┆ 15:02:00  ┆ 15:14:00  ┆           ┆          │\n",
       "│ 53        ┆ 100.08    ┆ 100.08    ┆ 100.08    ┆ … ┆ 2021-06-1 ┆ 2021-06-1 ┆ 44        ┆ 44       │\n",
       "│           ┆           ┆           ┆           ┆   ┆ 0         ┆ 0         ┆           ┆          │\n",
       "│           ┆           ┆           ┆           ┆   ┆ 16:10:00  ┆ 16:10:00  ┆           ┆          │\n",
       "│ 35        ┆ 99.97     ┆ 100.0     ┆ 99.73     ┆ … ┆ 2021-06-1 ┆ 2021-06-1 ┆ 33        ┆ 34       │\n",
       "│           ┆           ┆           ┆           ┆   ┆ 0         ┆ 0         ┆           ┆          │\n",
       "│           ┆           ┆           ┆           ┆   ┆ 14:24:00  ┆ 14:36:00  ┆           ┆          │\n",
       "│ 47        ┆ 100.08    ┆ 100.08    ┆ 100.08    ┆ … ┆ 2021-06-1 ┆ 2021-06-1 ┆ 44        ┆ 44       │\n",
       "│           ┆           ┆           ┆           ┆   ┆ 0         ┆ 0         ┆           ┆          │\n",
       "│           ┆           ┆           ┆           ┆   ┆ 16:10:00  ┆ 16:10:00  ┆           ┆          │\n",
       "│ 62        ┆ 100.3127  ┆ 104.33    ┆ 99.9673   ┆ … ┆ 2021-06-1 ┆ 2021-06-1 ┆ 50        ┆ 51       │\n",
       "│           ┆           ┆           ┆           ┆   ┆ 0         ┆ 0         ┆           ┆          │\n",
       "│           ┆           ┆           ┆           ┆   ┆ 16:22:00  ┆ 16:26:00  ┆           ┆          │\n",
       "└───────────┴───────────┴───────────┴───────────┴───┴───────────┴───────────┴───────────┴──────────┘"
      ]
     },
     "execution_count": 8,
     "metadata": {},
     "output_type": "execute_result"
    }
   ],
   "source": [
    "bars_df"
   ]
  },
  {
   "cell_type": "code",
   "execution_count": 9,
   "id": "81d23b76",
   "metadata": {},
   "outputs": [
    {
     "data": {
      "text/html": [
       "<div><style>\n",
       ".dataframe > thead > tr,\n",
       ".dataframe > tbody > tr {\n",
       "  text-align: right;\n",
       "  white-space: pre-wrap;\n",
       "}\n",
       "</style>\n",
       "<small>shape: (51, 1)</small><table border=\"1\" class=\"dataframe\"><thead><tr><th>datetime_end</th></tr><tr><td>datetime[μs]</td></tr></thead><tbody><tr><td>2021-06-10 16:10:00</td></tr><tr><td>2021-06-10 16:20:00</td></tr><tr><td>2021-06-10 10:08:00</td></tr><tr><td>2021-06-10 15:38:00</td></tr><tr><td>2021-06-10 16:43:00</td></tr><tr><td>&hellip;</td></tr><tr><td>2021-06-10 10:47:00</td></tr><tr><td>2021-06-10 13:43:00</td></tr><tr><td>2021-06-10 14:58:00</td></tr><tr><td>2021-06-10 13:02:00</td></tr><tr><td>2021-06-10 12:38:00</td></tr></tbody></table></div>"
      ],
      "text/plain": [
       "shape: (51, 1)\n",
       "┌─────────────────────┐\n",
       "│ datetime_end        │\n",
       "│ ---                 │\n",
       "│ datetime[μs]        │\n",
       "╞═════════════════════╡\n",
       "│ 2021-06-10 16:10:00 │\n",
       "│ 2021-06-10 16:20:00 │\n",
       "│ 2021-06-10 10:08:00 │\n",
       "│ 2021-06-10 15:38:00 │\n",
       "│ 2021-06-10 16:43:00 │\n",
       "│ …                   │\n",
       "│ 2021-06-10 10:47:00 │\n",
       "│ 2021-06-10 13:43:00 │\n",
       "│ 2021-06-10 14:58:00 │\n",
       "│ 2021-06-10 13:02:00 │\n",
       "│ 2021-06-10 12:38:00 │\n",
       "└─────────────────────┘"
      ]
     },
     "execution_count": 9,
     "metadata": {},
     "output_type": "execute_result"
    }
   ],
   "source": [
    "bars_start_times = pdf.select(\"datetime_start\").unique()\n",
    "bars_end_times = pdf.select(\"datetime_end\").unique()\n",
    "bars_end_times"
   ]
  },
  {
   "cell_type": "code",
   "execution_count": null,
   "id": "958bba96",
   "metadata": {},
   "outputs": [],
   "source": []
  }
 ],
 "metadata": {
  "kernelspec": {
   "display_name": "Python 3 (ipykernel)",
   "language": "python",
   "name": "python3"
  },
  "language_info": {
   "codemirror_mode": {
    "name": "ipython",
    "version": 3
   },
   "file_extension": ".py",
   "mimetype": "text/x-python",
   "name": "python",
   "nbconvert_exporter": "python",
   "pygments_lexer": "ipython3",
   "version": "3.11.4"
  }
 },
 "nbformat": 4,
 "nbformat_minor": 5
}
