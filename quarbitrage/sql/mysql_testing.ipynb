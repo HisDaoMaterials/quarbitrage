{
 "cells": [
  {
   "cell_type": "code",
   "execution_count": 1,
   "id": "2cf517bc",
   "metadata": {},
   "outputs": [],
   "source": [
    "import polars as pl\n",
    "import mysql.connector"
   ]
  },
  {
   "cell_type": "code",
   "execution_count": null,
   "id": "1da9c712",
   "metadata": {},
   "outputs": [],
   "source": [
    "db = mysql.connector.connect(\n",
    "    host=\"localhost\",\n",
    "    port = 3306,\n",
    "    user=\"root\",\n",
    "    password=\"95gzagedmrjzP0nv3xq!\"\n",
    ")\n",
    "\n",
    "mycursor = db.cursor()\n",
    "\n",
    "query =\"\"\"\n",
    "    SELECT \n",
    "        rating,\n",
    "        COUNT(*)\n",
    "    FROM sakila.film f \n",
    "\n",
    "    GROUP BY RATING\n",
    "\"\"\"\n",
    "\n",
    "df = pl.read_database(\n",
    "    query = query,\n",
    "    connection = mycursor\n",
    ")\n",
    "\n",
    "df.show()\n",
    "\n",
    "mycursor.close()"
   ]
  },
  {
   "cell_type": "code",
   "execution_count": null,
   "id": "506b8098",
   "metadata": {},
   "outputs": [],
   "source": [
    "query =\"\"\"\n",
    "    SELECT \n",
    "        rating,\n",
    "        COUNT(*)\n",
    "    FROM sakila.film f \n",
    "\n",
    "    GROUP BY RATING\n",
    "\"\"\"\n",
    "\n",
    "df = pl.read_database(\n",
    "    query = query,\n",
    "    connection = mycursor\n",
    ")"
   ]
  }
 ],
 "metadata": {
  "kernelspec": {
   "display_name": "Python 3 (ipykernel)",
   "language": "python",
   "name": "python3"
  },
  "language_info": {
   "codemirror_mode": {
    "name": "ipython",
    "version": 3
   },
   "file_extension": ".py",
   "mimetype": "text/x-python",
   "name": "python",
   "nbconvert_exporter": "python",
   "pygments_lexer": "ipython3",
   "version": "3.11.4"
  }
 },
 "nbformat": 4,
 "nbformat_minor": 5
}
